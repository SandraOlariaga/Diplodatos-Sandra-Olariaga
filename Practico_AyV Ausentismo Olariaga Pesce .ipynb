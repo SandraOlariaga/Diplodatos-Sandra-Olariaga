{
 "cells": [
  {
   "cell_type": "markdown",
   "metadata": {},
   "source": [
    "# **Análisis y Visualización de Datos**\n",
    "\n",
    "## **Actividades**\n",
    "\n",
    "#### **Análisis descriptivo**\n",
    "\n",
    "* Transformar cada campo de acuerdo con su tipo de variable (entero, fecha, string, etc).\n",
    "\n",
    "* Visualizar la distribución de datos de cada campo utilizando gráficos que consideren adecuados. \n",
    "\n",
    "#### **Análisis estadístico**\n",
    "\n",
    "* Caracterizar a los pacientes de la institución en términos de edad, sexo y prestador. Para el caso de la edad, determinar si los datos siguen alguna alguna distribución conocida. Para el sexo, determinar si hay una diferencia significativa entre hombres y mujeres.\n",
    "\n",
    "* Determinar la cantidad de turnos asignados por pacientes, y la cantidad de ausencias.\n",
    "\n",
    "* **Observación:** El campo \"Paciente\" corresponde al nombre y apellido del paciente, por lo que no contamos con una identificación unívoca de cada persona, dado que los nombres se pueden repetir. ¿Es esto realmente un problema? ¿Se puede resolver?\n",
    "\n",
    "* Elegir (al menos) tres variables, las cuales crean que pueden estar correlacionadas con la tasa de ausentismo. Para cada una de ellas calcular la probabilidad de que un turno esté ausente, condicionada a esa variable. \n",
    "\n",
    "* En el ámbito de la medicina es común ver que se utilizan descriptores estadísticos particulares. Uno de ellos es el Odds Ratio, el cual mide las chances de que los valores de dos variables sean observados en conjunto [1]. Para cada variable, calcular los Odds Ratio (OR) con respecto a la variable objetivo (austentismo), y determinar su intervalo de confianza utilizando el método que consideren adecuado.\n",
    "\n",
    "* Comparar los resultdos de los dos puntos anteriores. Si existen diferencias, discutir cuáles son y a qué se deben.\n",
    "\n",
    "#### **Cantidad de turnos en el tiempo:**\n",
    "\n",
    "* ¿Cuáles son los horarios más demandados? ¿Existe una hora pico?\n",
    "\n",
    "* ¿Qué días de la semana se dan más turnos? ¿Qué días presentan mayor ausentismo?\n",
    "\n",
    "* ¿Cómo evoluciona la cantidad de turnos y la cantidad de ausencias a lo largo del año? ¿Existe alguna tendencia?\n",
    "\n",
    "#### **Opcional**\n",
    "\n",
    "* Realizar un gráfico Ranking-Frecuencia [2] para la cantidad de turnos por paciente. ¿Se cumple la ley de Zipf? Realizar el mismo análisis, pero separando turnos atendidos y turnos ausentes.\n",
    "\n",
    "## **Entrega**\n",
    "\n",
    "**Formato de entrega:** Deberán entregar el análisis realizado, junto con los códigos con los que hicieron el análisis. Pueden optar por un único Notebook que alterne celdas de código con una descripción detallada, o bien, un Notebook más centrado en los códigos, junto con una presentación que detalle el análisis.\n",
    "\n",
    "**Fecha de entrega:** 22/6\n",
    "\n",
    "## **Referencias:**\n",
    "\n",
    "* [1] Explicación de Odds Ratio: https://www.youtube.com/watch?v=8nm0G-1uJzA\n",
    "* [2] Rank-frequency plot: https://en.wikipedia.org/wiki/Rank-size_distribution#:~:text=Rank%2Dsize%20distribution%20is%20the,in%20decreasing%20order%20of%20size.&text=This%20is%20also%20known%20as,city%20size%20or%20word%20frequency.\n",
    "\n",
    "\n",
    "\n",
    "\n"
   ]
  },
  {
   "cell_type": "markdown",
   "metadata": {},
   "source": [
    "# Análisis descriptivo"
   ]
  },
  {
   "cell_type": "markdown",
   "metadata": {},
   "source": [
    "Importamos librerías y configuración general"
   ]
  },
  {
   "cell_type": "code",
   "execution_count": 1,
   "metadata": {},
   "outputs": [],
   "source": [
    "import os\n",
    "import pandas as pd\n",
    "import numpy as np\n",
    "import matplotlib.pyplot as plt\n",
    "import seaborn as sns\n",
    "\n",
    "%matplotlib inline\n",
    "\n",
    "pd.options.display.max_columns = 30\n",
    "pd.options.display.max_rows = 50"
   ]
  },
  {
   "cell_type": "code",
   "execution_count": 2,
   "metadata": {},
   "outputs": [],
   "source": [
    "BLUE = '#35A7FF'\n",
    "RED = '#FF5964'\n",
    "GREEN = '#6BF178'\n",
    "YELLOW = '#FFE74C'"
   ]
  },
  {
   "cell_type": "markdown",
   "metadata": {},
   "source": [
    "Leemos el dataset"
   ]
  },
  {
   "cell_type": "code",
   "execution_count": 3,
   "metadata": {},
   "outputs": [
    {
     "name": "stdout",
     "output_type": "stream",
     "text": [
      "(1194014, 13)\n"
     ]
    },
    {
     "data": {
      "text/html": [
       "<div>\n",
       "<style scoped>\n",
       "    .dataframe tbody tr th:only-of-type {\n",
       "        vertical-align: middle;\n",
       "    }\n",
       "\n",
       "    .dataframe tbody tr th {\n",
       "        vertical-align: top;\n",
       "    }\n",
       "\n",
       "    .dataframe thead th {\n",
       "        text-align: right;\n",
       "    }\n",
       "</style>\n",
       "<table border=\"1\" class=\"dataframe\">\n",
       "  <thead>\n",
       "    <tr style=\"text-align: right;\">\n",
       "      <th></th>\n",
       "      <th>CentroDeAtencion</th>\n",
       "      <th>Prestador</th>\n",
       "      <th>Recurso</th>\n",
       "      <th>Servicio</th>\n",
       "      <th>FechaDelTurno</th>\n",
       "      <th>EstadoDelTurno</th>\n",
       "      <th>Paciente</th>\n",
       "      <th>Sexo</th>\n",
       "      <th>Edad</th>\n",
       "      <th>PrestacionAsignada</th>\n",
       "      <th>NombreDelCanal</th>\n",
       "      <th>EsSobreTurno</th>\n",
       "      <th>TipoDeTurnoAsignado</th>\n",
       "    </tr>\n",
       "  </thead>\n",
       "  <tbody>\n",
       "    <tr>\n",
       "      <th>1194009</th>\n",
       "      <td>2</td>\n",
       "      <td>-</td>\n",
       "      <td>fa089caaca143ad1ff284640fb4cd2d7</td>\n",
       "      <td>RESONANCIA</td>\n",
       "      <td>2019-12-30 23:30:00</td>\n",
       "      <td>Libre</td>\n",
       "      <td>NaN</td>\n",
       "      <td></td>\n",
       "      <td>0</td>\n",
       "      <td>NaN</td>\n",
       "      <td>NaN</td>\n",
       "      <td>NO</td>\n",
       "      <td>NaN</td>\n",
       "    </tr>\n",
       "    <tr>\n",
       "      <th>1194010</th>\n",
       "      <td>1</td>\n",
       "      <td>OSDE</td>\n",
       "      <td>cba3f4d0f0775d3211c12cbca0ab3781</td>\n",
       "      <td>ECOGRAFIA</td>\n",
       "      <td>2019-12-31 09:24:00</td>\n",
       "      <td>Atendido</td>\n",
       "      <td>15a7d517fa140ac76f9a7a79de343d81</td>\n",
       "      <td>M</td>\n",
       "      <td>44</td>\n",
       "      <td>ECOGRAFIA COMPLETA DE ABDOMEN</td>\n",
       "      <td>NaN</td>\n",
       "      <td>SI</td>\n",
       "      <td>Práctica</td>\n",
       "    </tr>\n",
       "    <tr>\n",
       "      <th>1194011</th>\n",
       "      <td>1</td>\n",
       "      <td>OMINT S. A. DE SERVICIOS</td>\n",
       "      <td>cba3f4d0f0775d3211c12cbca0ab3781</td>\n",
       "      <td>ECOGRAFIA</td>\n",
       "      <td>2019-12-31 09:27:00</td>\n",
       "      <td>Atendido</td>\n",
       "      <td>2bd3a6fd81b29758aa12a13d210e6fdc</td>\n",
       "      <td>M</td>\n",
       "      <td>53</td>\n",
       "      <td>ECOGRAFIA DE PARTES BLANDAS</td>\n",
       "      <td>NaN</td>\n",
       "      <td>SI</td>\n",
       "      <td>Práctica</td>\n",
       "    </tr>\n",
       "    <tr>\n",
       "      <th>1194012</th>\n",
       "      <td>1</td>\n",
       "      <td>SANCOR</td>\n",
       "      <td>cba3f4d0f0775d3211c12cbca0ab3781</td>\n",
       "      <td>ECOGRAFIA</td>\n",
       "      <td>2019-12-31 11:29:00</td>\n",
       "      <td>Atendido</td>\n",
       "      <td>d72ffdcc0121edd182da6a32578e4bb1</td>\n",
       "      <td>F</td>\n",
       "      <td>28</td>\n",
       "      <td>ECOGRAFIA TRANSVAGINAL</td>\n",
       "      <td>NaN</td>\n",
       "      <td>SI</td>\n",
       "      <td>Práctica</td>\n",
       "    </tr>\n",
       "    <tr>\n",
       "      <th>1194013</th>\n",
       "      <td>1</td>\n",
       "      <td>MEDIFE ASOCIACIÓN CIVIL</td>\n",
       "      <td>a2073c1d145a1b5fd133f927fbbd7913</td>\n",
       "      <td>RADIOGRAFIA</td>\n",
       "      <td>2019-12-31 14:23:00</td>\n",
       "      <td>Atendido</td>\n",
       "      <td>71f43803027051f252e553746b44820b</td>\n",
       "      <td>M</td>\n",
       "      <td>2</td>\n",
       "      <td>Prestaciones multiples</td>\n",
       "      <td>NaN</td>\n",
       "      <td>SI</td>\n",
       "      <td>Práctica</td>\n",
       "    </tr>\n",
       "  </tbody>\n",
       "</table>\n",
       "</div>"
      ],
      "text/plain": [
       "         CentroDeAtencion                 Prestador  \\\n",
       "1194009                 2                         -   \n",
       "1194010                 1                     OSDE    \n",
       "1194011                 1  OMINT S. A. DE SERVICIOS   \n",
       "1194012                 1                   SANCOR    \n",
       "1194013                 1   MEDIFE ASOCIACIÓN CIVIL   \n",
       "\n",
       "                                  Recurso     Servicio        FechaDelTurno  \\\n",
       "1194009  fa089caaca143ad1ff284640fb4cd2d7   RESONANCIA  2019-12-30 23:30:00   \n",
       "1194010  cba3f4d0f0775d3211c12cbca0ab3781    ECOGRAFIA  2019-12-31 09:24:00   \n",
       "1194011  cba3f4d0f0775d3211c12cbca0ab3781    ECOGRAFIA  2019-12-31 09:27:00   \n",
       "1194012  cba3f4d0f0775d3211c12cbca0ab3781    ECOGRAFIA  2019-12-31 11:29:00   \n",
       "1194013  a2073c1d145a1b5fd133f927fbbd7913  RADIOGRAFIA  2019-12-31 14:23:00   \n",
       "\n",
       "        EstadoDelTurno                          Paciente Sexo  Edad  \\\n",
       "1194009          Libre                               NaN          0   \n",
       "1194010       Atendido  15a7d517fa140ac76f9a7a79de343d81    M    44   \n",
       "1194011       Atendido  2bd3a6fd81b29758aa12a13d210e6fdc    M    53   \n",
       "1194012       Atendido  d72ffdcc0121edd182da6a32578e4bb1    F    28   \n",
       "1194013       Atendido  71f43803027051f252e553746b44820b    M     2   \n",
       "\n",
       "                    PrestacionAsignada NombreDelCanal EsSobreTurno  \\\n",
       "1194009                            NaN            NaN           NO   \n",
       "1194010  ECOGRAFIA COMPLETA DE ABDOMEN            NaN           SI   \n",
       "1194011    ECOGRAFIA DE PARTES BLANDAS            NaN           SI   \n",
       "1194012         ECOGRAFIA TRANSVAGINAL            NaN           SI   \n",
       "1194013         Prestaciones multiples            NaN           SI   \n",
       "\n",
       "        TipoDeTurnoAsignado  \n",
       "1194009                 NaN  \n",
       "1194010            Práctica  \n",
       "1194011            Práctica  \n",
       "1194012            Práctica  \n",
       "1194013            Práctica  "
      ]
     },
     "execution_count": 3,
     "metadata": {},
     "output_type": "execute_result"
    }
   ],
   "source": [
    "data_dir = os.path.join('..', 'data')\n",
    "data_file_name = 'dataset_turnos_2019.csv'\n",
    "full_data_file_name = os.path.join(data_dir, data_file_name)\n",
    "# esta linea de abajo la usabamos para poder leer los datos en nuestro entorno\n",
    "# df = pd.read_csv(r'E:\\anaconda3\\envs\\mentoria_ausentismo\\dataset_turnos_2019.csv', sep=';')\n",
    "print(df.shape)\n",
    "df.tail()"
   ]
  },
  {
   "cell_type": "markdown",
   "metadata": {},
   "source": [
    "Analizamos los tipos de datos de cada campo inferidos por `pandas`"
   ]
  },
  {
   "cell_type": "code",
   "execution_count": 4,
   "metadata": {},
   "outputs": [
    {
     "data": {
      "text/html": [
       "<div>\n",
       "<style scoped>\n",
       "    .dataframe tbody tr th:only-of-type {\n",
       "        vertical-align: middle;\n",
       "    }\n",
       "\n",
       "    .dataframe tbody tr th {\n",
       "        vertical-align: top;\n",
       "    }\n",
       "\n",
       "    .dataframe thead th {\n",
       "        text-align: right;\n",
       "    }\n",
       "</style>\n",
       "<table border=\"1\" class=\"dataframe\">\n",
       "  <thead>\n",
       "    <tr style=\"text-align: right;\">\n",
       "      <th></th>\n",
       "      <th>Tipo</th>\n",
       "    </tr>\n",
       "    <tr>\n",
       "      <th>Campo</th>\n",
       "      <th></th>\n",
       "    </tr>\n",
       "  </thead>\n",
       "  <tbody>\n",
       "    <tr>\n",
       "      <th>CentroDeAtencion</th>\n",
       "      <td>int64</td>\n",
       "    </tr>\n",
       "    <tr>\n",
       "      <th>Prestador</th>\n",
       "      <td>object</td>\n",
       "    </tr>\n",
       "    <tr>\n",
       "      <th>Recurso</th>\n",
       "      <td>object</td>\n",
       "    </tr>\n",
       "    <tr>\n",
       "      <th>Servicio</th>\n",
       "      <td>object</td>\n",
       "    </tr>\n",
       "    <tr>\n",
       "      <th>FechaDelTurno</th>\n",
       "      <td>object</td>\n",
       "    </tr>\n",
       "    <tr>\n",
       "      <th>EstadoDelTurno</th>\n",
       "      <td>object</td>\n",
       "    </tr>\n",
       "    <tr>\n",
       "      <th>Paciente</th>\n",
       "      <td>object</td>\n",
       "    </tr>\n",
       "    <tr>\n",
       "      <th>Sexo</th>\n",
       "      <td>object</td>\n",
       "    </tr>\n",
       "    <tr>\n",
       "      <th>Edad</th>\n",
       "      <td>int64</td>\n",
       "    </tr>\n",
       "    <tr>\n",
       "      <th>PrestacionAsignada</th>\n",
       "      <td>object</td>\n",
       "    </tr>\n",
       "    <tr>\n",
       "      <th>NombreDelCanal</th>\n",
       "      <td>object</td>\n",
       "    </tr>\n",
       "    <tr>\n",
       "      <th>EsSobreTurno</th>\n",
       "      <td>object</td>\n",
       "    </tr>\n",
       "    <tr>\n",
       "      <th>TipoDeTurnoAsignado</th>\n",
       "      <td>object</td>\n",
       "    </tr>\n",
       "  </tbody>\n",
       "</table>\n",
       "</div>"
      ],
      "text/plain": [
       "                       Tipo\n",
       "Campo                      \n",
       "CentroDeAtencion      int64\n",
       "Prestador            object\n",
       "Recurso              object\n",
       "Servicio             object\n",
       "FechaDelTurno        object\n",
       "EstadoDelTurno       object\n",
       "Paciente             object\n",
       "Sexo                 object\n",
       "Edad                  int64\n",
       "PrestacionAsignada   object\n",
       "NombreDelCanal       object\n",
       "EsSobreTurno         object\n",
       "TipoDeTurnoAsignado  object"
      ]
     },
     "execution_count": 4,
     "metadata": {},
     "output_type": "execute_result"
    }
   ],
   "source": [
    "dtypes = pd.DataFrame(df.dtypes)\n",
    "dtypes.index.name = 'Campo'\n",
    "dtypes.rename(columns={0: 'Tipo'})"
   ]
  },
  {
   "cell_type": "markdown",
   "metadata": {},
   "source": [
    "# Transformar cada campo de acuerdo con su tipo de variable (entero, fecha, string, etc)."
   ]
  },
  {
   "cell_type": "markdown",
   "metadata": {},
   "source": [
    "Transformamos el campo **FechaDelTurno** en *datetime*"
   ]
  },
  {
   "cell_type": "code",
   "execution_count": 5,
   "metadata": {},
   "outputs": [],
   "source": [
    "df.FechaDelTurno = pd.to_datetime(df.FechaDelTurno)"
   ]
  },
  {
   "cell_type": "markdown",
   "metadata": {},
   "source": [
    "Buscamos posibles duplicados"
   ]
  },
  {
   "cell_type": "code",
   "execution_count": 6,
   "metadata": {},
   "outputs": [
    {
     "data": {
      "text/plain": [
       "0"
      ]
     },
     "execution_count": 6,
     "metadata": {},
     "output_type": "execute_result"
    }
   ],
   "source": [
    "df.duplicated().sum()"
   ]
  },
  {
   "cell_type": "markdown",
   "metadata": {},
   "source": [
    "Verificamos que los turnos estén ordenados por fecha"
   ]
  },
  {
   "cell_type": "code",
   "execution_count": 7,
   "metadata": {},
   "outputs": [
    {
     "data": {
      "text/plain": [
       "Timedelta('0 days 00:00:00')"
      ]
     },
     "execution_count": 7,
     "metadata": {},
     "output_type": "execute_result"
    }
   ],
   "source": [
    "## Este valor debería ser no negativo\n",
    "df.sort_values(by='FechaDelTurno').FechaDelTurno.diff().min()"
   ]
  },
  {
   "cell_type": "markdown",
   "metadata": {},
   "source": [
    "# Visualizar la distribución de datos de cada campo utilizando gráficos que consideren adecuados "
   ]
  },
  {
   "cell_type": "code",
   "execution_count": 8,
   "metadata": {},
   "outputs": [
    {
     "data": {
      "text/plain": [
       "Campo\n",
       "CentroDeAtencion                int64\n",
       "Prestador                      object\n",
       "Recurso                        object\n",
       "Servicio                       object\n",
       "FechaDelTurno          datetime64[ns]\n",
       "EstadoDelTurno                 object\n",
       "Paciente                       object\n",
       "Sexo                           object\n",
       "Edad                            int64\n",
       "PrestacionAsignada             object\n",
       "NombreDelCanal                 object\n",
       "EsSobreTurno                   object\n",
       "TipoDeTurnoAsignado            object\n",
       "dtype: object"
      ]
     },
     "execution_count": 8,
     "metadata": {},
     "output_type": "execute_result"
    }
   ],
   "source": [
    "df.dtypes"
   ]
  },
  {
   "cell_type": "code",
   "execution_count": 9,
   "metadata": {},
   "outputs": [
    {
     "name": "stdout",
     "output_type": "stream",
     "text": [
      "(1194014, 13)\n"
     ]
    },
    {
     "data": {
      "text/html": [
       "<div>\n",
       "<style scoped>\n",
       "    .dataframe tbody tr th:only-of-type {\n",
       "        vertical-align: middle;\n",
       "    }\n",
       "\n",
       "    .dataframe tbody tr th {\n",
       "        vertical-align: top;\n",
       "    }\n",
       "\n",
       "    .dataframe thead th {\n",
       "        text-align: right;\n",
       "    }\n",
       "</style>\n",
       "<table border=\"1\" class=\"dataframe\">\n",
       "  <thead>\n",
       "    <tr style=\"text-align: right;\">\n",
       "      <th>Campo</th>\n",
       "      <th>CentroDeAtencion</th>\n",
       "      <th>Prestador</th>\n",
       "      <th>Recurso</th>\n",
       "      <th>Servicio</th>\n",
       "      <th>FechaDelTurno</th>\n",
       "      <th>EstadoDelTurno</th>\n",
       "      <th>Paciente</th>\n",
       "      <th>Sexo</th>\n",
       "      <th>Edad</th>\n",
       "      <th>PrestacionAsignada</th>\n",
       "      <th>NombreDelCanal</th>\n",
       "      <th>EsSobreTurno</th>\n",
       "      <th>TipoDeTurnoAsignado</th>\n",
       "    </tr>\n",
       "  </thead>\n",
       "  <tbody>\n",
       "    <tr>\n",
       "      <th>1194009</th>\n",
       "      <td>2</td>\n",
       "      <td>-</td>\n",
       "      <td>fa089caaca143ad1ff284640fb4cd2d7</td>\n",
       "      <td>RESONANCIA</td>\n",
       "      <td>2019-12-30 23:30:00</td>\n",
       "      <td>Libre</td>\n",
       "      <td>NaN</td>\n",
       "      <td></td>\n",
       "      <td>0</td>\n",
       "      <td>NaN</td>\n",
       "      <td>NaN</td>\n",
       "      <td>NO</td>\n",
       "      <td>NaN</td>\n",
       "    </tr>\n",
       "    <tr>\n",
       "      <th>1194010</th>\n",
       "      <td>1</td>\n",
       "      <td>OSDE</td>\n",
       "      <td>cba3f4d0f0775d3211c12cbca0ab3781</td>\n",
       "      <td>ECOGRAFIA</td>\n",
       "      <td>2019-12-31 09:24:00</td>\n",
       "      <td>Atendido</td>\n",
       "      <td>15a7d517fa140ac76f9a7a79de343d81</td>\n",
       "      <td>M</td>\n",
       "      <td>44</td>\n",
       "      <td>ECOGRAFIA COMPLETA DE ABDOMEN</td>\n",
       "      <td>NaN</td>\n",
       "      <td>SI</td>\n",
       "      <td>Práctica</td>\n",
       "    </tr>\n",
       "    <tr>\n",
       "      <th>1194011</th>\n",
       "      <td>1</td>\n",
       "      <td>OMINT S. A. DE SERVICIOS</td>\n",
       "      <td>cba3f4d0f0775d3211c12cbca0ab3781</td>\n",
       "      <td>ECOGRAFIA</td>\n",
       "      <td>2019-12-31 09:27:00</td>\n",
       "      <td>Atendido</td>\n",
       "      <td>2bd3a6fd81b29758aa12a13d210e6fdc</td>\n",
       "      <td>M</td>\n",
       "      <td>53</td>\n",
       "      <td>ECOGRAFIA DE PARTES BLANDAS</td>\n",
       "      <td>NaN</td>\n",
       "      <td>SI</td>\n",
       "      <td>Práctica</td>\n",
       "    </tr>\n",
       "    <tr>\n",
       "      <th>1194012</th>\n",
       "      <td>1</td>\n",
       "      <td>SANCOR</td>\n",
       "      <td>cba3f4d0f0775d3211c12cbca0ab3781</td>\n",
       "      <td>ECOGRAFIA</td>\n",
       "      <td>2019-12-31 11:29:00</td>\n",
       "      <td>Atendido</td>\n",
       "      <td>d72ffdcc0121edd182da6a32578e4bb1</td>\n",
       "      <td>F</td>\n",
       "      <td>28</td>\n",
       "      <td>ECOGRAFIA TRANSVAGINAL</td>\n",
       "      <td>NaN</td>\n",
       "      <td>SI</td>\n",
       "      <td>Práctica</td>\n",
       "    </tr>\n",
       "    <tr>\n",
       "      <th>1194013</th>\n",
       "      <td>1</td>\n",
       "      <td>MEDIFE ASOCIACIÓN CIVIL</td>\n",
       "      <td>a2073c1d145a1b5fd133f927fbbd7913</td>\n",
       "      <td>RADIOGRAFIA</td>\n",
       "      <td>2019-12-31 14:23:00</td>\n",
       "      <td>Atendido</td>\n",
       "      <td>71f43803027051f252e553746b44820b</td>\n",
       "      <td>M</td>\n",
       "      <td>2</td>\n",
       "      <td>Prestaciones multiples</td>\n",
       "      <td>NaN</td>\n",
       "      <td>SI</td>\n",
       "      <td>Práctica</td>\n",
       "    </tr>\n",
       "  </tbody>\n",
       "</table>\n",
       "</div>"
      ],
      "text/plain": [
       "Campo    CentroDeAtencion                 Prestador  \\\n",
       "1194009                 2                         -   \n",
       "1194010                 1                     OSDE    \n",
       "1194011                 1  OMINT S. A. DE SERVICIOS   \n",
       "1194012                 1                   SANCOR    \n",
       "1194013                 1   MEDIFE ASOCIACIÓN CIVIL   \n",
       "\n",
       "Campo                             Recurso     Servicio       FechaDelTurno  \\\n",
       "1194009  fa089caaca143ad1ff284640fb4cd2d7   RESONANCIA 2019-12-30 23:30:00   \n",
       "1194010  cba3f4d0f0775d3211c12cbca0ab3781    ECOGRAFIA 2019-12-31 09:24:00   \n",
       "1194011  cba3f4d0f0775d3211c12cbca0ab3781    ECOGRAFIA 2019-12-31 09:27:00   \n",
       "1194012  cba3f4d0f0775d3211c12cbca0ab3781    ECOGRAFIA 2019-12-31 11:29:00   \n",
       "1194013  a2073c1d145a1b5fd133f927fbbd7913  RADIOGRAFIA 2019-12-31 14:23:00   \n",
       "\n",
       "Campo   EstadoDelTurno                          Paciente Sexo  Edad  \\\n",
       "1194009          Libre                               NaN          0   \n",
       "1194010       Atendido  15a7d517fa140ac76f9a7a79de343d81    M    44   \n",
       "1194011       Atendido  2bd3a6fd81b29758aa12a13d210e6fdc    M    53   \n",
       "1194012       Atendido  d72ffdcc0121edd182da6a32578e4bb1    F    28   \n",
       "1194013       Atendido  71f43803027051f252e553746b44820b    M     2   \n",
       "\n",
       "Campo               PrestacionAsignada NombreDelCanal EsSobreTurno  \\\n",
       "1194009                            NaN            NaN           NO   \n",
       "1194010  ECOGRAFIA COMPLETA DE ABDOMEN            NaN           SI   \n",
       "1194011    ECOGRAFIA DE PARTES BLANDAS            NaN           SI   \n",
       "1194012         ECOGRAFIA TRANSVAGINAL            NaN           SI   \n",
       "1194013         Prestaciones multiples            NaN           SI   \n",
       "\n",
       "Campo   TipoDeTurnoAsignado  \n",
       "1194009                 NaN  \n",
       "1194010            Práctica  \n",
       "1194011            Práctica  \n",
       "1194012            Práctica  \n",
       "1194013            Práctica  "
      ]
     },
     "execution_count": 9,
     "metadata": {},
     "output_type": "execute_result"
    }
   ],
   "source": [
    "print(df.shape)\n",
    "df.tail()"
   ]
  },
  {
   "cell_type": "code",
   "execution_count": 10,
   "metadata": {},
   "outputs": [
    {
     "data": {
      "text/plain": [
       "0"
      ]
     },
     "execution_count": 10,
     "metadata": {},
     "output_type": "execute_result"
    }
   ],
   "source": [
    "df.Prestador\n",
    "df.duplicated().sum()"
   ]
  },
  {
   "cell_type": "code",
   "execution_count": 11,
   "metadata": {},
   "outputs": [
    {
     "data": {
      "image/png": "[encoded data removed]",
      "text/plain": [
       "<Figure size 432x288 with 1 Axes>"
      ]
     },
     "metadata": {
      "needs_background": "light"
     },
     "output_type": "display_data"
    }
   ],
   "source": [
    "col = 'CentroDeAtencion'\n",
    "sns.countplot(x=col, data=df, order=df[col].value_counts().index) \n",
    "plt.show()"
   ]
  },
  {
   "cell_type": "code",
   "execution_count": 12,
   "metadata": {},
   "outputs": [
    {
     "name": "stdout",
     "output_type": "stream",
     "text": [
      "Cantidad de Prestadores: 71\n"
     ]
    },
    {
     "data": {
      "image/png": "[encoded data removed]",
      "text/plain": [
       "<Figure size 432x432 with 1 Axes>"
      ]
     },
     "metadata": {
      "needs_background": "light"
     },
     "output_type": "display_data"
    }
   ],
   "source": [
    "col = 'Prestador'\n",
    "print('Cantidad de Prestadores:', df[col].unique().size)\n",
    "fig, ax = plt.subplots(figsize=(6, 6))\n",
    "sns.countplot(y=col, data=df, order=df[col].value_counts().iloc[:20].index, ax=ax)\n",
    "plt.xticks(rotation=45)\n",
    "plt.show()"
   ]
  },
  {
   "cell_type": "code",
   "execution_count": 13,
   "metadata": {},
   "outputs": [
    {
     "name": "stdout",
     "output_type": "stream",
     "text": [
      "Cantidad de servicios: 105\n"
     ]
    },
    {
     "data": {
      "image/png": "[encoded data removed]",
      "text/plain": [
       "<Figure size 432x432 with 1 Axes>"
      ]
     },
     "metadata": {
      "needs_background": "light"
     },
     "output_type": "display_data"
    }
   ],
   "source": [
    "col = 'Servicio'\n",
    "print('Cantidad de servicios:', df[col].unique().size)\n",
    "fig, ax = plt.subplots(figsize=(6, 6))\n",
    "sns.countplot(y=col, data=df, order=df[col].value_counts().iloc[:20].index, ax=ax)\n",
    "plt.show()"
   ]
  },
  {
   "cell_type": "code",
   "execution_count": 14,
   "metadata": {},
   "outputs": [
    {
     "data": {
      "image/png": "[encoded data removed]",
      "text/plain": [
       "<Figure size 432x288 with 1 Axes>"
      ]
     },
     "metadata": {
      "needs_background": "light"
     },
     "output_type": "display_data"
    }
   ],
   "source": [
    "col = 'EstadoDelTurno'\n",
    "sns.countplot(x=col, data=df, order=df[col].value_counts().index)\n",
    "plt.xticks(rotation=45)\n",
    "plt.show()"
   ]
  },
  {
   "cell_type": "code",
   "execution_count": 15,
   "metadata": {},
   "outputs": [
    {
     "data": {
      "image/png": "[encoded data removed]",
      "text/plain": [
       "<Figure size 432x288 with 1 Axes>"
      ]
     },
     "metadata": {
      "needs_background": "light"
     },
     "output_type": "display_data"
    }
   ],
   "source": [
    "col = 'Sexo'\n",
    "_df = df[~df.Paciente.isnull()]\n",
    "sns.countplot(x=col, data=_df, order=_df[col].value_counts().index)\n",
    "plt.show()"
   ]
  },
  {
   "cell_type": "code",
   "execution_count": 16,
   "metadata": {},
   "outputs": [
    {
     "data": {
      "image/png": "[encoded data removed]",
      "text/plain": [
       "<Figure size 432x288 with 1 Axes>"
      ]
     },
     "metadata": {
      "needs_background": "light"
     },
     "output_type": "display_data"
    }
   ],
   "source": [
    "figsize=(10,6)\n",
    "sns.distplot(df.Edad , kde=True)\n",
    "plt.xlim(1,100)\n",
    "plt.show()"
   ]
  },
  {
   "cell_type": "code",
   "execution_count": 17,
   "metadata": {},
   "outputs": [
    {
     "name": "stdout",
     "output_type": "stream",
     "text": [
      "Cantidad de prestaciones asignadas: 817\n"
     ]
    },
    {
     "data": {
      "image/png": "[encoded data removed]",
      "text/plain": [
       "<Figure size 432x432 with 1 Axes>"
      ]
     },
     "metadata": {
      "needs_background": "light"
     },
     "output_type": "display_data"
    }
   ],
   "source": [
    "col = 'PrestacionAsignada'\n",
    "print('Cantidad de prestaciones asignadas:', df[col].unique().size)\n",
    "fig, ax = plt.subplots(figsize=(6, 6))\n",
    "sns.countplot(y=col, data=df, order=df[col].value_counts().iloc[:20].index, ax=ax)\n",
    "plt.show()"
   ]
  },
  {
   "cell_type": "code",
   "execution_count": 18,
   "metadata": {},
   "outputs": [
    {
     "data": {
      "image/png": "[encoded data removed]",
      "text/plain": [
       "<Figure size 432x288 with 1 Axes>"
      ]
     },
     "metadata": {
      "needs_background": "light"
     },
     "output_type": "display_data"
    }
   ],
   "source": [
    "col = 'NombreDelCanal'\n",
    "sns.countplot(x=col, data=df, order=df[col].value_counts().index)\n",
    "plt.xticks(rotation=45)\n",
    "plt.show()"
   ]
  },
  {
   "cell_type": "code",
   "execution_count": 19,
   "metadata": {},
   "outputs": [
    {
     "data": {
      "image/png": "[encoded data removed]",
      "text/plain": [
       "<Figure size 432x288 with 1 Axes>"
      ]
     },
     "metadata": {
      "needs_background": "light"
     },
     "output_type": "display_data"
    }
   ],
   "source": [
    "col = 'EsSobreTurno'\n",
    "sns.countplot(x=col, data=df, order=df[col].value_counts().index)\n",
    "plt.show()"
   ]
  },
  {
   "cell_type": "code",
   "execution_count": 20,
   "metadata": {},
   "outputs": [
    {
     "data": {
      "image/png": "[encoded data removed]",
      "text/plain": [
       "<Figure size 432x288 with 1 Axes>"
      ]
     },
     "metadata": {
      "needs_background": "light"
     },
     "output_type": "display_data"
    }
   ],
   "source": [
    "col = 'TipoDeTurnoAsignado'\n",
    "sns.countplot(x=col, data=df, order=df[col].value_counts().index)\n",
    "plt.xticks(rotation=45)\n",
    "plt.show()"
   ]
  },
  {
   "cell_type": "markdown",
   "metadata": {},
   "source": [
    "#### **Análisis estadístico**\n",
    "\n",
    "* Caracterizar a los pacientes de la institución en términos de edad, sexo y prestador. Para el caso de la edad, determinar si los datos siguen alguna alguna distribución conocida. Para el sexo, determinar si hay una diferencia significativa entre hombres y mujeres.\n",
    "\n",
    "* Determinar la cantidad de turnos asignados por pacientes, y la cantidad de ausencias.\n",
    "\n",
    "* **Observación:** El campo \"Paciente\" corresponde al nombre y apellido del paciente, por lo que no contamos con una identificación unívoca de cada persona, dado que los nombres se pueden repetir. ¿Es esto realmente un problema? ¿Se puede resolver?\n",
    "\n",
    "* Elegir (al menos) tres variables, las cuales crean que pueden estar correlacionadas con la tasa de ausentismo. Para cada una de ellas calcular la probabilidad de que un turno esté ausente, condicionada a esa variable. \n",
    "\n",
    "* En el ámbito de la medicina es común ver que se utilizan descriptores estadísticos particulares. Uno de ellos es el Odds Ratio, el cual mide las chances de que los valores de dos variables sean observados en conjunto [1]. Para cada variable, calcular los Odds Ratio (OR) con respecto a la variable objetivo (austentismo), y determinar su intervalo de confianza utilizando el método que consideren adecuado.\n",
    "\n",
    "* Comparar los resultdos de los dos puntos anteriores. Si existen diferencias, discutir cuáles son y a qué se deben."
   ]
  },
  {
   "cell_type": "code",
   "execution_count": 21,
   "metadata": {},
   "outputs": [
    {
     "data": {
      "image/png": "[encoded data removed]",
      "text/plain": [
       "<Figure size 432x288 with 1 Axes>"
      ]
     },
     "metadata": {
      "needs_background": "light"
     },
     "output_type": "display_data"
    }
   ],
   "source": [
    "figsize=(10,6)\n",
    "sns.distplot(df.Edad )\n",
    "plt.xlim(1,100)\n",
    "plt.show()"
   ]
  },
  {
   "cell_type": "markdown",
   "metadata": {},
   "source": [
    "# En la variable Edad los datos siguen una distribución desconocida"
   ]
  },
  {
   "cell_type": "markdown",
   "metadata": {},
   "source": [
    "# Calculamos intervalos de Edad"
   ]
  },
  {
   "cell_type": "code",
   "execution_count": 22,
   "metadata": {},
   "outputs": [
    {
     "name": "stdout",
     "output_type": "stream",
     "text": [
      "0 120\n"
     ]
    }
   ],
   "source": [
    "print (min(df.Edad),max(df.Edad))"
   ]
  },
  {
   "cell_type": "code",
   "execution_count": 23,
   "metadata": {},
   "outputs": [],
   "source": [
    "df_intervalo_edad = pd.cut(df[\"Edad\"], bins = [0, 10, 20, 30, 40, 50, 60, 70, 80, 90])"
   ]
  },
  {
   "cell_type": "code",
   "execution_count": 24,
   "metadata": {},
   "outputs": [
    {
     "data": {
      "text/html": [
       "<div>\n",
       "<style scoped>\n",
       "    .dataframe tbody tr th:only-of-type {\n",
       "        vertical-align: middle;\n",
       "    }\n",
       "\n",
       "    .dataframe tbody tr th {\n",
       "        vertical-align: top;\n",
       "    }\n",
       "\n",
       "    .dataframe thead th {\n",
       "        text-align: right;\n",
       "    }\n",
       "</style>\n",
       "<table border=\"1\" class=\"dataframe\">\n",
       "  <thead>\n",
       "    <tr style=\"text-align: right;\">\n",
       "      <th>Sexo</th>\n",
       "      <th>F</th>\n",
       "      <th>I</th>\n",
       "      <th>M</th>\n",
       "    </tr>\n",
       "    <tr>\n",
       "      <th>Edad</th>\n",
       "      <th></th>\n",
       "      <th></th>\n",
       "      <th></th>\n",
       "    </tr>\n",
       "  </thead>\n",
       "  <tbody>\n",
       "    <tr>\n",
       "      <th>(0, 10]</th>\n",
       "      <td>78408</td>\n",
       "      <td>158</td>\n",
       "      <td>88622</td>\n",
       "    </tr>\n",
       "    <tr>\n",
       "      <th>(10, 20]</th>\n",
       "      <td>43867</td>\n",
       "      <td>85</td>\n",
       "      <td>39886</td>\n",
       "    </tr>\n",
       "    <tr>\n",
       "      <th>(20, 30]</th>\n",
       "      <td>104988</td>\n",
       "      <td>184</td>\n",
       "      <td>53813</td>\n",
       "    </tr>\n",
       "    <tr>\n",
       "      <th>(30, 40]</th>\n",
       "      <td>166086</td>\n",
       "      <td>523</td>\n",
       "      <td>76086</td>\n",
       "    </tr>\n",
       "    <tr>\n",
       "      <th>(40, 50]</th>\n",
       "      <td>90162</td>\n",
       "      <td>64</td>\n",
       "      <td>57557</td>\n",
       "    </tr>\n",
       "    <tr>\n",
       "      <th>(50, 60]</th>\n",
       "      <td>60477</td>\n",
       "      <td>73</td>\n",
       "      <td>38969</td>\n",
       "    </tr>\n",
       "    <tr>\n",
       "      <th>(60, 70]</th>\n",
       "      <td>39860</td>\n",
       "      <td>32</td>\n",
       "      <td>31172</td>\n",
       "    </tr>\n",
       "    <tr>\n",
       "      <th>(70, 80]</th>\n",
       "      <td>21152</td>\n",
       "      <td>31</td>\n",
       "      <td>14935</td>\n",
       "    </tr>\n",
       "    <tr>\n",
       "      <th>(80, 90]</th>\n",
       "      <td>6972</td>\n",
       "      <td>6</td>\n",
       "      <td>4459</td>\n",
       "    </tr>\n",
       "  </tbody>\n",
       "</table>\n",
       "</div>"
      ],
      "text/plain": [
       "Sexo           F    I      M\n",
       "Edad                        \n",
       "(0, 10]    78408  158  88622\n",
       "(10, 20]   43867   85  39886\n",
       "(20, 30]  104988  184  53813\n",
       "(30, 40]  166086  523  76086\n",
       "(40, 50]   90162   64  57557\n",
       "(50, 60]   60477   73  38969\n",
       "(60, 70]   39860   32  31172\n",
       "(70, 80]   21152   31  14935\n",
       "(80, 90]    6972    6   4459"
      ]
     },
     "execution_count": 24,
     "metadata": {},
     "output_type": "execute_result"
    }
   ],
   "source": [
    "pd.crosstab(df_intervalo_edad, df[\"Sexo\"])"
   ]
  },
  {
   "cell_type": "code",
   "execution_count": 25,
   "metadata": {},
   "outputs": [
    {
     "data": {
      "image/png": "[encoded data removed]",
      "text/plain": [
       "<Figure size 432x288 with 1 Axes>"
      ]
     },
     "metadata": {
      "needs_background": "light"
     },
     "output_type": "display_data"
    }
   ],
   "source": [
    "col = 'Sexo'\n",
    "_df = df[~df.Paciente.isnull()]\n",
    "sns.countplot(x=col, data=_df, order=_df[col].value_counts().index)\n",
    "plt.show()"
   ]
  },
  {
   "cell_type": "code",
   "execution_count": 26,
   "metadata": {},
   "outputs": [
    {
     "name": "stdout",
     "output_type": "stream",
     "text": [
      "F    613302\n",
      "M    406548\n",
      "     172837\n",
      "I      1327\n",
      "Name: Sexo, dtype: int64\n",
      "F    0.513647\n",
      "M    0.340488\n",
      "     0.144753\n",
      "I    0.001111\n",
      "Name: Sexo, dtype: float64\n",
      "F    51.364724\n",
      "M    34.048847\n",
      "     14.475291\n",
      "I     0.111138\n",
      "Name: Sexo, dtype: float64\n"
     ]
    }
   ],
   "source": [
    "print (df[\"Sexo\"].value_counts())\n",
    "porcentaje = df[\"Sexo\"].value_counts(normalize= True)\n",
    "porcentaje100= df[\"Sexo\"].value_counts(normalize= True).mul(100)\n",
    "print (porcentaje)\n",
    "print(porcentaje100)"
   ]
  },
  {
   "cell_type": "markdown",
   "metadata": {},
   "source": [
    "## Sexo Mujeres 51% Hombres  34% (no tenemos en cuenta los otros dos valores de la variable que son indefinidos)"
   ]
  },
  {
   "cell_type": "code",
   "execution_count": 27,
   "metadata": {},
   "outputs": [
    {
     "name": "stdout",
     "output_type": "stream",
     "text": [
      "Cantidad de Prestadores: 71\n"
     ]
    },
    {
     "data": {
      "image/png": "[encoded data removed]",
      "text/plain": [
       "<Figure size 432x432 with 1 Axes>"
      ]
     },
     "metadata": {
      "needs_background": "light"
     },
     "output_type": "display_data"
    }
   ],
   "source": [
    "col = 'Prestador'\n",
    "print('Cantidad de Prestadores:', df[col].unique().size)\n",
    "fig, ax = plt.subplots(figsize=(6, 6))\n",
    "sns.countplot(y=col, data=df, order=df[col].value_counts().iloc[:20].index, ax=ax)\n",
    "plt.xticks(rotation=45)\n",
    "plt.show()"
   ]
  },
  {
   "cell_type": "markdown",
   "metadata": {},
   "source": [
    "# Hay un gran número de entradas sin prestador"
   ]
  },
  {
   "cell_type": "markdown",
   "metadata": {},
   "source": [
    "# Cantidad de turnos por paciente y cantidad de ausencias "
   ]
  },
  {
   "cell_type": "code",
   "execution_count": 28,
   "metadata": {},
   "outputs": [
    {
     "data": {
      "text/html": [
       "<div>\n",
       "<style scoped>\n",
       "    .dataframe tbody tr th:only-of-type {\n",
       "        vertical-align: middle;\n",
       "    }\n",
       "\n",
       "    .dataframe tbody tr th {\n",
       "        vertical-align: top;\n",
       "    }\n",
       "\n",
       "    .dataframe thead th {\n",
       "        text-align: right;\n",
       "    }\n",
       "</style>\n",
       "<table border=\"1\" class=\"dataframe\">\n",
       "  <thead>\n",
       "    <tr style=\"text-align: right;\">\n",
       "      <th></th>\n",
       "      <th>CantidadDeTurnos</th>\n",
       "    </tr>\n",
       "    <tr>\n",
       "      <th>Paciente</th>\n",
       "      <th></th>\n",
       "    </tr>\n",
       "  </thead>\n",
       "  <tbody>\n",
       "    <tr>\n",
       "      <th>0000bfc2a13c2b521f11ee15adb9b1bf</th>\n",
       "      <td>5</td>\n",
       "    </tr>\n",
       "    <tr>\n",
       "      <th>0000d0ca2375bde16d7b9bfc02dbf151</th>\n",
       "      <td>5</td>\n",
       "    </tr>\n",
       "    <tr>\n",
       "      <th>00016e74152f92212f7f3799eda62c57</th>\n",
       "      <td>41</td>\n",
       "    </tr>\n",
       "    <tr>\n",
       "      <th>0001ea3fd80ffed84ad7f8baff6f255e</th>\n",
       "      <td>3</td>\n",
       "    </tr>\n",
       "    <tr>\n",
       "      <th>000203f5a93e31088792913d275d8c42</th>\n",
       "      <td>4</td>\n",
       "    </tr>\n",
       "    <tr>\n",
       "      <th>...</th>\n",
       "      <td>...</td>\n",
       "    </tr>\n",
       "    <tr>\n",
       "      <th>fffe4ee972722123863ee4ed8e4dd9f1</th>\n",
       "      <td>8</td>\n",
       "    </tr>\n",
       "    <tr>\n",
       "      <th>fffedc69ec3f8ae618b49dbf99811cac</th>\n",
       "      <td>1</td>\n",
       "    </tr>\n",
       "    <tr>\n",
       "      <th>fffef9f05efac87c216d07357b832c07</th>\n",
       "      <td>17</td>\n",
       "    </tr>\n",
       "    <tr>\n",
       "      <th>fffefa0abe35e4d51f1c247c23075d76</th>\n",
       "      <td>2</td>\n",
       "    </tr>\n",
       "    <tr>\n",
       "      <th>fffff9d724b4eb39d38e244dca258562</th>\n",
       "      <td>1</td>\n",
       "    </tr>\n",
       "  </tbody>\n",
       "</table>\n",
       "<p>123336 rows × 1 columns</p>\n",
       "</div>"
      ],
      "text/plain": [
       "                                  CantidadDeTurnos\n",
       "Paciente                                          \n",
       "0000bfc2a13c2b521f11ee15adb9b1bf                 5\n",
       "0000d0ca2375bde16d7b9bfc02dbf151                 5\n",
       "00016e74152f92212f7f3799eda62c57                41\n",
       "0001ea3fd80ffed84ad7f8baff6f255e                 3\n",
       "000203f5a93e31088792913d275d8c42                 4\n",
       "...                                            ...\n",
       "fffe4ee972722123863ee4ed8e4dd9f1                 8\n",
       "fffedc69ec3f8ae618b49dbf99811cac                 1\n",
       "fffef9f05efac87c216d07357b832c07                17\n",
       "fffefa0abe35e4d51f1c247c23075d76                 2\n",
       "fffff9d724b4eb39d38e244dca258562                 1\n",
       "\n",
       "[123336 rows x 1 columns]"
      ]
     },
     "execution_count": 28,
     "metadata": {},
     "output_type": "execute_result"
    }
   ],
   "source": [
    "agregation = {'CantidadDeTurnos' : pd.NamedAgg(column ='Paciente', aggfunc='count')}\n",
    "df_por_paciente = df.groupby (\"Paciente\").agg(**agregation)\n",
    "df_por_paciente"
   ]
  },
  {
   "cell_type": "code",
   "execution_count": 29,
   "metadata": {},
   "outputs": [
    {
     "data": {
      "text/html": [
       "<div>\n",
       "<style scoped>\n",
       "    .dataframe tbody tr th:only-of-type {\n",
       "        vertical-align: middle;\n",
       "    }\n",
       "\n",
       "    .dataframe tbody tr th {\n",
       "        vertical-align: top;\n",
       "    }\n",
       "\n",
       "    .dataframe thead th {\n",
       "        text-align: right;\n",
       "    }\n",
       "</style>\n",
       "<table border=\"1\" class=\"dataframe\">\n",
       "  <thead>\n",
       "    <tr style=\"text-align: right;\">\n",
       "      <th></th>\n",
       "      <th>CantidadDeTurnos</th>\n",
       "    </tr>\n",
       "  </thead>\n",
       "  <tbody>\n",
       "    <tr>\n",
       "      <th>count</th>\n",
       "      <td>123336.000000</td>\n",
       "    </tr>\n",
       "    <tr>\n",
       "      <th>mean</th>\n",
       "      <td>8.279634</td>\n",
       "    </tr>\n",
       "    <tr>\n",
       "      <th>std</th>\n",
       "      <td>14.788933</td>\n",
       "    </tr>\n",
       "    <tr>\n",
       "      <th>min</th>\n",
       "      <td>1.000000</td>\n",
       "    </tr>\n",
       "    <tr>\n",
       "      <th>25%</th>\n",
       "      <td>1.000000</td>\n",
       "    </tr>\n",
       "    <tr>\n",
       "      <th>50%</th>\n",
       "      <td>4.000000</td>\n",
       "    </tr>\n",
       "    <tr>\n",
       "      <th>75%</th>\n",
       "      <td>9.000000</td>\n",
       "    </tr>\n",
       "    <tr>\n",
       "      <th>max</th>\n",
       "      <td>491.000000</td>\n",
       "    </tr>\n",
       "  </tbody>\n",
       "</table>\n",
       "</div>"
      ],
      "text/plain": [
       "       CantidadDeTurnos\n",
       "count     123336.000000\n",
       "mean           8.279634\n",
       "std           14.788933\n",
       "min            1.000000\n",
       "25%            1.000000\n",
       "50%            4.000000\n",
       "75%            9.000000\n",
       "max          491.000000"
      ]
     },
     "execution_count": 29,
     "metadata": {},
     "output_type": "execute_result"
    }
   ],
   "source": [
    "df_por_paciente.describe()"
   ]
  },
  {
   "cell_type": "code",
   "execution_count": 30,
   "metadata": {},
   "outputs": [
    {
     "data": {
      "text/plain": [
       "(1, 600)"
      ]
     },
     "execution_count": 30,
     "metadata": {},
     "output_type": "execute_result"
    },
    {
     "data": {
      "image/png": "[encoded data removed]",
      "text/plain": [
       "<Figure size 432x288 with 1 Axes>"
      ]
     },
     "metadata": {
      "needs_background": "light"
     },
     "output_type": "display_data"
    }
   ],
   "source": [
    "sns.countplot (data=df_por_paciente, x='CantidadDeTurnos' )\n",
    "plt.ylim(1,600)"
   ]
  },
  {
   "cell_type": "code",
   "execution_count": 31,
   "metadata": {},
   "outputs": [
    {
     "name": "stdout",
     "output_type": "stream",
     "text": [
      "Cantidad de pacientes por estado de turno\n",
      "Atendido    681421\n",
      "Anulado     226287\n",
      "Libre       172656\n",
      "Ausente     113650\n",
      "Name: EstadoDelTurno, dtype: int64\n",
      "Porcentaje de pacientes por estado de turno\n",
      "Atendido    57.069766\n",
      "Anulado     18.951788\n",
      "Libre       14.460132\n",
      "Ausente      9.518314\n",
      "Name: EstadoDelTurno, dtype: float64\n"
     ]
    }
   ],
   "source": [
    "print ('Cantidad de pacientes por estado de turno')\n",
    "print (df[\"EstadoDelTurno\"].value_counts())\n",
    "porcentaje = df[\"EstadoDelTurno\"].value_counts(normalize= True)\n",
    "porcentaje100= df[\"EstadoDelTurno\"].value_counts(normalize= True).mul(100)\n",
    "print ('Porcentaje de pacientes por estado de turno')\n",
    "print(porcentaje100)"
   ]
  },
  {
   "cell_type": "markdown",
   "metadata": {},
   "source": [
    "# Cantidad de ausencias: 113650 porcentaje 9%"
   ]
  },
  {
   "cell_type": "markdown",
   "metadata": {},
   "source": [
    "# Usando P(A|B)= P(A * B)/P(B)) \n",
    "# Usando P(A|B) = P(A)*P(B)\n",
    "# Dos eventos son independientes si y solo si P(A*B)=P(A) * P(B)"
   ]
  },
  {
   "cell_type": "markdown",
   "metadata": {},
   "source": [
    "##  Calculamos la probabilidad de que este ausente dado el sexo"
   ]
  },
  {
   "cell_type": "code",
   "execution_count": 32,
   "metadata": {},
   "outputs": [
    {
     "name": "stdout",
     "output_type": "stream",
     "text": [
      "Probabilidad de que este ausente 0.09518313855616434\n"
     ]
    }
   ],
   "source": [
    "p_ausente= len(df[df.EstadoDelTurno == \"Ausente\"])/len(df)\n",
    "print ('Probabilidad de que este ausente' , p_ausente )"
   ]
  },
  {
   "cell_type": "code",
   "execution_count": 33,
   "metadata": {},
   "outputs": [
    {
     "name": "stdout",
     "output_type": "stream",
     "text": [
      "Probabilidad de que sea mujer 0.5136472436671596\n"
     ]
    }
   ],
   "source": [
    "p_mujer = len(df[df.Sexo==\"F\"])/len(df)\n",
    "print ('Probabilidad de que sea mujer' , p_mujer )"
   ]
  },
  {
   "cell_type": "code",
   "execution_count": 34,
   "metadata": {},
   "outputs": [
    {
     "name": "stdout",
     "output_type": "stream",
     "text": [
      "Probabilidad de que este ausente y mujer 0.04889055676296316\n"
     ]
    }
   ],
   "source": [
    "p_ausente_and_mujer= p_mujer * p_ausente\n",
    "print ('Probabilidad de que este ausente y mujer' , p_ausente_and_mujer)"
   ]
  },
  {
   "cell_type": "code",
   "execution_count": 35,
   "metadata": {},
   "outputs": [
    {
     "name": "stdout",
     "output_type": "stream",
     "text": [
      "count_ausente_and_mujer 71932\n",
      "count_mujer 613302\n",
      "Probabilidad de que este ausente y sea mujer 0.11728642658918445\n"
     ]
    }
   ],
   "source": [
    "count_ausente_and_mujer = len(df[(df.EstadoDelTurno == \"Ausente\") & (df.Sexo ==\"F\")])\n",
    "count_mujer = len(df[(df.Sexo ==\"F\")])\n",
    "print ('count_ausente_and_mujer', count_ausente_and_mujer)\n",
    "print ('count_mujer', count_mujer)\n",
    "p_ausente_dado_mujer = count_ausente_and_mujer / count_mujer\n",
    "print ('Probabilidad de que este ausente y sea mujer' , p_ausente_dado_mujer )"
   ]
  },
  {
   "cell_type": "markdown",
   "metadata": {},
   "source": [
    "# No se cumple que  P(A*B)=P(A) * P(B)  por lo que los eventos ausente y mujer son dependientes"
   ]
  },
  {
   "cell_type": "code",
   "execution_count": 36,
   "metadata": {},
   "outputs": [
    {
     "name": "stdout",
     "output_type": "stream",
     "text": [
      "Probabilidad de que sea hombre 0.34048846998443905\n"
     ]
    }
   ],
   "source": [
    "p_hombre = len(df[df.Sexo==\"M\"])/len(df)\n",
    "print ('Probabilidad de que sea hombre', p_hombre )"
   ]
  },
  {
   "cell_type": "code",
   "execution_count": 37,
   "metadata": {},
   "outputs": [
    {
     "name": "stdout",
     "output_type": "stream",
     "text": [
      "Probabilidad de que este ausente y sea hombre 0.03240876121530526\n"
     ]
    }
   ],
   "source": [
    "p_ausente_and_hombre= p_hombre * p_ausente\n",
    "print ('Probabilidad de que este ausente y sea hombre' , p_ausente_and_hombre )"
   ]
  },
  {
   "cell_type": "code",
   "execution_count": 38,
   "metadata": {},
   "outputs": [
    {
     "name": "stdout",
     "output_type": "stream",
     "text": [
      "Probabilidad de que este ausente y sea hombre 0.10204207129293466\n"
     ]
    }
   ],
   "source": [
    "count_ausente_and_hombre = len(df[(df.EstadoDelTurno == \"Ausente\") & (df.Sexo ==\"M\")])\n",
    "count_hombre = len(df[(df.Sexo ==\"M\")])\n",
    "p_ausente_dado_hombre = count_ausente_and_hombre /count_hombre\n",
    "print ('Probabilidad de que este ausente y sea hombre', p_ausente_dado_hombre )"
   ]
  },
  {
   "cell_type": "markdown",
   "metadata": {},
   "source": [
    "# No se cumple que  P(A*B)=P(A) * P(B)  por lo que los eventos ausente y hombre son dependientes"
   ]
  },
  {
   "cell_type": "markdown",
   "metadata": {},
   "source": [
    "##  Calculamos la probabilidad de que este ausente y que el Centro de Atencion sea 1, 2, 3 y 4"
   ]
  },
  {
   "cell_type": "code",
   "execution_count": 39,
   "metadata": {},
   "outputs": [
    {
     "name": "stdout",
     "output_type": "stream",
     "text": [
      "Probabilidad de que se atienda en el Centro 1 0.4272085586936167\n"
     ]
    }
   ],
   "source": [
    "p_centro1 = len(df[df.CentroDeAtencion==1])/len(df)\n",
    "print ('Probabilidad de que se atienda en el Centro 1' , p_centro1)"
   ]
  },
  {
   "cell_type": "code",
   "execution_count": 40,
   "metadata": {},
   "outputs": [
    {
     "name": "stdout",
     "output_type": "stream",
     "text": [
      "Probabilidad de que se atienda en el Centro2  0.2767186984407218\n"
     ]
    }
   ],
   "source": [
    "p_centro2 = len(df[df.CentroDeAtencion==2])/len(df)\n",
    "print ('Probabilidad de que se atienda en el Centro2 ',  p_centro2 )"
   ]
  },
  {
   "cell_type": "code",
   "execution_count": 41,
   "metadata": {},
   "outputs": [
    {
     "name": "stdout",
     "output_type": "stream",
     "text": [
      "Probabilidad de que se atienda en el Centro 3  0.11650868415278212\n"
     ]
    }
   ],
   "source": [
    "p_centro3 = len(df[df.CentroDeAtencion==3])/len(df)\n",
    "print ('Probabilidad de que se atienda en el Centro 3 ', p_centro3 )"
   ]
  },
  {
   "cell_type": "code",
   "execution_count": 42,
   "metadata": {},
   "outputs": [
    {
     "name": "stdout",
     "output_type": "stream",
     "text": [
      "Probabilidad de que se atienda en el Centro 4  0.17956405871287942\n"
     ]
    }
   ],
   "source": [
    "p_centro4 = len(df[df.CentroDeAtencion==4])/len(df)\n",
    "print ('Probabilidad de que se atienda en el Centro 4 ' , p_centro4 )"
   ]
  },
  {
   "cell_type": "code",
   "execution_count": 43,
   "metadata": {},
   "outputs": [
    {
     "name": "stdout",
     "output_type": "stream",
     "text": [
      "Probabilidad de que este ausente dado que se atendio en el Centro 1 0.04066305143451378\n"
     ]
    }
   ],
   "source": [
    "p_ausente_and_c1 = p_centro1 * p_ausente\n",
    "print ('Probabilidad de que este ausente dado que se atendio en el Centro 1' , p_ausente_and_c1)"
   ]
  },
  {
   "cell_type": "code",
   "execution_count": 44,
   "metadata": {},
   "outputs": [
    {
     "name": "stdout",
     "output_type": "stream",
     "text": [
      "Probabilidad de que este ausente dado que se atendio en el Centro 1 0.026338954214764676\n"
     ]
    }
   ],
   "source": [
    "p_ausente_and_c2 = p_centro2 * p_ausente\n",
    "print ('Probabilidad de que este ausente dado que se atendio en el Centro 1' , p_ausente_and_c2)"
   ]
  },
  {
   "cell_type": "code",
   "execution_count": 45,
   "metadata": {},
   "outputs": [
    {
     "name": "stdout",
     "output_type": "stream",
     "text": [
      "Probabilidad de que este ausente dado que se atendio en el Centro 1 0.011089662226710649\n"
     ]
    }
   ],
   "source": [
    "p_ausente_and_c3 = p_centro3 * p_ausente\n",
    "print ('Probabilidad de que este ausente dado que se atendio en el Centro 1' , p_ausente_and_c3)"
   ]
  },
  {
   "cell_type": "code",
   "execution_count": 46,
   "metadata": {},
   "outputs": [
    {
     "name": "stdout",
     "output_type": "stream",
     "text": [
      "Probabilidad de que este ausente dado que se atendio en el Centro 1 0.01709147068017523\n"
     ]
    }
   ],
   "source": [
    "p_ausente_and_c4 = p_centro4 * p_ausente\n",
    "print ('Probabilidad de que este ausente dado que se atendio en el Centro 1' , p_ausente_and_c4)"
   ]
  },
  {
   "cell_type": "code",
   "execution_count": 47,
   "metadata": {},
   "outputs": [
    {
     "name": "stdout",
     "output_type": "stream",
     "text": [
      "Probabilidad de que se atienda en el Centro 1 y este ausente 0.09315164097527313\n"
     ]
    }
   ],
   "source": [
    "count_ausente_and_c1 = len(df[(df.EstadoDelTurno == \"Ausente\") & (df.CentroDeAtencion ==1)])\n",
    "count_c1 = len(df[(df.CentroDeAtencion ==1)])\n",
    "p_ausente_and_c1 = count_ausente_and_c1 / count_c1\n",
    "print ('Probabilidad de que se atienda en el Centro 1 y este ausente' , p_ausente_and_c1)"
   ]
  },
  {
   "cell_type": "markdown",
   "metadata": {},
   "source": [
    "##  Calculamos la probabilidad de que este ausente DADO que el Centro de Atencion es 1,2,3 ,4"
   ]
  },
  {
   "cell_type": "code",
   "execution_count": 48,
   "metadata": {},
   "outputs": [
    {
     "name": "stdout",
     "output_type": "stream",
     "text": [
      "Probabilidad de que se atienda en el Centro 2 y este ausente 0.11211358147249142\n"
     ]
    }
   ],
   "source": [
    "count_ausente_and_c2 = len(df[(df.EstadoDelTurno == \"Ausente\") & (df.CentroDeAtencion ==2)])\n",
    "count_c2 = len(df[(df.CentroDeAtencion ==2)])\n",
    "p_ausente_dado_c2 = count_ausente_and_c2 / count_c2\n",
    "print ('Probabilidad de que se atienda en el Centro 2 y este ausente', p_ausente_dado_c2 )"
   ]
  },
  {
   "cell_type": "code",
   "execution_count": 49,
   "metadata": {},
   "outputs": [
    {
     "name": "stdout",
     "output_type": "stream",
     "text": [
      "Probabilidad de que se atienda en el Centro 2 y este ausente 0.11765255583590319\n"
     ]
    }
   ],
   "source": [
    "count_ausente_and_c3 = len(df[(df.EstadoDelTurno == \"Ausente\") & (df.CentroDeAtencion ==3)])\n",
    "count_c3 = len(df[(df.CentroDeAtencion ==3)])\n",
    "p_ausente_dado_c3 = count_ausente_and_c3 / count_c3\n",
    "print ('Probabilidad de que se atienda en el Centro 2 y este ausente', p_ausente_dado_c3 )"
   ]
  },
  {
   "cell_type": "code",
   "execution_count": 50,
   "metadata": {},
   "outputs": [
    {
     "name": "stdout",
     "output_type": "stream",
     "text": [
      "Probabilidad de que se atienda en el Centro 2 y este ausente 0.05934646132032351\n"
     ]
    }
   ],
   "source": [
    "count_ausente_and_c4 = len(df[(df.EstadoDelTurno == \"Ausente\") & (df.CentroDeAtencion ==4)])\n",
    "count_c4 = len(df[(df.CentroDeAtencion ==4)])\n",
    "p_ausente_dado_c4 = count_ausente_and_c4 / count_c4\n",
    "print ('Probabilidad de que se atienda en el Centro 2 y este ausente', p_ausente_dado_c4 )"
   ]
  },
  {
   "cell_type": "markdown",
   "metadata": {},
   "source": [
    "# No se cumple que  P(A*B)=P(A) * P(B)  por lo que los eventos ausente y centro son dependientes"
   ]
  },
  {
   "cell_type": "markdown",
   "metadata": {},
   "source": [
    "##  Calculamos la probabilidad de que este ausente y que el tipo de turno sea práctica, control, PV, Recetas o DNP"
   ]
  },
  {
   "cell_type": "code",
   "execution_count": 51,
   "metadata": {},
   "outputs": [
    {
     "name": "stdout",
     "output_type": "stream",
     "text": [
      "Probabilidad de que el tipo de turno sea practica 0.3058238848120709\n"
     ]
    }
   ],
   "source": [
    "p_Turno_Practica = len(df[df.TipoDeTurnoAsignado == 'Práctica'])/len(df)\n",
    "print ('Probabilidad de que el tipo de turno sea practica' , p_Turno_Practica)"
   ]
  },
  {
   "cell_type": "code",
   "execution_count": 52,
   "metadata": {},
   "outputs": [
    {
     "name": "stdout",
     "output_type": "stream",
     "text": [
      "Probabilidad de que el tipo de turno sea Consulta 0.31409933216863456\n"
     ]
    }
   ],
   "source": [
    "p_Turno_Control = len(df[df.TipoDeTurnoAsignado == 'Ulterior / Control'])/len(df)\n",
    "print ('Probabilidad de que el tipo de turno sea Consulta' , p_Turno_Control)"
   ]
  },
  {
   "cell_type": "code",
   "execution_count": 53,
   "metadata": {},
   "outputs": [
    {
     "name": "stdout",
     "output_type": "stream",
     "text": [
      "Probabilidad de que el tipo de turno sea Consulta 0.22325115115903163\n"
     ]
    }
   ],
   "source": [
    "p_Turno_PV = len(df[df.TipoDeTurnoAsignado == 'Primera Vez'])/len(df)\n",
    "print ('Probabilidad de que el tipo de turno sea Consulta' , p_Turno_PV)"
   ]
  },
  {
   "cell_type": "code",
   "execution_count": 54,
   "metadata": {},
   "outputs": [
    {
     "name": "stdout",
     "output_type": "stream",
     "text": [
      "Probabilidad de que el tipo de turno sea Consulta 0.010009095370741046\n"
     ]
    }
   ],
   "source": [
    "p_Turno_Recetas = len(df[df.TipoDeTurnoAsignado == 'Recetas'])/len(df)\n",
    "print ('Probabilidad de que el tipo de turno sea Consulta' , p_Turno_Recetas)"
   ]
  },
  {
   "cell_type": "code",
   "execution_count": 55,
   "metadata": {},
   "outputs": [
    {
     "name": "stdout",
     "output_type": "stream",
     "text": [
      "Probabilidad de que el tipo de turno sea Consulta 0.0020586023279459036\n"
     ]
    }
   ],
   "source": [
    "p_Turno_DNP = len(df[df.TipoDeTurnoAsignado == 'DNP'])/len(df)\n",
    "print ('Probabilidad de que el tipo de turno sea Consulta' , p_Turno_DNP)"
   ]
  },
  {
   "cell_type": "code",
   "execution_count": 56,
   "metadata": {},
   "outputs": [
    {
     "name": "stdout",
     "output_type": "stream",
     "text": [
      "Probabilidad de que este ausente y que el turno es Práctica 0.029109277201851788\n"
     ]
    }
   ],
   "source": [
    "p_ausente_and_Practica = p_Turno_Practica * p_ausente\n",
    "print ('Probabilidad de que este ausente y que el turno es Práctica' , p_ausente_and_Practica)"
   ]
  },
  {
   "cell_type": "code",
   "execution_count": 57,
   "metadata": {},
   "outputs": [
    {
     "name": "stdout",
     "output_type": "stream",
     "text": [
      "Probabilidad de que este ausente y que el turno es Control 0.02989696025420583\n"
     ]
    }
   ],
   "source": [
    "p_ausente_and_Control = p_Turno_Control * p_ausente\n",
    "print ('Probabilidad de que este ausente y que el turno es Control' , p_ausente_and_Control)"
   ]
  },
  {
   "cell_type": "code",
   "execution_count": 58,
   "metadata": {},
   "outputs": [
    {
     "name": "stdout",
     "output_type": "stream",
     "text": [
      "Probabilidad de que este ausente y que el turno es Primera Vez 0.021249745253593296\n"
     ]
    }
   ],
   "source": [
    "p_ausente_and_PV = p_Turno_PV * p_ausente\n",
    "print ('Probabilidad de que este ausente y que el turno es Primera Vez' , p_ausente_and_PV)"
   ]
  },
  {
   "cell_type": "code",
   "execution_count": 59,
   "metadata": {},
   "outputs": [
    {
     "name": "stdout",
     "output_type": "stream",
     "text": [
      "Probabilidad de que este ausente y que el turno es Recetas 0.000952697111495108\n"
     ]
    }
   ],
   "source": [
    "p_ausente_and_Recetas = p_Turno_Recetas * p_ausente\n",
    "print ('Probabilidad de que este ausente y que el turno es Recetas' , p_ausente_and_Recetas)"
   ]
  },
  {
   "cell_type": "code",
   "execution_count": 60,
   "metadata": {},
   "outputs": [
    {
     "name": "stdout",
     "output_type": "stream",
     "text": [
      "Probabilidad de que este ausente y que el turno es DNP 0.00019594423061291739\n"
     ]
    }
   ],
   "source": [
    "p_ausente_and_DNP = p_Turno_DNP * p_ausente\n",
    "print ('Probabilidad de que este ausente y que el turno es DNP' , p_ausente_and_DNP)"
   ]
  },
  {
   "cell_type": "code",
   "execution_count": 61,
   "metadata": {},
   "outputs": [
    {
     "name": "stdout",
     "output_type": "stream",
     "text": [
      "Probabilidad de que sea Turno de Practica dado ausente 0.09054984417704118\n"
     ]
    }
   ],
   "source": [
    "count_ausente_and_Practica = len(df[(df.EstadoDelTurno == \"Ausente\") & (df.TipoDeTurnoAsignado == 'Práctica')])\n",
    "count_Practica = len(df[(df.TipoDeTurnoAsignado == 'Práctica')])\n",
    "p_ausente_dado_Practica = count_ausente_and_Practica / count_Practica\n",
    "print ('Probabilidad de que sea Turno de Practica dado ausente', p_ausente_dado_Practica )"
   ]
  },
  {
   "cell_type": "code",
   "execution_count": 62,
   "metadata": {},
   "outputs": [
    {
     "name": "stdout",
     "output_type": "stream",
     "text": [
      "Probabilidad de que sea Turno de Control dado ausente 0.10787944720415743\n"
     ]
    }
   ],
   "source": [
    "count_ausente_and_Control = len(df[(df.EstadoDelTurno == \"Ausente\") & (df.TipoDeTurnoAsignado == 'Ulterior / Control')])\n",
    "count_Control = len(df[(df.TipoDeTurnoAsignado == 'Ulterior / Control')])\n",
    "p_ausente_dado_Control = count_ausente_and_Control / count_Control\n",
    "print ('Probabilidad de que sea Turno de Control dado ausente', p_ausente_dado_Control )"
   ]
  },
  {
   "cell_type": "code",
   "execution_count": 63,
   "metadata": {},
   "outputs": [
    {
     "name": "stdout",
     "output_type": "stream",
     "text": [
      "Probabilidad de que sea Turno de Primera Vez dado ausente 0.14876671731097482\n"
     ]
    }
   ],
   "source": [
    "count_ausente_and_PV = len(df[(df.EstadoDelTurno == \"Ausente\") & (df.TipoDeTurnoAsignado == 'Primera Vez')])\n",
    "count_PV = len(df[(df.TipoDeTurnoAsignado == 'Primera Vez')])\n",
    "p_ausente_dado_PV = count_ausente_and_PV / count_PV\n",
    "print ('Probabilidad de que sea Turno de Primera Vez dado ausente', p_ausente_dado_PV )"
   ]
  },
  {
   "cell_type": "code",
   "execution_count": 64,
   "metadata": {},
   "outputs": [
    {
     "name": "stdout",
     "output_type": "stream",
     "text": [
      "Probabilidad de que sea Turno de Recetas dado ausente 0.018157476361810726\n"
     ]
    }
   ],
   "source": [
    "count_ausente_and_Recetas = len(df[(df.EstadoDelTurno == \"Ausente\") & (df.TipoDeTurnoAsignado == 'Recetas')])\n",
    "count_Recetas = len(df[(df.TipoDeTurnoAsignado == 'Recetas')])\n",
    "p_ausente_dado_Recetas = count_ausente_and_Recetas / count_Recetas\n",
    "print ('Probabilidad de que sea Turno de Recetas dado ausente', p_ausente_dado_Recetas )"
   ]
  },
  {
   "cell_type": "code",
   "execution_count": 65,
   "metadata": {},
   "outputs": [
    {
     "name": "stdout",
     "output_type": "stream",
     "text": [
      "Probabilidad de que sea Turno de DNP dado ausente 0.10292921074043938\n"
     ]
    }
   ],
   "source": [
    "count_ausente_and_DNP = len(df[(df.EstadoDelTurno == \"Ausente\") & (df.TipoDeTurnoAsignado == 'DNP')])\n",
    "count_DNP = len(df[(df.TipoDeTurnoAsignado == 'DNP')])\n",
    "p_ausente_dado_DNP = count_ausente_and_DNP / count_DNP\n",
    "print ('Probabilidad de que sea Turno de DNP dado ausente', p_ausente_dado_DNP )"
   ]
  },
  {
   "cell_type": "markdown",
   "metadata": {},
   "source": [
    "# No se cumple que  P(A*B)=P(A) * P(B)  por lo que los eventos ausente y tipo de turno son dependientes"
   ]
  },
  {
   "cell_type": "code",
   "execution_count": 66,
   "metadata": {},
   "outputs": [
    {
     "data": {
      "text/html": [
       "<div>\n",
       "<style scoped>\n",
       "    .dataframe tbody tr th:only-of-type {\n",
       "        vertical-align: middle;\n",
       "    }\n",
       "\n",
       "    .dataframe tbody tr th {\n",
       "        vertical-align: top;\n",
       "    }\n",
       "\n",
       "    .dataframe thead th {\n",
       "        text-align: right;\n",
       "    }\n",
       "</style>\n",
       "<table border=\"1\" class=\"dataframe\">\n",
       "  <thead>\n",
       "    <tr style=\"text-align: right;\">\n",
       "      <th>Campo</th>\n",
       "      <th>CentroDeAtencion</th>\n",
       "      <th>Prestador</th>\n",
       "      <th>Recurso</th>\n",
       "      <th>Servicio</th>\n",
       "      <th>FechaDelTurno</th>\n",
       "      <th>EstadoDelTurno</th>\n",
       "      <th>Paciente</th>\n",
       "      <th>Sexo</th>\n",
       "      <th>Edad</th>\n",
       "      <th>PrestacionAsignada</th>\n",
       "      <th>NombreDelCanal</th>\n",
       "      <th>EsSobreTurno</th>\n",
       "      <th>TipoDeTurnoAsignado</th>\n",
       "    </tr>\n",
       "  </thead>\n",
       "  <tbody>\n",
       "    <tr>\n",
       "      <th>11</th>\n",
       "      <td>4</td>\n",
       "      <td>OSDE</td>\n",
       "      <td>e5184981c23c4e3c6d880a49f7b6f11b</td>\n",
       "      <td>KINESIOL Y FISIOTERAPIA</td>\n",
       "      <td>2019-01-02 07:30:00</td>\n",
       "      <td>Ausente</td>\n",
       "      <td>761aed3dc99b8b49a6524c2d3128eef5</td>\n",
       "      <td>M</td>\n",
       "      <td>26</td>\n",
       "      <td>MODULO KINESIO-FISIO + MAGNETO Y/O LASER</td>\n",
       "      <td>NaN</td>\n",
       "      <td>NO</td>\n",
       "      <td>Práctica</td>\n",
       "    </tr>\n",
       "    <tr>\n",
       "      <th>12</th>\n",
       "      <td>4</td>\n",
       "      <td>OSDE</td>\n",
       "      <td>e5184981c23c4e3c6d880a49f7b6f11b</td>\n",
       "      <td>KINESIOL Y FISIOTERAPIA</td>\n",
       "      <td>2019-01-02 07:30:00</td>\n",
       "      <td>Ausente</td>\n",
       "      <td>cb5d1b5b4619ab46f27349661b4f4e0d</td>\n",
       "      <td>F</td>\n",
       "      <td>47</td>\n",
       "      <td>MODULO KINESIO-FISIO + MAGNETO Y/O LASER</td>\n",
       "      <td>NaN</td>\n",
       "      <td>NO</td>\n",
       "      <td>Práctica</td>\n",
       "    </tr>\n",
       "    <tr>\n",
       "      <th>13</th>\n",
       "      <td>4</td>\n",
       "      <td>OSDE</td>\n",
       "      <td>e5184981c23c4e3c6d880a49f7b6f11b</td>\n",
       "      <td>KINESIOL Y FISIOTERAPIA</td>\n",
       "      <td>2019-01-02 07:30:00</td>\n",
       "      <td>Ausente</td>\n",
       "      <td>cb5d1b5b4619ab46f27349661b4f4e0d</td>\n",
       "      <td>F</td>\n",
       "      <td>47</td>\n",
       "      <td>MODULO KINESIO-FISIO + MAGNETO Y/O LASER</td>\n",
       "      <td>NaN</td>\n",
       "      <td>NO</td>\n",
       "      <td>Primera Vez</td>\n",
       "    </tr>\n",
       "    <tr>\n",
       "      <th>18</th>\n",
       "      <td>4</td>\n",
       "      <td>OSDE</td>\n",
       "      <td>e5184981c23c4e3c6d880a49f7b6f11b</td>\n",
       "      <td>KINESIOL Y FISIOTERAPIA</td>\n",
       "      <td>2019-01-02 07:30:00</td>\n",
       "      <td>Ausente</td>\n",
       "      <td>761aed3dc99b8b49a6524c2d3128eef5</td>\n",
       "      <td>M</td>\n",
       "      <td>26</td>\n",
       "      <td>MODULO KINESIO-FISIO + MAGNETO Y/O LASER</td>\n",
       "      <td>NaN</td>\n",
       "      <td>NO</td>\n",
       "      <td>Primera Vez</td>\n",
       "    </tr>\n",
       "    <tr>\n",
       "      <th>43</th>\n",
       "      <td>4</td>\n",
       "      <td>OMINT S. A. DE SERVICIOS</td>\n",
       "      <td>e5184981c23c4e3c6d880a49f7b6f11b</td>\n",
       "      <td>KINESIOL Y FISIOTERAPIA</td>\n",
       "      <td>2019-01-02 07:50:00</td>\n",
       "      <td>Ausente</td>\n",
       "      <td>8e3ba838dc73c1964fa42a1f5409cb1e</td>\n",
       "      <td>F</td>\n",
       "      <td>54</td>\n",
       "      <td>MODULO KINESIO-FISIO + MAGNETO Y/O LASER</td>\n",
       "      <td>NaN</td>\n",
       "      <td>NO</td>\n",
       "      <td>Práctica</td>\n",
       "    </tr>\n",
       "    <tr>\n",
       "      <th>...</th>\n",
       "      <td>...</td>\n",
       "      <td>...</td>\n",
       "      <td>...</td>\n",
       "      <td>...</td>\n",
       "      <td>...</td>\n",
       "      <td>...</td>\n",
       "      <td>...</td>\n",
       "      <td>...</td>\n",
       "      <td>...</td>\n",
       "      <td>...</td>\n",
       "      <td>...</td>\n",
       "      <td>...</td>\n",
       "      <td>...</td>\n",
       "    </tr>\n",
       "    <tr>\n",
       "      <th>1193930</th>\n",
       "      <td>3</td>\n",
       "      <td>IOSFA</td>\n",
       "      <td>83f98d11eb2af7056115dade74548582</td>\n",
       "      <td>PEDIATRÍA</td>\n",
       "      <td>2019-12-30 19:40:00</td>\n",
       "      <td>Ausente</td>\n",
       "      <td>6b5545eeab525bdc763e7c1d8decb8bb</td>\n",
       "      <td>M</td>\n",
       "      <td>2</td>\n",
       "      <td>CONSULTA MEDICA</td>\n",
       "      <td>Recepción</td>\n",
       "      <td>NO</td>\n",
       "      <td>Primera Vez</td>\n",
       "    </tr>\n",
       "    <tr>\n",
       "      <th>1193959</th>\n",
       "      <td>4</td>\n",
       "      <td>OMINT S. A. DE SERVICIOS</td>\n",
       "      <td>e5184981c23c4e3c6d880a49f7b6f11b</td>\n",
       "      <td>KINESIOL Y FISIOTERAPIA</td>\n",
       "      <td>2019-12-30 19:50:00</td>\n",
       "      <td>Ausente</td>\n",
       "      <td>e7a498ea22f06c8f4da4381fa81ccfdb</td>\n",
       "      <td>M</td>\n",
       "      <td>45</td>\n",
       "      <td>MODULO KINESIO-FISIO + MAGNETO Y/O LASER</td>\n",
       "      <td>NaN</td>\n",
       "      <td>NO</td>\n",
       "      <td>Práctica</td>\n",
       "    </tr>\n",
       "    <tr>\n",
       "      <th>1193977</th>\n",
       "      <td>4</td>\n",
       "      <td>SWISS MEDICAL S.A.</td>\n",
       "      <td>e5184981c23c4e3c6d880a49f7b6f11b</td>\n",
       "      <td>KINESIOL Y FISIOTERAPIA</td>\n",
       "      <td>2019-12-30 20:10:00</td>\n",
       "      <td>Ausente</td>\n",
       "      <td>952b65b1f259c1e5e8c5e9ce5527c66f</td>\n",
       "      <td>M</td>\n",
       "      <td>39</td>\n",
       "      <td>MODULO KINESIO-FISIO + MAGNETO Y/O LASER</td>\n",
       "      <td>NaN</td>\n",
       "      <td>NO</td>\n",
       "      <td>Práctica</td>\n",
       "    </tr>\n",
       "    <tr>\n",
       "      <th>1193980</th>\n",
       "      <td>4</td>\n",
       "      <td>SANCOR</td>\n",
       "      <td>e5184981c23c4e3c6d880a49f7b6f11b</td>\n",
       "      <td>KINESIOL Y FISIOTERAPIA</td>\n",
       "      <td>2019-12-30 20:10:00</td>\n",
       "      <td>Ausente</td>\n",
       "      <td>deffa21adea1dbcbac39349b252b10c0</td>\n",
       "      <td>F</td>\n",
       "      <td>44</td>\n",
       "      <td>MODULO KINESIO-FISIO + MAGNETO Y/O LASER</td>\n",
       "      <td>NaN</td>\n",
       "      <td>NO</td>\n",
       "      <td>Práctica</td>\n",
       "    </tr>\n",
       "    <tr>\n",
       "      <th>1194002</th>\n",
       "      <td>1</td>\n",
       "      <td>IOSFA</td>\n",
       "      <td>56b1ab1a89a94bda64aeaef37e14f1bf</td>\n",
       "      <td>NEUROLOGÍA</td>\n",
       "      <td>2019-12-30 21:30:00</td>\n",
       "      <td>Ausente</td>\n",
       "      <td>d03a642b6e0b4bb5c15183593c940285</td>\n",
       "      <td>F</td>\n",
       "      <td>76</td>\n",
       "      <td>POLISOMNOGRAFIA NOCTURNA</td>\n",
       "      <td>Recepción</td>\n",
       "      <td>NO</td>\n",
       "      <td>Práctica</td>\n",
       "    </tr>\n",
       "  </tbody>\n",
       "</table>\n",
       "<p>113650 rows × 13 columns</p>\n",
       "</div>"
      ],
      "text/plain": [
       "Campo    CentroDeAtencion                 Prestador  \\\n",
       "11                      4                     OSDE    \n",
       "12                      4                     OSDE    \n",
       "13                      4                     OSDE    \n",
       "18                      4                     OSDE    \n",
       "43                      4  OMINT S. A. DE SERVICIOS   \n",
       "...                   ...                       ...   \n",
       "1193930                 3                     IOSFA   \n",
       "1193959                 4  OMINT S. A. DE SERVICIOS   \n",
       "1193977                 4        SWISS MEDICAL S.A.   \n",
       "1193980                 4                   SANCOR    \n",
       "1194002                 1                     IOSFA   \n",
       "\n",
       "Campo                             Recurso                 Servicio  \\\n",
       "11       e5184981c23c4e3c6d880a49f7b6f11b  KINESIOL Y FISIOTERAPIA   \n",
       "12       e5184981c23c4e3c6d880a49f7b6f11b  KINESIOL Y FISIOTERAPIA   \n",
       "13       e5184981c23c4e3c6d880a49f7b6f11b  KINESIOL Y FISIOTERAPIA   \n",
       "18       e5184981c23c4e3c6d880a49f7b6f11b  KINESIOL Y FISIOTERAPIA   \n",
       "43       e5184981c23c4e3c6d880a49f7b6f11b  KINESIOL Y FISIOTERAPIA   \n",
       "...                                   ...                      ...   \n",
       "1193930  83f98d11eb2af7056115dade74548582                PEDIATRÍA   \n",
       "1193959  e5184981c23c4e3c6d880a49f7b6f11b  KINESIOL Y FISIOTERAPIA   \n",
       "1193977  e5184981c23c4e3c6d880a49f7b6f11b  KINESIOL Y FISIOTERAPIA   \n",
       "1193980  e5184981c23c4e3c6d880a49f7b6f11b  KINESIOL Y FISIOTERAPIA   \n",
       "1194002  56b1ab1a89a94bda64aeaef37e14f1bf               NEUROLOGÍA   \n",
       "\n",
       "Campo         FechaDelTurno EstadoDelTurno                          Paciente  \\\n",
       "11      2019-01-02 07:30:00        Ausente  761aed3dc99b8b49a6524c2d3128eef5   \n",
       "12      2019-01-02 07:30:00        Ausente  cb5d1b5b4619ab46f27349661b4f4e0d   \n",
       "13      2019-01-02 07:30:00        Ausente  cb5d1b5b4619ab46f27349661b4f4e0d   \n",
       "18      2019-01-02 07:30:00        Ausente  761aed3dc99b8b49a6524c2d3128eef5   \n",
       "43      2019-01-02 07:50:00        Ausente  8e3ba838dc73c1964fa42a1f5409cb1e   \n",
       "...                     ...            ...                               ...   \n",
       "1193930 2019-12-30 19:40:00        Ausente  6b5545eeab525bdc763e7c1d8decb8bb   \n",
       "1193959 2019-12-30 19:50:00        Ausente  e7a498ea22f06c8f4da4381fa81ccfdb   \n",
       "1193977 2019-12-30 20:10:00        Ausente  952b65b1f259c1e5e8c5e9ce5527c66f   \n",
       "1193980 2019-12-30 20:10:00        Ausente  deffa21adea1dbcbac39349b252b10c0   \n",
       "1194002 2019-12-30 21:30:00        Ausente  d03a642b6e0b4bb5c15183593c940285   \n",
       "\n",
       "Campo   Sexo  Edad                        PrestacionAsignada NombreDelCanal  \\\n",
       "11         M    26  MODULO KINESIO-FISIO + MAGNETO Y/O LASER            NaN   \n",
       "12         F    47  MODULO KINESIO-FISIO + MAGNETO Y/O LASER            NaN   \n",
       "13         F    47  MODULO KINESIO-FISIO + MAGNETO Y/O LASER            NaN   \n",
       "18         M    26  MODULO KINESIO-FISIO + MAGNETO Y/O LASER            NaN   \n",
       "43         F    54  MODULO KINESIO-FISIO + MAGNETO Y/O LASER            NaN   \n",
       "...      ...   ...                                       ...            ...   \n",
       "1193930    M     2                           CONSULTA MEDICA      Recepción   \n",
       "1193959    M    45  MODULO KINESIO-FISIO + MAGNETO Y/O LASER            NaN   \n",
       "1193977    M    39  MODULO KINESIO-FISIO + MAGNETO Y/O LASER            NaN   \n",
       "1193980    F    44  MODULO KINESIO-FISIO + MAGNETO Y/O LASER            NaN   \n",
       "1194002    F    76                  POLISOMNOGRAFIA NOCTURNA      Recepción   \n",
       "\n",
       "Campo   EsSobreTurno TipoDeTurnoAsignado  \n",
       "11                NO            Práctica  \n",
       "12                NO            Práctica  \n",
       "13                NO         Primera Vez  \n",
       "18                NO         Primera Vez  \n",
       "43                NO            Práctica  \n",
       "...              ...                 ...  \n",
       "1193930           NO         Primera Vez  \n",
       "1193959           NO            Práctica  \n",
       "1193977           NO            Práctica  \n",
       "1193980           NO            Práctica  \n",
       "1194002           NO            Práctica  \n",
       "\n",
       "[113650 rows x 13 columns]"
      ]
     },
     "execution_count": 66,
     "metadata": {},
     "output_type": "execute_result"
    }
   ],
   "source": [
    "df_ausentes = df.EstadoDelTurno=='Ausente'\n",
    "df_turnos_ausentes = df[df_ausentes]\n",
    "df_turnos_ausentes"
   ]
  },
  {
   "cell_type": "code",
   "execution_count": 67,
   "metadata": {},
   "outputs": [
    {
     "data": {
      "text/html": [
       "<div>\n",
       "<style scoped>\n",
       "    .dataframe tbody tr th:only-of-type {\n",
       "        vertical-align: middle;\n",
       "    }\n",
       "\n",
       "    .dataframe tbody tr th {\n",
       "        vertical-align: top;\n",
       "    }\n",
       "\n",
       "    .dataframe thead th {\n",
       "        text-align: right;\n",
       "    }\n",
       "</style>\n",
       "<table border=\"1\" class=\"dataframe\">\n",
       "  <thead>\n",
       "    <tr style=\"text-align: right;\">\n",
       "      <th>Campo</th>\n",
       "      <th>CentroDeAtencion</th>\n",
       "      <th>Prestador</th>\n",
       "      <th>Recurso</th>\n",
       "      <th>Servicio</th>\n",
       "      <th>FechaDelTurno</th>\n",
       "      <th>EstadoDelTurno</th>\n",
       "      <th>Paciente</th>\n",
       "      <th>Sexo</th>\n",
       "      <th>Edad</th>\n",
       "      <th>PrestacionAsignada</th>\n",
       "      <th>NombreDelCanal</th>\n",
       "      <th>EsSobreTurno</th>\n",
       "      <th>TipoDeTurnoAsignado</th>\n",
       "    </tr>\n",
       "  </thead>\n",
       "  <tbody>\n",
       "    <tr>\n",
       "      <th>0</th>\n",
       "      <td>1</td>\n",
       "      <td>GALENO ARGENTINA SA</td>\n",
       "      <td>009da261083f00e160b4efa09761d9fa</td>\n",
       "      <td>CIRUGÍA PLÁSTICA INF</td>\n",
       "      <td>2019-01-01 11:30:00</td>\n",
       "      <td>Atendido</td>\n",
       "      <td>56d3024136fe26d28d1d981a95772919</td>\n",
       "      <td>M</td>\n",
       "      <td>3</td>\n",
       "      <td>Prestaciones multiples</td>\n",
       "      <td>NaN</td>\n",
       "      <td>SI</td>\n",
       "      <td>Primera Vez</td>\n",
       "    </tr>\n",
       "    <tr>\n",
       "      <th>1</th>\n",
       "      <td>1</td>\n",
       "      <td>OMINT S. A. DE SERVICIOS</td>\n",
       "      <td>009da261083f00e160b4efa09761d9fa</td>\n",
       "      <td>CIRUGÍA PLÁSTICA INF</td>\n",
       "      <td>2019-01-01 11:33:00</td>\n",
       "      <td>Atendido</td>\n",
       "      <td>72964a1348c696e9440fc8946bfb7af4</td>\n",
       "      <td>M</td>\n",
       "      <td>9</td>\n",
       "      <td>Prestaciones multiples</td>\n",
       "      <td>NaN</td>\n",
       "      <td>SI</td>\n",
       "      <td>Primera Vez</td>\n",
       "    </tr>\n",
       "    <tr>\n",
       "      <th>2</th>\n",
       "      <td>1</td>\n",
       "      <td>OMINT S. A. DE SERVICIOS</td>\n",
       "      <td>009da261083f00e160b4efa09761d9fa</td>\n",
       "      <td>CIRUGÍA PLÁSTICA INF</td>\n",
       "      <td>2019-01-01 11:36:00</td>\n",
       "      <td>Atendido</td>\n",
       "      <td>b495739eba3587f3f75062c9eb2aff06</td>\n",
       "      <td>F</td>\n",
       "      <td>53</td>\n",
       "      <td>Prestaciones multiples</td>\n",
       "      <td>NaN</td>\n",
       "      <td>SI</td>\n",
       "      <td>Primera Vez</td>\n",
       "    </tr>\n",
       "    <tr>\n",
       "      <th>3</th>\n",
       "      <td>1</td>\n",
       "      <td>SWISS MEDICAL S.A.</td>\n",
       "      <td>009da261083f00e160b4efa09761d9fa</td>\n",
       "      <td>CIRUGÍA PLÁSTICA INF</td>\n",
       "      <td>2019-01-01 12:44:00</td>\n",
       "      <td>Atendido</td>\n",
       "      <td>b5979d35af8b90e295ab21b6f0aed90b</td>\n",
       "      <td>F</td>\n",
       "      <td>9</td>\n",
       "      <td>Prestaciones multiples</td>\n",
       "      <td>NaN</td>\n",
       "      <td>SI</td>\n",
       "      <td>Primera Vez</td>\n",
       "    </tr>\n",
       "    <tr>\n",
       "      <th>10</th>\n",
       "      <td>2</td>\n",
       "      <td>CONSUMIDOR FINAL</td>\n",
       "      <td>6c4c6137afc7a8ca68efaad08c5e7e0b</td>\n",
       "      <td>OFTALMOLOGÍA</td>\n",
       "      <td>2019-01-02 07:29:00</td>\n",
       "      <td>Atendido</td>\n",
       "      <td>4321a35c481726c3708bc9cd8cf6d13f</td>\n",
       "      <td>F</td>\n",
       "      <td>64</td>\n",
       "      <td>CONSULTA MEDICA</td>\n",
       "      <td>NaN</td>\n",
       "      <td>SI</td>\n",
       "      <td>Ulterior / Control</td>\n",
       "    </tr>\n",
       "    <tr>\n",
       "      <th>...</th>\n",
       "      <td>...</td>\n",
       "      <td>...</td>\n",
       "      <td>...</td>\n",
       "      <td>...</td>\n",
       "      <td>...</td>\n",
       "      <td>...</td>\n",
       "      <td>...</td>\n",
       "      <td>...</td>\n",
       "      <td>...</td>\n",
       "      <td>...</td>\n",
       "      <td>...</td>\n",
       "      <td>...</td>\n",
       "      <td>...</td>\n",
       "    </tr>\n",
       "    <tr>\n",
       "      <th>1194008</th>\n",
       "      <td>1</td>\n",
       "      <td>MEDIFE ASOCIACIÓN CIVIL</td>\n",
       "      <td>a2073c1d145a1b5fd133f927fbbd7913</td>\n",
       "      <td>RADIOGRAFIA</td>\n",
       "      <td>2019-12-30 23:30:00</td>\n",
       "      <td>Atendido</td>\n",
       "      <td>ccbc17f84dfea8b5aef3942dd229c8a3</td>\n",
       "      <td>M</td>\n",
       "      <td>38</td>\n",
       "      <td>Prestaciones multiples</td>\n",
       "      <td>NaN</td>\n",
       "      <td>SI</td>\n",
       "      <td>Práctica</td>\n",
       "    </tr>\n",
       "    <tr>\n",
       "      <th>1194010</th>\n",
       "      <td>1</td>\n",
       "      <td>OSDE</td>\n",
       "      <td>cba3f4d0f0775d3211c12cbca0ab3781</td>\n",
       "      <td>ECOGRAFIA</td>\n",
       "      <td>2019-12-31 09:24:00</td>\n",
       "      <td>Atendido</td>\n",
       "      <td>15a7d517fa140ac76f9a7a79de343d81</td>\n",
       "      <td>M</td>\n",
       "      <td>44</td>\n",
       "      <td>ECOGRAFIA COMPLETA DE ABDOMEN</td>\n",
       "      <td>NaN</td>\n",
       "      <td>SI</td>\n",
       "      <td>Práctica</td>\n",
       "    </tr>\n",
       "    <tr>\n",
       "      <th>1194011</th>\n",
       "      <td>1</td>\n",
       "      <td>OMINT S. A. DE SERVICIOS</td>\n",
       "      <td>cba3f4d0f0775d3211c12cbca0ab3781</td>\n",
       "      <td>ECOGRAFIA</td>\n",
       "      <td>2019-12-31 09:27:00</td>\n",
       "      <td>Atendido</td>\n",
       "      <td>2bd3a6fd81b29758aa12a13d210e6fdc</td>\n",
       "      <td>M</td>\n",
       "      <td>53</td>\n",
       "      <td>ECOGRAFIA DE PARTES BLANDAS</td>\n",
       "      <td>NaN</td>\n",
       "      <td>SI</td>\n",
       "      <td>Práctica</td>\n",
       "    </tr>\n",
       "    <tr>\n",
       "      <th>1194012</th>\n",
       "      <td>1</td>\n",
       "      <td>SANCOR</td>\n",
       "      <td>cba3f4d0f0775d3211c12cbca0ab3781</td>\n",
       "      <td>ECOGRAFIA</td>\n",
       "      <td>2019-12-31 11:29:00</td>\n",
       "      <td>Atendido</td>\n",
       "      <td>d72ffdcc0121edd182da6a32578e4bb1</td>\n",
       "      <td>F</td>\n",
       "      <td>28</td>\n",
       "      <td>ECOGRAFIA TRANSVAGINAL</td>\n",
       "      <td>NaN</td>\n",
       "      <td>SI</td>\n",
       "      <td>Práctica</td>\n",
       "    </tr>\n",
       "    <tr>\n",
       "      <th>1194013</th>\n",
       "      <td>1</td>\n",
       "      <td>MEDIFE ASOCIACIÓN CIVIL</td>\n",
       "      <td>a2073c1d145a1b5fd133f927fbbd7913</td>\n",
       "      <td>RADIOGRAFIA</td>\n",
       "      <td>2019-12-31 14:23:00</td>\n",
       "      <td>Atendido</td>\n",
       "      <td>71f43803027051f252e553746b44820b</td>\n",
       "      <td>M</td>\n",
       "      <td>2</td>\n",
       "      <td>Prestaciones multiples</td>\n",
       "      <td>NaN</td>\n",
       "      <td>SI</td>\n",
       "      <td>Práctica</td>\n",
       "    </tr>\n",
       "  </tbody>\n",
       "</table>\n",
       "<p>680658 rows × 13 columns</p>\n",
       "</div>"
      ],
      "text/plain": [
       "Campo    CentroDeAtencion                 Prestador  \\\n",
       "0                       1     GALENO ARGENTINA SA     \n",
       "1                       1  OMINT S. A. DE SERVICIOS   \n",
       "2                       1  OMINT S. A. DE SERVICIOS   \n",
       "3                       1        SWISS MEDICAL S.A.   \n",
       "10                      2          CONSUMIDOR FINAL   \n",
       "...                   ...                       ...   \n",
       "1194008                 1   MEDIFE ASOCIACIÓN CIVIL   \n",
       "1194010                 1                     OSDE    \n",
       "1194011                 1  OMINT S. A. DE SERVICIOS   \n",
       "1194012                 1                   SANCOR    \n",
       "1194013                 1   MEDIFE ASOCIACIÓN CIVIL   \n",
       "\n",
       "Campo                             Recurso              Servicio  \\\n",
       "0        009da261083f00e160b4efa09761d9fa  CIRUGÍA PLÁSTICA INF   \n",
       "1        009da261083f00e160b4efa09761d9fa  CIRUGÍA PLÁSTICA INF   \n",
       "2        009da261083f00e160b4efa09761d9fa  CIRUGÍA PLÁSTICA INF   \n",
       "3        009da261083f00e160b4efa09761d9fa  CIRUGÍA PLÁSTICA INF   \n",
       "10       6c4c6137afc7a8ca68efaad08c5e7e0b          OFTALMOLOGÍA   \n",
       "...                                   ...                   ...   \n",
       "1194008  a2073c1d145a1b5fd133f927fbbd7913           RADIOGRAFIA   \n",
       "1194010  cba3f4d0f0775d3211c12cbca0ab3781             ECOGRAFIA   \n",
       "1194011  cba3f4d0f0775d3211c12cbca0ab3781             ECOGRAFIA   \n",
       "1194012  cba3f4d0f0775d3211c12cbca0ab3781             ECOGRAFIA   \n",
       "1194013  a2073c1d145a1b5fd133f927fbbd7913           RADIOGRAFIA   \n",
       "\n",
       "Campo         FechaDelTurno EstadoDelTurno                          Paciente  \\\n",
       "0       2019-01-01 11:30:00       Atendido  56d3024136fe26d28d1d981a95772919   \n",
       "1       2019-01-01 11:33:00       Atendido  72964a1348c696e9440fc8946bfb7af4   \n",
       "2       2019-01-01 11:36:00       Atendido  b495739eba3587f3f75062c9eb2aff06   \n",
       "3       2019-01-01 12:44:00       Atendido  b5979d35af8b90e295ab21b6f0aed90b   \n",
       "10      2019-01-02 07:29:00       Atendido  4321a35c481726c3708bc9cd8cf6d13f   \n",
       "...                     ...            ...                               ...   \n",
       "1194008 2019-12-30 23:30:00       Atendido  ccbc17f84dfea8b5aef3942dd229c8a3   \n",
       "1194010 2019-12-31 09:24:00       Atendido  15a7d517fa140ac76f9a7a79de343d81   \n",
       "1194011 2019-12-31 09:27:00       Atendido  2bd3a6fd81b29758aa12a13d210e6fdc   \n",
       "1194012 2019-12-31 11:29:00       Atendido  d72ffdcc0121edd182da6a32578e4bb1   \n",
       "1194013 2019-12-31 14:23:00       Atendido  71f43803027051f252e553746b44820b   \n",
       "\n",
       "Campo   Sexo  Edad             PrestacionAsignada NombreDelCanal EsSobreTurno  \\\n",
       "0          M     3         Prestaciones multiples            NaN           SI   \n",
       "1          M     9         Prestaciones multiples            NaN           SI   \n",
       "2          F    53         Prestaciones multiples            NaN           SI   \n",
       "3          F     9         Prestaciones multiples            NaN           SI   \n",
       "10         F    64                CONSULTA MEDICA            NaN           SI   \n",
       "...      ...   ...                            ...            ...          ...   \n",
       "1194008    M    38         Prestaciones multiples            NaN           SI   \n",
       "1194010    M    44  ECOGRAFIA COMPLETA DE ABDOMEN            NaN           SI   \n",
       "1194011    M    53    ECOGRAFIA DE PARTES BLANDAS            NaN           SI   \n",
       "1194012    F    28         ECOGRAFIA TRANSVAGINAL            NaN           SI   \n",
       "1194013    M     2         Prestaciones multiples            NaN           SI   \n",
       "\n",
       "Campo   TipoDeTurnoAsignado  \n",
       "0               Primera Vez  \n",
       "1               Primera Vez  \n",
       "2               Primera Vez  \n",
       "3               Primera Vez  \n",
       "10       Ulterior / Control  \n",
       "...                     ...  \n",
       "1194008            Práctica  \n",
       "1194010            Práctica  \n",
       "1194011            Práctica  \n",
       "1194012            Práctica  \n",
       "1194013            Práctica  \n",
       "\n",
       "[680658 rows x 13 columns]"
      ]
     },
     "execution_count": 67,
     "metadata": {},
     "output_type": "execute_result"
    }
   ],
   "source": [
    "df_no_ausentes = df.EstadoDelTurno == 'Atendido' \n",
    "df_turnos_no_ausen = df[df_no_ausentes]\n",
    "df_turnos_no_ausent = df_turnos_no_ausen.Sexo != 'I'\n",
    "df_turnos_no_ausent\n",
    "df_turnos_no_ausentes = df_turnos_no_ausen[df_turnos_no_ausent]\n",
    "df_turnos_no_ausentes"
   ]
  },
  {
   "cell_type": "markdown",
   "metadata": {},
   "source": [
    "# Odds Ratio"
   ]
  },
  {
   "cell_type": "code",
   "execution_count": 68,
   "metadata": {},
   "outputs": [],
   "source": [
    "import scipy.stats as stats"
   ]
  },
  {
   "cell_type": "code",
   "execution_count": 69,
   "metadata": {},
   "outputs": [
    {
     "data": {
      "text/html": [
       "<div>\n",
       "<style scoped>\n",
       "    .dataframe tbody tr th:only-of-type {\n",
       "        vertical-align: middle;\n",
       "    }\n",
       "\n",
       "    .dataframe tbody tr th {\n",
       "        vertical-align: top;\n",
       "    }\n",
       "\n",
       "    .dataframe thead th {\n",
       "        text-align: right;\n",
       "    }\n",
       "</style>\n",
       "<table border=\"1\" class=\"dataframe\">\n",
       "  <thead>\n",
       "    <tr style=\"text-align: right;\">\n",
       "      <th>Sexo</th>\n",
       "      <th></th>\n",
       "      <th>F</th>\n",
       "      <th>I</th>\n",
       "      <th>M</th>\n",
       "    </tr>\n",
       "    <tr>\n",
       "      <th>EstadoDelTurno</th>\n",
       "      <th></th>\n",
       "      <th></th>\n",
       "      <th></th>\n",
       "      <th></th>\n",
       "    </tr>\n",
       "  </thead>\n",
       "  <tbody>\n",
       "    <tr>\n",
       "      <th>Anulado</th>\n",
       "      <td>188</td>\n",
       "      <td>139082</td>\n",
       "      <td>331</td>\n",
       "      <td>86686</td>\n",
       "    </tr>\n",
       "    <tr>\n",
       "      <th>Atendido</th>\n",
       "      <td>0</td>\n",
       "      <td>402283</td>\n",
       "      <td>763</td>\n",
       "      <td>278375</td>\n",
       "    </tr>\n",
       "    <tr>\n",
       "      <th>Ausente</th>\n",
       "      <td>0</td>\n",
       "      <td>71932</td>\n",
       "      <td>233</td>\n",
       "      <td>41485</td>\n",
       "    </tr>\n",
       "    <tr>\n",
       "      <th>Libre</th>\n",
       "      <td>172649</td>\n",
       "      <td>5</td>\n",
       "      <td>0</td>\n",
       "      <td>2</td>\n",
       "    </tr>\n",
       "  </tbody>\n",
       "</table>\n",
       "</div>"
      ],
      "text/plain": [
       "Sexo                         F    I       M\n",
       "EstadoDelTurno                             \n",
       "Anulado            188  139082  331   86686\n",
       "Atendido             0  402283  763  278375\n",
       "Ausente              0   71932  233   41485\n",
       "Libre           172649       5    0       2"
      ]
     },
     "execution_count": 69,
     "metadata": {},
     "output_type": "execute_result"
    }
   ],
   "source": [
    "tabla_cruzada_s = pd.crosstab(df.EstadoDelTurno, df[\"Sexo\"])\n",
    "tabla_cruzada_s"
   ]
  },
  {
   "cell_type": "code",
   "execution_count": 70,
   "metadata": {},
   "outputs": [
    {
     "data": {
      "text/html": [
       "<div>\n",
       "<style scoped>\n",
       "    .dataframe tbody tr th:only-of-type {\n",
       "        vertical-align: middle;\n",
       "    }\n",
       "\n",
       "    .dataframe tbody tr th {\n",
       "        vertical-align: top;\n",
       "    }\n",
       "\n",
       "    .dataframe thead th {\n",
       "        text-align: right;\n",
       "    }\n",
       "</style>\n",
       "<table border=\"1\" class=\"dataframe\">\n",
       "  <thead>\n",
       "    <tr style=\"text-align: right;\">\n",
       "      <th>Sexo</th>\n",
       "      <th></th>\n",
       "      <th>F</th>\n",
       "      <th>M</th>\n",
       "    </tr>\n",
       "    <tr>\n",
       "      <th>EstadoDelTurno</th>\n",
       "      <th></th>\n",
       "      <th></th>\n",
       "      <th></th>\n",
       "    </tr>\n",
       "  </thead>\n",
       "  <tbody>\n",
       "    <tr>\n",
       "      <th>Anulado</th>\n",
       "      <td>188</td>\n",
       "      <td>139082</td>\n",
       "      <td>86686</td>\n",
       "    </tr>\n",
       "    <tr>\n",
       "      <th>Atendido</th>\n",
       "      <td>0</td>\n",
       "      <td>402283</td>\n",
       "      <td>278375</td>\n",
       "    </tr>\n",
       "    <tr>\n",
       "      <th>Ausente</th>\n",
       "      <td>0</td>\n",
       "      <td>71932</td>\n",
       "      <td>41485</td>\n",
       "    </tr>\n",
       "    <tr>\n",
       "      <th>Libre</th>\n",
       "      <td>172649</td>\n",
       "      <td>5</td>\n",
       "      <td>2</td>\n",
       "    </tr>\n",
       "  </tbody>\n",
       "</table>\n",
       "</div>"
      ],
      "text/plain": [
       "Sexo                         F       M\n",
       "EstadoDelTurno                        \n",
       "Anulado            188  139082   86686\n",
       "Atendido             0  402283  278375\n",
       "Ausente              0   71932   41485\n",
       "Libre           172649       5       2"
      ]
     },
     "execution_count": 70,
     "metadata": {},
     "output_type": "execute_result"
    }
   ],
   "source": [
    "del tabla_cruzada_s ['I']\n",
    "tabla_cruzada_s"
   ]
  },
  {
   "cell_type": "code",
   "execution_count": 71,
   "metadata": {},
   "outputs": [
    {
     "data": {
      "text/html": [
       "<div>\n",
       "<style scoped>\n",
       "    .dataframe tbody tr th:only-of-type {\n",
       "        vertical-align: middle;\n",
       "    }\n",
       "\n",
       "    .dataframe tbody tr th {\n",
       "        vertical-align: top;\n",
       "    }\n",
       "\n",
       "    .dataframe thead th {\n",
       "        text-align: right;\n",
       "    }\n",
       "</style>\n",
       "<table border=\"1\" class=\"dataframe\">\n",
       "  <thead>\n",
       "    <tr style=\"text-align: right;\">\n",
       "      <th>Sexo</th>\n",
       "      <th>F</th>\n",
       "      <th>M</th>\n",
       "    </tr>\n",
       "    <tr>\n",
       "      <th>EstadoDelTurno</th>\n",
       "      <th></th>\n",
       "      <th></th>\n",
       "    </tr>\n",
       "  </thead>\n",
       "  <tbody>\n",
       "    <tr>\n",
       "      <th>Anulado</th>\n",
       "      <td>139082</td>\n",
       "      <td>86686</td>\n",
       "    </tr>\n",
       "    <tr>\n",
       "      <th>Atendido</th>\n",
       "      <td>402283</td>\n",
       "      <td>278375</td>\n",
       "    </tr>\n",
       "    <tr>\n",
       "      <th>Ausente</th>\n",
       "      <td>71932</td>\n",
       "      <td>41485</td>\n",
       "    </tr>\n",
       "    <tr>\n",
       "      <th>Libre</th>\n",
       "      <td>5</td>\n",
       "      <td>2</td>\n",
       "    </tr>\n",
       "  </tbody>\n",
       "</table>\n",
       "</div>"
      ],
      "text/plain": [
       "Sexo                 F       M\n",
       "EstadoDelTurno                \n",
       "Anulado         139082   86686\n",
       "Atendido        402283  278375\n",
       "Ausente          71932   41485\n",
       "Libre                5       2"
      ]
     },
     "execution_count": 71,
     "metadata": {},
     "output_type": "execute_result"
    }
   ],
   "source": [
    "del tabla_cruzada_s [' ']\n",
    "tabla_cruzada_s"
   ]
  },
  {
   "cell_type": "markdown",
   "metadata": {},
   "source": [
    "# Tomamos solamente los valores Femenino y Masculino para la variable sexo"
   ]
  },
  {
   "cell_type": "code",
   "execution_count": 72,
   "metadata": {},
   "outputs": [
    {
     "name": "stdout",
     "output_type": "stream",
     "text": [
      "71932 41718 402283 278375\n",
      "OR = 1.1932 , pvalue = 0.00000\n"
     ]
    }
   ],
   "source": [
    "aa=(df_ausentes & (df_turnos_ausentes.Sexo == 'F')).sum()\n",
    "ab=df_turnos_ausentes.Sexo.count() - aa\n",
    "ba =(df_no_ausentes & (df_turnos_no_ausentes.Sexo =='F')).sum()\n",
    "bb = df_turnos_no_ausentes.Sexo.count() - ba\n",
    "print (aa,ab,ba,bb)\n",
    "or_mujer, pvalue_mujer = stats.fisher_exact([[aa , ab] , [ba, bb]])\n",
    "print ('OR = %.4f , pvalue = %.5f' %stats.fisher_exact([[aa , ab] , [ba, bb]]))"
   ]
  },
  {
   "cell_type": "code",
   "execution_count": 73,
   "metadata": {},
   "outputs": [
    {
     "name": "stdout",
     "output_type": "stream",
     "text": [
      "41485 72165 278375 402283\n",
      "OR = 0.8307 , pvalue = 0.00000\n"
     ]
    }
   ],
   "source": [
    "aa=(df_ausentes & (df_turnos_ausentes.Sexo == 'M')).sum()\n",
    "ab=df_turnos_ausentes.Sexo.count() - aa\n",
    "ba =(df_no_ausentes & (df_turnos_no_ausentes.Sexo =='M')).sum()\n",
    "bb = df_turnos_no_ausentes.Sexo.count() - ba\n",
    "print (aa,ab,ba,bb)\n",
    "or_hombre ,pvalue_hombre = stats.fisher_exact([[aa , ab] , [ba, bb]])\n",
    "print ('OR = %.4f , pvalue = %.5f' %stats.fisher_exact([[aa , ab] , [ba, bb]]))"
   ]
  },
  {
   "cell_type": "markdown",
   "metadata": {},
   "source": [
    "# Graficamos el heatmap para ver la relacion entre la variable sexo y la variable Estado del turno"
   ]
  },
  {
   "cell_type": "code",
   "execution_count": 74,
   "metadata": {},
   "outputs": [
    {
     "data": {
      "text/plain": [
       "<matplotlib.axes._subplots.AxesSubplot at 0xcbed848>"
      ]
     },
     "execution_count": 74,
     "metadata": {},
     "output_type": "execute_result"
    },
    {
     "data": {
      "image/png": "[encoded data removed]",
      "text/plain": [
       "<Figure size 432x288 with 2 Axes>"
      ]
     },
     "metadata": {
      "needs_background": "light"
     },
     "output_type": "display_data"
    }
   ],
   "source": [
    "import seaborn\n",
    "seaborn.heatmap(tabla_cruzada_s, annot = True, fmt ='g', cmap = 'Blues')"
   ]
  },
  {
   "cell_type": "markdown",
   "metadata": {},
   "source": [
    "# Calculamos el odd ratio usando la libreria zepid"
   ]
  },
  {
   "cell_type": "code",
   "execution_count": 75,
   "metadata": {},
   "outputs": [
    {
     "name": "stdout",
     "output_type": "stream",
     "text": [
      "Odd ratio 1.2386492535459266\n",
      "valor mínimo  1.2226548211299904\n",
      "valor maximo  1.2548529207057062\n",
      "error 0.0066311916608397135\n",
      "alpha 0.05\n"
     ]
    }
   ],
   "source": [
    "import zepid\n",
    "# from zepid import odds_ratio\n",
    "odr = zepid.calc.utils.odds_ratio(71932, 41485, 402283, 287375, alpha=0.05)\n",
    "estimado = odr.point_estimate\n",
    "minimo = odr.lower_bound\n",
    "maximo = odr.upper_bound\n",
    "error =odr.standard_error\n",
    "alpha = odr.alpha\n",
    "print ('Odd ratio' , estimado)\n",
    "print ('valor mínimo ', minimo)\n",
    "print ('valor maximo ',maximo)\n",
    "print ('error' , error)\n",
    "print ('alpha' , alpha)"
   ]
  },
  {
   "cell_type": "markdown",
   "metadata": {},
   "source": [
    "# Calculamos el odd ratio usando el método fisher exact "
   ]
  },
  {
   "cell_type": "code",
   "execution_count": 76,
   "metadata": {},
   "outputs": [
    {
     "name": "stdout",
     "output_type": "stream",
     "text": [
      "oddsratio 1.2386492535459266\n",
      "pvalue 0.000000\n"
     ]
    }
   ],
   "source": [
    "oddsratio, pvalue = stats.fisher_exact([[71932, 41485], [402283, 287375]])\n",
    "print ('oddsratio' , oddsratio)\n",
    "print ('pvalue %5f' % pvalue)"
   ]
  },
  {
   "cell_type": "markdown",
   "metadata": {},
   "source": [
    "# Tambien lo calculamos usando el método wald"
   ]
  },
  {
   "cell_type": "code",
   "execution_count": 77,
   "metadata": {},
   "outputs": [
    {
     "name": "stdout",
     "output_type": "stream",
     "text": [
      "(0.6393148180664407, 0.7146722312152641)\n"
     ]
    }
   ],
   "source": [
    "from scipy.stats import wald\n",
    "resultado=wald.stats(tabla_cruzada_s)\n",
    "intervalo= wald.interval(0.05,loc=0, scale=1)\n",
    "# print(resultado)\n",
    "print (intervalo)"
   ]
  },
  {
   "cell_type": "markdown",
   "metadata": {},
   "source": [
    "El valor del oddsratio 1.23 significa que es 1.23 veces de que las variables esten relacionadas con ser mujer u hombre"
   ]
  },
  {
   "cell_type": "code",
   "execution_count": 78,
   "metadata": {},
   "outputs": [
    {
     "name": "stdout",
     "output_type": "stream",
     "text": [
      "47516 66134 301007 379651\n",
      "OR = 0.9062 , pvalue = 0.00000\n"
     ]
    }
   ],
   "source": [
    "aa=(df_ausentes & (df_turnos_ausentes.CentroDeAtencion == 1)).sum()\n",
    "ab=df_turnos_ausentes.CentroDeAtencion.count() - aa\n",
    "ba =(df_no_ausentes & (df_turnos_no_ausentes.CentroDeAtencion ==1)).sum()\n",
    "bb = df_turnos_no_ausentes.CentroDeAtencion.count() - ba\n",
    "print (aa,ab,ba,bb)\n",
    "or_c1, pvalue_c1 = stats.fisher_exact([[aa , ab] , [ba, bb]])\n",
    "print ('OR = %.4f , pvalue = %.5f' %stats.fisher_exact([[aa , ab] , [ba, bb]]))"
   ]
  },
  {
   "cell_type": "code",
   "execution_count": 79,
   "metadata": {},
   "outputs": [
    {
     "name": "stdout",
     "output_type": "stream",
     "text": [
      "37043 76607 196238 484420\n",
      "OR = 1.1936 , pvalue = 0.00000\n"
     ]
    }
   ],
   "source": [
    "aa=(df_ausentes & (df_turnos_ausentes.CentroDeAtencion == 2)).sum()\n",
    "ab=df_turnos_ausentes.CentroDeAtencion.count() - aa\n",
    "ba =(df_no_ausentes & (df_turnos_no_ausentes.CentroDeAtencion ==2)).sum()\n",
    "bb = df_turnos_no_ausentes.CentroDeAtencion.count() - ba\n",
    "print (aa,ab,ba,bb)\n",
    "or_c2, pvalue_c2 = stats.fisher_exact([[aa , ab] , [ba, bb]])\n",
    "print ('OR = %.4f , pvalue = %.5f' %stats.fisher_exact([[aa , ab] , [ba, bb]]))"
   ]
  },
  {
   "cell_type": "code",
   "execution_count": 80,
   "metadata": {},
   "outputs": [
    {
     "name": "stdout",
     "output_type": "stream",
     "text": [
      "16367 97283 72901 607757\n",
      "OR = 1.4026 , pvalue = 0.00000\n"
     ]
    }
   ],
   "source": [
    "aa=(df_ausentes & (df_turnos_ausentes.CentroDeAtencion == 3)).sum()\n",
    "ab=df_turnos_ausentes.CentroDeAtencion.count() - aa\n",
    "ba =(df_no_ausentes & (df_turnos_no_ausentes.CentroDeAtencion ==3)).sum()\n",
    "bb = df_turnos_no_ausentes.CentroDeAtencion.count() - ba\n",
    "print (aa,ab,ba,bb)\n",
    "or_c3, pvalue_c3 = stats.fisher_exact([[aa , ab] , [ba, bb]])\n",
    "print ('OR = %.4f , pvalue = %.5f' %stats.fisher_exact([[aa , ab] , [ba, bb]]))"
   ]
  },
  {
   "cell_type": "code",
   "execution_count": 81,
   "metadata": {},
   "outputs": [
    {
     "name": "stdout",
     "output_type": "stream",
     "text": [
      "12724 100926 110512 570146\n",
      "OR = 0.6504 , pvalue = 0.00000\n"
     ]
    }
   ],
   "source": [
    "aa=(df_ausentes & (df_turnos_ausentes.CentroDeAtencion == 4)).sum()\n",
    "ab=df_turnos_ausentes.CentroDeAtencion.count() - aa\n",
    "ba =(df_no_ausentes & (df_turnos_no_ausentes.CentroDeAtencion ==4)).sum()\n",
    "bb = df_turnos_no_ausentes.CentroDeAtencion.count() - ba\n",
    "print (aa,ab,ba,bb)\n",
    "or_c4, pvalue_c4 = stats.fisher_exact([[aa , ab] , [ba, bb]])\n",
    "print ('OR = %.4f , pvalue = %.5f' %stats.fisher_exact([[aa , ab] , [ba, bb]]))"
   ]
  },
  {
   "cell_type": "markdown",
   "metadata": {},
   "source": [
    "# Calculamos la tabla cruzada entre el estado del turno y el centro de atención"
   ]
  },
  {
   "cell_type": "code",
   "execution_count": 82,
   "metadata": {},
   "outputs": [
    {
     "data": {
      "text/html": [
       "<div>\n",
       "<style scoped>\n",
       "    .dataframe tbody tr th:only-of-type {\n",
       "        vertical-align: middle;\n",
       "    }\n",
       "\n",
       "    .dataframe tbody tr th {\n",
       "        vertical-align: top;\n",
       "    }\n",
       "\n",
       "    .dataframe thead th {\n",
       "        text-align: right;\n",
       "    }\n",
       "</style>\n",
       "<table border=\"1\" class=\"dataframe\">\n",
       "  <thead>\n",
       "    <tr style=\"text-align: right;\">\n",
       "      <th>CentroDeAtencion</th>\n",
       "      <th>1</th>\n",
       "      <th>2</th>\n",
       "      <th>3</th>\n",
       "      <th>4</th>\n",
       "    </tr>\n",
       "    <tr>\n",
       "      <th>EstadoDelTurno</th>\n",
       "      <th></th>\n",
       "      <th></th>\n",
       "      <th></th>\n",
       "      <th></th>\n",
       "    </tr>\n",
       "  </thead>\n",
       "  <tbody>\n",
       "    <tr>\n",
       "      <th>Anulado</th>\n",
       "      <td>76730</td>\n",
       "      <td>56095</td>\n",
       "      <td>23284</td>\n",
       "      <td>70178</td>\n",
       "    </tr>\n",
       "    <tr>\n",
       "      <th>Atendido</th>\n",
       "      <td>301259</td>\n",
       "      <td>196395</td>\n",
       "      <td>73060</td>\n",
       "      <td>110707</td>\n",
       "    </tr>\n",
       "    <tr>\n",
       "      <th>Ausente</th>\n",
       "      <td>47516</td>\n",
       "      <td>37043</td>\n",
       "      <td>16367</td>\n",
       "      <td>12724</td>\n",
       "    </tr>\n",
       "    <tr>\n",
       "      <th>Libre</th>\n",
       "      <td>84588</td>\n",
       "      <td>40873</td>\n",
       "      <td>26402</td>\n",
       "      <td>20793</td>\n",
       "    </tr>\n",
       "  </tbody>\n",
       "</table>\n",
       "</div>"
      ],
      "text/plain": [
       "CentroDeAtencion       1       2      3       4\n",
       "EstadoDelTurno                                 \n",
       "Anulado            76730   56095  23284   70178\n",
       "Atendido          301259  196395  73060  110707\n",
       "Ausente            47516   37043  16367   12724\n",
       "Libre              84588   40873  26402   20793"
      ]
     },
     "execution_count": 82,
     "metadata": {},
     "output_type": "execute_result"
    }
   ],
   "source": [
    "tabla_cruzada_c = pd.crosstab(df.EstadoDelTurno, df[\"CentroDeAtencion\"])\n",
    "tabla_cruzada_c"
   ]
  },
  {
   "cell_type": "markdown",
   "metadata": {},
   "source": [
    "# Graficamos el heatmap para ver la relacion entre la variable Centro de atención  y la variable Estado del turno"
   ]
  },
  {
   "cell_type": "code",
   "execution_count": 83,
   "metadata": {},
   "outputs": [
    {
     "data": {
      "text/plain": [
       "<matplotlib.axes._subplots.AxesSubplot at 0xc842c08>"
      ]
     },
     "execution_count": 83,
     "metadata": {},
     "output_type": "execute_result"
    },
    {
     "data": {
      "image/png": "[encoded data removed]",
      "text/plain": [
       "<Figure size 432x288 with 2 Axes>"
      ]
     },
     "metadata": {
      "needs_background": "light"
     },
     "output_type": "display_data"
    }
   ],
   "source": [
    "seaborn.heatmap(tabla_cruzada_c, annot = True, fmt ='g', cmap = 'Blues')"
   ]
  },
  {
   "cell_type": "markdown",
   "metadata": {},
   "source": [
    "# También usamos el método de Chi cuadrado para el cálculo de la relación entre el centro de atención y el estado del turno"
   ]
  },
  {
   "cell_type": "code",
   "execution_count": 84,
   "metadata": {},
   "outputs": [
    {
     "name": "stdout",
     "output_type": "stream",
     "text": [
      "\n",
      "Tabla de Contingencia\n",
      "====================================\n",
      "chi2: 41491.20186583334\n",
      "p-value= 0.00000\n",
      "df =  9\n",
      "Valor Crítico:  16.918977604620448\n"
     ]
    }
   ],
   "source": [
    "chi2_result,p_value,df_value,table_expected=stats.chi2_contingency(tabla_cruzada_c)\n",
    "confidence_level = 0.95\n",
    "crit_value = stats.chi2.ppf(q = confidence_level, df=df_value)\n",
    "print()\n",
    "print ('Tabla de Contingencia')\n",
    "print ('====================================')\n",
    "print ('chi2:', chi2_result)\n",
    "print ('p-value= %.5f'% p_value)\n",
    "print ('df = ', df_value)\n",
    "print('Valor Crítico: ',crit_value)"
   ]
  },
  {
   "cell_type": "markdown",
   "metadata": {},
   "source": [
    "# Calculamos la tabla cruzada entre el estado del turno y el tipo de turno asignado"
   ]
  },
  {
   "cell_type": "code",
   "execution_count": 85,
   "metadata": {},
   "outputs": [
    {
     "data": {
      "text/html": [
       "<div>\n",
       "<style scoped>\n",
       "    .dataframe tbody tr th:only-of-type {\n",
       "        vertical-align: middle;\n",
       "    }\n",
       "\n",
       "    .dataframe tbody tr th {\n",
       "        vertical-align: top;\n",
       "    }\n",
       "\n",
       "    .dataframe thead th {\n",
       "        text-align: right;\n",
       "    }\n",
       "</style>\n",
       "<table border=\"1\" class=\"dataframe\">\n",
       "  <thead>\n",
       "    <tr style=\"text-align: right;\">\n",
       "      <th>TipoDeTurnoAsignado</th>\n",
       "      <th>DNP</th>\n",
       "      <th>Primera Vez</th>\n",
       "      <th>Práctica</th>\n",
       "      <th>Recetas</th>\n",
       "      <th>Ulterior / Control</th>\n",
       "    </tr>\n",
       "    <tr>\n",
       "      <th>EstadoDelTurno</th>\n",
       "      <th></th>\n",
       "      <th></th>\n",
       "      <th></th>\n",
       "      <th></th>\n",
       "      <th></th>\n",
       "    </tr>\n",
       "  </thead>\n",
       "  <tbody>\n",
       "    <tr>\n",
       "      <th>Anulado</th>\n",
       "      <td>286</td>\n",
       "      <td>50266</td>\n",
       "      <td>100969</td>\n",
       "      <td>633</td>\n",
       "      <td>73939</td>\n",
       "    </tr>\n",
       "    <tr>\n",
       "      <th>Atendido</th>\n",
       "      <td>1919</td>\n",
       "      <td>176643</td>\n",
       "      <td>231117</td>\n",
       "      <td>11101</td>\n",
       "      <td>260641</td>\n",
       "    </tr>\n",
       "    <tr>\n",
       "      <th>Ausente</th>\n",
       "      <td>253</td>\n",
       "      <td>39656</td>\n",
       "      <td>33065</td>\n",
       "      <td>217</td>\n",
       "      <td>40459</td>\n",
       "    </tr>\n",
       "    <tr>\n",
       "      <th>Libre</th>\n",
       "      <td>0</td>\n",
       "      <td>0</td>\n",
       "      <td>7</td>\n",
       "      <td>0</td>\n",
       "      <td>0</td>\n",
       "    </tr>\n",
       "  </tbody>\n",
       "</table>\n",
       "</div>"
      ],
      "text/plain": [
       "TipoDeTurnoAsignado   DNP  Primera Vez  Práctica  Recetas  Ulterior / Control\n",
       "EstadoDelTurno                                                               \n",
       "Anulado               286        50266    100969      633               73939\n",
       "Atendido             1919       176643    231117    11101              260641\n",
       "Ausente               253        39656     33065      217               40459\n",
       "Libre                   0            0         7        0                   0"
      ]
     },
     "execution_count": 85,
     "metadata": {},
     "output_type": "execute_result"
    }
   ],
   "source": [
    "tabla_cruzada_tt = pd.crosstab(df.EstadoDelTurno, df[\"TipoDeTurnoAsignado\"])\n",
    "tabla_cruzada_tt"
   ]
  },
  {
   "cell_type": "code",
   "execution_count": 86,
   "metadata": {},
   "outputs": [
    {
     "name": "stdout",
     "output_type": "stream",
     "text": [
      "33065 80585 230808 449850\n",
      "OR = 0.7997 , pvalue = 0.00000\n"
     ]
    }
   ],
   "source": [
    "aa=(df_ausentes & (df_turnos_ausentes.TipoDeTurnoAsignado == 'Práctica')).sum()\n",
    "ab=df_turnos_ausentes.TipoDeTurnoAsignado.count() - aa\n",
    "ba =(df_no_ausentes & (df_turnos_no_ausentes.TipoDeTurnoAsignado == 'Práctica')).sum()\n",
    "bb = df_turnos_no_ausentes.TipoDeTurnoAsignado.count() - ba\n",
    "print (aa,ab,ba,bb)\n",
    "or_pra, pvalue_pra = stats.fisher_exact([[aa , ab] , [ba, bb]])\n",
    "print ('OR = %.4f , pvalue = %.5f' %stats.fisher_exact([[aa , ab] , [ba, bb]]))"
   ]
  },
  {
   "cell_type": "code",
   "execution_count": 87,
   "metadata": {},
   "outputs": [
    {
     "name": "stdout",
     "output_type": "stream",
     "text": [
      "253 113397 1918 678740\n",
      "OR = 0.7895 , pvalue = 0.00033\n"
     ]
    }
   ],
   "source": [
    "aa=(df_ausentes & (df_turnos_ausentes.TipoDeTurnoAsignado == 'DNP')).sum()\n",
    "ab=df_turnos_ausentes.TipoDeTurnoAsignado.count() - aa\n",
    "ba =(df_no_ausentes & (df_turnos_no_ausentes.TipoDeTurnoAsignado == 'DNP')).sum()\n",
    "bb = df_turnos_no_ausentes.TipoDeTurnoAsignado.count() - ba\n",
    "print (aa,ab,ba,bb)\n",
    "or_DNP, pvalue_DNP = stats.fisher_exact([[aa , ab] , [ba, bb]])\n",
    "print ('OR = %.4f , pvalue = %.5f' %stats.fisher_exact([[aa , ab] , [ba, bb]]))"
   ]
  },
  {
   "cell_type": "code",
   "execution_count": 88,
   "metadata": {},
   "outputs": [
    {
     "name": "stdout",
     "output_type": "stream",
     "text": [
      "39656 73994 176379 504279\n",
      "OR = 1.5323 , pvalue = 0.00000\n"
     ]
    }
   ],
   "source": [
    "aa=(df_ausentes & (df_turnos_ausentes.TipoDeTurnoAsignado == 'Primera Vez')).sum()\n",
    "ab=df_turnos_ausentes.TipoDeTurnoAsignado.count() - aa\n",
    "ba =(df_no_ausentes & (df_turnos_no_ausentes.TipoDeTurnoAsignado == 'Primera Vez')).sum()\n",
    "bb = df_turnos_no_ausentes.TipoDeTurnoAsignado.count() - ba\n",
    "print (aa,ab,ba,bb)\n",
    "or_PV, pvalue_PV = stats.fisher_exact([[aa , ab] , [ba, bb]])\n",
    "print ('OR = %.4f , pvalue = %.5f' %stats.fisher_exact([[aa , ab] , [ba, bb]]))"
   ]
  },
  {
   "cell_type": "code",
   "execution_count": 89,
   "metadata": {},
   "outputs": [
    {
     "name": "stdout",
     "output_type": "stream",
     "text": [
      "217 113433 11097 669561\n",
      "OR = 0.1154 , pvalue = 0.00000\n"
     ]
    }
   ],
   "source": [
    "aa=(df_ausentes & (df_turnos_ausentes.TipoDeTurnoAsignado == 'Recetas')).sum()\n",
    "ab=df_turnos_ausentes.TipoDeTurnoAsignado.count() - aa\n",
    "ba =(df_no_ausentes & (df_turnos_no_ausentes.TipoDeTurnoAsignado == 'Recetas')).sum()\n",
    "bb = df_turnos_no_ausentes.TipoDeTurnoAsignado.count() - ba\n",
    "print (aa,ab,ba,bb)\n",
    "or_recetas, pvalue_recetas = stats.fisher_exact([[aa , ab] , [ba, bb]])\n",
    "print ('OR = %.4f , pvalue = %.5f' %stats.fisher_exact([[aa , ab] , [ba, bb]]))"
   ]
  },
  {
   "cell_type": "code",
   "execution_count": 90,
   "metadata": {},
   "outputs": [
    {
     "name": "stdout",
     "output_type": "stream",
     "text": [
      "40459 73191 260456 420202\n",
      "OR = 0.8918 , pvalue = 0.00000\n"
     ]
    }
   ],
   "source": [
    "aa=(df_ausentes & (df_turnos_ausentes.TipoDeTurnoAsignado == 'Ulterior / Control')).sum()\n",
    "ab=df_turnos_ausentes.TipoDeTurnoAsignado.count() - aa\n",
    "ba =(df_no_ausentes & (df_turnos_no_ausentes.TipoDeTurnoAsignado == 'Ulterior / Control')).sum()\n",
    "bb = df_turnos_no_ausentes.TipoDeTurnoAsignado.count() - ba\n",
    "print (aa,ab,ba,bb)\n",
    "or_control, pvalue_control = stats.fisher_exact([[aa , ab] , [ba, bb]])\n",
    "print ('OR = %.4f , pvalue = %.5f' %stats.fisher_exact([[aa , ab] , [ba, bb]]))"
   ]
  },
  {
   "cell_type": "markdown",
   "metadata": {},
   "source": [
    "# Graficamos el heatmap para ver la relación entre el tipo de turno asignado y el estado del turno "
   ]
  },
  {
   "cell_type": "code",
   "execution_count": 91,
   "metadata": {},
   "outputs": [
    {
     "data": {
      "text/plain": [
       "<matplotlib.axes._subplots.AxesSubplot at 0x2cf92a88>"
      ]
     },
     "execution_count": 91,
     "metadata": {},
     "output_type": "execute_result"
    },
    {
     "data": {
      "image/png": "[encoded data removed]",
      "text/plain": [
       "<Figure size 432x288 with 2 Axes>"
      ]
     },
     "metadata": {
      "needs_background": "light"
     },
     "output_type": "display_data"
    }
   ],
   "source": [
    "seaborn.heatmap(tabla_cruzada_tt,  annot = True, fmt ='g', cmap = 'Blues')"
   ]
  },
  {
   "cell_type": "markdown",
   "metadata": {},
   "source": [
    "# Calculamos por el método de Chi cuadrado la relación entre el estado del turno y el tipo de turno asignado"
   ]
  },
  {
   "cell_type": "code",
   "execution_count": 92,
   "metadata": {},
   "outputs": [
    {
     "name": "stdout",
     "output_type": "stream",
     "text": [
      "\n",
      "Tabla de Contingencia\n",
      "====================================\n",
      "chi2: 17074.700454013142\n",
      "p-value= 0.00000\n",
      "df =  12\n",
      "Valor Crítico:  21.02606981748307\n"
     ]
    }
   ],
   "source": [
    "chi2_result,p_value,df_value,table_expected=stats.chi2_contingency(tabla_cruzada_tt)\n",
    "confidence_level = 0.95\n",
    "crit_value = stats.chi2.ppf(q = confidence_level, df=df_value)\n",
    "print()\n",
    "print ('Tabla de Contingencia')\n",
    "print ('====================================')\n",
    "print ('chi2:', chi2_result)\n",
    "print ('p-value= %.5f'% p_value)\n",
    "print ('df = ', df_value)\n",
    "print('Valor Crítico: ',crit_value)"
   ]
  },
  {
   "cell_type": "markdown",
   "metadata": {},
   "source": [
    "# Comparamos la probabilidad condicional con el valor obtenido con el cálculo de los odds ratio"
   ]
  },
  {
   "cell_type": "code",
   "execution_count": 93,
   "metadata": {},
   "outputs": [],
   "source": [
    "x= [p_ausente_and_mujer, p_ausente_and_hombre, p_ausente_and_c1, p_ausente_and_c2,p_ausente_and_c3,p_ausente_and_c4,p_ausente_and_Practica,p_ausente_and_Control, p_ausente_and_PV, p_ausente_and_Recetas,  p_ausente_and_DNP ]\n",
    "y= [or_mujer, or_hombre, or_c1, or_c2, or_c3, or_c4, or_pra, or_PV, or_DNP, or_recetas, or_control]"
   ]
  },
  {
   "cell_type": "code",
   "execution_count": 94,
   "metadata": {},
   "outputs": [
    {
     "name": "stdout",
     "output_type": "stream",
     "text": [
      "0    float64\n",
      "dtype: object\n"
     ]
    },
    {
     "data": {
      "text/plain": [
       "<matplotlib.axes._subplots.AxesSubplot at 0xe226088>"
      ]
     },
     "execution_count": 94,
     "metadata": {},
     "output_type": "execute_result"
    },
    {
     "data": {
      "image/png": "[encoded data removed]",
      "text/plain": [
       "<Figure size 432x288 with 1 Axes>"
      ]
     },
     "metadata": {
      "needs_background": "light"
     },
     "output_type": "display_data"
    }
   ],
   "source": [
    "dfgrafico = pd.DataFrame(x,y)\n",
    "print (dfgrafico.dtypes)\n",
    "plt.figsize = (20,10)\n",
    "sns.regplot (x,y)"
   ]
  },
  {
   "cell_type": "markdown",
   "metadata": {},
   "source": [
    "# Observamos una ligera correlación entre los dos valores de probabilidad condicional y odds ratio"
   ]
  },
  {
   "cell_type": "code",
   "execution_count": 95,
   "metadata": {},
   "outputs": [
    {
     "data": {
      "text/plain": [
       "<matplotlib.axes._subplots.AxesSubplot at 0xcb67488>"
      ]
     },
     "execution_count": 95,
     "metadata": {},
     "output_type": "execute_result"
    },
    {
     "data": {
      "image/png": "[encoded data removed]",
      "text/plain": [
       "<Figure size 432x288 with 1 Axes>"
      ]
     },
     "metadata": {
      "needs_background": "light"
     },
     "output_type": "display_data"
    }
   ],
   "source": [
    "plt.figsize = (20,10)\n",
    "sns.scatterplot(x,y)"
   ]
  },
  {
   "cell_type": "markdown",
   "metadata": {},
   "source": [
    "# Cantidad de Turnos en el Tiempo"
   ]
  },
  {
   "cell_type": "code",
   "execution_count": 96,
   "metadata": {},
   "outputs": [],
   "source": [
    "df['NewDate'] = [d.date() for d in df['FechaDelTurno']]\n",
    "df['NewTime'] = [d.time() for d in df['FechaDelTurno']]"
   ]
  },
  {
   "cell_type": "code",
   "execution_count": 97,
   "metadata": {},
   "outputs": [
    {
     "data": {
      "text/html": [
       "<div>\n",
       "<style scoped>\n",
       "    .dataframe tbody tr th:only-of-type {\n",
       "        vertical-align: middle;\n",
       "    }\n",
       "\n",
       "    .dataframe tbody tr th {\n",
       "        vertical-align: top;\n",
       "    }\n",
       "\n",
       "    .dataframe thead th {\n",
       "        text-align: right;\n",
       "    }\n",
       "</style>\n",
       "<table border=\"1\" class=\"dataframe\">\n",
       "  <thead>\n",
       "    <tr style=\"text-align: right;\">\n",
       "      <th>Campo</th>\n",
       "      <th>CentroDeAtencion</th>\n",
       "      <th>Prestador</th>\n",
       "      <th>Recurso</th>\n",
       "      <th>Servicio</th>\n",
       "      <th>FechaDelTurno</th>\n",
       "      <th>EstadoDelTurno</th>\n",
       "      <th>Paciente</th>\n",
       "      <th>Sexo</th>\n",
       "      <th>Edad</th>\n",
       "      <th>PrestacionAsignada</th>\n",
       "      <th>NombreDelCanal</th>\n",
       "      <th>EsSobreTurno</th>\n",
       "      <th>TipoDeTurnoAsignado</th>\n",
       "      <th>NewDate</th>\n",
       "      <th>NewTime</th>\n",
       "    </tr>\n",
       "  </thead>\n",
       "  <tbody>\n",
       "    <tr>\n",
       "      <th>0</th>\n",
       "      <td>1</td>\n",
       "      <td>GALENO ARGENTINA SA</td>\n",
       "      <td>009da261083f00e160b4efa09761d9fa</td>\n",
       "      <td>CIRUGÍA PLÁSTICA INF</td>\n",
       "      <td>2019-01-01 11:30:00</td>\n",
       "      <td>Atendido</td>\n",
       "      <td>56d3024136fe26d28d1d981a95772919</td>\n",
       "      <td>M</td>\n",
       "      <td>3</td>\n",
       "      <td>Prestaciones multiples</td>\n",
       "      <td>NaN</td>\n",
       "      <td>SI</td>\n",
       "      <td>Primera Vez</td>\n",
       "      <td>2019-01-01</td>\n",
       "      <td>11:30:00</td>\n",
       "    </tr>\n",
       "    <tr>\n",
       "      <th>1</th>\n",
       "      <td>1</td>\n",
       "      <td>OMINT S. A. DE SERVICIOS</td>\n",
       "      <td>009da261083f00e160b4efa09761d9fa</td>\n",
       "      <td>CIRUGÍA PLÁSTICA INF</td>\n",
       "      <td>2019-01-01 11:33:00</td>\n",
       "      <td>Atendido</td>\n",
       "      <td>72964a1348c696e9440fc8946bfb7af4</td>\n",
       "      <td>M</td>\n",
       "      <td>9</td>\n",
       "      <td>Prestaciones multiples</td>\n",
       "      <td>NaN</td>\n",
       "      <td>SI</td>\n",
       "      <td>Primera Vez</td>\n",
       "      <td>2019-01-01</td>\n",
       "      <td>11:33:00</td>\n",
       "    </tr>\n",
       "    <tr>\n",
       "      <th>2</th>\n",
       "      <td>1</td>\n",
       "      <td>OMINT S. A. DE SERVICIOS</td>\n",
       "      <td>009da261083f00e160b4efa09761d9fa</td>\n",
       "      <td>CIRUGÍA PLÁSTICA INF</td>\n",
       "      <td>2019-01-01 11:36:00</td>\n",
       "      <td>Atendido</td>\n",
       "      <td>b495739eba3587f3f75062c9eb2aff06</td>\n",
       "      <td>F</td>\n",
       "      <td>53</td>\n",
       "      <td>Prestaciones multiples</td>\n",
       "      <td>NaN</td>\n",
       "      <td>SI</td>\n",
       "      <td>Primera Vez</td>\n",
       "      <td>2019-01-01</td>\n",
       "      <td>11:36:00</td>\n",
       "    </tr>\n",
       "    <tr>\n",
       "      <th>3</th>\n",
       "      <td>1</td>\n",
       "      <td>SWISS MEDICAL S.A.</td>\n",
       "      <td>009da261083f00e160b4efa09761d9fa</td>\n",
       "      <td>CIRUGÍA PLÁSTICA INF</td>\n",
       "      <td>2019-01-01 12:44:00</td>\n",
       "      <td>Atendido</td>\n",
       "      <td>b5979d35af8b90e295ab21b6f0aed90b</td>\n",
       "      <td>F</td>\n",
       "      <td>9</td>\n",
       "      <td>Prestaciones multiples</td>\n",
       "      <td>NaN</td>\n",
       "      <td>SI</td>\n",
       "      <td>Primera Vez</td>\n",
       "      <td>2019-01-01</td>\n",
       "      <td>12:44:00</td>\n",
       "    </tr>\n",
       "    <tr>\n",
       "      <th>4</th>\n",
       "      <td>1</td>\n",
       "      <td>MEDIFE ASOCIACIÓN CIVIL</td>\n",
       "      <td>a64579a4b9256db667343ebeb93c2588</td>\n",
       "      <td>GINECO Y OBSTETRICIA</td>\n",
       "      <td>2019-01-01 14:00:00</td>\n",
       "      <td>Anulado</td>\n",
       "      <td>4d0012ce65470b1c3c9ec7b67db41983</td>\n",
       "      <td>F</td>\n",
       "      <td>40</td>\n",
       "      <td>CONSULTA MEDICA</td>\n",
       "      <td>Turnos Online</td>\n",
       "      <td>NO</td>\n",
       "      <td>Ulterior / Control</td>\n",
       "      <td>2019-01-01</td>\n",
       "      <td>14:00:00</td>\n",
       "    </tr>\n",
       "  </tbody>\n",
       "</table>\n",
       "</div>"
      ],
      "text/plain": [
       "Campo  CentroDeAtencion                 Prestador  \\\n",
       "0                     1     GALENO ARGENTINA SA     \n",
       "1                     1  OMINT S. A. DE SERVICIOS   \n",
       "2                     1  OMINT S. A. DE SERVICIOS   \n",
       "3                     1        SWISS MEDICAL S.A.   \n",
       "4                     1   MEDIFE ASOCIACIÓN CIVIL   \n",
       "\n",
       "Campo                           Recurso              Servicio  \\\n",
       "0      009da261083f00e160b4efa09761d9fa  CIRUGÍA PLÁSTICA INF   \n",
       "1      009da261083f00e160b4efa09761d9fa  CIRUGÍA PLÁSTICA INF   \n",
       "2      009da261083f00e160b4efa09761d9fa  CIRUGÍA PLÁSTICA INF   \n",
       "3      009da261083f00e160b4efa09761d9fa  CIRUGÍA PLÁSTICA INF   \n",
       "4      a64579a4b9256db667343ebeb93c2588  GINECO Y OBSTETRICIA   \n",
       "\n",
       "Campo       FechaDelTurno EstadoDelTurno                          Paciente  \\\n",
       "0     2019-01-01 11:30:00       Atendido  56d3024136fe26d28d1d981a95772919   \n",
       "1     2019-01-01 11:33:00       Atendido  72964a1348c696e9440fc8946bfb7af4   \n",
       "2     2019-01-01 11:36:00       Atendido  b495739eba3587f3f75062c9eb2aff06   \n",
       "3     2019-01-01 12:44:00       Atendido  b5979d35af8b90e295ab21b6f0aed90b   \n",
       "4     2019-01-01 14:00:00        Anulado  4d0012ce65470b1c3c9ec7b67db41983   \n",
       "\n",
       "Campo Sexo  Edad      PrestacionAsignada NombreDelCanal EsSobreTurno  \\\n",
       "0        M     3  Prestaciones multiples            NaN           SI   \n",
       "1        M     9  Prestaciones multiples            NaN           SI   \n",
       "2        F    53  Prestaciones multiples            NaN           SI   \n",
       "3        F     9  Prestaciones multiples            NaN           SI   \n",
       "4        F    40         CONSULTA MEDICA  Turnos Online           NO   \n",
       "\n",
       "Campo TipoDeTurnoAsignado     NewDate   NewTime  \n",
       "0             Primera Vez  2019-01-01  11:30:00  \n",
       "1             Primera Vez  2019-01-01  11:33:00  \n",
       "2             Primera Vez  2019-01-01  11:36:00  \n",
       "3             Primera Vez  2019-01-01  12:44:00  \n",
       "4      Ulterior / Control  2019-01-01  14:00:00  "
      ]
     },
     "execution_count": 97,
     "metadata": {},
     "output_type": "execute_result"
    }
   ],
   "source": [
    "df.head()"
   ]
  },
  {
   "cell_type": "markdown",
   "metadata": {},
   "source": [
    "# Calculamos horarios mas demandados"
   ]
  },
  {
   "cell_type": "code",
   "execution_count": 98,
   "metadata": {},
   "outputs": [
    {
     "name": "stdout",
     "output_type": "stream",
     "text": [
      "00:00:00 23:58:00\n",
      "La moda del horario es 0    10:00:00\n",
      "dtype: object\n"
     ]
    }
   ],
   "source": [
    "print (min(df.NewTime),max(df.NewTime))\n",
    "moda_NewTime = df.NewTime.mode()\n",
    "print ('La moda del horario es',moda_NewTime)"
   ]
  },
  {
   "cell_type": "markdown",
   "metadata": {},
   "source": [
    "# Vemos dia de la semana con mas turnos"
   ]
  },
  {
   "cell_type": "code",
   "execution_count": 99,
   "metadata": {},
   "outputs": [],
   "source": [
    "df['DayOfWeek'] = df['FechaDelTurno'].apply(lambda time: time.dayofweek)\n",
    "df['Month'] = df['FechaDelTurno'].apply(lambda time: time.month)\n",
    "df['Day'] = df['DayOfWeek'].apply(lambda x: 'Lunes' if x == 0 else 'Martes' if x == 1\n",
    "                                 else 'Miercoles' if x == 2 else 'Jueves' if x == 3\n",
    "                                 else 'Viernes' if x== 4 else 'Sabado' if x == 5\n",
    "                                 else 'Domingo' )\n",
    "df['Hour'] = df['NewTime'].apply(lambda time: time.hour)"
   ]
  },
  {
   "cell_type": "code",
   "execution_count": 100,
   "metadata": {},
   "outputs": [
    {
     "data": {
      "text/html": [
       "<div>\n",
       "<style scoped>\n",
       "    .dataframe tbody tr th:only-of-type {\n",
       "        vertical-align: middle;\n",
       "    }\n",
       "\n",
       "    .dataframe tbody tr th {\n",
       "        vertical-align: top;\n",
       "    }\n",
       "\n",
       "    .dataframe thead th {\n",
       "        text-align: right;\n",
       "    }\n",
       "</style>\n",
       "<table border=\"1\" class=\"dataframe\">\n",
       "  <thead>\n",
       "    <tr style=\"text-align: right;\">\n",
       "      <th>Campo</th>\n",
       "      <th>CentroDeAtencion</th>\n",
       "      <th>Prestador</th>\n",
       "      <th>Recurso</th>\n",
       "      <th>Servicio</th>\n",
       "      <th>FechaDelTurno</th>\n",
       "      <th>EstadoDelTurno</th>\n",
       "      <th>Paciente</th>\n",
       "      <th>Sexo</th>\n",
       "      <th>Edad</th>\n",
       "      <th>PrestacionAsignada</th>\n",
       "      <th>NombreDelCanal</th>\n",
       "      <th>EsSobreTurno</th>\n",
       "      <th>TipoDeTurnoAsignado</th>\n",
       "      <th>NewDate</th>\n",
       "      <th>NewTime</th>\n",
       "      <th>DayOfWeek</th>\n",
       "      <th>Month</th>\n",
       "      <th>Day</th>\n",
       "      <th>Hour</th>\n",
       "    </tr>\n",
       "  </thead>\n",
       "  <tbody>\n",
       "    <tr>\n",
       "      <th>0</th>\n",
       "      <td>1</td>\n",
       "      <td>GALENO ARGENTINA SA</td>\n",
       "      <td>009da261083f00e160b4efa09761d9fa</td>\n",
       "      <td>CIRUGÍA PLÁSTICA INF</td>\n",
       "      <td>2019-01-01 11:30:00</td>\n",
       "      <td>Atendido</td>\n",
       "      <td>56d3024136fe26d28d1d981a95772919</td>\n",
       "      <td>M</td>\n",
       "      <td>3</td>\n",
       "      <td>Prestaciones multiples</td>\n",
       "      <td>NaN</td>\n",
       "      <td>SI</td>\n",
       "      <td>Primera Vez</td>\n",
       "      <td>2019-01-01</td>\n",
       "      <td>11:30:00</td>\n",
       "      <td>1</td>\n",
       "      <td>1</td>\n",
       "      <td>Martes</td>\n",
       "      <td>11</td>\n",
       "    </tr>\n",
       "    <tr>\n",
       "      <th>1</th>\n",
       "      <td>1</td>\n",
       "      <td>OMINT S. A. DE SERVICIOS</td>\n",
       "      <td>009da261083f00e160b4efa09761d9fa</td>\n",
       "      <td>CIRUGÍA PLÁSTICA INF</td>\n",
       "      <td>2019-01-01 11:33:00</td>\n",
       "      <td>Atendido</td>\n",
       "      <td>72964a1348c696e9440fc8946bfb7af4</td>\n",
       "      <td>M</td>\n",
       "      <td>9</td>\n",
       "      <td>Prestaciones multiples</td>\n",
       "      <td>NaN</td>\n",
       "      <td>SI</td>\n",
       "      <td>Primera Vez</td>\n",
       "      <td>2019-01-01</td>\n",
       "      <td>11:33:00</td>\n",
       "      <td>1</td>\n",
       "      <td>1</td>\n",
       "      <td>Martes</td>\n",
       "      <td>11</td>\n",
       "    </tr>\n",
       "    <tr>\n",
       "      <th>2</th>\n",
       "      <td>1</td>\n",
       "      <td>OMINT S. A. DE SERVICIOS</td>\n",
       "      <td>009da261083f00e160b4efa09761d9fa</td>\n",
       "      <td>CIRUGÍA PLÁSTICA INF</td>\n",
       "      <td>2019-01-01 11:36:00</td>\n",
       "      <td>Atendido</td>\n",
       "      <td>b495739eba3587f3f75062c9eb2aff06</td>\n",
       "      <td>F</td>\n",
       "      <td>53</td>\n",
       "      <td>Prestaciones multiples</td>\n",
       "      <td>NaN</td>\n",
       "      <td>SI</td>\n",
       "      <td>Primera Vez</td>\n",
       "      <td>2019-01-01</td>\n",
       "      <td>11:36:00</td>\n",
       "      <td>1</td>\n",
       "      <td>1</td>\n",
       "      <td>Martes</td>\n",
       "      <td>11</td>\n",
       "    </tr>\n",
       "    <tr>\n",
       "      <th>3</th>\n",
       "      <td>1</td>\n",
       "      <td>SWISS MEDICAL S.A.</td>\n",
       "      <td>009da261083f00e160b4efa09761d9fa</td>\n",
       "      <td>CIRUGÍA PLÁSTICA INF</td>\n",
       "      <td>2019-01-01 12:44:00</td>\n",
       "      <td>Atendido</td>\n",
       "      <td>b5979d35af8b90e295ab21b6f0aed90b</td>\n",
       "      <td>F</td>\n",
       "      <td>9</td>\n",
       "      <td>Prestaciones multiples</td>\n",
       "      <td>NaN</td>\n",
       "      <td>SI</td>\n",
       "      <td>Primera Vez</td>\n",
       "      <td>2019-01-01</td>\n",
       "      <td>12:44:00</td>\n",
       "      <td>1</td>\n",
       "      <td>1</td>\n",
       "      <td>Martes</td>\n",
       "      <td>12</td>\n",
       "    </tr>\n",
       "    <tr>\n",
       "      <th>4</th>\n",
       "      <td>1</td>\n",
       "      <td>MEDIFE ASOCIACIÓN CIVIL</td>\n",
       "      <td>a64579a4b9256db667343ebeb93c2588</td>\n",
       "      <td>GINECO Y OBSTETRICIA</td>\n",
       "      <td>2019-01-01 14:00:00</td>\n",
       "      <td>Anulado</td>\n",
       "      <td>4d0012ce65470b1c3c9ec7b67db41983</td>\n",
       "      <td>F</td>\n",
       "      <td>40</td>\n",
       "      <td>CONSULTA MEDICA</td>\n",
       "      <td>Turnos Online</td>\n",
       "      <td>NO</td>\n",
       "      <td>Ulterior / Control</td>\n",
       "      <td>2019-01-01</td>\n",
       "      <td>14:00:00</td>\n",
       "      <td>1</td>\n",
       "      <td>1</td>\n",
       "      <td>Martes</td>\n",
       "      <td>14</td>\n",
       "    </tr>\n",
       "    <tr>\n",
       "      <th>...</th>\n",
       "      <td>...</td>\n",
       "      <td>...</td>\n",
       "      <td>...</td>\n",
       "      <td>...</td>\n",
       "      <td>...</td>\n",
       "      <td>...</td>\n",
       "      <td>...</td>\n",
       "      <td>...</td>\n",
       "      <td>...</td>\n",
       "      <td>...</td>\n",
       "      <td>...</td>\n",
       "      <td>...</td>\n",
       "      <td>...</td>\n",
       "      <td>...</td>\n",
       "      <td>...</td>\n",
       "      <td>...</td>\n",
       "      <td>...</td>\n",
       "      <td>...</td>\n",
       "      <td>...</td>\n",
       "    </tr>\n",
       "    <tr>\n",
       "      <th>1194009</th>\n",
       "      <td>2</td>\n",
       "      <td>-</td>\n",
       "      <td>fa089caaca143ad1ff284640fb4cd2d7</td>\n",
       "      <td>RESONANCIA</td>\n",
       "      <td>2019-12-30 23:30:00</td>\n",
       "      <td>Libre</td>\n",
       "      <td>NaN</td>\n",
       "      <td></td>\n",
       "      <td>0</td>\n",
       "      <td>NaN</td>\n",
       "      <td>NaN</td>\n",
       "      <td>NO</td>\n",
       "      <td>NaN</td>\n",
       "      <td>2019-12-30</td>\n",
       "      <td>23:30:00</td>\n",
       "      <td>0</td>\n",
       "      <td>12</td>\n",
       "      <td>Lunes</td>\n",
       "      <td>23</td>\n",
       "    </tr>\n",
       "    <tr>\n",
       "      <th>1194010</th>\n",
       "      <td>1</td>\n",
       "      <td>OSDE</td>\n",
       "      <td>cba3f4d0f0775d3211c12cbca0ab3781</td>\n",
       "      <td>ECOGRAFIA</td>\n",
       "      <td>2019-12-31 09:24:00</td>\n",
       "      <td>Atendido</td>\n",
       "      <td>15a7d517fa140ac76f9a7a79de343d81</td>\n",
       "      <td>M</td>\n",
       "      <td>44</td>\n",
       "      <td>ECOGRAFIA COMPLETA DE ABDOMEN</td>\n",
       "      <td>NaN</td>\n",
       "      <td>SI</td>\n",
       "      <td>Práctica</td>\n",
       "      <td>2019-12-31</td>\n",
       "      <td>09:24:00</td>\n",
       "      <td>1</td>\n",
       "      <td>12</td>\n",
       "      <td>Martes</td>\n",
       "      <td>9</td>\n",
       "    </tr>\n",
       "    <tr>\n",
       "      <th>1194011</th>\n",
       "      <td>1</td>\n",
       "      <td>OMINT S. A. DE SERVICIOS</td>\n",
       "      <td>cba3f4d0f0775d3211c12cbca0ab3781</td>\n",
       "      <td>ECOGRAFIA</td>\n",
       "      <td>2019-12-31 09:27:00</td>\n",
       "      <td>Atendido</td>\n",
       "      <td>2bd3a6fd81b29758aa12a13d210e6fdc</td>\n",
       "      <td>M</td>\n",
       "      <td>53</td>\n",
       "      <td>ECOGRAFIA DE PARTES BLANDAS</td>\n",
       "      <td>NaN</td>\n",
       "      <td>SI</td>\n",
       "      <td>Práctica</td>\n",
       "      <td>2019-12-31</td>\n",
       "      <td>09:27:00</td>\n",
       "      <td>1</td>\n",
       "      <td>12</td>\n",
       "      <td>Martes</td>\n",
       "      <td>9</td>\n",
       "    </tr>\n",
       "    <tr>\n",
       "      <th>1194012</th>\n",
       "      <td>1</td>\n",
       "      <td>SANCOR</td>\n",
       "      <td>cba3f4d0f0775d3211c12cbca0ab3781</td>\n",
       "      <td>ECOGRAFIA</td>\n",
       "      <td>2019-12-31 11:29:00</td>\n",
       "      <td>Atendido</td>\n",
       "      <td>d72ffdcc0121edd182da6a32578e4bb1</td>\n",
       "      <td>F</td>\n",
       "      <td>28</td>\n",
       "      <td>ECOGRAFIA TRANSVAGINAL</td>\n",
       "      <td>NaN</td>\n",
       "      <td>SI</td>\n",
       "      <td>Práctica</td>\n",
       "      <td>2019-12-31</td>\n",
       "      <td>11:29:00</td>\n",
       "      <td>1</td>\n",
       "      <td>12</td>\n",
       "      <td>Martes</td>\n",
       "      <td>11</td>\n",
       "    </tr>\n",
       "    <tr>\n",
       "      <th>1194013</th>\n",
       "      <td>1</td>\n",
       "      <td>MEDIFE ASOCIACIÓN CIVIL</td>\n",
       "      <td>a2073c1d145a1b5fd133f927fbbd7913</td>\n",
       "      <td>RADIOGRAFIA</td>\n",
       "      <td>2019-12-31 14:23:00</td>\n",
       "      <td>Atendido</td>\n",
       "      <td>71f43803027051f252e553746b44820b</td>\n",
       "      <td>M</td>\n",
       "      <td>2</td>\n",
       "      <td>Prestaciones multiples</td>\n",
       "      <td>NaN</td>\n",
       "      <td>SI</td>\n",
       "      <td>Práctica</td>\n",
       "      <td>2019-12-31</td>\n",
       "      <td>14:23:00</td>\n",
       "      <td>1</td>\n",
       "      <td>12</td>\n",
       "      <td>Martes</td>\n",
       "      <td>14</td>\n",
       "    </tr>\n",
       "  </tbody>\n",
       "</table>\n",
       "<p>1194014 rows × 19 columns</p>\n",
       "</div>"
      ],
      "text/plain": [
       "Campo    CentroDeAtencion                 Prestador  \\\n",
       "0                       1     GALENO ARGENTINA SA     \n",
       "1                       1  OMINT S. A. DE SERVICIOS   \n",
       "2                       1  OMINT S. A. DE SERVICIOS   \n",
       "3                       1        SWISS MEDICAL S.A.   \n",
       "4                       1   MEDIFE ASOCIACIÓN CIVIL   \n",
       "...                   ...                       ...   \n",
       "1194009                 2                         -   \n",
       "1194010                 1                     OSDE    \n",
       "1194011                 1  OMINT S. A. DE SERVICIOS   \n",
       "1194012                 1                   SANCOR    \n",
       "1194013                 1   MEDIFE ASOCIACIÓN CIVIL   \n",
       "\n",
       "Campo                             Recurso              Servicio  \\\n",
       "0        009da261083f00e160b4efa09761d9fa  CIRUGÍA PLÁSTICA INF   \n",
       "1        009da261083f00e160b4efa09761d9fa  CIRUGÍA PLÁSTICA INF   \n",
       "2        009da261083f00e160b4efa09761d9fa  CIRUGÍA PLÁSTICA INF   \n",
       "3        009da261083f00e160b4efa09761d9fa  CIRUGÍA PLÁSTICA INF   \n",
       "4        a64579a4b9256db667343ebeb93c2588  GINECO Y OBSTETRICIA   \n",
       "...                                   ...                   ...   \n",
       "1194009  fa089caaca143ad1ff284640fb4cd2d7            RESONANCIA   \n",
       "1194010  cba3f4d0f0775d3211c12cbca0ab3781             ECOGRAFIA   \n",
       "1194011  cba3f4d0f0775d3211c12cbca0ab3781             ECOGRAFIA   \n",
       "1194012  cba3f4d0f0775d3211c12cbca0ab3781             ECOGRAFIA   \n",
       "1194013  a2073c1d145a1b5fd133f927fbbd7913           RADIOGRAFIA   \n",
       "\n",
       "Campo         FechaDelTurno EstadoDelTurno                          Paciente  \\\n",
       "0       2019-01-01 11:30:00       Atendido  56d3024136fe26d28d1d981a95772919   \n",
       "1       2019-01-01 11:33:00       Atendido  72964a1348c696e9440fc8946bfb7af4   \n",
       "2       2019-01-01 11:36:00       Atendido  b495739eba3587f3f75062c9eb2aff06   \n",
       "3       2019-01-01 12:44:00       Atendido  b5979d35af8b90e295ab21b6f0aed90b   \n",
       "4       2019-01-01 14:00:00        Anulado  4d0012ce65470b1c3c9ec7b67db41983   \n",
       "...                     ...            ...                               ...   \n",
       "1194009 2019-12-30 23:30:00          Libre                               NaN   \n",
       "1194010 2019-12-31 09:24:00       Atendido  15a7d517fa140ac76f9a7a79de343d81   \n",
       "1194011 2019-12-31 09:27:00       Atendido  2bd3a6fd81b29758aa12a13d210e6fdc   \n",
       "1194012 2019-12-31 11:29:00       Atendido  d72ffdcc0121edd182da6a32578e4bb1   \n",
       "1194013 2019-12-31 14:23:00       Atendido  71f43803027051f252e553746b44820b   \n",
       "\n",
       "Campo   Sexo  Edad             PrestacionAsignada NombreDelCanal EsSobreTurno  \\\n",
       "0          M     3         Prestaciones multiples            NaN           SI   \n",
       "1          M     9         Prestaciones multiples            NaN           SI   \n",
       "2          F    53         Prestaciones multiples            NaN           SI   \n",
       "3          F     9         Prestaciones multiples            NaN           SI   \n",
       "4          F    40                CONSULTA MEDICA  Turnos Online           NO   \n",
       "...      ...   ...                            ...            ...          ...   \n",
       "1194009          0                            NaN            NaN           NO   \n",
       "1194010    M    44  ECOGRAFIA COMPLETA DE ABDOMEN            NaN           SI   \n",
       "1194011    M    53    ECOGRAFIA DE PARTES BLANDAS            NaN           SI   \n",
       "1194012    F    28         ECOGRAFIA TRANSVAGINAL            NaN           SI   \n",
       "1194013    M     2         Prestaciones multiples            NaN           SI   \n",
       "\n",
       "Campo   TipoDeTurnoAsignado     NewDate   NewTime  DayOfWeek  Month     Day  \\\n",
       "0               Primera Vez  2019-01-01  11:30:00          1      1  Martes   \n",
       "1               Primera Vez  2019-01-01  11:33:00          1      1  Martes   \n",
       "2               Primera Vez  2019-01-01  11:36:00          1      1  Martes   \n",
       "3               Primera Vez  2019-01-01  12:44:00          1      1  Martes   \n",
       "4        Ulterior / Control  2019-01-01  14:00:00          1      1  Martes   \n",
       "...                     ...         ...       ...        ...    ...     ...   \n",
       "1194009                 NaN  2019-12-30  23:30:00          0     12   Lunes   \n",
       "1194010            Práctica  2019-12-31  09:24:00          1     12  Martes   \n",
       "1194011            Práctica  2019-12-31  09:27:00          1     12  Martes   \n",
       "1194012            Práctica  2019-12-31  11:29:00          1     12  Martes   \n",
       "1194013            Práctica  2019-12-31  14:23:00          1     12  Martes   \n",
       "\n",
       "Campo    Hour  \n",
       "0          11  \n",
       "1          11  \n",
       "2          11  \n",
       "3          12  \n",
       "4          14  \n",
       "...       ...  \n",
       "1194009    23  \n",
       "1194010     9  \n",
       "1194011     9  \n",
       "1194012    11  \n",
       "1194013    14  \n",
       "\n",
       "[1194014 rows x 19 columns]"
      ]
     },
     "execution_count": 100,
     "metadata": {},
     "output_type": "execute_result"
    }
   ],
   "source": [
    "df"
   ]
  },
  {
   "cell_type": "code",
   "execution_count": 101,
   "metadata": {},
   "outputs": [
    {
     "data": {
      "text/html": [
       "<div>\n",
       "<style scoped>\n",
       "    .dataframe tbody tr th:only-of-type {\n",
       "        vertical-align: middle;\n",
       "    }\n",
       "\n",
       "    .dataframe tbody tr th {\n",
       "        vertical-align: top;\n",
       "    }\n",
       "\n",
       "    .dataframe thead th {\n",
       "        text-align: right;\n",
       "    }\n",
       "</style>\n",
       "<table border=\"1\" class=\"dataframe\">\n",
       "  <thead>\n",
       "    <tr style=\"text-align: right;\">\n",
       "      <th></th>\n",
       "      <th>Cantidad de Turnos</th>\n",
       "    </tr>\n",
       "    <tr>\n",
       "      <th>Day</th>\n",
       "      <th></th>\n",
       "    </tr>\n",
       "  </thead>\n",
       "  <tbody>\n",
       "    <tr>\n",
       "      <th>Domingo</th>\n",
       "      <td>684</td>\n",
       "    </tr>\n",
       "    <tr>\n",
       "      <th>Jueves</th>\n",
       "      <td>235331</td>\n",
       "    </tr>\n",
       "    <tr>\n",
       "      <th>Lunes</th>\n",
       "      <td>229107</td>\n",
       "    </tr>\n",
       "    <tr>\n",
       "      <th>Martes</th>\n",
       "      <td>242403</td>\n",
       "    </tr>\n",
       "    <tr>\n",
       "      <th>Miercoles</th>\n",
       "      <td>251095</td>\n",
       "    </tr>\n",
       "    <tr>\n",
       "      <th>Sabado</th>\n",
       "      <td>13290</td>\n",
       "    </tr>\n",
       "    <tr>\n",
       "      <th>Viernes</th>\n",
       "      <td>222104</td>\n",
       "    </tr>\n",
       "  </tbody>\n",
       "</table>\n",
       "</div>"
      ],
      "text/plain": [
       "           Cantidad de Turnos\n",
       "Day                          \n",
       "Domingo                   684\n",
       "Jueves                 235331\n",
       "Lunes                  229107\n",
       "Martes                 242403\n",
       "Miercoles              251095\n",
       "Sabado                  13290\n",
       "Viernes                222104"
      ]
     },
     "execution_count": 101,
     "metadata": {},
     "output_type": "execute_result"
    }
   ],
   "source": [
    "agregation = {'Cantidad de Turnos' : pd.NamedAgg(column ='Day', aggfunc='count')}\n",
    "df_turnos_por_dia = df.groupby (\"Day\").agg(**agregation)\n",
    "df_turnos_por_dia"
   ]
  },
  {
   "cell_type": "code",
   "execution_count": 102,
   "metadata": {},
   "outputs": [
    {
     "data": {
      "text/plain": [
       "Day\n",
       "Domingo         684\n",
       "Jueves       235331\n",
       "Lunes        229107\n",
       "Martes       242403\n",
       "Miercoles    251095\n",
       "Sabado        13290\n",
       "Viernes      222104\n",
       "Name: FechaDelTurno, dtype: int64"
      ]
     },
     "execution_count": 102,
     "metadata": {},
     "output_type": "execute_result"
    }
   ],
   "source": [
    "df_cantidadT_por_dia = df.groupby (\"Day\") ['FechaDelTurno'].count()\n",
    "df_cantidadT_por_dia"
   ]
  },
  {
   "cell_type": "markdown",
   "metadata": {},
   "source": [
    "# Cantidad de Turnos por dia de la semana"
   ]
  },
  {
   "cell_type": "code",
   "execution_count": 103,
   "metadata": {},
   "outputs": [
    {
     "data": {
      "text/plain": [
       "Text(0, 0.5, 'Cantidad de turnos')"
      ]
     },
     "execution_count": 103,
     "metadata": {},
     "output_type": "execute_result"
    },
    {
     "data": {
      "image/png": "[encoded data removed]",
      "text/plain": [
       "<Figure size 432x288 with 1 Axes>"
      ]
     },
     "metadata": {
      "needs_background": "light"
     },
     "output_type": "display_data"
    }
   ],
   "source": [
    "sns.countplot (data=df, x='Day' , color=BLUE)\n",
    "plt.ylabel('Cantidad de turnos')"
   ]
  },
  {
   "cell_type": "markdown",
   "metadata": {},
   "source": [
    "# Se observa que la cantidad de turnos de Lunes a Viernes es uniforme"
   ]
  },
  {
   "cell_type": "code",
   "execution_count": 104,
   "metadata": {},
   "outputs": [],
   "source": [
    "df_ausentes = df.EstadoDelTurno=='Ausente'\n",
    "df_turnos_ausentes = df[df_ausentes]\n",
    "#df_turnos_ausentes"
   ]
  },
  {
   "cell_type": "markdown",
   "metadata": {},
   "source": [
    "# Cantidad de turnos ausentes por dia de la semana"
   ]
  },
  {
   "cell_type": "code",
   "execution_count": 105,
   "metadata": {},
   "outputs": [
    {
     "data": {
      "text/plain": [
       "(0, 250000)"
      ]
     },
     "execution_count": 105,
     "metadata": {},
     "output_type": "execute_result"
    },
    {
     "data": {
      "image/png": "[encoded data removed]",
      "text/plain": [
       "<Figure size 432x288 with 1 Axes>"
      ]
     },
     "metadata": {
      "needs_background": "light"
     },
     "output_type": "display_data"
    }
   ],
   "source": [
    "sns.countplot (data=df_turnos_ausentes, x='Day' , color =YELLOW)\n",
    "plt.ylabel('Cantidad de turnos ausentes')\n",
    "plt.ylim(0,250000)"
   ]
  },
  {
   "cell_type": "markdown",
   "metadata": {},
   "source": [
    "# Se observa que la cantidad de turnos ausentes de Lunes a Viernes es uniforme"
   ]
  },
  {
   "cell_type": "markdown",
   "metadata": {},
   "source": [
    "# Grafico comparativo de la media de turnos por dia de la semana y por hora"
   ]
  },
  {
   "cell_type": "code",
   "execution_count": 106,
   "metadata": {},
   "outputs": [
    {
     "data": {
      "text/plain": [
       "<seaborn.axisgrid.FacetGrid at 0x3e2864c8>"
      ]
     },
     "execution_count": 106,
     "metadata": {},
     "output_type": "execute_result"
    },
    {
     "data": {
      "image/png": "[encoded data removed]",
      "text/plain": [
       "<Figure size 360x360 with 1 Axes>"
      ]
     },
     "metadata": {
      "needs_background": "light"
     },
     "output_type": "display_data"
    }
   ],
   "source": [
    "sns.catplot(x='Hour', y='Day' , data=df , kind='box')"
   ]
  },
  {
   "cell_type": "markdown",
   "metadata": {},
   "source": [
    "# Se observa que la media de cantidad de turnos por dia hábil de la semana y por hora es uniforme"
   ]
  },
  {
   "cell_type": "markdown",
   "metadata": {},
   "source": [
    "# Moda de la hora"
   ]
  },
  {
   "cell_type": "code",
   "execution_count": 107,
   "metadata": {},
   "outputs": [
    {
     "name": "stdout",
     "output_type": "stream",
     "text": [
      "La Moda de la hora es 0    10\n",
      "dtype: int64\n"
     ]
    }
   ],
   "source": [
    "moda=df['Hour'].mode()\n",
    "print ('La Moda de la hora es',moda)"
   ]
  },
  {
   "cell_type": "markdown",
   "metadata": {},
   "source": [
    "# El horario mas demandado es 10 hs"
   ]
  },
  {
   "cell_type": "markdown",
   "metadata": {},
   "source": [
    "# Relacion entre intervalo de edad y hora del turno"
   ]
  },
  {
   "cell_type": "code",
   "execution_count": 108,
   "metadata": {},
   "outputs": [
    {
     "data": {
      "text/html": [
       "<div>\n",
       "<style scoped>\n",
       "    .dataframe tbody tr th:only-of-type {\n",
       "        vertical-align: middle;\n",
       "    }\n",
       "\n",
       "    .dataframe tbody tr th {\n",
       "        vertical-align: top;\n",
       "    }\n",
       "\n",
       "    .dataframe thead th {\n",
       "        text-align: right;\n",
       "    }\n",
       "</style>\n",
       "<table border=\"1\" class=\"dataframe\">\n",
       "  <thead>\n",
       "    <tr style=\"text-align: right;\">\n",
       "      <th>Hour</th>\n",
       "      <th>0</th>\n",
       "      <th>1</th>\n",
       "      <th>2</th>\n",
       "      <th>3</th>\n",
       "      <th>4</th>\n",
       "      <th>5</th>\n",
       "      <th>6</th>\n",
       "      <th>7</th>\n",
       "      <th>8</th>\n",
       "      <th>9</th>\n",
       "      <th>10</th>\n",
       "      <th>11</th>\n",
       "      <th>12</th>\n",
       "      <th>13</th>\n",
       "      <th>14</th>\n",
       "      <th>15</th>\n",
       "      <th>16</th>\n",
       "      <th>17</th>\n",
       "      <th>18</th>\n",
       "      <th>19</th>\n",
       "      <th>20</th>\n",
       "      <th>21</th>\n",
       "      <th>22</th>\n",
       "      <th>23</th>\n",
       "    </tr>\n",
       "    <tr>\n",
       "      <th>Edad</th>\n",
       "      <th></th>\n",
       "      <th></th>\n",
       "      <th></th>\n",
       "      <th></th>\n",
       "      <th></th>\n",
       "      <th></th>\n",
       "      <th></th>\n",
       "      <th></th>\n",
       "      <th></th>\n",
       "      <th></th>\n",
       "      <th></th>\n",
       "      <th></th>\n",
       "      <th></th>\n",
       "      <th></th>\n",
       "      <th></th>\n",
       "      <th></th>\n",
       "      <th></th>\n",
       "      <th></th>\n",
       "      <th></th>\n",
       "      <th></th>\n",
       "      <th></th>\n",
       "      <th></th>\n",
       "      <th></th>\n",
       "      <th></th>\n",
       "    </tr>\n",
       "  </thead>\n",
       "  <tbody>\n",
       "    <tr>\n",
       "      <th>(0, 10]</th>\n",
       "      <td>23</td>\n",
       "      <td>14</td>\n",
       "      <td>12</td>\n",
       "      <td>1</td>\n",
       "      <td>6</td>\n",
       "      <td>1</td>\n",
       "      <td>1</td>\n",
       "      <td>318</td>\n",
       "      <td>6912</td>\n",
       "      <td>15974</td>\n",
       "      <td>17922</td>\n",
       "      <td>16317</td>\n",
       "      <td>11636</td>\n",
       "      <td>8397</td>\n",
       "      <td>11633</td>\n",
       "      <td>18946</td>\n",
       "      <td>18878</td>\n",
       "      <td>18328</td>\n",
       "      <td>14552</td>\n",
       "      <td>6890</td>\n",
       "      <td>194</td>\n",
       "      <td>123</td>\n",
       "      <td>69</td>\n",
       "      <td>41</td>\n",
       "    </tr>\n",
       "    <tr>\n",
       "      <th>(10, 20]</th>\n",
       "      <td>10</td>\n",
       "      <td>0</td>\n",
       "      <td>3</td>\n",
       "      <td>0</td>\n",
       "      <td>0</td>\n",
       "      <td>0</td>\n",
       "      <td>0</td>\n",
       "      <td>160</td>\n",
       "      <td>3464</td>\n",
       "      <td>6169</td>\n",
       "      <td>7210</td>\n",
       "      <td>6481</td>\n",
       "      <td>4632</td>\n",
       "      <td>4317</td>\n",
       "      <td>7579</td>\n",
       "      <td>11261</td>\n",
       "      <td>10825</td>\n",
       "      <td>9521</td>\n",
       "      <td>7479</td>\n",
       "      <td>3951</td>\n",
       "      <td>651</td>\n",
       "      <td>58</td>\n",
       "      <td>43</td>\n",
       "      <td>24</td>\n",
       "    </tr>\n",
       "    <tr>\n",
       "      <th>(20, 30]</th>\n",
       "      <td>6</td>\n",
       "      <td>6</td>\n",
       "      <td>1</td>\n",
       "      <td>2</td>\n",
       "      <td>0</td>\n",
       "      <td>2</td>\n",
       "      <td>4</td>\n",
       "      <td>2081</td>\n",
       "      <td>11091</td>\n",
       "      <td>16107</td>\n",
       "      <td>16363</td>\n",
       "      <td>14888</td>\n",
       "      <td>10298</td>\n",
       "      <td>7665</td>\n",
       "      <td>12105</td>\n",
       "      <td>14619</td>\n",
       "      <td>15312</td>\n",
       "      <td>15399</td>\n",
       "      <td>13360</td>\n",
       "      <td>8022</td>\n",
       "      <td>1213</td>\n",
       "      <td>190</td>\n",
       "      <td>191</td>\n",
       "      <td>60</td>\n",
       "    </tr>\n",
       "    <tr>\n",
       "      <th>(30, 40]</th>\n",
       "      <td>18</td>\n",
       "      <td>1</td>\n",
       "      <td>4</td>\n",
       "      <td>0</td>\n",
       "      <td>1</td>\n",
       "      <td>1</td>\n",
       "      <td>0</td>\n",
       "      <td>2909</td>\n",
       "      <td>19595</td>\n",
       "      <td>25152</td>\n",
       "      <td>23770</td>\n",
       "      <td>20132</td>\n",
       "      <td>14914</td>\n",
       "      <td>11980</td>\n",
       "      <td>18644</td>\n",
       "      <td>22586</td>\n",
       "      <td>23597</td>\n",
       "      <td>22984</td>\n",
       "      <td>20931</td>\n",
       "      <td>12888</td>\n",
       "      <td>1808</td>\n",
       "      <td>334</td>\n",
       "      <td>391</td>\n",
       "      <td>55</td>\n",
       "    </tr>\n",
       "    <tr>\n",
       "      <th>(40, 50]</th>\n",
       "      <td>9</td>\n",
       "      <td>0</td>\n",
       "      <td>1</td>\n",
       "      <td>1</td>\n",
       "      <td>1</td>\n",
       "      <td>0</td>\n",
       "      <td>0</td>\n",
       "      <td>2934</td>\n",
       "      <td>13345</td>\n",
       "      <td>15539</td>\n",
       "      <td>14018</td>\n",
       "      <td>11808</td>\n",
       "      <td>9751</td>\n",
       "      <td>7812</td>\n",
       "      <td>11823</td>\n",
       "      <td>13467</td>\n",
       "      <td>14110</td>\n",
       "      <td>13658</td>\n",
       "      <td>11399</td>\n",
       "      <td>6426</td>\n",
       "      <td>1329</td>\n",
       "      <td>129</td>\n",
       "      <td>172</td>\n",
       "      <td>51</td>\n",
       "    </tr>\n",
       "    <tr>\n",
       "      <th>(50, 60]</th>\n",
       "      <td>3</td>\n",
       "      <td>3</td>\n",
       "      <td>0</td>\n",
       "      <td>0</td>\n",
       "      <td>0</td>\n",
       "      <td>1</td>\n",
       "      <td>0</td>\n",
       "      <td>1862</td>\n",
       "      <td>8180</td>\n",
       "      <td>10266</td>\n",
       "      <td>9842</td>\n",
       "      <td>9256</td>\n",
       "      <td>7713</td>\n",
       "      <td>5944</td>\n",
       "      <td>8323</td>\n",
       "      <td>8925</td>\n",
       "      <td>9209</td>\n",
       "      <td>8588</td>\n",
       "      <td>6498</td>\n",
       "      <td>4015</td>\n",
       "      <td>663</td>\n",
       "      <td>76</td>\n",
       "      <td>118</td>\n",
       "      <td>34</td>\n",
       "    </tr>\n",
       "    <tr>\n",
       "      <th>(60, 70]</th>\n",
       "      <td>0</td>\n",
       "      <td>1</td>\n",
       "      <td>0</td>\n",
       "      <td>0</td>\n",
       "      <td>0</td>\n",
       "      <td>1</td>\n",
       "      <td>0</td>\n",
       "      <td>964</td>\n",
       "      <td>6054</td>\n",
       "      <td>8675</td>\n",
       "      <td>9644</td>\n",
       "      <td>7966</td>\n",
       "      <td>5580</td>\n",
       "      <td>3933</td>\n",
       "      <td>5772</td>\n",
       "      <td>6008</td>\n",
       "      <td>5975</td>\n",
       "      <td>5119</td>\n",
       "      <td>3240</td>\n",
       "      <td>1605</td>\n",
       "      <td>396</td>\n",
       "      <td>65</td>\n",
       "      <td>57</td>\n",
       "      <td>9</td>\n",
       "    </tr>\n",
       "    <tr>\n",
       "      <th>(70, 80]</th>\n",
       "      <td>3</td>\n",
       "      <td>0</td>\n",
       "      <td>1</td>\n",
       "      <td>0</td>\n",
       "      <td>0</td>\n",
       "      <td>0</td>\n",
       "      <td>0</td>\n",
       "      <td>392</td>\n",
       "      <td>2209</td>\n",
       "      <td>4368</td>\n",
       "      <td>4969</td>\n",
       "      <td>4448</td>\n",
       "      <td>2771</td>\n",
       "      <td>2108</td>\n",
       "      <td>3109</td>\n",
       "      <td>3809</td>\n",
       "      <td>3069</td>\n",
       "      <td>2522</td>\n",
       "      <td>1521</td>\n",
       "      <td>641</td>\n",
       "      <td>126</td>\n",
       "      <td>24</td>\n",
       "      <td>19</td>\n",
       "      <td>9</td>\n",
       "    </tr>\n",
       "    <tr>\n",
       "      <th>(80, 90]</th>\n",
       "      <td>0</td>\n",
       "      <td>1</td>\n",
       "      <td>1</td>\n",
       "      <td>0</td>\n",
       "      <td>0</td>\n",
       "      <td>0</td>\n",
       "      <td>0</td>\n",
       "      <td>23</td>\n",
       "      <td>572</td>\n",
       "      <td>1413</td>\n",
       "      <td>1868</td>\n",
       "      <td>1459</td>\n",
       "      <td>991</td>\n",
       "      <td>626</td>\n",
       "      <td>871</td>\n",
       "      <td>1078</td>\n",
       "      <td>979</td>\n",
       "      <td>851</td>\n",
       "      <td>447</td>\n",
       "      <td>244</td>\n",
       "      <td>5</td>\n",
       "      <td>2</td>\n",
       "      <td>3</td>\n",
       "      <td>3</td>\n",
       "    </tr>\n",
       "  </tbody>\n",
       "</table>\n",
       "</div>"
      ],
      "text/plain": [
       "Hour      0   1   2   3   4   5   6     7      8      9      10     11     12  \\\n",
       "Edad                                                                            \n",
       "(0, 10]   23  14  12   1   6   1   1   318   6912  15974  17922  16317  11636   \n",
       "(10, 20]  10   0   3   0   0   0   0   160   3464   6169   7210   6481   4632   \n",
       "(20, 30]   6   6   1   2   0   2   4  2081  11091  16107  16363  14888  10298   \n",
       "(30, 40]  18   1   4   0   1   1   0  2909  19595  25152  23770  20132  14914   \n",
       "(40, 50]   9   0   1   1   1   0   0  2934  13345  15539  14018  11808   9751   \n",
       "(50, 60]   3   3   0   0   0   1   0  1862   8180  10266   9842   9256   7713   \n",
       "(60, 70]   0   1   0   0   0   1   0   964   6054   8675   9644   7966   5580   \n",
       "(70, 80]   3   0   1   0   0   0   0   392   2209   4368   4969   4448   2771   \n",
       "(80, 90]   0   1   1   0   0   0   0    23    572   1413   1868   1459    991   \n",
       "\n",
       "Hour         13     14     15     16     17     18     19    20   21   22  23  \n",
       "Edad                                                                           \n",
       "(0, 10]    8397  11633  18946  18878  18328  14552   6890   194  123   69  41  \n",
       "(10, 20]   4317   7579  11261  10825   9521   7479   3951   651   58   43  24  \n",
       "(20, 30]   7665  12105  14619  15312  15399  13360   8022  1213  190  191  60  \n",
       "(30, 40]  11980  18644  22586  23597  22984  20931  12888  1808  334  391  55  \n",
       "(40, 50]   7812  11823  13467  14110  13658  11399   6426  1329  129  172  51  \n",
       "(50, 60]   5944   8323   8925   9209   8588   6498   4015   663   76  118  34  \n",
       "(60, 70]   3933   5772   6008   5975   5119   3240   1605   396   65   57   9  \n",
       "(70, 80]   2108   3109   3809   3069   2522   1521    641   126   24   19   9  \n",
       "(80, 90]    626    871   1078    979    851    447    244     5    2    3   3  "
      ]
     },
     "execution_count": 108,
     "metadata": {},
     "output_type": "execute_result"
    }
   ],
   "source": [
    "pd.crosstab(df_intervalo_edad, df[\"Hour\"])"
   ]
  },
  {
   "cell_type": "code",
   "execution_count": 109,
   "metadata": {},
   "outputs": [
    {
     "data": {
      "text/plain": [
       "Text(0, 0.5, 'Cantidad de turnos')"
      ]
     },
     "execution_count": 109,
     "metadata": {},
     "output_type": "execute_result"
    },
    {
     "data": {
      "image/png": "[encoded data removed]",
      "text/plain": [
       "<Figure size 432x288 with 1 Axes>"
      ]
     },
     "metadata": {
      "needs_background": "light"
     },
     "output_type": "display_data"
    }
   ],
   "source": [
    "figsize=(15,10)\n",
    "plot = pd.crosstab(df_intervalo_edad,df.Hour).apply(lambda r: r/r.sum() *100,\n",
    "                                              axis=1).plot(kind='bar', stacked=True)\n",
    "plt.legend(loc='upper right')\n",
    "plt.ylabel('Cantidad de turnos')"
   ]
  },
  {
   "cell_type": "markdown",
   "metadata": {},
   "source": [
    "# Como evoluciona la cantidad de turnos y la cantidad de ausencias a lo largo del año ? Existe alguna tendencia ?"
   ]
  },
  {
   "cell_type": "code",
   "execution_count": 110,
   "metadata": {},
   "outputs": [
    {
     "data": {
      "text/plain": [
       "<matplotlib.axes._subplots.AxesSubplot at 0x3eb3e648>"
      ]
     },
     "execution_count": 110,
     "metadata": {},
     "output_type": "execute_result"
    },
    {
     "data": {
      "image/png": "[encoded data removed]",
      "text/plain": [
       "<Figure size 432x288 with 1 Axes>"
      ]
     },
     "metadata": {
      "needs_background": "light"
     },
     "output_type": "display_data"
    }
   ],
   "source": [
    "sns.countplot (data=df, x='Month' , color=BLUE)"
   ]
  },
  {
   "cell_type": "code",
   "execution_count": 111,
   "metadata": {},
   "outputs": [
    {
     "data": {
      "text/plain": [
       "(0, 120000)"
      ]
     },
     "execution_count": 111,
     "metadata": {},
     "output_type": "execute_result"
    },
    {
     "data": {
      "image/png": "[encoded data removed]",
      "text/plain": [
       "<Figure size 432x288 with 1 Axes>"
      ]
     },
     "metadata": {
      "needs_background": "light"
     },
     "output_type": "display_data"
    }
   ],
   "source": [
    "sns.countplot (data=df_turnos_ausentes, x='Month' , color=GREEN)\n",
    "plt.ylim(0,120000)"
   ]
  },
  {
   "cell_type": "markdown",
   "metadata": {},
   "source": [
    "# La cantidad de turnos y de ausencias a lo largo del año es uniforme"
   ]
  },
  {
   "cell_type": "code",
   "execution_count": 112,
   "metadata": {},
   "outputs": [
    {
     "data": {
      "text/plain": [
       "(1, 100)"
      ]
     },
     "execution_count": 112,
     "metadata": {},
     "output_type": "execute_result"
    },
    {
     "data": {
      "image/png": "[encoded data removed]",
      "text/plain": [
       "<Figure size 432x288 with 1 Axes>"
      ]
     },
     "metadata": {
      "needs_background": "light"
     },
     "output_type": "display_data"
    }
   ],
   "source": [
    "sns.distplot(df_por_paciente)\n",
    "plt.xlim(1,100)\n"
   ]
  },
  {
   "cell_type": "code",
   "execution_count": 113,
   "metadata": {},
   "outputs": [
    {
     "data": {
      "text/html": [
       "<div>\n",
       "<style scoped>\n",
       "    .dataframe tbody tr th:only-of-type {\n",
       "        vertical-align: middle;\n",
       "    }\n",
       "\n",
       "    .dataframe tbody tr th {\n",
       "        vertical-align: top;\n",
       "    }\n",
       "\n",
       "    .dataframe thead th {\n",
       "        text-align: right;\n",
       "    }\n",
       "</style>\n",
       "<table border=\"1\" class=\"dataframe\">\n",
       "  <thead>\n",
       "    <tr style=\"text-align: right;\">\n",
       "      <th></th>\n",
       "      <th>CantidadDeTurnos</th>\n",
       "    </tr>\n",
       "    <tr>\n",
       "      <th>Paciente</th>\n",
       "      <th></th>\n",
       "    </tr>\n",
       "  </thead>\n",
       "  <tbody>\n",
       "    <tr>\n",
       "      <th>0000bfc2a13c2b521f11ee15adb9b1bf</th>\n",
       "      <td>5</td>\n",
       "    </tr>\n",
       "    <tr>\n",
       "      <th>0000d0ca2375bde16d7b9bfc02dbf151</th>\n",
       "      <td>5</td>\n",
       "    </tr>\n",
       "    <tr>\n",
       "      <th>00016e74152f92212f7f3799eda62c57</th>\n",
       "      <td>41</td>\n",
       "    </tr>\n",
       "    <tr>\n",
       "      <th>0001ea3fd80ffed84ad7f8baff6f255e</th>\n",
       "      <td>3</td>\n",
       "    </tr>\n",
       "    <tr>\n",
       "      <th>000203f5a93e31088792913d275d8c42</th>\n",
       "      <td>4</td>\n",
       "    </tr>\n",
       "    <tr>\n",
       "      <th>...</th>\n",
       "      <td>...</td>\n",
       "    </tr>\n",
       "    <tr>\n",
       "      <th>fffe4ee972722123863ee4ed8e4dd9f1</th>\n",
       "      <td>8</td>\n",
       "    </tr>\n",
       "    <tr>\n",
       "      <th>fffedc69ec3f8ae618b49dbf99811cac</th>\n",
       "      <td>1</td>\n",
       "    </tr>\n",
       "    <tr>\n",
       "      <th>fffef9f05efac87c216d07357b832c07</th>\n",
       "      <td>17</td>\n",
       "    </tr>\n",
       "    <tr>\n",
       "      <th>fffefa0abe35e4d51f1c247c23075d76</th>\n",
       "      <td>2</td>\n",
       "    </tr>\n",
       "    <tr>\n",
       "      <th>fffff9d724b4eb39d38e244dca258562</th>\n",
       "      <td>1</td>\n",
       "    </tr>\n",
       "  </tbody>\n",
       "</table>\n",
       "<p>123336 rows × 1 columns</p>\n",
       "</div>"
      ],
      "text/plain": [
       "                                  CantidadDeTurnos\n",
       "Paciente                                          \n",
       "0000bfc2a13c2b521f11ee15adb9b1bf                 5\n",
       "0000d0ca2375bde16d7b9bfc02dbf151                 5\n",
       "00016e74152f92212f7f3799eda62c57                41\n",
       "0001ea3fd80ffed84ad7f8baff6f255e                 3\n",
       "000203f5a93e31088792913d275d8c42                 4\n",
       "...                                            ...\n",
       "fffe4ee972722123863ee4ed8e4dd9f1                 8\n",
       "fffedc69ec3f8ae618b49dbf99811cac                 1\n",
       "fffef9f05efac87c216d07357b832c07                17\n",
       "fffefa0abe35e4d51f1c247c23075d76                 2\n",
       "fffff9d724b4eb39d38e244dca258562                 1\n",
       "\n",
       "[123336 rows x 1 columns]"
      ]
     },
     "execution_count": 113,
     "metadata": {},
     "output_type": "execute_result"
    }
   ],
   "source": [
    "df_por_paciente"
   ]
  },
  {
   "cell_type": "code",
   "execution_count": 114,
   "metadata": {},
   "outputs": [],
   "source": [
    "df_por_paciente.columns = ['Frec_abs']"
   ]
  },
  {
   "cell_type": "code",
   "execution_count": 115,
   "metadata": {},
   "outputs": [],
   "source": [
    "df_por_paciente['Frec_rel'] = (100* df_por_paciente.Frec_abs)/len(df_por_paciente)"
   ]
  },
  {
   "cell_type": "code",
   "execution_count": 116,
   "metadata": {},
   "outputs": [],
   "source": [
    "Frec_rel_val =df_por_paciente['Frec_rel'].values"
   ]
  },
  {
   "cell_type": "code",
   "execution_count": 117,
   "metadata": {},
   "outputs": [],
   "source": [
    "acum = []"
   ]
  },
  {
   "cell_type": "code",
   "execution_count": 118,
   "metadata": {},
   "outputs": [],
   "source": [
    "valor_acum =0"
   ]
  },
  {
   "cell_type": "code",
   "execution_count": 119,
   "metadata": {},
   "outputs": [],
   "source": [
    "for i in Frec_rel_val :\n",
    "    valor_acum = valor_acum + i\n",
    "    acum.append(valor_acum)\n"
   ]
  },
  {
   "cell_type": "code",
   "execution_count": 120,
   "metadata": {},
   "outputs": [],
   "source": [
    "df_por_paciente['Frec_rel_acum'] = acum"
   ]
  },
  {
   "cell_type": "code",
   "execution_count": 121,
   "metadata": {},
   "outputs": [
    {
     "data": {
      "text/html": [
       "<div>\n",
       "<style scoped>\n",
       "    .dataframe tbody tr th:only-of-type {\n",
       "        vertical-align: middle;\n",
       "    }\n",
       "\n",
       "    .dataframe tbody tr th {\n",
       "        vertical-align: top;\n",
       "    }\n",
       "\n",
       "    .dataframe thead th {\n",
       "        text-align: right;\n",
       "    }\n",
       "</style>\n",
       "<table border=\"1\" class=\"dataframe\">\n",
       "  <thead>\n",
       "    <tr style=\"text-align: right;\">\n",
       "      <th></th>\n",
       "      <th>Frec_abs</th>\n",
       "      <th>Frec_rel</th>\n",
       "      <th>Frec_rel_acum</th>\n",
       "    </tr>\n",
       "    <tr>\n",
       "      <th>Paciente</th>\n",
       "      <th></th>\n",
       "      <th></th>\n",
       "      <th></th>\n",
       "    </tr>\n",
       "  </thead>\n",
       "  <tbody>\n",
       "    <tr>\n",
       "      <th>0000bfc2a13c2b521f11ee15adb9b1bf</th>\n",
       "      <td>5</td>\n",
       "      <td>0.004054</td>\n",
       "      <td>0.004054</td>\n",
       "    </tr>\n",
       "    <tr>\n",
       "      <th>0000d0ca2375bde16d7b9bfc02dbf151</th>\n",
       "      <td>5</td>\n",
       "      <td>0.004054</td>\n",
       "      <td>0.008108</td>\n",
       "    </tr>\n",
       "    <tr>\n",
       "      <th>00016e74152f92212f7f3799eda62c57</th>\n",
       "      <td>41</td>\n",
       "      <td>0.033243</td>\n",
       "      <td>0.041350</td>\n",
       "    </tr>\n",
       "    <tr>\n",
       "      <th>0001ea3fd80ffed84ad7f8baff6f255e</th>\n",
       "      <td>3</td>\n",
       "      <td>0.002432</td>\n",
       "      <td>0.043783</td>\n",
       "    </tr>\n",
       "    <tr>\n",
       "      <th>000203f5a93e31088792913d275d8c42</th>\n",
       "      <td>4</td>\n",
       "      <td>0.003243</td>\n",
       "      <td>0.047026</td>\n",
       "    </tr>\n",
       "    <tr>\n",
       "      <th>...</th>\n",
       "      <td>...</td>\n",
       "      <td>...</td>\n",
       "      <td>...</td>\n",
       "    </tr>\n",
       "    <tr>\n",
       "      <th>fffe4ee972722123863ee4ed8e4dd9f1</th>\n",
       "      <td>8</td>\n",
       "      <td>0.006486</td>\n",
       "      <td>827.946423</td>\n",
       "    </tr>\n",
       "    <tr>\n",
       "      <th>fffedc69ec3f8ae618b49dbf99811cac</th>\n",
       "      <td>1</td>\n",
       "      <td>0.000811</td>\n",
       "      <td>827.947234</td>\n",
       "    </tr>\n",
       "    <tr>\n",
       "      <th>fffef9f05efac87c216d07357b832c07</th>\n",
       "      <td>17</td>\n",
       "      <td>0.013783</td>\n",
       "      <td>827.961017</td>\n",
       "    </tr>\n",
       "    <tr>\n",
       "      <th>fffefa0abe35e4d51f1c247c23075d76</th>\n",
       "      <td>2</td>\n",
       "      <td>0.001622</td>\n",
       "      <td>827.962639</td>\n",
       "    </tr>\n",
       "    <tr>\n",
       "      <th>fffff9d724b4eb39d38e244dca258562</th>\n",
       "      <td>1</td>\n",
       "      <td>0.000811</td>\n",
       "      <td>827.963449</td>\n",
       "    </tr>\n",
       "  </tbody>\n",
       "</table>\n",
       "<p>123336 rows × 3 columns</p>\n",
       "</div>"
      ],
      "text/plain": [
       "                                  Frec_abs  Frec_rel  Frec_rel_acum\n",
       "Paciente                                                           \n",
       "0000bfc2a13c2b521f11ee15adb9b1bf         5  0.004054       0.004054\n",
       "0000d0ca2375bde16d7b9bfc02dbf151         5  0.004054       0.008108\n",
       "00016e74152f92212f7f3799eda62c57        41  0.033243       0.041350\n",
       "0001ea3fd80ffed84ad7f8baff6f255e         3  0.002432       0.043783\n",
       "000203f5a93e31088792913d275d8c42         4  0.003243       0.047026\n",
       "...                                    ...       ...            ...\n",
       "fffe4ee972722123863ee4ed8e4dd9f1         8  0.006486     827.946423\n",
       "fffedc69ec3f8ae618b49dbf99811cac         1  0.000811     827.947234\n",
       "fffef9f05efac87c216d07357b832c07        17  0.013783     827.961017\n",
       "fffefa0abe35e4d51f1c247c23075d76         2  0.001622     827.962639\n",
       "fffff9d724b4eb39d38e244dca258562         1  0.000811     827.963449\n",
       "\n",
       "[123336 rows x 3 columns]"
      ]
     },
     "execution_count": 121,
     "metadata": {},
     "output_type": "execute_result"
    }
   ],
   "source": [
    "df_por_paciente"
   ]
  },
  {
   "cell_type": "markdown",
   "metadata": {},
   "source": [
    "# Se realiza este gráfico para tratar de demostrar la relación entre la cantidad de turnos y la frecuencia acumulada ya que no se puedo realizar el diagrama de pareto debido a la gran cantidad de filas de la tabla y la imposibilidad de dividirla en intervalos"
   ]
  },
  {
   "cell_type": "code",
   "execution_count": 122,
   "metadata": {},
   "outputs": [
    {
     "data": {
      "text/plain": [
       "<seaborn.axisgrid.FacetGrid at 0x415388c8>"
      ]
     },
     "execution_count": 122,
     "metadata": {},
     "output_type": "execute_result"
    },
    {
     "data": {
      "image/png": "[encoded data removed]",
      "text/plain": [
       "<Figure size 1080x360 with 1 Axes>"
      ]
     },
     "metadata": {
      "needs_background": "light"
     },
     "output_type": "display_data"
    }
   ],
   "source": [
    "sns.catplot(x='Frec_abs', y='Frec_rel_acum', data = df_por_paciente, height = 5, aspect = 3)"
   ]
  },
  {
   "cell_type": "code",
   "execution_count": null,
   "metadata": {},
   "outputs": [],
   "source": []
  }
 ],
 "metadata": {
  "kernelspec": {
   "display_name": "Python 3",
   "language": "python",
   "name": "python3"
  },
  "language_info": {
   "codemirror_mode": {
    "name": "ipython",
    "version": 3
   },
   "file_extension": ".py",
   "mimetype": "text/x-python",
   "name": "python",
   "nbconvert_exporter": "python",
   "pygments_lexer": "ipython3",
   "version": "3.7.6"
  }
 },
 "nbformat": 4,
 "nbformat_minor": 4
}
