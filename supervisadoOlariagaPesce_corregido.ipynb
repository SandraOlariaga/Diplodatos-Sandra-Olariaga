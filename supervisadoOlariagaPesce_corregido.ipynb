{
 "cells": [
  {
   "cell_type": "markdown",
   "metadata": {},
   "source": [
    "# **Práctico de Aprendizaje Supervisado**\n",
    "\n",
    "La idea general de este práctico es profundizar sobre los modelos desarrollados en el práctico anterior. Además de buscar mejorar las predicciones, vamos a hacer énfasis en las bondades y limitaciones de cada modelo, como para intentar comprender qué hace que ciertos modelos se desempeñen mejor que otros. \n",
    "\n",
    "### **Modelos de ensamble**\n",
    "\n",
    "Los árboles de decisión suelen ser buenos modelos para trabajar con datos categóricos. Como nuestros datos son mayoritariamente de este tipo, vamos a estudiar un poco más en detalle esta familia de modelos. En este práctico vamos a emplear dos generalizaciones de árboles de decisión: [RandomForest](https://scikit-learn.org/stable/modules/generated/sklearn.ensemble.RandomForestClassifier.html) y [XGBoost](https://xgboost.readthedocs.io/en/latest/python/python_api.html#xgboost.XGBClassifier). Para este último, tienen que installar el paquete xgboost, que lo pueden hacer con ``pip install xgboost``. Estos dos modelos utilizan dos técnicas de ensamble: bagging y boosting, respectivamente, y cada uno de ellos tiene pros y contras. Aunque seguramente lo vieron en los teóricos, les recomiendo mirar los videos relacionados de [StatQuest](https://www.youtube.com/watch?v=J4Wdy0Wc_xQ&ab_channel=StatQuestwithJoshStarmer), que son bastante amenos.\n",
    "\n",
    "Para este práctico tendrán que entrenar ambos modelos y comparar los resultados con los obtenidos empleando un único árbol de decisión. Para darle robustez a los resultados, ahora utilizaremos [cross validation](https://scikit-learn.org/stable/modules/cross_validation.html) en los datos de entrenamiento (usen entre 3 y 5 divisones). \n",
    "\n",
    "\n",
    "### **Ajuste de hiperparámetros**\n",
    "\n",
    "Cada modelo tiene un conjunto de hiperparámetros que es necesario definir antes de entrenarlos. La cantidad de estos hiperparámetros depende mucho de la familia de modelos. Los modelos bayesianos, por ejemplo, suelen tener muy pocos, mientras que las redes neuronales pueden tener varios millones. \n",
    "\n",
    "En este práctico tendrán que realizar una búsqueda exhaustiva de hiperparámetros para los modelos elegidos. Como este proceso puede llegar a ser muy costoso computacionalmente, es importante que usen los insights que hayan obtenido en el práctico anterior para decidir qué hiperparámetros vale la pena variar, qué rangos de valores podría tomar, y cómo debería ser la variación (lineal, logarítmica). Para hacer esta búsqueda, utilicen al menos uno de los siguientes [métodos](https://towardsdatascience.com/hyperparameter-optimization-with-scikit-learn-scikit-opt-and-keras-f13367f3e796):\n",
    "\n",
    "- Grid search\n",
    "\n",
    "- Random search\n",
    "\n",
    "- Bayesian optimization\n",
    "\n",
    "**Opcional:** Si usan más de uno, comenten las ventajas y desventajas de cada método.\n",
    "\n",
    "\n",
    "### **Feature importance**\n",
    "\n",
    "En general, los features elegidos pueden ser más o menos informativos. Puede que algunos sean extremadamente útiles para realizar predicciones, mientras que otros no tengan ningún tipo de correlación con la variable objetivo. Incluso, algunos features, o combinaciones de features, pueden disminuir la performance de un modelo. Hay varios métodos para calcular la importancia de los features (varios de ellos descriptos [acá](https://machinelearningmastery.com/calculate-feature-importance-with-python/). Algunos métodos dependen del modelo en cuestión, y otros se pueden aplicar a todos los modelos. Dentro de estos últimos está el método que vamos a usar en este práctico, llamado [permutation feature importance](https://scikit-learn.org/stable/modules/permutation_importance.html). Básicamente, este método consiste en ver qué tanto varía la performance de un modelo si tomamos de a uno cada feature y lo randomizamos.\n",
    "\n",
    "Lo que deberán hacer es calcular la importancia de los features utilizados, determinar cuáles de ellos son los más informativos y discutir sobre el resultado obtenido. Por otro lado, evalúen cómo varía el poder predictivo del modelo si remueven los features menos importantes. \n",
    "\n",
    "**Opcional:** Cuando trabajen con árboles de decisión, van a ver que los modelos de ``sklearn`` tienen un atributo llamado ``.feature_importances_``. En este [link](https://towardsdatascience.com/explaining-feature-importance-by-example-of-a-random-forest-d9166011959e) hay una discusión sobre los pros y contras de este método, comparado con permutation feature importance. Si quieren, determinen la importancia de las dos maneras y evalúen cuál de las dos resulta más razonable.\n",
    "\n",
    "### **Opcional: Feature engineering**\n",
    "\n",
    "Trabajar con modelos complejos y ajustar hiperparámetros hace que los cálculos sean bastante pesados. Para acotar los tiempos, pueden dedicar un poco más de esfuerzo a la etapa de feature engineering. Acá hay varias cosas que se pueden hacer. Una de ellas ya la mencionamos en el apartado anterior (eliminar features con poca importancia). Otras opciones pueden ser:\n",
    "\n",
    "- Utilizar Label Encoding en lugar de One-Hot Encoding en las variables categóricas, particularmente en aquellas que tengan varias categorías. Usar Label Encoding para una variable categórica no ordinal puede parecer inadecuado, ya que estamos incorporando una relación ordinal ficticia. Como contraparte, esto nos puede dar una ventaja computacional muy grande. Al reducir el número de features, vamos a poder correr más instancias del modelo, con lo que podríamos explorar más el espacio de hiperparámetros, por ejemplo. Esto puede resultar en un modelo mejor que si hubiésemos utilizado One-Hot Encoding.\n",
    "\n",
    "- Utilizar modelos con features incrementales. La idea acá es arrancar con un modelo con muy pocos features, los que consideren más relevantes. A partir de ese modelo, ir incorporando de a uno nuevos features y evaluar si el modelo mejora o no. Si no hay una mejora significativa, descartar el feature, de manera tal de mantener el modelo fácil de entrenar.\n",
    "\n",
    "\n",
    "### **Opcional: Modelos no basados en árboles**\n",
    "\n",
    "A modo de comparación, pueden repetir lo anterior para algún modelo que no esté basado en árboles. Pueden usar modelos lineales o no lineales, los que quieran. Elijan uno que les parezca más apropiado y busquen maximizar la performance con una búsqueda exhaustiva de hiperparámetros. \n",
    "\n",
    "\n",
    "### **Notas**\n",
    "\n",
    "Para caracterizar el desempeño de los modelos deberán elegir, al igual que en el práctico anterior, una métrica. Pueden utilizar la misma que usaron antes o utilizar una nueva, pero una vez que la elijan, mantengan siempre la misma en todo el proceso.\n"
   ]
  },
  {
   "cell_type": "code",
   "execution_count": 1,
   "metadata": {},
   "outputs": [],
   "source": [
    "import os\n",
    "import numpy as np\n",
    "import pandas as pd\n",
    "import chardet\n",
    "import string\n",
    "np.random.seed(0)\n",
    "import seaborn as sn\n",
    "import matplotlib.pyplot as plt\n",
    "import warnings\n",
    "warnings.filterwarnings(\"ignore\")\n",
    "import re\n",
    "import unidecode"
   ]
  },
  {
   "cell_type": "code",
   "execution_count": 2,
   "metadata": {},
   "outputs": [],
   "source": [
    "dfp = pd.read_csv('turnos_con_paciente_2018-2019_despersonalizado.csv', sep=';')\n",
    "dfsp = pd.read_csv('turnos_sin_paciente_2018-2019_despersonalizado.csv', sep=';')\n",
    "#dfp = pd.read_csv(r'E:\\anaconda3\\envs\\mentoria_ausentismo\\supervisado\\turnos_con_paciente_2018-2019_despersonalizado.csv', sep=';')\n",
    "#dfsp = pd.read_csv(r'E:\\anaconda3\\envs\\mentoria_ausentismo\\supervisado\\turnos_sin_paciente_2018-2019_despersonalizado.csv', sep=';')"
   ]
  },
  {
   "cell_type": "code",
   "execution_count": 3,
   "metadata": {},
   "outputs": [],
   "source": [
    "## Renombramos columnas\n",
    "to_rename = {\n",
    "    'Centro de atención': 'CentroDeAtencion',\n",
    "    'Prestación asignada': 'Prestacion',\n",
    "    'Estado del turno': 'EstadoDelTurno',\n",
    "    'Nombre del canal': 'Canal',\n",
    "    'Fecha del turno': 'FechaDelTurno',\n",
    "    'Hora del turno': 'HoraDelTurno',\n",
    "    'Es sobre turno': 'EsSobreTurno',\n",
    "    'Tipo de turno asignado': 'TipoDeTurno'\n",
    "        }\n",
    "dfsp_r = dfsp.rename(columns=to_rename)"
   ]
  },
  {
   "cell_type": "code",
   "execution_count": 4,
   "metadata": {},
   "outputs": [],
   "source": [
    "## Parseamos fechas\n",
    "dfsp_r.FechaDelTurno = dfsp_r.FechaDelTurno + ' ' + dfsp_r.HoraDelTurno\n",
    "dfsp_r.FechaDelTurno = pd.to_datetime(dfsp_r.FechaDelTurno)\n",
    "dfsp_r = dfsp_r.drop(columns=['HoraDelTurno'])"
   ]
  },
  {
   "cell_type": "code",
   "execution_count": 5,
   "metadata": {},
   "outputs": [],
   "source": [
    "## Renombramos columnas\n",
    "to_rename = {\n",
    "    'CentroAtencion_Nombre': 'CentroDeAtencion',\n",
    "    'Servicio_Nombre': 'Servicio',\n",
    "    'TurnoEstado_Nombre': 'EstadoDelTurno',\n",
    "    'FechaTurno': 'FechaDelTurno',\n",
    "    'TipoTurno': 'TipoDeTurno',\n",
    "    'Dirección (localidad)' : 'Localidad',\n",
    "    'Dirección (provincia)' : 'Provincia',\n",
    "    'FechaOtrogado' : 'FechaOtorgado'\n",
    "    }\n",
    "dfp_r = dfp.rename(columns=to_rename)"
   ]
  },
  {
   "cell_type": "code",
   "execution_count": 6,
   "metadata": {},
   "outputs": [],
   "source": [
    "## Parseamos fechas\n",
    "dfp_r.FechaDelTurno = pd.to_datetime(dfp_r.FechaDelTurno)"
   ]
  },
  {
   "cell_type": "code",
   "execution_count": 7,
   "metadata": {},
   "outputs": [],
   "source": [
    "##Hacemos minúscula todo\n",
    "dfp_r.Localidad = dfp_r.Localidad.str.lower()\n",
    "dfp_r.Provincia = dfp_r.Provincia.str.lower()"
   ]
  },
  {
   "cell_type": "code",
   "execution_count": 8,
   "metadata": {},
   "outputs": [],
   "source": [
    "dfp_r.Localidad.replace(['-', ' '], 'No definido', inplace=True)\n",
    "dfp_r.loc[dfp_r.Localidad.isnull(), 'Localidad'] = 'No definido'\n",
    "dfp_r.Provincia.replace(['-', ' '], 'No definido', inplace=True)\n",
    "dfp_r.loc[dfp_r.Provincia.isnull(), 'Provincia'] = 'No definido'"
   ]
  },
  {
   "cell_type": "code",
   "execution_count": 9,
   "metadata": {},
   "outputs": [],
   "source": [
    "##Reemplazamos todos los _Córdoba_ mal escritos (ya revisados) por \"cordoba\"\n",
    "Mal_Escrito = ['cba', 'cordiba', 'cordo', 'cordobacapital', 'cordobacapitral', 'cordonba', 'corodba', 'crdoba', 'ordoba']\n",
    "dfp_r.Localidad.replace(Mal_Escrito,'cordoba', inplace=True)\n",
    "dfp_r.Provincia.replace(Mal_Escrito,'cordoba', inplace=True)"
   ]
  },
  {
   "cell_type": "code",
   "execution_count": 10,
   "metadata": {},
   "outputs": [],
   "source": [
    "#Localidad\n",
    "##Evaluamos y reemplazamos los que tenemos dudas (ya revisados), por \"cordoba\" \n",
    "Duda = ['capital', 'centro']\n",
    "dfp_r.loc[(dfp_r.Provincia == 'cordoba') & (dfp_r.Localidad.isin(Duda)), 'Localidad'] = 'cordoba'"
   ]
  },
  {
   "cell_type": "code",
   "execution_count": 11,
   "metadata": {},
   "outputs": [],
   "source": [
    "#Provincia\n",
    "##Reemplazamos los posibles \"nodefinido\" por \"cordoba\" en Provincia, cuando Localidad='cordoba'\n",
    "dfp_r.loc[dfp_r.Localidad == 'cordoba', 'Provincia'] = 'cordoba'"
   ]
  },
  {
   "cell_type": "code",
   "execution_count": 12,
   "metadata": {},
   "outputs": [],
   "source": [
    "##Reemplazamos todo lo que no es \"cordoba\" por \"otro\"\n",
    "dfp_r.loc[(dfp_r.Provincia != 'cordoba') , 'Provincia'] = 'otro'\n",
    "dfp_r.loc[(dfp_r.Provincia == 'nodefinido'), 'Provincia'] = 'otro'\n",
    "dfp_r.loc[(dfp_r.Localidad != 'cordoba') , 'Localidad'] = 'otro'\n",
    "dfp_r.loc[(dfp_r.Localidad == 'nodefinido'), 'Localidad'] = 'otro'"
   ]
  },
  {
   "cell_type": "code",
   "execution_count": 13,
   "metadata": {},
   "outputs": [],
   "source": [
    "dfp_r.EstadoDelTurno= dfp_r.EstadoDelTurno.replace ({'Atendiendo' :'Atendido','Asignado':'Atendido','Receptado':'Atendido'})"
   ]
  },
  {
   "cell_type": "code",
   "execution_count": 14,
   "metadata": {},
   "outputs": [],
   "source": [
    "dfsp_r_t= dfsp_r[dfsp_r.EstadoDelTurno.isin (['Atendido','Ausente'])]"
   ]
  },
  {
   "cell_type": "code",
   "execution_count": 15,
   "metadata": {},
   "outputs": [
    {
     "data": {
      "text/plain": [
       "array(['Atendido', 'Ausente'], dtype=object)"
      ]
     },
     "execution_count": 15,
     "metadata": {},
     "output_type": "execute_result"
    }
   ],
   "source": [
    "dfsp_r_t.EstadoDelTurno.unique()"
   ]
  },
  {
   "cell_type": "code",
   "execution_count": 16,
   "metadata": {},
   "outputs": [
    {
     "data": {
      "text/html": [
       "<div>\n",
       "<style scoped>\n",
       "    .dataframe tbody tr th:only-of-type {\n",
       "        vertical-align: middle;\n",
       "    }\n",
       "\n",
       "    .dataframe tbody tr th {\n",
       "        vertical-align: top;\n",
       "    }\n",
       "\n",
       "    .dataframe thead th {\n",
       "        text-align: right;\n",
       "    }\n",
       "</style>\n",
       "<table border=\"1\" class=\"dataframe\">\n",
       "  <thead>\n",
       "    <tr style=\"text-align: right;\">\n",
       "      <th></th>\n",
       "      <th>CentroDeAtencion</th>\n",
       "      <th>Prestador</th>\n",
       "      <th>Recurso</th>\n",
       "      <th>Servicio</th>\n",
       "      <th>FechaDelTurno</th>\n",
       "      <th>EstadoDelTurno</th>\n",
       "      <th>Sexo</th>\n",
       "      <th>Edad</th>\n",
       "      <th>HC</th>\n",
       "      <th>TipoDeTurno</th>\n",
       "      <th>Prestacion</th>\n",
       "      <th>FechaOtorgado</th>\n",
       "      <th>Localidad</th>\n",
       "      <th>Provincia</th>\n",
       "      <th>Canal</th>\n",
       "      <th>EsSobreTurno</th>\n",
       "    </tr>\n",
       "  </thead>\n",
       "  <tbody>\n",
       "    <tr>\n",
       "      <th>0</th>\n",
       "      <td>1</td>\n",
       "      <td>MEDIFE ASOCIACIÓN CIVIL</td>\n",
       "      <td>253</td>\n",
       "      <td>GUARDIA DE PEDIATRIA</td>\n",
       "      <td>2018-01-01 11:57:00</td>\n",
       "      <td>Atendido</td>\n",
       "      <td>F</td>\n",
       "      <td>4</td>\n",
       "      <td>0.0</td>\n",
       "      <td>Ulterior / Control</td>\n",
       "      <td>CONSULTA MEDICA</td>\n",
       "      <td>2018-01-01 11:58:10.047000</td>\n",
       "      <td>otro</td>\n",
       "      <td>otro</td>\n",
       "      <td>NaN</td>\n",
       "      <td>SI</td>\n",
       "    </tr>\n",
       "    <tr>\n",
       "      <th>1</th>\n",
       "      <td>1</td>\n",
       "      <td>MEDIFE ASOCIACIÓN CIVIL</td>\n",
       "      <td>253</td>\n",
       "      <td>GUARDIA DE PEDIATRIA</td>\n",
       "      <td>2018-01-01 12:20:00</td>\n",
       "      <td>Atendido</td>\n",
       "      <td>M</td>\n",
       "      <td>3</td>\n",
       "      <td>1.0</td>\n",
       "      <td>Ulterior / Control</td>\n",
       "      <td>CONSULTA MEDICA</td>\n",
       "      <td>2018-01-01 12:20:46.097000</td>\n",
       "      <td>otro</td>\n",
       "      <td>otro</td>\n",
       "      <td>NaN</td>\n",
       "      <td>SI</td>\n",
       "    </tr>\n",
       "    <tr>\n",
       "      <th>2</th>\n",
       "      <td>1</td>\n",
       "      <td>DASPU</td>\n",
       "      <td>253</td>\n",
       "      <td>GUARDIA DE PEDIATRIA</td>\n",
       "      <td>2018-01-01 12:23:00</td>\n",
       "      <td>Atendido</td>\n",
       "      <td>M</td>\n",
       "      <td>3</td>\n",
       "      <td>2.0</td>\n",
       "      <td>Ulterior / Control</td>\n",
       "      <td>CONSULTA MEDICA</td>\n",
       "      <td>2018-01-01 12:25:39.333000</td>\n",
       "      <td>otro</td>\n",
       "      <td>otro</td>\n",
       "      <td>NaN</td>\n",
       "      <td>SI</td>\n",
       "    </tr>\n",
       "    <tr>\n",
       "      <th>3</th>\n",
       "      <td>1</td>\n",
       "      <td>SWISS MEDICAL S.A.</td>\n",
       "      <td>253</td>\n",
       "      <td>GUARDIA DE PEDIATRIA</td>\n",
       "      <td>2018-01-01 12:27:00</td>\n",
       "      <td>Atendido</td>\n",
       "      <td>M</td>\n",
       "      <td>3</td>\n",
       "      <td>3.0</td>\n",
       "      <td>Ulterior / Control</td>\n",
       "      <td>CONSULTA MEDICA</td>\n",
       "      <td>2018-01-01 12:27:55.193000</td>\n",
       "      <td>otro</td>\n",
       "      <td>otro</td>\n",
       "      <td>NaN</td>\n",
       "      <td>SI</td>\n",
       "    </tr>\n",
       "    <tr>\n",
       "      <th>4</th>\n",
       "      <td>1</td>\n",
       "      <td>PARQUE SALUD S.A.</td>\n",
       "      <td>253</td>\n",
       "      <td>GUARDIA DE PEDIATRIA</td>\n",
       "      <td>2018-01-01 12:38:00</td>\n",
       "      <td>Atendido</td>\n",
       "      <td>F</td>\n",
       "      <td>3</td>\n",
       "      <td>4.0</td>\n",
       "      <td>Ulterior / Control</td>\n",
       "      <td>CONSULTA MEDICA</td>\n",
       "      <td>2018-01-01 12:39:04.563000</td>\n",
       "      <td>otro</td>\n",
       "      <td>otro</td>\n",
       "      <td>NaN</td>\n",
       "      <td>SI</td>\n",
       "    </tr>\n",
       "  </tbody>\n",
       "</table>\n",
       "</div>"
      ],
      "text/plain": [
       "   CentroDeAtencion                Prestador  Recurso              Servicio  \\\n",
       "0                 1  MEDIFE ASOCIACIÓN CIVIL      253  GUARDIA DE PEDIATRIA   \n",
       "1                 1  MEDIFE ASOCIACIÓN CIVIL      253  GUARDIA DE PEDIATRIA   \n",
       "2                 1                    DASPU      253  GUARDIA DE PEDIATRIA   \n",
       "3                 1       SWISS MEDICAL S.A.      253  GUARDIA DE PEDIATRIA   \n",
       "4                 1        PARQUE SALUD S.A.      253  GUARDIA DE PEDIATRIA   \n",
       "\n",
       "        FechaDelTurno EstadoDelTurno Sexo  Edad   HC         TipoDeTurno  \\\n",
       "0 2018-01-01 11:57:00       Atendido    F     4  0.0  Ulterior / Control   \n",
       "1 2018-01-01 12:20:00       Atendido    M     3  1.0  Ulterior / Control   \n",
       "2 2018-01-01 12:23:00       Atendido    M     3  2.0  Ulterior / Control   \n",
       "3 2018-01-01 12:27:00       Atendido    M     3  3.0  Ulterior / Control   \n",
       "4 2018-01-01 12:38:00       Atendido    F     3  4.0  Ulterior / Control   \n",
       "\n",
       "        Prestacion               FechaOtorgado Localidad Provincia Canal  \\\n",
       "0  CONSULTA MEDICA  2018-01-01 11:58:10.047000      otro      otro   NaN   \n",
       "1  CONSULTA MEDICA  2018-01-01 12:20:46.097000      otro      otro   NaN   \n",
       "2  CONSULTA MEDICA  2018-01-01 12:25:39.333000      otro      otro   NaN   \n",
       "3  CONSULTA MEDICA  2018-01-01 12:27:55.193000      otro      otro   NaN   \n",
       "4  CONSULTA MEDICA  2018-01-01 12:39:04.563000      otro      otro   NaN   \n",
       "\n",
       "  EsSobreTurno  \n",
       "0           SI  \n",
       "1           SI  \n",
       "2           SI  \n",
       "3           SI  \n",
       "4           SI  "
      ]
     },
     "execution_count": 16,
     "metadata": {},
     "output_type": "execute_result"
    }
   ],
   "source": [
    "cols = [\n",
    "    'CentroDeAtencion', 'Servicio', 'Recurso', 'FechaDelTurno', \n",
    "    'EstadoDelTurno', 'Prestacion', 'TipoDeTurno'\n",
    "]\n",
    "df = dfp_r.merge(dfsp_r_t, on=cols)\n",
    "df.head()"
   ]
  },
  {
   "cell_type": "code",
   "execution_count": 17,
   "metadata": {},
   "outputs": [
    {
     "data": {
      "text/plain": [
       "CentroDeAtencion             int64\n",
       "Prestador                   object\n",
       "Recurso                      int64\n",
       "Servicio                    object\n",
       "FechaDelTurno       datetime64[ns]\n",
       "EstadoDelTurno              object\n",
       "Sexo                        object\n",
       "Edad                         int64\n",
       "HC                         float64\n",
       "TipoDeTurno                 object\n",
       "Prestacion                  object\n",
       "FechaOtorgado               object\n",
       "Localidad                   object\n",
       "Provincia                   object\n",
       "Canal                       object\n",
       "EsSobreTurno                object\n",
       "dtype: object"
      ]
     },
     "execution_count": 17,
     "metadata": {},
     "output_type": "execute_result"
    }
   ],
   "source": [
    "df.dtypes"
   ]
  },
  {
   "cell_type": "code",
   "execution_count": 18,
   "metadata": {},
   "outputs": [
    {
     "data": {
      "text/plain": [
       "array(['SI', 'NO'], dtype=object)"
      ]
     },
     "execution_count": 18,
     "metadata": {},
     "output_type": "execute_result"
    }
   ],
   "source": [
    "df.EsSobreTurno.unique()"
   ]
  },
  {
   "cell_type": "code",
   "execution_count": 19,
   "metadata": {},
   "outputs": [],
   "source": [
    "df.loc[(df.Canal == 'Teléfono'), 'Canal'] = 'Telefono'"
   ]
  },
  {
   "cell_type": "code",
   "execution_count": 20,
   "metadata": {},
   "outputs": [],
   "source": [
    "df.loc[(df.Canal == 'Call Center'), 'Canal'] = 'Telefono'"
   ]
  },
  {
   "cell_type": "code",
   "execution_count": 21,
   "metadata": {},
   "outputs": [],
   "source": [
    "df.dropna( inplace=True )"
   ]
  },
  {
   "cell_type": "code",
   "execution_count": 22,
   "metadata": {},
   "outputs": [
    {
     "data": {
      "text/plain": [
       "array(['Recepción', 'Telefono', 'Turnos Online', 'No Definido',\n",
       "       'Chat/Redes Sociales'], dtype=object)"
      ]
     },
     "execution_count": 22,
     "metadata": {},
     "output_type": "execute_result"
    }
   ],
   "source": [
    "df.Canal.unique()"
   ]
  },
  {
   "cell_type": "code",
   "execution_count": 23,
   "metadata": {},
   "outputs": [],
   "source": [
    "df_1= df[df.Sexo.isin (['F','M'])]"
   ]
  },
  {
   "cell_type": "code",
   "execution_count": 24,
   "metadata": {},
   "outputs": [
    {
     "data": {
      "text/plain": [
       "array(['M', 'F'], dtype=object)"
      ]
     },
     "execution_count": 24,
     "metadata": {},
     "output_type": "execute_result"
    }
   ],
   "source": [
    "df_1.Sexo.unique()"
   ]
  },
  {
   "cell_type": "code",
   "execution_count": 25,
   "metadata": {},
   "outputs": [
    {
     "data": {
      "text/plain": [
       "array(['NO'], dtype=object)"
      ]
     },
     "execution_count": 25,
     "metadata": {},
     "output_type": "execute_result"
    }
   ],
   "source": [
    "df.EsSobreTurno.unique()"
   ]
  },
  {
   "cell_type": "code",
   "execution_count": 26,
   "metadata": {},
   "outputs": [],
   "source": [
    "df_1.HC = df_1.HC.astype(int)"
   ]
  },
  {
   "cell_type": "code",
   "execution_count": 27,
   "metadata": {},
   "outputs": [],
   "source": [
    "df_1 = df_1.drop(df_1[df_1['Edad'] < 18].index)"
   ]
  },
  {
   "cell_type": "code",
   "execution_count": 28,
   "metadata": {},
   "outputs": [],
   "source": [
    "df_1 = df_1.drop(df_1[df_1['Edad'] > 100].index)"
   ]
  },
  {
   "cell_type": "code",
   "execution_count": 29,
   "metadata": {},
   "outputs": [
    {
     "name": "stdout",
     "output_type": "stream",
     "text": [
      "18\n",
      "100\n"
     ]
    }
   ],
   "source": [
    "print (df_1.Edad.min())\n",
    "print (df_1.Edad.max())"
   ]
  },
  {
   "cell_type": "markdown",
   "metadata": {},
   "source": [
    "Si la fecha del turno otorgado es mayor a la fecha del turno colocar el valor 0 en AnticipacionDeReserva"
   ]
  },
  {
   "cell_type": "code",
   "execution_count": 30,
   "metadata": {},
   "outputs": [],
   "source": [
    "df_1['FechaOtorgado'] = pd.to_datetime(df.FechaOtorgado)"
   ]
  },
  {
   "cell_type": "code",
   "execution_count": 31,
   "metadata": {},
   "outputs": [],
   "source": [
    "df_1['FechaDiaDelTurno'] = [d.date() for d in df_1['FechaDelTurno']]\n",
    "df_1['HoraTurno'] = [d.time() for d in df_1['FechaDelTurno']]"
   ]
  },
  {
   "cell_type": "code",
   "execution_count": 32,
   "metadata": {},
   "outputs": [],
   "source": [
    "df_1['FechaDiaOtorgado'] = [d.date() for d in df_1['FechaOtorgado']]\n",
    "df_1['HoraOtorgado'] = [d.time() for d in df_1['FechaOtorgado']]"
   ]
  },
  {
   "cell_type": "code",
   "execution_count": 33,
   "metadata": {},
   "outputs": [],
   "source": [
    "df_1['DifDias'] = df_1.FechaDiaDelTurno - df_1.FechaDiaOtorgado"
   ]
  },
  {
   "cell_type": "code",
   "execution_count": 34,
   "metadata": {},
   "outputs": [],
   "source": [
    "x=pd.Timedelta(0,'d')"
   ]
  },
  {
   "cell_type": "code",
   "execution_count": 35,
   "metadata": {},
   "outputs": [],
   "source": [
    "df_1['AnticipacionDeReserva'] = 1"
   ]
  },
  {
   "cell_type": "code",
   "execution_count": 36,
   "metadata": {},
   "outputs": [],
   "source": [
    "df_1.loc[(df_1.DifDias == x ), 'AnticipacionDeReserva'] = 0"
   ]
  },
  {
   "cell_type": "code",
   "execution_count": 37,
   "metadata": {},
   "outputs": [],
   "source": [
    "#df_1.DifDias.unique()"
   ]
  },
  {
   "cell_type": "code",
   "execution_count": 38,
   "metadata": {},
   "outputs": [],
   "source": [
    "df_1['DiaTurno'] = df_1['FechaDelTurno'].apply(lambda time: time.dayofweek)\n",
    "df_1['MesTurno'] = df_1['FechaDelTurno'].apply(lambda time: time.month)\n",
    "df_1['DiaTurnoNombre'] = df_1['DiaTurno'].apply(lambda x: 'Lunes' if x == 0 else 'Martes' if x == 1\n",
    "                                 else 'Miercoles' if x == 2 else 'Jueves' if x == 3\n",
    "                                 else 'Viernes' if x== 4 else 'Sabado' if x == 5\n",
    "                                 else 'Domingo' )"
   ]
  },
  {
   "cell_type": "code",
   "execution_count": 39,
   "metadata": {},
   "outputs": [],
   "source": [
    "df_1 = df_1.drop(df_1[df_1['DiaTurnoNombre'] == 'Domingo'].index)"
   ]
  },
  {
   "cell_type": "code",
   "execution_count": 40,
   "metadata": {},
   "outputs": [
    {
     "data": {
      "text/plain": [
       "array(['Martes', 'Miercoles', 'Jueves', 'Viernes', 'Lunes', 'Sabado'],\n",
       "      dtype=object)"
      ]
     },
     "execution_count": 40,
     "metadata": {},
     "output_type": "execute_result"
    }
   ],
   "source": [
    "df_1.DiaTurnoNombre.unique()"
   ]
  },
  {
   "cell_type": "code",
   "execution_count": 41,
   "metadata": {},
   "outputs": [],
   "source": [
    "#df_1.Prestacion.unique()"
   ]
  },
  {
   "cell_type": "code",
   "execution_count": 42,
   "metadata": {},
   "outputs": [
    {
     "data": {
      "text/plain": [
       "array(['CARDIOLOGÍA', 'ANESTESIA', 'HEMATOLOGIA PRACTICAS',\n",
       "       'GINECO Y OBSTETRICIA', 'ORTOPEDIA Y TRAUMATO', 'NUTRICIÓN',\n",
       "       'UROLOGÍA', 'ENDOCRINOLOGÍA', 'GUARDIA DE TRAUMATO DIA',\n",
       "       'NEUROCIRUGÍA', 'DERMATOLOGÍA', 'AUDIOLOGÍA',\n",
       "       'OTORRINOLARINGOLOGÍA', 'NEUROLOGÍA', 'REUMATOLOGÍA',\n",
       "       'CLÍNICA MÉDICA', 'ONCOLOGÍA', 'HEMATOLOGÍA', 'GASTROENTEROLOGÍA',\n",
       "       'INFECTOLOGÍA', 'KINESIOL Y FISIOTERAPIA', 'GOTEO DE HIERRO',\n",
       "       'CIRUGÍA DE TÓRAX', 'GINECOLOGIA PRACTICAS CP',\n",
       "       'DEMANDA DE PEDIATRÍA', 'DIABETOLOGIA Y NUTRIC', 'GINECOLOGÍA',\n",
       "       'DEMANDA DE ORL', 'CIRUGÍA GENERAL', 'ALERGIA E INMUNOLOGÍA ',\n",
       "       'HOSPITAL DE DÍA', 'UNIDAD DEL DOLOR', 'DEMANDA DE ORL INF',\n",
       "       'OTORRINOLARINGOLOGIA INF', 'CIRUGÍA PLÁSTICA', 'PEDIATRÍA',\n",
       "       'CIRUGÍA VASCULAR PERIF', 'REUMATOLOGÍA INF',\n",
       "       'ORTOPEDIA Y TRAUMATO INF', 'DEMANDA DE DERMATOLOGIA',\n",
       "       'HIPERTENSIÓN ARTERIAL', 'DEMANDA DE GASTROENT',\n",
       "       'DEMANDA DE NEUROLOGÍA', 'NEONATOLOGÍA', 'CABEZA Y CUELLO',\n",
       "       'PSICOLOGÍA', 'ENDOCRINOLOGÍA INF', 'ALERGIA E INMUNOLOGÍA INF',\n",
       "       'NEFROLOGÍA', 'NEUMONOLOGÍA', 'DIABETOLOGIA Y NUTRIC INF',\n",
       "       'FERTILIDAD', 'DERMATOLOGÍA INF', 'GENETICA', 'NEUMONOLOGÍA INF',\n",
       "       'DEMANDA DE ENDOCRINOLOGIA', 'HEMATOLOGÍA INF', 'NEFROLOGÍA INF',\n",
       "       'NEUROLOGÍA INF', 'GASTROENTEROLOGÍA INF', 'CHEQUEO PEDIATRICO',\n",
       "       'CARDIOLOGÍA INF', 'ARRITMOLOGÍA', 'NUTRICIÓN INFANTIL',\n",
       "       'CIRUGÍA CARDIOVASCULAR', 'PSICOLOGÍA INF', 'PSIQUIATRÍA',\n",
       "       'ANDROLOGÍA', 'ADOLESCENCIA', 'UROLOGÍA INF', 'CHEQUEO UCC',\n",
       "       'DEMANDA DE GASTRO INF', 'CIRUGÍA PLÁSTICA INF',\n",
       "       'CIRUGÍA GENERAL INF', 'DERMOCOSMETICA', 'MICOLOGIA',\n",
       "       'OFTALMOLOGÍA', 'DEMANDA DE OFTALMOLOGIA', 'DEPORTOLOGÍA',\n",
       "       'FONOAUDIOLOGIA', 'FONOAUDIOLOGIA INF', 'DEMANDA DE ONCOLOGIA',\n",
       "       'ECOGRAFIA', 'MAMOGRAFIA', 'RESONANCIA', 'TOMOGRAFIA',\n",
       "       'RADIOGRAFIA', 'TERAPIA OCUPACIONAL', 'VIROLOGIA',\n",
       "       'INFECTOLOGÍA INF', 'DEMANDA DE HEMATOLOGIA', 'HEMODINAMIA',\n",
       "       'NEUROCIRUGÍA INF'], dtype=object)"
      ]
     },
     "execution_count": 42,
     "metadata": {},
     "output_type": "execute_result"
    }
   ],
   "source": [
    "df_1.Servicio.unique()"
   ]
  },
  {
   "cell_type": "code",
   "execution_count": 43,
   "metadata": {},
   "outputs": [],
   "source": [
    "for i in ['REUMATOLOGÍA INF','ENDOCRINOLOGÍA INF',\n",
    "          'DERMATOLOGÍA INF', 'DIABETOLOGIA Y NUTRIC INF',\n",
    "          'NEUMONOLOGÍA INF', 'NEFROLOGÍA INF', 'ALERGIA E INMUNOLOGÍA INF',\n",
    "          'ORTOPEDIA Y TRAUMATO INF','DIABETOLOGIA Y NUTRIC INF',\n",
    "          'OTORRINOLARINGOLOGIA INF','NEUROLOGÍA INF', \n",
    "          'HEMATOLOGÍA INF', 'NUTRICIÓN INFANTIL',\n",
    "          'CARDIOLOGÍA INF', 'GASTROENTEROLOGÍA INF'\n",
    "          'DEMANDA DE GASTRO INF', 'INFECTOLOGÍA INF'\n",
    "          'PSICOLOGÍA INF', 'CIRUGÍA PLÁSTICA INF',\n",
    "          'CIRUGÍA GENERAL INF', 'UROLOGÍA INF','DEMANDA DE GASTRO INF',\n",
    "          'FONOAUDIOLOGIA INF', 'NEUROCIRUGÍA INF', 'DEMANDA DE NEUROLOGIA INF',\n",
    "          'GUARDIA DE TRAUMATO DIA', 'PSICOLOGÍA INF', 'CUIDADOS PALIATIVOS INF',\n",
    "          'OTORRINOLARINGOLOGIA INF', 'DEMANDA DE PEDIATRÍA', 'INFECTOLOGÍA INF' ,'CUENTAS PROPIAS ALERGIA E INMUNOLOGIA INF',\n",
    "          'PEDIATRÍA', 'DEMANDA DE ORL INF', 'GASTROENTEROLOGÍA INF', 'TERAPIA OCUPACIONAL INF',\n",
    "          'GUARDIA DE PEDIATRIA', 'CHEQUEO PEDIATRICO']:\n",
    "    df_1 = df_1.drop(df_1[df_1['Servicio'] == i].index)"
   ]
  },
  {
   "cell_type": "code",
   "execution_count": 44,
   "metadata": {},
   "outputs": [
    {
     "data": {
      "text/plain": [
       "array(['CARDIOLOGÍA', 'ANESTESIA', 'HEMATOLOGIA PRACTICAS',\n",
       "       'GINECO Y OBSTETRICIA', 'ORTOPEDIA Y TRAUMATO', 'NUTRICIÓN',\n",
       "       'UROLOGÍA', 'ENDOCRINOLOGÍA', 'NEUROCIRUGÍA', 'DERMATOLOGÍA',\n",
       "       'AUDIOLOGÍA', 'OTORRINOLARINGOLOGÍA', 'NEUROLOGÍA', 'REUMATOLOGÍA',\n",
       "       'CLÍNICA MÉDICA', 'ONCOLOGÍA', 'HEMATOLOGÍA', 'GASTROENTEROLOGÍA',\n",
       "       'INFECTOLOGÍA', 'KINESIOL Y FISIOTERAPIA', 'GOTEO DE HIERRO',\n",
       "       'CIRUGÍA DE TÓRAX', 'GINECOLOGIA PRACTICAS CP',\n",
       "       'DIABETOLOGIA Y NUTRIC', 'GINECOLOGÍA', 'DEMANDA DE ORL',\n",
       "       'CIRUGÍA GENERAL', 'ALERGIA E INMUNOLOGÍA ', 'HOSPITAL DE DÍA',\n",
       "       'UNIDAD DEL DOLOR', 'CIRUGÍA PLÁSTICA', 'CIRUGÍA VASCULAR PERIF',\n",
       "       'DEMANDA DE DERMATOLOGIA', 'HIPERTENSIÓN ARTERIAL',\n",
       "       'DEMANDA DE GASTROENT', 'DEMANDA DE NEUROLOGÍA', 'NEONATOLOGÍA',\n",
       "       'CABEZA Y CUELLO', 'PSICOLOGÍA', 'NEFROLOGÍA', 'NEUMONOLOGÍA',\n",
       "       'FERTILIDAD', 'GENETICA', 'DEMANDA DE ENDOCRINOLOGIA',\n",
       "       'ARRITMOLOGÍA', 'CIRUGÍA CARDIOVASCULAR', 'PSIQUIATRÍA',\n",
       "       'ANDROLOGÍA', 'ADOLESCENCIA', 'CHEQUEO UCC', 'DERMOCOSMETICA',\n",
       "       'MICOLOGIA', 'OFTALMOLOGÍA', 'DEMANDA DE OFTALMOLOGIA',\n",
       "       'DEPORTOLOGÍA', 'FONOAUDIOLOGIA', 'DEMANDA DE ONCOLOGIA',\n",
       "       'ECOGRAFIA', 'MAMOGRAFIA', 'RESONANCIA', 'TOMOGRAFIA',\n",
       "       'RADIOGRAFIA', 'TERAPIA OCUPACIONAL', 'VIROLOGIA',\n",
       "       'DEMANDA DE HEMATOLOGIA', 'HEMODINAMIA'], dtype=object)"
      ]
     },
     "execution_count": 44,
     "metadata": {},
     "output_type": "execute_result"
    }
   ],
   "source": [
    "df_1.Servicio.unique()"
   ]
  },
  {
   "cell_type": "code",
   "execution_count": 45,
   "metadata": {},
   "outputs": [],
   "source": [
    "df_1 = df_1.drop(df_1[df_1['CentroDeAtencion'] == 5].index)"
   ]
  },
  {
   "cell_type": "code",
   "execution_count": 46,
   "metadata": {},
   "outputs": [],
   "source": [
    "df_1 = df_1.drop(df_1[df_1['CentroDeAtencion'] == 6].index)"
   ]
  },
  {
   "cell_type": "code",
   "execution_count": 47,
   "metadata": {},
   "outputs": [
    {
     "data": {
      "text/plain": [
       "array([1, 4, 3, 2], dtype=int64)"
      ]
     },
     "execution_count": 47,
     "metadata": {},
     "output_type": "execute_result"
    }
   ],
   "source": [
    "df_1.CentroDeAtencion.unique()"
   ]
  },
  {
   "cell_type": "code",
   "execution_count": 48,
   "metadata": {},
   "outputs": [],
   "source": [
    "df_1['ConsultaMedica'] = 0"
   ]
  },
  {
   "cell_type": "code",
   "execution_count": 49,
   "metadata": {},
   "outputs": [],
   "source": [
    "df_1.loc[(df_1.Prestacion== 'CONSULTA MEDICA' ), 'ConsultaMedica'] = 1"
   ]
  },
  {
   "cell_type": "code",
   "execution_count": 50,
   "metadata": {},
   "outputs": [
    {
     "data": {
      "text/plain": [
       "array([0, 1], dtype=int64)"
      ]
     },
     "execution_count": 50,
     "metadata": {},
     "output_type": "execute_result"
    }
   ],
   "source": [
    "df_1.ConsultaMedica.unique()"
   ]
  },
  {
   "cell_type": "code",
   "execution_count": 51,
   "metadata": {},
   "outputs": [],
   "source": [
    "df_1['ConsumidorFinal'] = 0"
   ]
  },
  {
   "cell_type": "code",
   "execution_count": 52,
   "metadata": {},
   "outputs": [],
   "source": [
    "df_1.loc[(df_1.Prestador == 'CONSUMIDOR FINAL' ), 'ConsumidorFinal'] = 1"
   ]
  },
  {
   "cell_type": "code",
   "execution_count": 53,
   "metadata": {},
   "outputs": [
    {
     "data": {
      "text/plain": [
       "array([0, 1], dtype=int64)"
      ]
     },
     "execution_count": 53,
     "metadata": {},
     "output_type": "execute_result"
    }
   ],
   "source": [
    "df_1.ConsumidorFinal.unique()"
   ]
  },
  {
   "cell_type": "markdown",
   "metadata": {},
   "source": [
    "Busco valores nulos en el df_1"
   ]
  },
  {
   "cell_type": "code",
   "execution_count": 54,
   "metadata": {},
   "outputs": [
    {
     "data": {
      "text/plain": [
       "False"
      ]
     },
     "execution_count": 54,
     "metadata": {},
     "output_type": "execute_result"
    }
   ],
   "source": [
    "df_1.isnull().values.any()"
   ]
  },
  {
   "cell_type": "code",
   "execution_count": 55,
   "metadata": {},
   "outputs": [
    {
     "data": {
      "text/plain": [
       "0"
      ]
     },
     "execution_count": 55,
     "metadata": {},
     "output_type": "execute_result"
    }
   ],
   "source": [
    "df_1.isnull().sum().sum()"
   ]
  },
  {
   "cell_type": "code",
   "execution_count": 56,
   "metadata": {},
   "outputs": [
    {
     "data": {
      "text/plain": [
       "Index([], dtype='object')"
      ]
     },
     "execution_count": 56,
     "metadata": {},
     "output_type": "execute_result"
    }
   ],
   "source": [
    "df_1.columns[df_1.isnull().any()]"
   ]
  },
  {
   "cell_type": "code",
   "execution_count": 57,
   "metadata": {},
   "outputs": [
    {
     "data": {
      "text/plain": [
       "CentroDeAtencion                   int64\n",
       "Prestador                         object\n",
       "Recurso                            int64\n",
       "Servicio                          object\n",
       "FechaDelTurno             datetime64[ns]\n",
       "EstadoDelTurno                    object\n",
       "Sexo                              object\n",
       "Edad                               int64\n",
       "HC                                 int32\n",
       "TipoDeTurno                       object\n",
       "Prestacion                        object\n",
       "FechaOtorgado             datetime64[ns]\n",
       "Localidad                         object\n",
       "Provincia                         object\n",
       "Canal                             object\n",
       "EsSobreTurno                      object\n",
       "FechaDiaDelTurno                  object\n",
       "HoraTurno                         object\n",
       "FechaDiaOtorgado                  object\n",
       "HoraOtorgado                      object\n",
       "DifDias                  timedelta64[ns]\n",
       "AnticipacionDeReserva              int64\n",
       "DiaTurno                           int64\n",
       "MesTurno                           int64\n",
       "DiaTurnoNombre                    object\n",
       "ConsultaMedica                     int64\n",
       "ConsumidorFinal                    int64\n",
       "dtype: object"
      ]
     },
     "execution_count": 57,
     "metadata": {},
     "output_type": "execute_result"
    }
   ],
   "source": [
    "df_1.dtypes"
   ]
  },
  {
   "cell_type": "code",
   "execution_count": 58,
   "metadata": {},
   "outputs": [
    {
     "data": {
      "text/plain": [
       "array([1, 2, 3, 4, 0, 5], dtype=int64)"
      ]
     },
     "execution_count": 58,
     "metadata": {},
     "output_type": "execute_result"
    }
   ],
   "source": [
    "df_1.DiaTurno.unique()"
   ]
  },
  {
   "cell_type": "markdown",
   "metadata": {},
   "source": [
    "Aclaracion 6 correspondia a Domingo que ya no esta"
   ]
  },
  {
   "cell_type": "code",
   "execution_count": 59,
   "metadata": {},
   "outputs": [
    {
     "data": {
      "text/plain": [
       "array(['Práctica', 'Ulterior / Control', 'Primera Vez', 'DNP', 'Recetas'],\n",
       "      dtype=object)"
      ]
     },
     "execution_count": 59,
     "metadata": {},
     "output_type": "execute_result"
    }
   ],
   "source": [
    "df_1.TipoDeTurno.unique()"
   ]
  },
  {
   "cell_type": "code",
   "execution_count": 60,
   "metadata": {},
   "outputs": [],
   "source": [
    "df_1['TipoDeTurnoEncode'] = df_1['TipoDeTurno'].apply(lambda x: 1 if x == 'Práctica' else 2 if x == 'Primera Vez'\n",
    "                                 else  3 if x == 'Ulterior / Control' else 4 if x == 'DNP'\n",
    "                                 else 5 )"
   ]
  },
  {
   "cell_type": "code",
   "execution_count": 61,
   "metadata": {},
   "outputs": [
    {
     "data": {
      "text/plain": [
       "array([1, 3, 2, 4, 5], dtype=int64)"
      ]
     },
     "execution_count": 61,
     "metadata": {},
     "output_type": "execute_result"
    }
   ],
   "source": [
    "df_1.TipoDeTurnoEncode.unique()"
   ]
  },
  {
   "cell_type": "code",
   "execution_count": 62,
   "metadata": {},
   "outputs": [
    {
     "data": {
      "text/plain": [
       "array([1, 4, 3, 2], dtype=int64)"
      ]
     },
     "execution_count": 62,
     "metadata": {},
     "output_type": "execute_result"
    }
   ],
   "source": [
    "df_1.CentroDeAtencion.unique()"
   ]
  },
  {
   "cell_type": "code",
   "execution_count": 63,
   "metadata": {},
   "outputs": [
    {
     "data": {
      "text/plain": [
       "array(['Atendido', 'Ausente'], dtype=object)"
      ]
     },
     "execution_count": 63,
     "metadata": {},
     "output_type": "execute_result"
    }
   ],
   "source": [
    "df_1.EstadoDelTurno.unique()"
   ]
  },
  {
   "cell_type": "code",
   "execution_count": 64,
   "metadata": {},
   "outputs": [],
   "source": [
    "df_1['EstadoDelTurnoEncode'] = 0"
   ]
  },
  {
   "cell_type": "code",
   "execution_count": 65,
   "metadata": {},
   "outputs": [],
   "source": [
    "df_1.loc[(df_1.EstadoDelTurno == 'Ausente' ), 'EstadoDelTurnoEncode'] = 1"
   ]
  },
  {
   "cell_type": "code",
   "execution_count": 66,
   "metadata": {},
   "outputs": [
    {
     "data": {
      "text/plain": [
       "array([0, 1], dtype=int64)"
      ]
     },
     "execution_count": 66,
     "metadata": {},
     "output_type": "execute_result"
    }
   ],
   "source": [
    "df_1.EstadoDelTurnoEncode.unique()"
   ]
  },
  {
   "cell_type": "code",
   "execution_count": 67,
   "metadata": {},
   "outputs": [],
   "source": [
    "df_1['SexoEncode'] = 0"
   ]
  },
  {
   "cell_type": "code",
   "execution_count": 68,
   "metadata": {},
   "outputs": [],
   "source": [
    "df_1.loc[(df_1.Sexo == 'F' ), 'SexoEncode'] = 1"
   ]
  },
  {
   "cell_type": "code",
   "execution_count": 69,
   "metadata": {},
   "outputs": [],
   "source": [
    "df_1.loc[(df_1.Sexo == 'M' ), 'SexoEncode'] = 0"
   ]
  },
  {
   "cell_type": "code",
   "execution_count": 70,
   "metadata": {},
   "outputs": [
    {
     "data": {
      "text/plain": [
       "array([0, 1], dtype=int64)"
      ]
     },
     "execution_count": 70,
     "metadata": {},
     "output_type": "execute_result"
    }
   ],
   "source": [
    "df_1.SexoEncode.unique()"
   ]
  },
  {
   "cell_type": "code",
   "execution_count": 71,
   "metadata": {},
   "outputs": [
    {
     "data": {
      "text/plain": [
       "array(['NO'], dtype=object)"
      ]
     },
     "execution_count": 71,
     "metadata": {},
     "output_type": "execute_result"
    }
   ],
   "source": [
    "df_1.EsSobreTurno.unique()"
   ]
  },
  {
   "cell_type": "code",
   "execution_count": 72,
   "metadata": {},
   "outputs": [],
   "source": [
    "df_1['STEncode'] = 0"
   ]
  },
  {
   "cell_type": "code",
   "execution_count": 73,
   "metadata": {},
   "outputs": [],
   "source": [
    "df_1.loc[(df_1.EsSobreTurno == 'NO' ), 'STEncode'] = 1"
   ]
  },
  {
   "cell_type": "code",
   "execution_count": 74,
   "metadata": {},
   "outputs": [
    {
     "data": {
      "text/plain": [
       "array([1], dtype=int64)"
      ]
     },
     "execution_count": 74,
     "metadata": {},
     "output_type": "execute_result"
    }
   ],
   "source": [
    "df_1.STEncode.unique()"
   ]
  },
  {
   "cell_type": "code",
   "execution_count": 75,
   "metadata": {},
   "outputs": [
    {
     "data": {
      "text/plain": [
       "CentroDeAtencion                   int64\n",
       "Prestador                         object\n",
       "Recurso                            int64\n",
       "Servicio                          object\n",
       "FechaDelTurno             datetime64[ns]\n",
       "EstadoDelTurno                    object\n",
       "Sexo                              object\n",
       "Edad                               int64\n",
       "HC                                 int32\n",
       "TipoDeTurno                       object\n",
       "Prestacion                        object\n",
       "FechaOtorgado             datetime64[ns]\n",
       "Localidad                         object\n",
       "Provincia                         object\n",
       "Canal                             object\n",
       "EsSobreTurno                      object\n",
       "FechaDiaDelTurno                  object\n",
       "HoraTurno                         object\n",
       "FechaDiaOtorgado                  object\n",
       "HoraOtorgado                      object\n",
       "DifDias                  timedelta64[ns]\n",
       "AnticipacionDeReserva              int64\n",
       "DiaTurno                           int64\n",
       "MesTurno                           int64\n",
       "DiaTurnoNombre                    object\n",
       "ConsultaMedica                     int64\n",
       "ConsumidorFinal                    int64\n",
       "TipoDeTurnoEncode                  int64\n",
       "EstadoDelTurnoEncode               int64\n",
       "SexoEncode                         int64\n",
       "STEncode                           int64\n",
       "dtype: object"
      ]
     },
     "execution_count": 75,
     "metadata": {},
     "output_type": "execute_result"
    }
   ],
   "source": [
    "df_1.dtypes"
   ]
  },
  {
   "cell_type": "markdown",
   "metadata": {},
   "source": [
    "#### Cargamos los datasets de información climática"
   ]
  },
  {
   "cell_type": "code",
   "execution_count": 76,
   "metadata": {},
   "outputs": [],
   "source": [
    "df_clima2018 = pd.read_csv('clima_2018.csv')\n",
    "df_clima2019 = pd.read_csv('clima_2019.csv')"
   ]
  },
  {
   "cell_type": "code",
   "execution_count": 77,
   "metadata": {},
   "outputs": [],
   "source": [
    "df_clima = pd.concat([df_clima2018, df_clima2019], ignore_index=True, sort=False)"
   ]
  },
  {
   "cell_type": "code",
   "execution_count": 78,
   "metadata": {},
   "outputs": [],
   "source": [
    "to_rename = {\n",
    "    'Fecha' : 'FechaDiaDelTurno' ,\n",
    "    'Hr.Med(%)': 'HrMedPorcentaje',\n",
    "    'Prec.(mm)': 'PrecipMM',\n",
    "    'Pres.n. mar(Hp)': 'PresionHp',\n",
    "    'TdMed(C)': 'TempMedCentigrados',\n",
    "    'Dir.': 'Direccion',\n",
    "    'Rch.': 'Rch',\n",
    "    'Vel.': 'Vel',\n",
    "            }\n",
    "df_clima_r = df_clima.rename(columns=to_rename)\n"
   ]
  },
  {
   "cell_type": "code",
   "execution_count": 79,
   "metadata": {},
   "outputs": [],
   "source": [
    "df_clima_r= df_clima_r.drop(['HrMedPorcentaje', 'NubTotOct', 'NubbajOct', 'PresionHp', \n",
    "             'TempMedCentigrados', 'Tmax', 'Tmed', 'Tmin', 'Direccion', \n",
    "             'Rch', 'Vel', 'VisKm'], axis=1)"
   ]
  },
  {
   "cell_type": "code",
   "execution_count": 80,
   "metadata": {},
   "outputs": [],
   "source": [
    "df_clima_r['FechaDiaDelTurno'] = pd.to_datetime(df_clima_r.FechaDiaDelTurno)"
   ]
  },
  {
   "cell_type": "code",
   "execution_count": 81,
   "metadata": {},
   "outputs": [
    {
     "data": {
      "text/plain": [
       "FechaDiaDelTurno    datetime64[ns]\n",
       "PrecipMM                    object\n",
       "dtype: object"
      ]
     },
     "execution_count": 81,
     "metadata": {},
     "output_type": "execute_result"
    }
   ],
   "source": [
    "df_clima_r.dtypes"
   ]
  },
  {
   "cell_type": "code",
   "execution_count": 82,
   "metadata": {},
   "outputs": [
    {
     "data": {
      "text/html": [
       "<div>\n",
       "<style scoped>\n",
       "    .dataframe tbody tr th:only-of-type {\n",
       "        vertical-align: middle;\n",
       "    }\n",
       "\n",
       "    .dataframe tbody tr th {\n",
       "        vertical-align: top;\n",
       "    }\n",
       "\n",
       "    .dataframe thead th {\n",
       "        text-align: right;\n",
       "    }\n",
       "</style>\n",
       "<table border=\"1\" class=\"dataframe\">\n",
       "  <thead>\n",
       "    <tr style=\"text-align: right;\">\n",
       "      <th></th>\n",
       "      <th>FechaDiaDelTurno</th>\n",
       "      <th>PrecipMM</th>\n",
       "    </tr>\n",
       "  </thead>\n",
       "  <tbody>\n",
       "    <tr>\n",
       "      <th>0</th>\n",
       "      <td>2018-01-01</td>\n",
       "      <td>----</td>\n",
       "    </tr>\n",
       "    <tr>\n",
       "      <th>1</th>\n",
       "      <td>2018-02-01</td>\n",
       "      <td>0.0</td>\n",
       "    </tr>\n",
       "    <tr>\n",
       "      <th>2</th>\n",
       "      <td>2018-03-01</td>\n",
       "      <td>0.0</td>\n",
       "    </tr>\n",
       "    <tr>\n",
       "      <th>3</th>\n",
       "      <td>2018-04-01</td>\n",
       "      <td>0.0</td>\n",
       "    </tr>\n",
       "    <tr>\n",
       "      <th>4</th>\n",
       "      <td>2018-05-01</td>\n",
       "      <td>0.0</td>\n",
       "    </tr>\n",
       "    <tr>\n",
       "      <th>...</th>\n",
       "      <td>...</td>\n",
       "      <td>...</td>\n",
       "    </tr>\n",
       "    <tr>\n",
       "      <th>725</th>\n",
       "      <td>2019-12-27</td>\n",
       "      <td>0.0</td>\n",
       "    </tr>\n",
       "    <tr>\n",
       "      <th>726</th>\n",
       "      <td>2019-12-28</td>\n",
       "      <td>0.0</td>\n",
       "    </tr>\n",
       "    <tr>\n",
       "      <th>727</th>\n",
       "      <td>2019-12-29</td>\n",
       "      <td>10.0</td>\n",
       "    </tr>\n",
       "    <tr>\n",
       "      <th>728</th>\n",
       "      <td>2019-12-30</td>\n",
       "      <td>130.0</td>\n",
       "    </tr>\n",
       "    <tr>\n",
       "      <th>729</th>\n",
       "      <td>2019-12-31</td>\n",
       "      <td>0.0</td>\n",
       "    </tr>\n",
       "  </tbody>\n",
       "</table>\n",
       "<p>730 rows × 2 columns</p>\n",
       "</div>"
      ],
      "text/plain": [
       "    FechaDiaDelTurno PrecipMM\n",
       "0         2018-01-01     ----\n",
       "1         2018-02-01      0.0\n",
       "2         2018-03-01      0.0\n",
       "3         2018-04-01      0.0\n",
       "4         2018-05-01      0.0\n",
       "..               ...      ...\n",
       "725       2019-12-27      0.0\n",
       "726       2019-12-28      0.0\n",
       "727       2019-12-29     10.0\n",
       "728       2019-12-30    130.0\n",
       "729       2019-12-31      0.0\n",
       "\n",
       "[730 rows x 2 columns]"
      ]
     },
     "execution_count": 82,
     "metadata": {},
     "output_type": "execute_result"
    }
   ],
   "source": [
    "df_clima_r"
   ]
  },
  {
   "cell_type": "code",
   "execution_count": 83,
   "metadata": {},
   "outputs": [],
   "source": [
    "df_1['FechaDiaDelTurno'] = pd.to_datetime(df_1.FechaDiaDelTurno)"
   ]
  },
  {
   "cell_type": "code",
   "execution_count": 84,
   "metadata": {},
   "outputs": [
    {
     "data": {
      "text/html": [
       "<div>\n",
       "<style scoped>\n",
       "    .dataframe tbody tr th:only-of-type {\n",
       "        vertical-align: middle;\n",
       "    }\n",
       "\n",
       "    .dataframe tbody tr th {\n",
       "        vertical-align: top;\n",
       "    }\n",
       "\n",
       "    .dataframe thead th {\n",
       "        text-align: right;\n",
       "    }\n",
       "</style>\n",
       "<table border=\"1\" class=\"dataframe\">\n",
       "  <thead>\n",
       "    <tr style=\"text-align: right;\">\n",
       "      <th></th>\n",
       "      <th>FechaDiaDelTurno</th>\n",
       "      <th>PrecipMM</th>\n",
       "      <th>CentroDeAtencion</th>\n",
       "      <th>Prestador</th>\n",
       "      <th>Recurso</th>\n",
       "      <th>Servicio</th>\n",
       "      <th>FechaDelTurno</th>\n",
       "      <th>EstadoDelTurno</th>\n",
       "      <th>Sexo</th>\n",
       "      <th>Edad</th>\n",
       "      <th>...</th>\n",
       "      <th>AnticipacionDeReserva</th>\n",
       "      <th>DiaTurno</th>\n",
       "      <th>MesTurno</th>\n",
       "      <th>DiaTurnoNombre</th>\n",
       "      <th>ConsultaMedica</th>\n",
       "      <th>ConsumidorFinal</th>\n",
       "      <th>TipoDeTurnoEncode</th>\n",
       "      <th>EstadoDelTurnoEncode</th>\n",
       "      <th>SexoEncode</th>\n",
       "      <th>STEncode</th>\n",
       "    </tr>\n",
       "  </thead>\n",
       "  <tbody>\n",
       "    <tr>\n",
       "      <th>0</th>\n",
       "      <td>2018-02-01</td>\n",
       "      <td>0.0</td>\n",
       "      <td>1</td>\n",
       "      <td>GALENO ARGENTINA SA</td>\n",
       "      <td>290</td>\n",
       "      <td>HEMATOLOGIA PRACTICAS</td>\n",
       "      <td>2018-02-01 08:00:00</td>\n",
       "      <td>Atendido</td>\n",
       "      <td>F</td>\n",
       "      <td>35</td>\n",
       "      <td>...</td>\n",
       "      <td>1</td>\n",
       "      <td>3</td>\n",
       "      <td>2</td>\n",
       "      <td>Jueves</td>\n",
       "      <td>0</td>\n",
       "      <td>0</td>\n",
       "      <td>1</td>\n",
       "      <td>0</td>\n",
       "      <td>1</td>\n",
       "      <td>1</td>\n",
       "    </tr>\n",
       "    <tr>\n",
       "      <th>1</th>\n",
       "      <td>2018-02-01</td>\n",
       "      <td>0.0</td>\n",
       "      <td>1</td>\n",
       "      <td>D.A.S.U.T.E.N.</td>\n",
       "      <td>470</td>\n",
       "      <td>NUTRICIÓN</td>\n",
       "      <td>2018-02-01 08:00:00</td>\n",
       "      <td>Atendido</td>\n",
       "      <td>F</td>\n",
       "      <td>33</td>\n",
       "      <td>...</td>\n",
       "      <td>1</td>\n",
       "      <td>3</td>\n",
       "      <td>2</td>\n",
       "      <td>Jueves</td>\n",
       "      <td>0</td>\n",
       "      <td>0</td>\n",
       "      <td>1</td>\n",
       "      <td>0</td>\n",
       "      <td>1</td>\n",
       "      <td>1</td>\n",
       "    </tr>\n",
       "    <tr>\n",
       "      <th>2</th>\n",
       "      <td>2018-02-01</td>\n",
       "      <td>0.0</td>\n",
       "      <td>1</td>\n",
       "      <td>SANCOR</td>\n",
       "      <td>505</td>\n",
       "      <td>GASTROENTEROLOGÍA</td>\n",
       "      <td>2018-02-01 08:00:00</td>\n",
       "      <td>Atendido</td>\n",
       "      <td>M</td>\n",
       "      <td>32</td>\n",
       "      <td>...</td>\n",
       "      <td>1</td>\n",
       "      <td>3</td>\n",
       "      <td>2</td>\n",
       "      <td>Jueves</td>\n",
       "      <td>1</td>\n",
       "      <td>0</td>\n",
       "      <td>3</td>\n",
       "      <td>0</td>\n",
       "      <td>0</td>\n",
       "      <td>1</td>\n",
       "    </tr>\n",
       "    <tr>\n",
       "      <th>3</th>\n",
       "      <td>2018-02-01</td>\n",
       "      <td>0.0</td>\n",
       "      <td>1</td>\n",
       "      <td>OSDE</td>\n",
       "      <td>145</td>\n",
       "      <td>GINECOLOGIA PRACTICAS CP</td>\n",
       "      <td>2018-02-01 08:00:00</td>\n",
       "      <td>Ausente</td>\n",
       "      <td>F</td>\n",
       "      <td>24</td>\n",
       "      <td>...</td>\n",
       "      <td>1</td>\n",
       "      <td>3</td>\n",
       "      <td>2</td>\n",
       "      <td>Jueves</td>\n",
       "      <td>0</td>\n",
       "      <td>0</td>\n",
       "      <td>1</td>\n",
       "      <td>1</td>\n",
       "      <td>1</td>\n",
       "      <td>1</td>\n",
       "    </tr>\n",
       "    <tr>\n",
       "      <th>4</th>\n",
       "      <td>2018-02-01</td>\n",
       "      <td>0.0</td>\n",
       "      <td>1</td>\n",
       "      <td>PERSONAL DE FARMACIA-GAPRESA</td>\n",
       "      <td>274</td>\n",
       "      <td>CARDIOLOGÍA</td>\n",
       "      <td>2018-02-01 08:00:00</td>\n",
       "      <td>Atendido</td>\n",
       "      <td>M</td>\n",
       "      <td>55</td>\n",
       "      <td>...</td>\n",
       "      <td>1</td>\n",
       "      <td>3</td>\n",
       "      <td>2</td>\n",
       "      <td>Jueves</td>\n",
       "      <td>0</td>\n",
       "      <td>0</td>\n",
       "      <td>1</td>\n",
       "      <td>0</td>\n",
       "      <td>0</td>\n",
       "      <td>1</td>\n",
       "    </tr>\n",
       "  </tbody>\n",
       "</table>\n",
       "<p>5 rows × 32 columns</p>\n",
       "</div>"
      ],
      "text/plain": [
       "  FechaDiaDelTurno PrecipMM  CentroDeAtencion                     Prestador  \\\n",
       "0       2018-02-01      0.0                 1         GALENO ARGENTINA SA     \n",
       "1       2018-02-01      0.0                 1                D.A.S.U.T.E.N.   \n",
       "2       2018-02-01      0.0                 1                       SANCOR    \n",
       "3       2018-02-01      0.0                 1                         OSDE    \n",
       "4       2018-02-01      0.0                 1  PERSONAL DE FARMACIA-GAPRESA   \n",
       "\n",
       "   Recurso                  Servicio       FechaDelTurno EstadoDelTurno Sexo  \\\n",
       "0      290     HEMATOLOGIA PRACTICAS 2018-02-01 08:00:00       Atendido    F   \n",
       "1      470                 NUTRICIÓN 2018-02-01 08:00:00       Atendido    F   \n",
       "2      505         GASTROENTEROLOGÍA 2018-02-01 08:00:00       Atendido    M   \n",
       "3      145  GINECOLOGIA PRACTICAS CP 2018-02-01 08:00:00        Ausente    F   \n",
       "4      274               CARDIOLOGÍA 2018-02-01 08:00:00       Atendido    M   \n",
       "\n",
       "   Edad  ...  AnticipacionDeReserva DiaTurno MesTurno DiaTurnoNombre  \\\n",
       "0    35  ...                      1        3        2         Jueves   \n",
       "1    33  ...                      1        3        2         Jueves   \n",
       "2    32  ...                      1        3        2         Jueves   \n",
       "3    24  ...                      1        3        2         Jueves   \n",
       "4    55  ...                      1        3        2         Jueves   \n",
       "\n",
       "  ConsultaMedica ConsumidorFinal TipoDeTurnoEncode EstadoDelTurnoEncode  \\\n",
       "0              0               0                 1                    0   \n",
       "1              0               0                 1                    0   \n",
       "2              1               0                 3                    0   \n",
       "3              0               0                 1                    1   \n",
       "4              0               0                 1                    0   \n",
       "\n",
       "  SexoEncode STEncode  \n",
       "0          1        1  \n",
       "1          1        1  \n",
       "2          0        1  \n",
       "3          1        1  \n",
       "4          0        1  \n",
       "\n",
       "[5 rows x 32 columns]"
      ]
     },
     "execution_count": 84,
     "metadata": {},
     "output_type": "execute_result"
    }
   ],
   "source": [
    "df_1_1= df_clima_r.merge(df_1, on=['FechaDiaDelTurno'])\n",
    "df_1_1.head()"
   ]
  },
  {
   "cell_type": "code",
   "execution_count": 85,
   "metadata": {},
   "outputs": [],
   "source": [
    "dataset = df_1_1.select_dtypes(include=[np.number])"
   ]
  },
  {
   "cell_type": "code",
   "execution_count": 86,
   "metadata": {},
   "outputs": [],
   "source": [
    "dataset['DifDias']= dataset['DifDias']/ np.timedelta64(1, 'D')"
   ]
  },
  {
   "cell_type": "code",
   "execution_count": 87,
   "metadata": {},
   "outputs": [
    {
     "data": {
      "text/plain": [
       "CentroDeAtencion           int64\n",
       "Recurso                    int64\n",
       "Edad                       int64\n",
       "HC                         int32\n",
       "DifDias                  float64\n",
       "AnticipacionDeReserva      int64\n",
       "DiaTurno                   int64\n",
       "MesTurno                   int64\n",
       "ConsultaMedica             int64\n",
       "ConsumidorFinal            int64\n",
       "TipoDeTurnoEncode          int64\n",
       "EstadoDelTurnoEncode       int64\n",
       "SexoEncode                 int64\n",
       "STEncode                   int64\n",
       "dtype: object"
      ]
     },
     "execution_count": 87,
     "metadata": {},
     "output_type": "execute_result"
    }
   ],
   "source": [
    "dataset.dtypes"
   ]
  },
  {
   "cell_type": "code",
   "execution_count": 88,
   "metadata": {},
   "outputs": [],
   "source": [
    "dataset.insert(0,'EstadoDelTurno',dataset.EstadoDelTurnoEncode)"
   ]
  },
  {
   "cell_type": "code",
   "execution_count": 89,
   "metadata": {},
   "outputs": [
    {
     "data": {
      "text/plain": [
       "EstadoDelTurno             int64\n",
       "CentroDeAtencion           int64\n",
       "Recurso                    int64\n",
       "Edad                       int64\n",
       "HC                         int32\n",
       "DifDias                  float64\n",
       "AnticipacionDeReserva      int64\n",
       "DiaTurno                   int64\n",
       "MesTurno                   int64\n",
       "ConsultaMedica             int64\n",
       "ConsumidorFinal            int64\n",
       "TipoDeTurnoEncode          int64\n",
       "EstadoDelTurnoEncode       int64\n",
       "SexoEncode                 int64\n",
       "STEncode                   int64\n",
       "dtype: object"
      ]
     },
     "execution_count": 89,
     "metadata": {},
     "output_type": "execute_result"
    }
   ],
   "source": [
    "dataset.dtypes"
   ]
  },
  {
   "cell_type": "code",
   "execution_count": 90,
   "metadata": {},
   "outputs": [],
   "source": [
    "dataset = dataset.drop(columns=['EstadoDelTurnoEncode'])"
   ]
  },
  {
   "cell_type": "code",
   "execution_count": 91,
   "metadata": {},
   "outputs": [],
   "source": [
    "dataset = dataset.drop(columns=['HC'])"
   ]
  },
  {
   "cell_type": "code",
   "execution_count": 92,
   "metadata": {},
   "outputs": [],
   "source": [
    "dataset = dataset.drop(columns=['DifDias'])"
   ]
  },
  {
   "cell_type": "code",
   "execution_count": 93,
   "metadata": {},
   "outputs": [],
   "source": [
    "dataset = dataset.drop(columns=['STEncode'])"
   ]
  },
  {
   "cell_type": "code",
   "execution_count": 94,
   "metadata": {},
   "outputs": [
    {
     "data": {
      "text/plain": [
       "EstadoDelTurno           int64\n",
       "CentroDeAtencion         int64\n",
       "Recurso                  int64\n",
       "Edad                     int64\n",
       "AnticipacionDeReserva    int64\n",
       "DiaTurno                 int64\n",
       "MesTurno                 int64\n",
       "ConsultaMedica           int64\n",
       "ConsumidorFinal          int64\n",
       "TipoDeTurnoEncode        int64\n",
       "SexoEncode               int64\n",
       "dtype: object"
      ]
     },
     "execution_count": 94,
     "metadata": {},
     "output_type": "execute_result"
    }
   ],
   "source": [
    "dataset.dtypes"
   ]
  },
  {
   "cell_type": "code",
   "execution_count": 95,
   "metadata": {},
   "outputs": [
    {
     "data": {
      "text/plain": [
       "(579227, 11)"
      ]
     },
     "execution_count": 95,
     "metadata": {},
     "output_type": "execute_result"
    }
   ],
   "source": [
    "dataset.shape"
   ]
  },
  {
   "cell_type": "code",
   "execution_count": 96,
   "metadata": {},
   "outputs": [],
   "source": [
    "duplicados= dataset[dataset.duplicated(keep=False)]"
   ]
  },
  {
   "cell_type": "code",
   "execution_count": 97,
   "metadata": {},
   "outputs": [
    {
     "data": {
      "text/html": [
       "<div>\n",
       "<style scoped>\n",
       "    .dataframe tbody tr th:only-of-type {\n",
       "        vertical-align: middle;\n",
       "    }\n",
       "\n",
       "    .dataframe tbody tr th {\n",
       "        vertical-align: top;\n",
       "    }\n",
       "\n",
       "    .dataframe thead th {\n",
       "        text-align: right;\n",
       "    }\n",
       "</style>\n",
       "<table border=\"1\" class=\"dataframe\">\n",
       "  <thead>\n",
       "    <tr style=\"text-align: right;\">\n",
       "      <th></th>\n",
       "      <th>EstadoDelTurno</th>\n",
       "      <th>CentroDeAtencion</th>\n",
       "      <th>Recurso</th>\n",
       "      <th>Edad</th>\n",
       "      <th>AnticipacionDeReserva</th>\n",
       "      <th>DiaTurno</th>\n",
       "      <th>MesTurno</th>\n",
       "      <th>ConsultaMedica</th>\n",
       "      <th>ConsumidorFinal</th>\n",
       "      <th>TipoDeTurnoEncode</th>\n",
       "      <th>SexoEncode</th>\n",
       "    </tr>\n",
       "  </thead>\n",
       "  <tbody>\n",
       "    <tr>\n",
       "      <th>262823</th>\n",
       "      <td>0</td>\n",
       "      <td>1</td>\n",
       "      <td>2</td>\n",
       "      <td>18</td>\n",
       "      <td>1</td>\n",
       "      <td>0</td>\n",
       "      <td>1</td>\n",
       "      <td>1</td>\n",
       "      <td>0</td>\n",
       "      <td>3</td>\n",
       "      <td>1</td>\n",
       "    </tr>\n",
       "    <tr>\n",
       "      <th>273646</th>\n",
       "      <td>0</td>\n",
       "      <td>1</td>\n",
       "      <td>2</td>\n",
       "      <td>18</td>\n",
       "      <td>1</td>\n",
       "      <td>0</td>\n",
       "      <td>1</td>\n",
       "      <td>1</td>\n",
       "      <td>0</td>\n",
       "      <td>3</td>\n",
       "      <td>1</td>\n",
       "    </tr>\n",
       "    <tr>\n",
       "      <th>42822</th>\n",
       "      <td>0</td>\n",
       "      <td>1</td>\n",
       "      <td>2</td>\n",
       "      <td>19</td>\n",
       "      <td>1</td>\n",
       "      <td>0</td>\n",
       "      <td>12</td>\n",
       "      <td>1</td>\n",
       "      <td>0</td>\n",
       "      <td>3</td>\n",
       "      <td>1</td>\n",
       "    </tr>\n",
       "    <tr>\n",
       "      <th>245647</th>\n",
       "      <td>0</td>\n",
       "      <td>1</td>\n",
       "      <td>2</td>\n",
       "      <td>19</td>\n",
       "      <td>1</td>\n",
       "      <td>0</td>\n",
       "      <td>12</td>\n",
       "      <td>1</td>\n",
       "      <td>0</td>\n",
       "      <td>3</td>\n",
       "      <td>1</td>\n",
       "    </tr>\n",
       "    <tr>\n",
       "      <th>93635</th>\n",
       "      <td>0</td>\n",
       "      <td>1</td>\n",
       "      <td>2</td>\n",
       "      <td>19</td>\n",
       "      <td>1</td>\n",
       "      <td>2</td>\n",
       "      <td>5</td>\n",
       "      <td>1</td>\n",
       "      <td>0</td>\n",
       "      <td>2</td>\n",
       "      <td>1</td>\n",
       "    </tr>\n",
       "    <tr>\n",
       "      <th>...</th>\n",
       "      <td>...</td>\n",
       "      <td>...</td>\n",
       "      <td>...</td>\n",
       "      <td>...</td>\n",
       "      <td>...</td>\n",
       "      <td>...</td>\n",
       "      <td>...</td>\n",
       "      <td>...</td>\n",
       "      <td>...</td>\n",
       "      <td>...</td>\n",
       "      <td>...</td>\n",
       "    </tr>\n",
       "    <tr>\n",
       "      <th>15668</th>\n",
       "      <td>1</td>\n",
       "      <td>4</td>\n",
       "      <td>506</td>\n",
       "      <td>45</td>\n",
       "      <td>1</td>\n",
       "      <td>1</td>\n",
       "      <td>1</td>\n",
       "      <td>0</td>\n",
       "      <td>0</td>\n",
       "      <td>1</td>\n",
       "      <td>0</td>\n",
       "    </tr>\n",
       "    <tr>\n",
       "      <th>90527</th>\n",
       "      <td>1</td>\n",
       "      <td>4</td>\n",
       "      <td>506</td>\n",
       "      <td>50</td>\n",
       "      <td>1</td>\n",
       "      <td>5</td>\n",
       "      <td>5</td>\n",
       "      <td>0</td>\n",
       "      <td>0</td>\n",
       "      <td>1</td>\n",
       "      <td>0</td>\n",
       "    </tr>\n",
       "    <tr>\n",
       "      <th>235631</th>\n",
       "      <td>1</td>\n",
       "      <td>4</td>\n",
       "      <td>506</td>\n",
       "      <td>50</td>\n",
       "      <td>1</td>\n",
       "      <td>5</td>\n",
       "      <td>5</td>\n",
       "      <td>0</td>\n",
       "      <td>0</td>\n",
       "      <td>1</td>\n",
       "      <td>0</td>\n",
       "    </tr>\n",
       "    <tr>\n",
       "      <th>29513</th>\n",
       "      <td>1</td>\n",
       "      <td>4</td>\n",
       "      <td>506</td>\n",
       "      <td>52</td>\n",
       "      <td>1</td>\n",
       "      <td>2</td>\n",
       "      <td>2</td>\n",
       "      <td>0</td>\n",
       "      <td>0</td>\n",
       "      <td>1</td>\n",
       "      <td>1</td>\n",
       "    </tr>\n",
       "    <tr>\n",
       "      <th>30043</th>\n",
       "      <td>1</td>\n",
       "      <td>4</td>\n",
       "      <td>506</td>\n",
       "      <td>52</td>\n",
       "      <td>1</td>\n",
       "      <td>2</td>\n",
       "      <td>2</td>\n",
       "      <td>0</td>\n",
       "      <td>0</td>\n",
       "      <td>1</td>\n",
       "      <td>1</td>\n",
       "    </tr>\n",
       "  </tbody>\n",
       "</table>\n",
       "<p>176303 rows × 11 columns</p>\n",
       "</div>"
      ],
      "text/plain": [
       "        EstadoDelTurno  CentroDeAtencion  Recurso  Edad  \\\n",
       "262823               0                 1        2    18   \n",
       "273646               0                 1        2    18   \n",
       "42822                0                 1        2    19   \n",
       "245647               0                 1        2    19   \n",
       "93635                0                 1        2    19   \n",
       "...                ...               ...      ...   ...   \n",
       "15668                1                 4      506    45   \n",
       "90527                1                 4      506    50   \n",
       "235631               1                 4      506    50   \n",
       "29513                1                 4      506    52   \n",
       "30043                1                 4      506    52   \n",
       "\n",
       "        AnticipacionDeReserva  DiaTurno  MesTurno  ConsultaMedica  \\\n",
       "262823                      1         0         1               1   \n",
       "273646                      1         0         1               1   \n",
       "42822                       1         0        12               1   \n",
       "245647                      1         0        12               1   \n",
       "93635                       1         2         5               1   \n",
       "...                       ...       ...       ...             ...   \n",
       "15668                       1         1         1               0   \n",
       "90527                       1         5         5               0   \n",
       "235631                      1         5         5               0   \n",
       "29513                       1         2         2               0   \n",
       "30043                       1         2         2               0   \n",
       "\n",
       "        ConsumidorFinal  TipoDeTurnoEncode  SexoEncode  \n",
       "262823                0                  3           1  \n",
       "273646                0                  3           1  \n",
       "42822                 0                  3           1  \n",
       "245647                0                  3           1  \n",
       "93635                 0                  2           1  \n",
       "...                 ...                ...         ...  \n",
       "15668                 0                  1           0  \n",
       "90527                 0                  1           0  \n",
       "235631                0                  1           0  \n",
       "29513                 0                  1           1  \n",
       "30043                 0                  1           1  \n",
       "\n",
       "[176303 rows x 11 columns]"
      ]
     },
     "execution_count": 97,
     "metadata": {},
     "output_type": "execute_result"
    }
   ],
   "source": [
    "duplicados.sort_values(by=['EstadoDelTurno', 'CentroDeAtencion', 'Recurso', 'Edad',\n",
    "       'AnticipacionDeReserva', 'DiaTurno', 'MesTurno', 'ConsultaMedica',\n",
    "       'ConsumidorFinal', 'TipoDeTurnoEncode', 'SexoEncode'])"
   ]
  },
  {
   "cell_type": "code",
   "execution_count": 98,
   "metadata": {},
   "outputs": [],
   "source": [
    "dataset.drop_duplicates(inplace=True)"
   ]
  },
  {
   "cell_type": "code",
   "execution_count": 99,
   "metadata": {},
   "outputs": [
    {
     "data": {
      "text/plain": [
       "(473958, 11)"
      ]
     },
     "execution_count": 99,
     "metadata": {},
     "output_type": "execute_result"
    }
   ],
   "source": [
    "dataset.shape"
   ]
  },
  {
   "cell_type": "markdown",
   "metadata": {},
   "source": [
    "# Librerias"
   ]
  },
  {
   "cell_type": "code",
   "execution_count": 100,
   "metadata": {},
   "outputs": [],
   "source": [
    "import os\n",
    "import math\n",
    "import numpy as np\n",
    "import pandas as pd\n",
    "import matplotlib.pyplot as plt\n",
    "import scipy.stats as stats \n",
    "import warnings\n",
    "from matplotlib import pyplot\n",
    "from sklearn.linear_model import LogisticRegression\n",
    "from sklearn.metrics import roc_curve, roc_auc_score, plot_roc_curve, f1_score, accuracy_score\n",
    "from sklearn.metrics import precision_recall_curve\n",
    "from sklearn.metrics import plot_precision_recall_curve\n",
    "from sklearn.metrics import confusion_matrix\n",
    "import seaborn as s\n",
    "from sklearn.model_selection import train_test_split \n",
    "from sklearn.ensemble import RandomForestClassifier\n",
    "import xgboost as xgb\n",
    "from IPython.display import display_html\n",
    "from sklearn.tree import DecisionTreeClassifier as DT\n",
    "from sklearn.model_selection import GridSearchCV\n",
    "from sklearn.feature_extraction.text import TfidfVectorizer\n",
    "from sklearn.naive_bayes import MultinomialNB\n",
    "from sklearn.pipeline import make_pipeline\n",
    "from sklearn.metrics import mean_squared_error\n",
    "from imblearn.ensemble import BalancedBaggingClassifier\n",
    "from sklearn.inspection import permutation_importance\n",
    "from skopt import BayesSearchCV\n",
    "from skopt.space import Real, Categorical, Integer\n",
    "from sklearn.preprocessing import MinMaxScaler\n",
    "from sklearn.preprocessing import StandardScaler\n",
    "import sklearn.linear_model\n",
    "from sklearn.svm import LinearSVC\n",
    "from sklearn.datasets import make_classification"
   ]
  },
  {
   "cell_type": "markdown",
   "metadata": {},
   "source": [
    "# Particionamos los conjuntos de entrenamiento y de test"
   ]
  },
  {
   "cell_type": "code",
   "execution_count": 101,
   "metadata": {},
   "outputs": [],
   "source": [
    "X, y = dataset.iloc[:, 1:], dataset.EstadoDelTurno"
   ]
  },
  {
   "cell_type": "code",
   "execution_count": 102,
   "metadata": {},
   "outputs": [],
   "source": [
    "X_train, X_test, y_train, y_test = train_test_split(X, y, test_size=0.30, random_state=0)"
   ]
  },
  {
   "cell_type": "markdown",
   "metadata": {},
   "source": [
    "# Entrenamos los diferentes modelos para ver la performance de cada uno"
   ]
  },
  {
   "cell_type": "markdown",
   "metadata": {},
   "source": [
    "# Random Forest con GridSearchCV"
   ]
  },
  {
   "cell_type": "code",
   "execution_count": 103,
   "metadata": {},
   "outputs": [
    {
     "name": "stdout",
     "output_type": "stream",
     "text": [
      "Fitting 3 folds for each of 8 candidates, totalling 24 fits\n"
     ]
    },
    {
     "name": "stderr",
     "output_type": "stream",
     "text": [
      "[Parallel(n_jobs=-1)]: Using backend LokyBackend with 4 concurrent workers.\n",
      "[Parallel(n_jobs=-1)]: Done  17 tasks      | elapsed:  8.5min\n",
      "[Parallel(n_jobs=-1)]: Done  24 out of  24 | elapsed: 11.4min remaining:    0.0s\n",
      "[Parallel(n_jobs=-1)]: Done  24 out of  24 | elapsed: 11.4min finished\n"
     ]
    },
    {
     "data": {
      "text/plain": [
       "GridSearchCV(cv=3, estimator=RandomForestClassifier(), n_jobs=-1,\n",
       "             param_grid={'class_weight': ['balanced', 'balanced_subsample'],\n",
       "                         'criterion': ['gini'], 'min_samples_leaf': [1],\n",
       "                         'min_samples_split': [2, 3],\n",
       "                         'n_estimators': [100, 150], 'random_state': [0]},\n",
       "             scoring='accuracy', verbose=4)"
      ]
     },
     "execution_count": 103,
     "metadata": {},
     "output_type": "execute_result"
    }
   ],
   "source": [
    "rf_param = {  'criterion':['gini'], \n",
    "              'min_samples_leaf':[1],\n",
    "              'min_samples_split':[2,3],\n",
    "              'random_state': [0],\n",
    "              'n_estimators': [100,150],\n",
    "              'class_weight': ['balanced', 'balanced_subsample']\n",
    "            }\n",
    "model_rf = RandomForestClassifier()\n",
    "rf_clf = GridSearchCV(model_rf, rf_param, cv=3, scoring='accuracy',n_jobs=-1, verbose = 4)\n",
    "rf_clf.fit(X_train, y_train)\n"
   ]
  },
  {
   "cell_type": "code",
   "execution_count": 104,
   "metadata": {},
   "outputs": [
    {
     "name": "stdout",
     "output_type": "stream",
     "text": [
      "Mejor Modelo\n",
      " RandomForestClassifier(class_weight='balanced', n_estimators=150,\n",
      "                       random_state=0)\n",
      "Mejores Parametros\n",
      " {'class_weight': 'balanced', 'criterion': 'gini', 'min_samples_leaf': 1, 'min_samples_split': 2, 'n_estimators': 150, 'random_state': 0}\n",
      "Best Random Forest accuracy:  0.7299394158603852\n"
     ]
    }
   ],
   "source": [
    "best_rf_clf = rf_clf.best_estimator_\n",
    "bestpar = rf_clf.best_params_\n",
    "\n",
    "print('Mejor Modelo\\n', best_rf_clf)\n",
    "print('Mejores Parametros\\n', bestpar)\n",
    "print('Best Random Forest accuracy: ', rf_clf.best_score_)"
   ]
  },
  {
   "cell_type": "markdown",
   "metadata": {},
   "source": [
    "**Random Forest para el conjunto de training nos da una accuracy de 0.7299394158603852**\n",
    "\n",
    "**Mejor Modelo\n",
    " RandomForestClassifier(class_weight='balanced', n_estimators=150,\n",
    "                       random_state=0)**\n",
    "                       \n",
    "**Mejores Parametros\n",
    " {'class_weight': 'balanced', 'criterion': 'gini', 'min_samples_leaf': 1, 'min_samples_split': 2, 'n_estimators': 150, 'random_state': 0}**"
   ]
  },
  {
   "cell_type": "markdown",
   "metadata": {},
   "source": [
    "# Calculamos la permutation_importance de las features"
   ]
  },
  {
   "cell_type": "code",
   "execution_count": 106,
   "metadata": {},
   "outputs": [],
   "source": [
    "model_rf = RandomForestClassifier()\n",
    "model_rf.fit(X_train,y_train)\n",
    "r = permutation_importance(model_rf, X_test, y_test, random_state=0)"
   ]
  },
  {
   "cell_type": "code",
   "execution_count": 142,
   "metadata": {},
   "outputs": [
    {
     "name": "stdout",
     "output_type": "stream",
     "text": [
      "CentroDeAtencion 0.00028869007423351536\n",
      "Recurso 0.0006389287769102582\n",
      "Edad 0.0003987473617492871\n",
      "AnticipacionDeReserva 0.0002426681046299945\n",
      "DiaTurno 0.0004209437760889952\n",
      "MesTurno 0.0006665953160853756\n",
      "ConsultaMedica 0.0003179450016891774\n",
      "ConsumidorFinal 0.00021487221373311425\n",
      "TipoDeTurnoEncode 0.00032218552711737547\n",
      "SexoEncode 0.0005160282131010553\n"
     ]
    }
   ],
   "source": [
    "indices = np.argsort(r.importances_std)\n",
    "for f in range(X.shape[1]):\n",
    "    print(X_test.columns[f], r.importances_std[f])"
   ]
  },
  {
   "cell_type": "code",
   "execution_count": 143,
   "metadata": {},
   "outputs": [
    {
     "data": {
      "image/png": "[encoded data removed]",
      "text/plain": [
       "<Figure size 432x288 with 1 Axes>"
      ]
     },
     "metadata": {
      "needs_background": "light"
     },
     "output_type": "display_data"
    }
   ],
   "source": [
    "plt.figure()\n",
    "plt.title(\"Permutation importances\")\n",
    "plt.bar(range(X.shape[1]), r.importances_std[indices],color=\"g\")\n",
    "plt.xticks(range(X.shape[1]), labels=X_test.columns[indices],rotation=90)\n",
    "plt.show()"
   ]
  },
  {
   "cell_type": "markdown",
   "metadata": {},
   "source": [
    "**Observamos que segun el análisis de permutation importances para este modelo la feature mas importante es el Mes de Turno**"
   ]
  },
  {
   "cell_type": "markdown",
   "metadata": {},
   "source": [
    "# Calculamos la importancia de cada feature (feature_importantes_)"
   ]
  },
  {
   "cell_type": "code",
   "execution_count": 144,
   "metadata": {},
   "outputs": [
    {
     "name": "stdout",
     "output_type": "stream",
     "text": [
      "Feature ranking:\n",
      "CentroDeAtencion 0.026614806227806556\n",
      "Recurso 0.38383782083184165\n",
      "Edad 0.28511343679482753\n",
      "AnticipacionDeReserva 0.01259888888704374\n",
      "DiaTurno 0.07688974037426671\n",
      "MesTurno 0.17985338891632324\n",
      "ConsultaMedica 0.005649806547996334\n",
      "ConsumidorFinal 0.008453338678151918\n",
      "TipoDeTurnoEncode 0.01395267286302446\n",
      "SexoEncode 0.007036099878717874\n"
     ]
    },
    {
     "data": {
      "image/png": "[encoded data removed]",
      "text/plain": [
       "<Figure size 432x288 with 1 Axes>"
      ]
     },
     "metadata": {
      "needs_background": "light"
     },
     "output_type": "display_data"
    }
   ],
   "source": [
    "importances= model_rf.feature_importances_\n",
    "indices = np.argsort(importances) \n",
    "print(\"Feature ranking:\")\n",
    "\n",
    "#std = np.std([tree.feature_importances_ for tree in model_rf.estimators_], axis=0)\n",
    "\n",
    "for f in range(X.shape[1]):\n",
    "    print(X_test.columns[f], importances[f])\n",
    "    \n",
    "# Plot the impurity-based feature importances of the forest\n",
    "\n",
    "plt.figure()\n",
    "plt.title(\"Feature importances\")\n",
    "plt.bar(range(X.shape[1]), importances[indices], color=\"r\", align=\"center\")\n",
    "plt.xticks(range(X.shape[1]), labels=X_test.columns[indices], rotation=90)\n",
    "plt.xlim([-1, X.shape[1]])\n",
    "plt.show()"
   ]
  },
  {
   "cell_type": "markdown",
   "metadata": {},
   "source": [
    "**Observamos que según el análisis de features importance para este modelo la feature mas importante es Recurso**"
   ]
  },
  {
   "cell_type": "markdown",
   "metadata": {},
   "source": [
    "**Según el atributo .feature_importances el orden de las features es:**\n",
    "\n"
   ]
  },
  {
   "cell_type": "markdown",
   "metadata": {},
   "source": [
    "# Metricas Curvas ROC y matriz de confusión"
   ]
  },
  {
   "cell_type": "code",
   "execution_count": 145,
   "metadata": {},
   "outputs": [
    {
     "data": {
      "image/png": "[encoded data removed]",
      "text/plain": [
       "<Figure size 432x288 with 1 Axes>"
      ]
     },
     "metadata": {
      "needs_background": "light"
     },
     "output_type": "display_data"
    }
   ],
   "source": [
    "plot_roc_curve(rf_clf, X_test, y_test);"
   ]
  },
  {
   "cell_type": "markdown",
   "metadata": {},
   "source": [
    "**El RandomForestClassifier seria bueno de acuerdo a este grafico ya que llega a un tpr = 0.9 para una fpr = 0 que es bastante bueno**"
   ]
  },
  {
   "cell_type": "code",
   "execution_count": 146,
   "metadata": {},
   "outputs": [],
   "source": [
    "y_proba = rf_clf.predict_proba(X_test)[:,1]\n",
    "fpr, tpr, thresholds = roc_curve(y_test, y_proba)"
   ]
  },
  {
   "cell_type": "code",
   "execution_count": 147,
   "metadata": {},
   "outputs": [
    {
     "data": {
      "text/plain": [
       "0.5278587845944813"
      ]
     },
     "execution_count": 147,
     "metadata": {},
     "output_type": "execute_result"
    }
   ],
   "source": [
    "roc_auc_score(y_test, y_proba)"
   ]
  },
  {
   "cell_type": "code",
   "execution_count": 148,
   "metadata": {},
   "outputs": [
    {
     "data": {
      "text/plain": [
       "<sklearn.metrics._plot.precision_recall_curve.PrecisionRecallDisplay at 0x62090c18>"
      ]
     },
     "execution_count": 148,
     "metadata": {},
     "output_type": "execute_result"
    },
    {
     "data": {
      "image/png": "[encoded data removed]",
      "text/plain": [
       "<Figure size 432x288 with 1 Axes>"
      ]
     },
     "metadata": {
      "needs_background": "light"
     },
     "output_type": "display_data"
    }
   ],
   "source": [
    "plot_precision_recall_curve(rf_clf, X_test, y_test)"
   ]
  },
  {
   "cell_type": "markdown",
   "metadata": {},
   "source": [
    "**El RandomForestClassifier seria bueno de acuerdo a este grafico ya que se acerca a un recall de 1 para una precision de 1**"
   ]
  },
  {
   "cell_type": "code",
   "execution_count": 149,
   "metadata": {},
   "outputs": [],
   "source": [
    "precision, recall, thresholds = roc_curve(y_test, y_proba)"
   ]
  },
  {
   "cell_type": "code",
   "execution_count": 150,
   "metadata": {},
   "outputs": [],
   "source": [
    "y_test_pred = rf_clf.predict(X_test)"
   ]
  },
  {
   "cell_type": "code",
   "execution_count": 151,
   "metadata": {},
   "outputs": [
    {
     "data": {
      "text/plain": [
       "0.1410733937187844"
      ]
     },
     "execution_count": 151,
     "metadata": {},
     "output_type": "execute_result"
    }
   ],
   "source": [
    "f1_score(y_test, y_test_pred)"
   ]
  },
  {
   "cell_type": "code",
   "execution_count": 152,
   "metadata": {},
   "outputs": [
    {
     "data": {
      "text/plain": [
       "<AxesSubplot:>"
      ]
     },
     "execution_count": 152,
     "metadata": {},
     "output_type": "execute_result"
    },
    {
     "data": {
      "image/png": "[encoded data removed]",
      "text/plain": [
       "<Figure size 432x288 with 2 Axes>"
      ]
     },
     "metadata": {
      "needs_background": "light"
     },
     "output_type": "display_data"
    }
   ],
   "source": [
    "cm_train=confusion_matrix(y_test, y_test_pred)\n",
    "s.heatmap(cm_train, annot=True ,cmap=\"YlGnBu\", fmt=\"d\")"
   ]
  },
  {
   "cell_type": "markdown",
   "metadata": {},
   "source": [
    "**Este modelo es bastante bueno en la clasificacion de las clases**"
   ]
  },
  {
   "cell_type": "markdown",
   "metadata": {},
   "source": [
    "# BayesSearchCV"
   ]
  },
  {
   "cell_type": "code",
   "execution_count": 153,
   "metadata": {},
   "outputs": [
    {
     "name": "stdout",
     "output_type": "stream",
     "text": [
      "Fitting 3 folds for each of 1 candidates, totalling 3 fits\n"
     ]
    },
    {
     "name": "stderr",
     "output_type": "stream",
     "text": [
      "[Parallel(n_jobs=-1)]: Using backend LokyBackend with 4 concurrent workers.\n",
      "[Parallel(n_jobs=-1)]: Done   3 out of   3 | elapsed:  3.5min remaining:    0.0s\n",
      "[Parallel(n_jobs=-1)]: Done   3 out of   3 | elapsed:  3.5min finished\n"
     ]
    },
    {
     "name": "stdout",
     "output_type": "stream",
     "text": [
      "best score: 0.7852759441781957\n",
      "Fitting 3 folds for each of 1 candidates, totalling 3 fits\n"
     ]
    },
    {
     "name": "stderr",
     "output_type": "stream",
     "text": [
      "[Parallel(n_jobs=-1)]: Using backend LokyBackend with 4 concurrent workers.\n",
      "[Parallel(n_jobs=-1)]: Done   3 out of   3 | elapsed:   47.0s remaining:    0.0s\n",
      "[Parallel(n_jobs=-1)]: Done   3 out of   3 | elapsed:   47.0s finished\n"
     ]
    },
    {
     "name": "stdout",
     "output_type": "stream",
     "text": [
      "best score: 0.7852759441781957\n",
      "Fitting 3 folds for each of 1 candidates, totalling 3 fits\n"
     ]
    },
    {
     "name": "stderr",
     "output_type": "stream",
     "text": [
      "[Parallel(n_jobs=-1)]: Using backend LokyBackend with 4 concurrent workers.\n",
      "[Parallel(n_jobs=-1)]: Done   3 out of   3 | elapsed:  1.4min remaining:    0.0s\n",
      "[Parallel(n_jobs=-1)]: Done   3 out of   3 | elapsed:  1.4min finished\n"
     ]
    },
    {
     "name": "stdout",
     "output_type": "stream",
     "text": [
      "best score: 0.7852759441781957\n"
     ]
    },
    {
     "data": {
      "text/plain": [
       "BayesSearchCV(cv=3, estimator=RandomForestClassifier(), n_iter=3, n_jobs=-1,\n",
       "              scoring='accuracy',\n",
       "              search_spaces={'bootstrap': Categorical(categories=(True, False), prior=None),\n",
       "                             'max_depth': Integer(low=6, high=20, prior='uniform', transform='identity'),\n",
       "                             'max_features': Categorical(categories=('auto', 'sqrt', 'log2'), prior=None),\n",
       "                             'min_samples_leaf': Integer(low=2, high=10, prior='uniform', transform='identity'),\n",
       "                             'min_samples_split': Integer(low=2, high=10, prior='uniform', transform='identity'),\n",
       "                             'n_estimators': Integer(low=100, high=500, prior='uniform', transform='identity')},\n",
       "              verbose=4)"
      ]
     },
     "execution_count": 153,
     "metadata": {},
     "output_type": "execute_result"
    }
   ],
   "source": [
    "model_rf = RandomForestClassifier()\n",
    "search_space = {\"bootstrap\": Categorical([True, False]), # values for boostrap can be either True or False\n",
    "        \"max_depth\": Integer(6, 20), # values of max_depth are integers from 6 to 20\n",
    "        \"max_features\": Categorical(['auto', 'sqrt','log2']), \n",
    "        \"min_samples_leaf\": Integer(2, 10),\n",
    "        \"min_samples_split\": Integer(2, 10),\n",
    "        \"n_estimators\": Integer(100, 500)\n",
    "    }\n",
    "\n",
    "def on_step(optim_result):\n",
    "    \"\"\"\n",
    "    Callback meant to view scores after\n",
    "    each iteration while performing Bayesian\n",
    "    Optimization in Skopt\"\"\"\n",
    "    score = forest_bayes_search.best_score_\n",
    "    print(\"best score: %s\" % score)\n",
    "    if score >= 0.85:\n",
    "        print('Interrupting!')\n",
    "        return True\n",
    "\n",
    "forest_bayes_search = BayesSearchCV(model_rf, search_space, n_iter=3, # specify how many iterations\n",
    "                                    scoring=\"accuracy\", n_jobs=-1, cv=3, verbose= 4)\n",
    "\n",
    "forest_bayes_search.fit(X_train, y_train, callback=on_step) # callback=on_step will print score after each iteration"
   ]
  },
  {
   "cell_type": "code",
   "execution_count": 154,
   "metadata": {},
   "outputs": [
    {
     "data": {
      "text/plain": [
       "OrderedDict([('bootstrap', False),\n",
       "             ('max_depth', 16),\n",
       "             ('max_features', 'sqrt'),\n",
       "             ('min_samples_leaf', 5),\n",
       "             ('min_samples_split', 10),\n",
       "             ('n_estimators', 339)])"
      ]
     },
     "execution_count": 154,
     "metadata": {},
     "output_type": "execute_result"
    }
   ],
   "source": [
    "forest_bayes_search.best_params_"
   ]
  },
  {
   "cell_type": "code",
   "execution_count": 155,
   "metadata": {},
   "outputs": [
    {
     "data": {
      "text/plain": [
       "RandomForestClassifier(bootstrap=False, max_depth=16, max_features='sqrt',\n",
       "                       min_samples_leaf=5, min_samples_split=10,\n",
       "                       n_estimators=339)"
      ]
     },
     "execution_count": 155,
     "metadata": {},
     "output_type": "execute_result"
    }
   ],
   "source": [
    "forest_bayes_search.best_estimator_"
   ]
  },
  {
   "cell_type": "code",
   "execution_count": 156,
   "metadata": {},
   "outputs": [
    {
     "data": {
      "text/plain": [
       "0.7852759441781957"
      ]
     },
     "execution_count": 156,
     "metadata": {},
     "output_type": "execute_result"
    }
   ],
   "source": [
    "forest_bayes_search.best_score_"
   ]
  },
  {
   "cell_type": "markdown",
   "metadata": {},
   "source": [
    "**Mejores parametros, estimadores y mejor score de Bayes SearchCV**\n",
    "\n",
    "**OrderedDict([('bootstrap', False),\n",
    "             ('max_depth', 16),\n",
    "             ('max_features', 'sqrt'),\n",
    "             ('min_samples_leaf', 5),\n",
    "             ('min_samples_split', 10),\n",
    "             ('n_estimators', 339)])**\n",
    "             \n",
    "**andomForestClassifier(bootstrap=False, max_depth=16, max_features='sqrt',\n",
    "                       min_samples_leaf=5, min_samples_split=10,\n",
    "                       n_estimators=339)**\n",
    "                       \n",
    "**Mejor Score Bayes SearchCV 0.7852759441781957**"
   ]
  },
  {
   "cell_type": "markdown",
   "metadata": {},
   "source": [
    "# Metricas Curvas ROC y matriz de confusión"
   ]
  },
  {
   "cell_type": "code",
   "execution_count": 157,
   "metadata": {},
   "outputs": [
    {
     "data": {
      "image/png": "[encoded data removed]",
      "text/plain": [
       "<Figure size 432x288 with 1 Axes>"
      ]
     },
     "metadata": {
      "needs_background": "light"
     },
     "output_type": "display_data"
    }
   ],
   "source": [
    "plot_roc_curve(forest_bayes_search, X_test, y_test);"
   ]
  },
  {
   "cell_type": "markdown",
   "metadata": {},
   "source": [
    "**El Bayer Search CV NO es bueno de acuerdo a este grafico ya que llega a un tasa de alta de falsos positivos para una tasa alta de verdaderos positivos**"
   ]
  },
  {
   "cell_type": "code",
   "execution_count": 158,
   "metadata": {},
   "outputs": [],
   "source": [
    "y_proba = forest_bayes_search.predict_proba(X_test)[:,1]\n",
    "fpr, tpr, thresholds = roc_curve(y_test, y_proba)"
   ]
  },
  {
   "cell_type": "code",
   "execution_count": 159,
   "metadata": {},
   "outputs": [
    {
     "data": {
      "text/plain": [
       "0.6474280879625258"
      ]
     },
     "execution_count": 159,
     "metadata": {},
     "output_type": "execute_result"
    }
   ],
   "source": [
    "roc_auc_score(y_test, y_proba)"
   ]
  },
  {
   "cell_type": "code",
   "execution_count": 160,
   "metadata": {},
   "outputs": [
    {
     "data": {
      "text/plain": [
       "<sklearn.metrics._plot.precision_recall_curve.PrecisionRecallDisplay at 0x62052be0>"
      ]
     },
     "execution_count": 160,
     "metadata": {},
     "output_type": "execute_result"
    },
    {
     "data": {
      "image/png": "[encoded data removed]",
      "text/plain": [
       "<Figure size 432x288 with 1 Axes>"
      ]
     },
     "metadata": {
      "needs_background": "light"
     },
     "output_type": "display_data"
    }
   ],
   "source": [
    "plot_precision_recall_curve(forest_bayes_search, X_test, y_test)"
   ]
  },
  {
   "cell_type": "markdown",
   "metadata": {},
   "source": [
    "**El Bayes Search CV NO es bueno de acuerdo a este grafico ya que llega a una precision de 1 cuando el recall es 0** "
   ]
  },
  {
   "cell_type": "code",
   "execution_count": 161,
   "metadata": {},
   "outputs": [],
   "source": [
    "precision, recall, thresholds = roc_curve(y_test, y_proba)"
   ]
  },
  {
   "cell_type": "code",
   "execution_count": 162,
   "metadata": {},
   "outputs": [],
   "source": [
    "y_test_pred=forest_bayes_search.predict(X_test)"
   ]
  },
  {
   "cell_type": "code",
   "execution_count": 163,
   "metadata": {},
   "outputs": [
    {
     "data": {
      "text/plain": [
       "0.04461893188758023"
      ]
     },
     "execution_count": 163,
     "metadata": {},
     "output_type": "execute_result"
    }
   ],
   "source": [
    "f1_score(y_test, y_test_pred)"
   ]
  },
  {
   "cell_type": "code",
   "execution_count": 164,
   "metadata": {},
   "outputs": [],
   "source": [
    "cm_test=confusion_matrix(y_test, y_test_pred)"
   ]
  },
  {
   "cell_type": "code",
   "execution_count": 165,
   "metadata": {},
   "outputs": [
    {
     "data": {
      "text/plain": [
       "<AxesSubplot:>"
      ]
     },
     "execution_count": 165,
     "metadata": {},
     "output_type": "execute_result"
    },
    {
     "data": {
      "image/png": "[encoded data removed]",
      "text/plain": [
       "<Figure size 432x288 with 2 Axes>"
      ]
     },
     "metadata": {
      "needs_background": "light"
     },
     "output_type": "display_data"
    }
   ],
   "source": [
    "s.heatmap(cm_test, annot=True ,cmap=\"YlGnBu\", fmt=\"d\")"
   ]
  },
  {
   "cell_type": "markdown",
   "metadata": {},
   "source": [
    "**Este modelo clasifica bastante bien la clase 0 pero se equivoca mucho en la clase 1**"
   ]
  },
  {
   "cell_type": "markdown",
   "metadata": {},
   "source": [
    "# Modelo Boosting with xgboost"
   ]
  },
  {
   "cell_type": "code",
   "execution_count": 166,
   "metadata": {},
   "outputs": [],
   "source": [
    "clf = xgb.XGBClassifier(objective ='binary:logistic', booster ='gbtree', learning_rate = 0.1,\n",
    "                          max_depth = 10, alpha = 5, n_estimators = 50, cv=3, scoring='accuracy',n_jobs=-1, verbose = 3)"
   ]
  },
  {
   "cell_type": "code",
   "execution_count": 167,
   "metadata": {},
   "outputs": [
    {
     "name": "stdout",
     "output_type": "stream",
     "text": [
      "[23:03:41] WARNING: C:\\Users\\Administrator\\workspace\\xgboost-win64_release_1.1.0\\src\\learner.cc:480: \n",
      "Parameters: { cv, scoring, verbose } might not be used.\n",
      "\n",
      "  This may not be accurate due to some parameters are only used in language bindings but\n",
      "  passed down to XGBoost core.  Or some parameters are not used but slip through this\n",
      "  verification. Please open an issue if you find above cases.\n",
      "\n",
      "\n",
      "[0]\tvalidation_0-auc:0.63818\tvalidation_1-auc:0.63341\n",
      "[1]\tvalidation_0-auc:0.64145\tvalidation_1-auc:0.63658\n",
      "[2]\tvalidation_0-auc:0.64447\tvalidation_1-auc:0.63941\n",
      "[3]\tvalidation_0-auc:0.64543\tvalidation_1-auc:0.63979\n",
      "[4]\tvalidation_0-auc:0.64609\tvalidation_1-auc:0.64051\n",
      "[5]\tvalidation_0-auc:0.64720\tvalidation_1-auc:0.64116\n",
      "[6]\tvalidation_0-auc:0.64787\tvalidation_1-auc:0.64123\n",
      "[7]\tvalidation_0-auc:0.64893\tvalidation_1-auc:0.64172\n",
      "[8]\tvalidation_0-auc:0.64949\tvalidation_1-auc:0.64207\n",
      "[9]\tvalidation_0-auc:0.65071\tvalidation_1-auc:0.64284\n",
      "[10]\tvalidation_0-auc:0.65185\tvalidation_1-auc:0.64366\n",
      "[11]\tvalidation_0-auc:0.65295\tvalidation_1-auc:0.64419\n",
      "[12]\tvalidation_0-auc:0.65376\tvalidation_1-auc:0.64460\n",
      "[13]\tvalidation_0-auc:0.65505\tvalidation_1-auc:0.64522\n",
      "[14]\tvalidation_0-auc:0.65565\tvalidation_1-auc:0.64558\n",
      "[15]\tvalidation_0-auc:0.65647\tvalidation_1-auc:0.64599\n",
      "[16]\tvalidation_0-auc:0.65801\tvalidation_1-auc:0.64693\n",
      "[17]\tvalidation_0-auc:0.65966\tvalidation_1-auc:0.64798\n",
      "[18]\tvalidation_0-auc:0.66060\tvalidation_1-auc:0.64830\n",
      "[19]\tvalidation_0-auc:0.66187\tvalidation_1-auc:0.64882\n",
      "[20]\tvalidation_0-auc:0.66282\tvalidation_1-auc:0.64918\n",
      "[21]\tvalidation_0-auc:0.66413\tvalidation_1-auc:0.65001\n",
      "[22]\tvalidation_0-auc:0.66506\tvalidation_1-auc:0.65054\n",
      "[23]\tvalidation_0-auc:0.66629\tvalidation_1-auc:0.65111\n",
      "[24]\tvalidation_0-auc:0.66712\tvalidation_1-auc:0.65126\n",
      "[25]\tvalidation_0-auc:0.66804\tvalidation_1-auc:0.65177\n",
      "[26]\tvalidation_0-auc:0.66879\tvalidation_1-auc:0.65197\n",
      "[27]\tvalidation_0-auc:0.67022\tvalidation_1-auc:0.65262\n",
      "[28]\tvalidation_0-auc:0.67134\tvalidation_1-auc:0.65315\n",
      "[29]\tvalidation_0-auc:0.67197\tvalidation_1-auc:0.65341\n",
      "[30]\tvalidation_0-auc:0.67286\tvalidation_1-auc:0.65396\n",
      "[31]\tvalidation_0-auc:0.67358\tvalidation_1-auc:0.65428\n",
      "[32]\tvalidation_0-auc:0.67426\tvalidation_1-auc:0.65452\n",
      "[33]\tvalidation_0-auc:0.67538\tvalidation_1-auc:0.65522\n",
      "[34]\tvalidation_0-auc:0.67606\tvalidation_1-auc:0.65553\n",
      "[35]\tvalidation_0-auc:0.67701\tvalidation_1-auc:0.65599\n",
      "[36]\tvalidation_0-auc:0.67796\tvalidation_1-auc:0.65616\n",
      "[37]\tvalidation_0-auc:0.67870\tvalidation_1-auc:0.65639\n",
      "[38]\tvalidation_0-auc:0.67928\tvalidation_1-auc:0.65648\n",
      "[39]\tvalidation_0-auc:0.68015\tvalidation_1-auc:0.65702\n",
      "[40]\tvalidation_0-auc:0.68092\tvalidation_1-auc:0.65749\n",
      "[41]\tvalidation_0-auc:0.68166\tvalidation_1-auc:0.65783\n",
      "[42]\tvalidation_0-auc:0.68234\tvalidation_1-auc:0.65802\n",
      "[43]\tvalidation_0-auc:0.68287\tvalidation_1-auc:0.65852\n",
      "[44]\tvalidation_0-auc:0.68325\tvalidation_1-auc:0.65873\n",
      "[45]\tvalidation_0-auc:0.68381\tvalidation_1-auc:0.65916\n",
      "[46]\tvalidation_0-auc:0.68463\tvalidation_1-auc:0.65931\n",
      "[47]\tvalidation_0-auc:0.68497\tvalidation_1-auc:0.65947\n",
      "[48]\tvalidation_0-auc:0.68577\tvalidation_1-auc:0.65993\n",
      "[49]\tvalidation_0-auc:0.68611\tvalidation_1-auc:0.65994\n"
     ]
    },
    {
     "data": {
      "text/plain": [
       "XGBClassifier(alpha=5, base_score=0.5, booster='gbtree', colsample_bylevel=1,\n",
       "              colsample_bynode=1, colsample_bytree=1, cv=3, gamma=0, gpu_id=-1,\n",
       "              importance_type='gain', interaction_constraints='',\n",
       "              learning_rate=0.1, max_delta_step=0, max_depth=10,\n",
       "              min_child_weight=1, missing=nan, monotone_constraints='()',\n",
       "              n_estimators=50, n_jobs=-1, num_parallel_tree=1, random_state=0,\n",
       "              reg_alpha=5, reg_lambda=1, scale_pos_weight=1, scoring='accuracy',\n",
       "              subsample=1, tree_method='exact', validate_parameters=1,\n",
       "              verbose=3, verbosity=None)"
      ]
     },
     "execution_count": 167,
     "metadata": {},
     "output_type": "execute_result"
    }
   ],
   "source": [
    "clf.fit(X_train,y_train, eval_set=[(X_train, y_train), (X_test, y_test)],\n",
    "        eval_metric='auc',\n",
    "        verbose=True) "
   ]
  },
  {
   "cell_type": "code",
   "execution_count": 168,
   "metadata": {},
   "outputs": [],
   "source": [
    "evals_result = clf.evals_result()"
   ]
  },
  {
   "cell_type": "code",
   "execution_count": 169,
   "metadata": {},
   "outputs": [],
   "source": [
    "y_pred = clf.predict(X)"
   ]
  },
  {
   "cell_type": "code",
   "execution_count": 170,
   "metadata": {},
   "outputs": [],
   "source": [
    "pred=[round(value) for value in y_pred]"
   ]
  },
  {
   "cell_type": "code",
   "execution_count": 171,
   "metadata": {},
   "outputs": [],
   "source": [
    "acc_score = accuracy_score(y, y_pred)"
   ]
  },
  {
   "cell_type": "code",
   "execution_count": 172,
   "metadata": {},
   "outputs": [
    {
     "name": "stdout",
     "output_type": "stream",
     "text": [
      "Boosting accuracy:  0.7876330814122771\n"
     ]
    }
   ],
   "source": [
    "print('Boosting accuracy: ', acc_score)"
   ]
  },
  {
   "cell_type": "markdown",
   "metadata": {},
   "source": [
    "# Metricas Curvas ROC y matriz de confusión"
   ]
  },
  {
   "cell_type": "code",
   "execution_count": 173,
   "metadata": {},
   "outputs": [
    {
     "data": {
      "image/png": "[encoded data removed]",
      "text/plain": [
       "<Figure size 432x288 with 1 Axes>"
      ]
     },
     "metadata": {
      "needs_background": "light"
     },
     "output_type": "display_data"
    }
   ],
   "source": [
    "plot_roc_curve(clf, X_test, y_test);"
   ]
  },
  {
   "cell_type": "markdown",
   "metadata": {},
   "source": [
    "**El gráfico muestra que el modelo xgboost es malo ya que tiene una alta tasa de falsos positivos para una tasa alta de verdaderos positiovs**"
   ]
  },
  {
   "cell_type": "code",
   "execution_count": 174,
   "metadata": {},
   "outputs": [],
   "source": [
    "y_proba = clf.predict_proba(X_test)[:,1]\n",
    "fpr, tpr, thresholds = roc_curve(y_test, y_proba)"
   ]
  },
  {
   "cell_type": "code",
   "execution_count": 175,
   "metadata": {},
   "outputs": [
    {
     "data": {
      "text/plain": [
       "0.6599377515393277"
      ]
     },
     "execution_count": 175,
     "metadata": {},
     "output_type": "execute_result"
    }
   ],
   "source": [
    "roc_auc_score(y_test, y_proba)"
   ]
  },
  {
   "cell_type": "code",
   "execution_count": 176,
   "metadata": {},
   "outputs": [
    {
     "data": {
      "text/plain": [
       "<sklearn.metrics._plot.precision_recall_curve.PrecisionRecallDisplay at 0x61fdd400>"
      ]
     },
     "execution_count": 176,
     "metadata": {},
     "output_type": "execute_result"
    },
    {
     "data": {
      "image/png": "[encoded data removed]",
      "text/plain": [
       "<Figure size 432x288 with 1 Axes>"
      ]
     },
     "metadata": {
      "needs_background": "light"
     },
     "output_type": "display_data"
    }
   ],
   "source": [
    "plot_precision_recall_curve(clf, X_test, y_test)"
   ]
  },
  {
   "cell_type": "markdown",
   "metadata": {},
   "source": [
    "**El grafico muestra que el modelo NO es bueno ya que para una precision de 1 el recall es 0**"
   ]
  },
  {
   "cell_type": "code",
   "execution_count": 177,
   "metadata": {},
   "outputs": [],
   "source": [
    "precision, recall, thresholds = roc_curve(y_test, y_proba)"
   ]
  },
  {
   "cell_type": "code",
   "execution_count": 178,
   "metadata": {},
   "outputs": [],
   "source": [
    "y_test_pred = clf.predict(X_test)"
   ]
  },
  {
   "cell_type": "code",
   "execution_count": 179,
   "metadata": {},
   "outputs": [
    {
     "data": {
      "text/plain": [
       "0.06306751497930693"
      ]
     },
     "execution_count": 179,
     "metadata": {},
     "output_type": "execute_result"
    }
   ],
   "source": [
    "f1_score(y_test, y_test_pred)"
   ]
  },
  {
   "cell_type": "code",
   "execution_count": 180,
   "metadata": {},
   "outputs": [],
   "source": [
    "cm_test=confusion_matrix(y_test, y_test_pred)"
   ]
  },
  {
   "cell_type": "code",
   "execution_count": 181,
   "metadata": {},
   "outputs": [
    {
     "data": {
      "text/plain": [
       "<AxesSubplot:>"
      ]
     },
     "execution_count": 181,
     "metadata": {},
     "output_type": "execute_result"
    },
    {
     "data": {
      "image/png": "[encoded data removed]",
      "text/plain": [
       "<Figure size 432x288 with 2 Axes>"
      ]
     },
     "metadata": {
      "needs_background": "light"
     },
     "output_type": "display_data"
    }
   ],
   "source": [
    "s.heatmap(cm_test, annot=True ,cmap=\"YlGnBu\", fmt=\"d\")"
   ]
  },
  {
   "cell_type": "markdown",
   "metadata": {},
   "source": [
    "**Este modelo tiene errores considerables en la prediccion de la clase 1**"
   ]
  },
  {
   "cell_type": "markdown",
   "metadata": {},
   "source": [
    "# Calculamos la permutation_importance feature"
   ]
  },
  {
   "cell_type": "code",
   "execution_count": 182,
   "metadata": {},
   "outputs": [],
   "source": [
    "r = permutation_importance(clf, X_test, y_test, random_state=0)"
   ]
  },
  {
   "cell_type": "code",
   "execution_count": 184,
   "metadata": {},
   "outputs": [
    {
     "name": "stdout",
     "output_type": "stream",
     "text": [
      "CentroDeAtencion 4.652385688958829e-05\n",
      "Recurso 0.0002126229563371227\n",
      "Edad 9.653337798839531e-05\n",
      "AnticipacionDeReserva 3.310716036780259e-05\n",
      "DiaTurno 4.728313588762096e-05\n",
      "MesTurno 4.8644376363077934e-05\n",
      "ConsultaMedica 9.120074874081645e-05\n",
      "ConsumidorFinal 8.891597394591587e-05\n",
      "TipoDeTurnoEncode 0.0001236998388945145\n",
      "SexoEncode 9.616375297569897e-05\n"
     ]
    }
   ],
   "source": [
    "indices = np.argsort(r.importances_std)\n",
    "for f in range(X.shape[1]):\n",
    "    print(X_test.columns[f], r.importances_std[f])"
   ]
  },
  {
   "cell_type": "code",
   "execution_count": 185,
   "metadata": {},
   "outputs": [
    {
     "data": {
      "image/png": "[encoded data removed]",
      "text/plain": [
       "<Figure size 432x288 with 1 Axes>"
      ]
     },
     "metadata": {
      "needs_background": "light"
     },
     "output_type": "display_data"
    }
   ],
   "source": [
    "plt.figure()\n",
    "plt.title(\"Permutation importances\")\n",
    "plt.bar(range(X.shape[1]), r.importances_std[indices],color=\"g\")\n",
    "plt.xticks(range(X.shape[1]), labels=X_test.columns[indices],rotation=90)\n",
    "plt.show()"
   ]
  },
  {
   "cell_type": "markdown",
   "metadata": {},
   "source": [
    "**Observamos que según el análisis de permutation importances para este modelo la feature mas importante es Recurso**"
   ]
  },
  {
   "cell_type": "markdown",
   "metadata": {},
   "source": [
    "# Calculamos la feature importances"
   ]
  },
  {
   "cell_type": "code",
   "execution_count": 186,
   "metadata": {},
   "outputs": [
    {
     "name": "stdout",
     "output_type": "stream",
     "text": [
      "Feature ranking:\n",
      "CentroDeAtencion 0.0119939465\n",
      "Recurso 0.017404485\n",
      "Edad 0.015715992\n",
      "AnticipacionDeReserva 0.86007017\n",
      "DiaTurno 0.003997964\n",
      "MesTurno 0.0043010586\n",
      "ConsultaMedica 0.018922668\n",
      "ConsumidorFinal 0.014107285\n",
      "TipoDeTurnoEncode 0.041333348\n",
      "SexoEncode 0.012153055\n"
     ]
    },
    {
     "data": {
      "image/png": "[encoded data removed]",
      "text/plain": [
       "<Figure size 432x288 with 1 Axes>"
      ]
     },
     "metadata": {
      "needs_background": "light"
     },
     "output_type": "display_data"
    }
   ],
   "source": [
    "importances= clf.feature_importances_\n",
    "indices = np.argsort(importances)[::-1]\n",
    "print(\"Feature ranking:\")\n",
    "\n",
    "for f in range(X.shape[1]):\n",
    "    print(X_test.columns[f], importances[f])\n",
    "    \n",
    "# Plot the impurity-based feature importances of the forest\n",
    "\n",
    "plt.figure()\n",
    "plt.title(\"Feature importances\")\n",
    "plt.bar(range(X.shape[1]), importances[indices], color=\"r\", align=\"center\")\n",
    "plt.xticks(range(X.shape[1]), labels=X_test.columns[indices],rotation=90)\n",
    "plt.xlim([-1, X.shape[1]])\n",
    "plt.show()\n"
   ]
  },
  {
   "cell_type": "markdown",
   "metadata": {},
   "source": [
    "**Observamos que según el análisis de feature importances para este modelo la feature mas importante es Anticipación de Reserva**"
   ]
  },
  {
   "cell_type": "markdown",
   "metadata": {},
   "source": [
    "# Modelo Linear SVC"
   ]
  },
  {
   "cell_type": "code",
   "execution_count": 187,
   "metadata": {},
   "outputs": [],
   "source": [
    "svc = make_pipeline(StandardScaler(), LinearSVC (loss = 'hinge', multi_class = 'crammer_singer', class_weight = 'balanced' , random_state=42 ))"
   ]
  },
  {
   "cell_type": "code",
   "execution_count": 188,
   "metadata": {},
   "outputs": [
    {
     "data": {
      "text/plain": [
       "Pipeline(steps=[('standardscaler', StandardScaler()),\n",
       "                ('linearsvc',\n",
       "                 LinearSVC(class_weight='balanced', loss='hinge',\n",
       "                           multi_class='crammer_singer', random_state=42))])"
      ]
     },
     "execution_count": 188,
     "metadata": {},
     "output_type": "execute_result"
    }
   ],
   "source": [
    "svc.fit(X_train,y_train)"
   ]
  },
  {
   "cell_type": "code",
   "execution_count": 189,
   "metadata": {},
   "outputs": [
    {
     "name": "stdout",
     "output_type": "stream",
     "text": [
      "Accuracy: 15 \n"
     ]
    }
   ],
   "source": [
    "predictions = svc.predict(X_test)\n",
    "print ('Accuracy: %d ' % ((np.sum(y_test == predictions))/float(y.size)*100))"
   ]
  },
  {
   "cell_type": "markdown",
   "metadata": {},
   "source": [
    "# Metricas Curvas ROC y matriz de confusión"
   ]
  },
  {
   "cell_type": "code",
   "execution_count": 190,
   "metadata": {},
   "outputs": [
    {
     "data": {
      "image/png": "[encoded data removed]",
      "text/plain": [
       "<Figure size 432x288 with 1 Axes>"
      ]
     },
     "metadata": {
      "needs_background": "light"
     },
     "output_type": "display_data"
    }
   ],
   "source": [
    "plot_roc_curve(svc, X_test, y_test);"
   ]
  },
  {
   "cell_type": "markdown",
   "metadata": {},
   "source": [
    "**El gráfico muestra que el modelo Linear SVC NO es bueno ya que tiene una tasa de falsos positivos alta para una tasa de verdaderos positivos alta**"
   ]
  },
  {
   "cell_type": "code",
   "execution_count": 191,
   "metadata": {},
   "outputs": [
    {
     "data": {
      "text/plain": [
       "<sklearn.metrics._plot.precision_recall_curve.PrecisionRecallDisplay at 0x61fd4080>"
      ]
     },
     "execution_count": 191,
     "metadata": {},
     "output_type": "execute_result"
    },
    {
     "data": {
      "image/png": "[encoded data removed]",
      "text/plain": [
       "<Figure size 432x288 with 1 Axes>"
      ]
     },
     "metadata": {
      "needs_background": "light"
     },
     "output_type": "display_data"
    }
   ],
   "source": [
    "plot_precision_recall_curve(svc, X_test, y_test)"
   ]
  },
  {
   "cell_type": "markdown",
   "metadata": {},
   "source": [
    "**El modelo Linear SVC No es bueno ya que para un precision de 1 el recall es de 0 lo que indica la existencia de muchos falsos positivos**"
   ]
  },
  {
   "cell_type": "code",
   "execution_count": 192,
   "metadata": {},
   "outputs": [],
   "source": [
    "y_test_pred = svc.predict(X_test)"
   ]
  },
  {
   "cell_type": "code",
   "execution_count": 193,
   "metadata": {},
   "outputs": [
    {
     "data": {
      "text/plain": [
       "0.3886221368615735"
      ]
     },
     "execution_count": 193,
     "metadata": {},
     "output_type": "execute_result"
    }
   ],
   "source": [
    "f1_score(y_test, y_test_pred)"
   ]
  },
  {
   "cell_type": "code",
   "execution_count": 194,
   "metadata": {},
   "outputs": [],
   "source": [
    "cm_test=confusion_matrix(y_test, y_test_pred)"
   ]
  },
  {
   "cell_type": "code",
   "execution_count": 195,
   "metadata": {},
   "outputs": [
    {
     "data": {
      "text/plain": [
       "<AxesSubplot:>"
      ]
     },
     "execution_count": 195,
     "metadata": {},
     "output_type": "execute_result"
    },
    {
     "data": {
      "image/png": "[encoded data removed]",
      "text/plain": [
       "<Figure size 432x288 with 2 Axes>"
      ]
     },
     "metadata": {
      "needs_background": "light"
     },
     "output_type": "display_data"
    }
   ],
   "source": [
    "s.heatmap(cm_test, annot=True ,cmap=\"YlGnBu\", fmt=\"d\")"
   ]
  },
  {
   "cell_type": "markdown",
   "metadata": {},
   "source": [
    "**Este modelo clasifica incorrectamente las dos clases**"
   ]
  },
  {
   "cell_type": "code",
   "execution_count": null,
   "metadata": {},
   "outputs": [],
   "source": []
  }
 ],
 "metadata": {
  "kernelspec": {
   "display_name": "Python 3",
   "language": "python",
   "name": "python3"
  },
  "language_info": {
   "codemirror_mode": {
    "name": "ipython",
    "version": 3
   },
   "file_extension": ".py",
   "mimetype": "text/x-python",
   "name": "python",
   "nbconvert_exporter": "python",
   "pygments_lexer": "ipython3",
   "version": "3.7.3"
  }
 },
 "nbformat": 4,
 "nbformat_minor": 4
}
