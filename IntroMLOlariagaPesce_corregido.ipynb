{
 "cells": [
  {
   "cell_type": "markdown",
   "metadata": {},
   "source": [
    "## Práctico de Introducción a Machine Learning\n",
    "\n",
    "En este práctico implementaremos modelos sencillos de clasificiación para intentar predecir el ausentismo en los turnos. Vamos a experimentar con modelos lineales y con árboles de decisión. Nuestro objetivo no será construir el mejor modelo, sino ganar un poco más de intuición sobre nuestro conjunto de datos, y tomar algunas decisiones sobre las que profundizaremos en el próximo práctico.\n",
    "\n",
    "### Preprocesamiento\n",
    "\n",
    "Antes de aplicar los modelos, haremos un filtrado de los datos. Se sugiere seguir los siguientes pasos, pero pueden experimentar ustedes también otras alternativas\n",
    "\n",
    "- Seleccionar sólo los registros cuyo estado de turno sea \"Ausente\" o \"Atendido\". Esta variable será nuestra variable objetivo, sobre la cual buscaremos hacer predicciones.\n",
    "\n",
    "- Remover los siguientes registros:\n",
    "\n",
    "    - Turnos con pacientes menores de edad. \n",
    "\n",
    "    - Turnos en días domingo.\n",
    "\n",
    "    - Pacientes sin datos en columna \"Sexo\"\n",
    "\n",
    "    - Consultas de guardia\n",
    "\n",
    "    - Consultas de pediatría\n",
    "\n",
    "    - Registros cuyo centro de atención sea \"1\" o \"2\"\n",
    "    \n",
    "- Crear los siguientes features:\n",
    "\n",
    "    - **Anticipación de reserva**. Diferencia entre la fecha del turno y la fecha de otorgado. En caso de que la fecha de otorgado sea mayor a la del turno, colocar el valor 0.\n",
    "    \n",
    "    - **Día de la semana**. \n",
    "    \n",
    "    - **Consulta médica**. Variable binaria construida a partir del campo \"Prestación asignada\", que vale 1 si la prestación es una consulta médica, o 0 si es de otro tipo.\n",
    "    \n",
    "    - **Consumidor final**. Variable binaria construida a partir del campo \"Prestador\", que vale 1 si se trata de un consumidor final, o 0 si cuenta con obra social o prepaga.\n",
    "    \n",
    "Una vez realizados los pasos previos (o los que ustedes consideren pertinentes) debemos decidir qué hacer con los valores nulos que hayan quedado. Dado que los modelos no pueden recibir valores nulos, es necesario tomar una decisión (descartarlos, reemplazarlos por algún valor representativo, descartar alguna columna, etc.). Utilicen el criterio que consideren adecuado en este caso.\n",
    "\n",
    "Una vez que el dataset resultante no tenga valores nulos, es necesario transformar las variables categóricas en variables numéricas (es decir, realizar un encoding de los datos). Las recomendaciones en este caso son:\n",
    "\n",
    "- Realizar one-hot encoding para los campos\n",
    "\n",
    "    - Día de la semana \n",
    "    - Tipo de turno\n",
    "    - Centro de atención\n",
    "    \n",
    "    \n",
    "- Transformar en variables binarias los campos\n",
    "\n",
    "    - Estado del turno (\"Ausente\" == 1, \"Atendido\" = 0)\n",
    "    - Sexo\n",
    "    - Es sobre turno\n",
    "    - Consulta médica\n",
    "    - Consumidor final\n",
    "    \n",
    "Pueden ver más sobre encoding [acá](https://towardsdatascience.com/categorical-encoding-using-label-encoding-and-one-hot-encoder-911ef77fb5bd).\n",
    "\n",
    "### Elección de los modelos\n",
    "\n",
    "Con los pasos anteriores, nuestro dataset debería ser una tabla con valores numéricos y sin valores nulos. Ahora, deberán separar el conjunto de datos en conjunto de entrenamiento (train) y conjunto de prueba (test). Por ahora, no utilizaremos conjunto de validación. Se recomienda utilizar el método `train_test_split` de `scikitlearn`, con un 80% para train y 20% para test.\n",
    "\n",
    "Una vez divididos los datos, construimos los modelos predictivos. Deberán elegir (al menos) dos modelos [lineales](https://scikit-learn.org/stable/modules/classes.html#module-sklearn.linear_model) y dos modelos basados en [árboles de decisión](https://scikit-learn.org/stable/modules/classes.html#module-sklearn.ensemble). Entrenen cada modelo utilizando el conjunto de entrenamiento y los parámetros por defecto y evaluen la predicción utilizando las cuatro métricas descriptas más adelante. ¿Qué diferencias hay entre los distintos modelos? ¿Qué tan buenas son las predicciones?\n",
    "\n",
    "Jueguen un poco variando algunos parámetros (no es necesario hacer una búsqueda sistemática). ¿Qué parámetros influyen más en el desempeño de los clasificadores? ¿Por qué les parece que algunos parámetros influyen más que otros?\n",
    "\n",
    "Repitan el proceso pero normalizando los datos de entrada (pueden usar, por ejemplo `MinMaxScaler` o `StandardScaler`). ¿Hay alguna diferencia en el resultado de los modelos? ¿A qué se debe?\n",
    "\n",
    "Finalmente, intenten mejorar las predicciones agregando o quitando features, o variando el tipo de encoding. En base a los resultados que vayan obteniendo, determinen los features que ustedes consideren que son más informativos (aquellos que ayudan a mejorar la predicción) y aquellos que sean redundantes, o que empeoren el resultado.\n",
    "\n",
    "### Elección de métricas\n",
    "\n",
    "Un aspecto fundamental del aprendizaje automático es la elección de métricas para evaluar los modelos predictivos. En este práctico vamos a explorar las siguientes cuatro métricas:\n",
    "\n",
    "- Accuracy\n",
    "- F1\n",
    "- AUC ROC\n",
    "- AUC Precision-Recall\n",
    "\n",
    "Para cada uno de los modelos que utilicen, calculen las cuatro métricas. ¿Qué información brinda cada una? ¿Hay algún inconveniente en utilizar alguna de ellas? ¿Cuáles les parece que pueden ser de utilidad para nuestra problemática? Pueden encontrar información sobre las últimas dos [acá](https://machinelearningmastery.com/roc-curves-and-precision-recall-curves-for-classification-in-python/).\n",
    "\n",
    "\n"
   ]
  },
  {
   "cell_type": "code",
   "execution_count": 1,
   "metadata": {},
   "outputs": [],
   "source": [
    "import os\n",
    "import numpy as np\n",
    "import pandas as pd\n",
    "import chardet\n",
    "import string\n",
    "np.random.seed(0)\n",
    "import seaborn as sn\n",
    "import matplotlib.pyplot as plt\n",
    "import warnings\n",
    "warnings.filterwarnings(\"ignore\")\n",
    "import re\n",
    "import unidecode"
   ]
  },
  {
   "cell_type": "code",
   "execution_count": 2,
   "metadata": {},
   "outputs": [],
   "source": [
    "dfp = pd.read_csv('turnos_con_paciente_2018-2019_despersonalizado.csv', sep=';')\n",
    "dfsp = pd.read_csv('turnos_sin_paciente_2018-2019_despersonalizado.csv', sep=';')\n",
    "\n",
    "#dfp = pd.read_csv(r'E:\\anaconda3\\envs\\mentoria_ausentismo\\aprendizajeautomatico\\turnos_con_paciente_2018-2019_despersonalizado.csv', sep=';')\n",
    "#dfsp = pd.read_csv(r'E:\\anaconda3\\envs\\mentoria_ausentismo\\aprendizajeautomatico\\turnos_sin_paciente_2018-2019_despersonalizado.csv', sep=';')"
   ]
  },
  {
   "cell_type": "code",
   "execution_count": 4,
   "metadata": {},
   "outputs": [],
   "source": [
    "## Renombramos columnas\n",
    "to_rename = {\n",
    "    'Centro de atención': 'CentroDeAtencion',\n",
    "    'Prestación asignada': 'Prestacion',\n",
    "    'Estado del turno': 'EstadoDelTurno',\n",
    "    'Nombre del canal': 'Canal',\n",
    "    'Fecha del turno': 'FechaDelTurno',\n",
    "    'Hora del turno': 'HoraDelTurno',\n",
    "    'Es sobre turno': 'EsSobreTurno',\n",
    "    'Tipo de turno asignado': 'TipoDeTurno'\n",
    "        }\n",
    "dfsp_r = dfsp.rename(columns=to_rename)"
   ]
  },
  {
   "cell_type": "code",
   "execution_count": 5,
   "metadata": {},
   "outputs": [],
   "source": [
    "## Parseamos fechas\n",
    "dfsp_r.FechaDelTurno = dfsp_r.FechaDelTurno + ' ' + dfsp_r.HoraDelTurno\n",
    "dfsp_r.FechaDelTurno = pd.to_datetime(dfsp_r.FechaDelTurno)\n",
    "dfsp_r = dfsp_r.drop(columns=['HoraDelTurno'])"
   ]
  },
  {
   "cell_type": "code",
   "execution_count": 6,
   "metadata": {},
   "outputs": [],
   "source": [
    "## Renombramos columnas\n",
    "to_rename = {\n",
    "    'CentroAtencion_Nombre': 'CentroDeAtencion',\n",
    "    'Servicio_Nombre': 'Servicio',\n",
    "    'TurnoEstado_Nombre': 'EstadoDelTurno',\n",
    "    'FechaTurno': 'FechaDelTurno',\n",
    "    'TipoTurno': 'TipoDeTurno',\n",
    "    'Dirección (localidad)' : 'Localidad',\n",
    "    'Dirección (provincia)' : 'Provincia',\n",
    "    'FechaOtrogado' : 'FechaOtorgado'\n",
    "    }\n",
    "dfp_r = dfp.rename(columns=to_rename)"
   ]
  },
  {
   "cell_type": "code",
   "execution_count": 7,
   "metadata": {},
   "outputs": [],
   "source": [
    "## Parseamos fechas\n",
    "dfp_r.FechaDelTurno = pd.to_datetime(dfp_r.FechaDelTurno)"
   ]
  },
  {
   "cell_type": "code",
   "execution_count": 8,
   "metadata": {},
   "outputs": [],
   "source": [
    "##Hacemos minúscula todo\n",
    "dfp_r.Localidad = dfp_r.Localidad.str.lower()\n",
    "dfp_r.Provincia = dfp_r.Provincia.str.lower()"
   ]
  },
  {
   "cell_type": "code",
   "execution_count": 9,
   "metadata": {},
   "outputs": [],
   "source": [
    "dfp_r.Localidad.replace(['-', ' '], 'No definido', inplace=True)\n",
    "dfp_r.loc[dfp_r.Localidad.isnull(), 'Localidad'] = 'No definido'\n",
    "dfp_r.Provincia.replace(['-', ' '], 'No definido', inplace=True)\n",
    "dfp_r.loc[dfp_r.Provincia.isnull(), 'Provincia'] = 'No definido'"
   ]
  },
  {
   "cell_type": "code",
   "execution_count": 10,
   "metadata": {},
   "outputs": [],
   "source": [
    "##Reemplazamos todos los _Córdoba_ mal escritos (ya revisados) por \"cordoba\"\n",
    "Mal_Escrito = ['cba', 'cordiba', 'cordo', 'cordobacapital', 'cordobacapitral', 'cordonba', 'corodba', 'crdoba', 'ordoba']\n",
    "dfp_r.Localidad.replace(Mal_Escrito,'cordoba', inplace=True)\n",
    "dfp_r.Provincia.replace(Mal_Escrito,'cordoba', inplace=True)"
   ]
  },
  {
   "cell_type": "code",
   "execution_count": 11,
   "metadata": {},
   "outputs": [],
   "source": [
    "#Localidad\n",
    "##Evaluamos y reemplazamos los que tenemos dudas (ya revisados), por \"cordoba\" \n",
    "Duda = ['capital', 'centro']\n",
    "dfp_r.loc[(dfp_r.Provincia == 'cordoba') & (dfp_r.Localidad.isin(Duda)), 'Localidad'] = 'cordoba'"
   ]
  },
  {
   "cell_type": "code",
   "execution_count": 12,
   "metadata": {},
   "outputs": [],
   "source": [
    "#Provincia\n",
    "##Reemplazamos los posibles \"nodefinido\" por \"cordoba\" en Provincia, cuando Localidad='cordoba'\n",
    "dfp_r.loc[dfp_r.Localidad == 'cordoba', 'Provincia'] = 'cordoba'"
   ]
  },
  {
   "cell_type": "code",
   "execution_count": 13,
   "metadata": {},
   "outputs": [],
   "source": [
    "##Reemplazamos todo lo que no es \"cordoba\" por \"otro\"\n",
    "dfp_r.loc[(dfp_r.Provincia != 'cordoba') , 'Provincia'] = 'otro'\n",
    "dfp_r.loc[(dfp_r.Provincia == 'nodefinido'), 'Provincia'] = 'otro'\n",
    "dfp_r.loc[(dfp_r.Localidad != 'cordoba') , 'Localidad'] = 'otro'\n",
    "dfp_r.loc[(dfp_r.Localidad == 'nodefinido'), 'Localidad'] = 'otro'"
   ]
  },
  {
   "cell_type": "code",
   "execution_count": 14,
   "metadata": {},
   "outputs": [],
   "source": [
    "dfp_r.EstadoDelTurno= dfp_r.EstadoDelTurno.replace ({'Atendiendo' :'Atendido','Asignado':'Atendido','Receptado':'Atendido'})"
   ]
  },
  {
   "cell_type": "code",
   "execution_count": 15,
   "metadata": {},
   "outputs": [],
   "source": [
    "dfsp_r_t= dfsp_r[dfsp_r.EstadoDelTurno.isin (['Atendido','Ausente'])]"
   ]
  },
  {
   "cell_type": "code",
   "execution_count": 16,
   "metadata": {},
   "outputs": [
    {
     "data": {
      "text/plain": [
       "array(['Atendido', 'Ausente'], dtype=object)"
      ]
     },
     "execution_count": 16,
     "metadata": {},
     "output_type": "execute_result"
    }
   ],
   "source": [
    "dfsp_r_t.EstadoDelTurno.unique()"
   ]
  },
  {
   "cell_type": "code",
   "execution_count": 17,
   "metadata": {},
   "outputs": [
    {
     "data": {
      "text/html": [
       "<div>\n",
       "<style scoped>\n",
       "    .dataframe tbody tr th:only-of-type {\n",
       "        vertical-align: middle;\n",
       "    }\n",
       "\n",
       "    .dataframe tbody tr th {\n",
       "        vertical-align: top;\n",
       "    }\n",
       "\n",
       "    .dataframe thead th {\n",
       "        text-align: right;\n",
       "    }\n",
       "</style>\n",
       "<table border=\"1\" class=\"dataframe\">\n",
       "  <thead>\n",
       "    <tr style=\"text-align: right;\">\n",
       "      <th></th>\n",
       "      <th>CentroDeAtencion</th>\n",
       "      <th>Prestador</th>\n",
       "      <th>Recurso</th>\n",
       "      <th>Servicio</th>\n",
       "      <th>FechaDelTurno</th>\n",
       "      <th>EstadoDelTurno</th>\n",
       "      <th>Sexo</th>\n",
       "      <th>Edad</th>\n",
       "      <th>HC</th>\n",
       "      <th>TipoDeTurno</th>\n",
       "      <th>Prestacion</th>\n",
       "      <th>FechaOtorgado</th>\n",
       "      <th>Localidad</th>\n",
       "      <th>Provincia</th>\n",
       "      <th>Canal</th>\n",
       "      <th>EsSobreTurno</th>\n",
       "    </tr>\n",
       "  </thead>\n",
       "  <tbody>\n",
       "    <tr>\n",
       "      <th>0</th>\n",
       "      <td>1</td>\n",
       "      <td>MEDIFE ASOCIACIÓN CIVIL</td>\n",
       "      <td>253</td>\n",
       "      <td>GUARDIA DE PEDIATRIA</td>\n",
       "      <td>2018-01-01 11:57:00</td>\n",
       "      <td>Atendido</td>\n",
       "      <td>F</td>\n",
       "      <td>4</td>\n",
       "      <td>0.0</td>\n",
       "      <td>Ulterior / Control</td>\n",
       "      <td>CONSULTA MEDICA</td>\n",
       "      <td>2018-01-01 11:58:10.047000</td>\n",
       "      <td>otro</td>\n",
       "      <td>otro</td>\n",
       "      <td>NaN</td>\n",
       "      <td>SI</td>\n",
       "    </tr>\n",
       "    <tr>\n",
       "      <th>1</th>\n",
       "      <td>1</td>\n",
       "      <td>MEDIFE ASOCIACIÓN CIVIL</td>\n",
       "      <td>253</td>\n",
       "      <td>GUARDIA DE PEDIATRIA</td>\n",
       "      <td>2018-01-01 12:20:00</td>\n",
       "      <td>Atendido</td>\n",
       "      <td>M</td>\n",
       "      <td>3</td>\n",
       "      <td>1.0</td>\n",
       "      <td>Ulterior / Control</td>\n",
       "      <td>CONSULTA MEDICA</td>\n",
       "      <td>2018-01-01 12:20:46.097000</td>\n",
       "      <td>otro</td>\n",
       "      <td>otro</td>\n",
       "      <td>NaN</td>\n",
       "      <td>SI</td>\n",
       "    </tr>\n",
       "    <tr>\n",
       "      <th>2</th>\n",
       "      <td>1</td>\n",
       "      <td>DASPU</td>\n",
       "      <td>253</td>\n",
       "      <td>GUARDIA DE PEDIATRIA</td>\n",
       "      <td>2018-01-01 12:23:00</td>\n",
       "      <td>Atendido</td>\n",
       "      <td>M</td>\n",
       "      <td>3</td>\n",
       "      <td>2.0</td>\n",
       "      <td>Ulterior / Control</td>\n",
       "      <td>CONSULTA MEDICA</td>\n",
       "      <td>2018-01-01 12:25:39.333000</td>\n",
       "      <td>otro</td>\n",
       "      <td>otro</td>\n",
       "      <td>NaN</td>\n",
       "      <td>SI</td>\n",
       "    </tr>\n",
       "    <tr>\n",
       "      <th>3</th>\n",
       "      <td>1</td>\n",
       "      <td>SWISS MEDICAL S.A.</td>\n",
       "      <td>253</td>\n",
       "      <td>GUARDIA DE PEDIATRIA</td>\n",
       "      <td>2018-01-01 12:27:00</td>\n",
       "      <td>Atendido</td>\n",
       "      <td>M</td>\n",
       "      <td>3</td>\n",
       "      <td>3.0</td>\n",
       "      <td>Ulterior / Control</td>\n",
       "      <td>CONSULTA MEDICA</td>\n",
       "      <td>2018-01-01 12:27:55.193000</td>\n",
       "      <td>otro</td>\n",
       "      <td>otro</td>\n",
       "      <td>NaN</td>\n",
       "      <td>SI</td>\n",
       "    </tr>\n",
       "    <tr>\n",
       "      <th>4</th>\n",
       "      <td>1</td>\n",
       "      <td>PARQUE SALUD S.A.</td>\n",
       "      <td>253</td>\n",
       "      <td>GUARDIA DE PEDIATRIA</td>\n",
       "      <td>2018-01-01 12:38:00</td>\n",
       "      <td>Atendido</td>\n",
       "      <td>F</td>\n",
       "      <td>3</td>\n",
       "      <td>4.0</td>\n",
       "      <td>Ulterior / Control</td>\n",
       "      <td>CONSULTA MEDICA</td>\n",
       "      <td>2018-01-01 12:39:04.563000</td>\n",
       "      <td>otro</td>\n",
       "      <td>otro</td>\n",
       "      <td>NaN</td>\n",
       "      <td>SI</td>\n",
       "    </tr>\n",
       "  </tbody>\n",
       "</table>\n",
       "</div>"
      ],
      "text/plain": [
       "   CentroDeAtencion                Prestador  Recurso              Servicio  \\\n",
       "0                 1  MEDIFE ASOCIACIÓN CIVIL      253  GUARDIA DE PEDIATRIA   \n",
       "1                 1  MEDIFE ASOCIACIÓN CIVIL      253  GUARDIA DE PEDIATRIA   \n",
       "2                 1                    DASPU      253  GUARDIA DE PEDIATRIA   \n",
       "3                 1       SWISS MEDICAL S.A.      253  GUARDIA DE PEDIATRIA   \n",
       "4                 1        PARQUE SALUD S.A.      253  GUARDIA DE PEDIATRIA   \n",
       "\n",
       "        FechaDelTurno EstadoDelTurno Sexo  Edad   HC         TipoDeTurno  \\\n",
       "0 2018-01-01 11:57:00       Atendido    F     4  0.0  Ulterior / Control   \n",
       "1 2018-01-01 12:20:00       Atendido    M     3  1.0  Ulterior / Control   \n",
       "2 2018-01-01 12:23:00       Atendido    M     3  2.0  Ulterior / Control   \n",
       "3 2018-01-01 12:27:00       Atendido    M     3  3.0  Ulterior / Control   \n",
       "4 2018-01-01 12:38:00       Atendido    F     3  4.0  Ulterior / Control   \n",
       "\n",
       "        Prestacion               FechaOtorgado Localidad Provincia Canal  \\\n",
       "0  CONSULTA MEDICA  2018-01-01 11:58:10.047000      otro      otro   NaN   \n",
       "1  CONSULTA MEDICA  2018-01-01 12:20:46.097000      otro      otro   NaN   \n",
       "2  CONSULTA MEDICA  2018-01-01 12:25:39.333000      otro      otro   NaN   \n",
       "3  CONSULTA MEDICA  2018-01-01 12:27:55.193000      otro      otro   NaN   \n",
       "4  CONSULTA MEDICA  2018-01-01 12:39:04.563000      otro      otro   NaN   \n",
       "\n",
       "  EsSobreTurno  \n",
       "0           SI  \n",
       "1           SI  \n",
       "2           SI  \n",
       "3           SI  \n",
       "4           SI  "
      ]
     },
     "execution_count": 17,
     "metadata": {},
     "output_type": "execute_result"
    }
   ],
   "source": [
    "cols = [\n",
    "    'CentroDeAtencion', 'Servicio', 'Recurso', 'FechaDelTurno', \n",
    "    'EstadoDelTurno', 'Prestacion', 'TipoDeTurno'\n",
    "]\n",
    "df = dfp_r.merge(dfsp_r_t, on=cols)\n",
    "df.head()"
   ]
  },
  {
   "cell_type": "code",
   "execution_count": 18,
   "metadata": {},
   "outputs": [
    {
     "data": {
      "text/plain": [
       "CentroDeAtencion             int64\n",
       "Prestador                   object\n",
       "Recurso                      int64\n",
       "Servicio                    object\n",
       "FechaDelTurno       datetime64[ns]\n",
       "EstadoDelTurno              object\n",
       "Sexo                        object\n",
       "Edad                         int64\n",
       "HC                         float64\n",
       "TipoDeTurno                 object\n",
       "Prestacion                  object\n",
       "FechaOtorgado               object\n",
       "Localidad                   object\n",
       "Provincia                   object\n",
       "Canal                       object\n",
       "EsSobreTurno                object\n",
       "dtype: object"
      ]
     },
     "execution_count": 18,
     "metadata": {},
     "output_type": "execute_result"
    }
   ],
   "source": [
    "df.dtypes"
   ]
  },
  {
   "cell_type": "code",
   "execution_count": 19,
   "metadata": {},
   "outputs": [
    {
     "data": {
      "text/plain": [
       "array(['SI', 'NO'], dtype=object)"
      ]
     },
     "execution_count": 19,
     "metadata": {},
     "output_type": "execute_result"
    }
   ],
   "source": [
    "df.EsSobreTurno.unique()"
   ]
  },
  {
   "cell_type": "code",
   "execution_count": 20,
   "metadata": {},
   "outputs": [],
   "source": [
    "df.loc[(df.Canal == 'Teléfono'), 'Canal'] = 'Telefono'"
   ]
  },
  {
   "cell_type": "code",
   "execution_count": 21,
   "metadata": {},
   "outputs": [],
   "source": [
    "df.loc[(df.Canal == 'Call Center'), 'Canal'] = 'Telefono'"
   ]
  },
  {
   "cell_type": "code",
   "execution_count": 22,
   "metadata": {},
   "outputs": [],
   "source": [
    "df.dropna( inplace=True )"
   ]
  },
  {
   "cell_type": "code",
   "execution_count": 23,
   "metadata": {},
   "outputs": [
    {
     "data": {
      "text/plain": [
       "array(['Recepción', 'Telefono', 'Turnos Online', 'No Definido',\n",
       "       'Chat/Redes Sociales'], dtype=object)"
      ]
     },
     "execution_count": 23,
     "metadata": {},
     "output_type": "execute_result"
    }
   ],
   "source": [
    "df.Canal.unique()"
   ]
  },
  {
   "cell_type": "code",
   "execution_count": 24,
   "metadata": {},
   "outputs": [],
   "source": [
    "df_1= df[df.Sexo.isin (['F','M'])]"
   ]
  },
  {
   "cell_type": "code",
   "execution_count": 25,
   "metadata": {},
   "outputs": [
    {
     "data": {
      "text/plain": [
       "array(['M', 'F'], dtype=object)"
      ]
     },
     "execution_count": 25,
     "metadata": {},
     "output_type": "execute_result"
    }
   ],
   "source": [
    "df_1.Sexo.unique()"
   ]
  },
  {
   "cell_type": "code",
   "execution_count": 26,
   "metadata": {},
   "outputs": [
    {
     "data": {
      "text/plain": [
       "array(['NO'], dtype=object)"
      ]
     },
     "execution_count": 26,
     "metadata": {},
     "output_type": "execute_result"
    }
   ],
   "source": [
    "df.EsSobreTurno.unique()"
   ]
  },
  {
   "cell_type": "code",
   "execution_count": 27,
   "metadata": {},
   "outputs": [],
   "source": [
    "df_1.HC = df_1.HC.astype(int)"
   ]
  },
  {
   "cell_type": "code",
   "execution_count": 28,
   "metadata": {},
   "outputs": [],
   "source": [
    "df_1 = df_1.drop(df_1[df_1['Edad'] < 18].index)"
   ]
  },
  {
   "cell_type": "code",
   "execution_count": 29,
   "metadata": {},
   "outputs": [],
   "source": [
    "df_1 = df_1.drop(df_1[df_1['Edad'] > 100].index)"
   ]
  },
  {
   "cell_type": "code",
   "execution_count": 30,
   "metadata": {},
   "outputs": [
    {
     "name": "stdout",
     "output_type": "stream",
     "text": [
      "18\n",
      "100\n"
     ]
    }
   ],
   "source": [
    "print (df_1.Edad.min())\n",
    "print (df_1.Edad.max())"
   ]
  },
  {
   "cell_type": "markdown",
   "metadata": {},
   "source": [
    "Si la fecha del turno otorgado es mayor a la fecha del turno colocar el valor 0 en AnticipacionDeReserva"
   ]
  },
  {
   "cell_type": "code",
   "execution_count": 31,
   "metadata": {},
   "outputs": [],
   "source": [
    "df_1['FechaOtorgado'] = pd.to_datetime(df.FechaOtorgado)"
   ]
  },
  {
   "cell_type": "code",
   "execution_count": 32,
   "metadata": {},
   "outputs": [],
   "source": [
    "df_1['FechaDiaDelTurno'] = [d.date() for d in df_1['FechaDelTurno']]\n",
    "df_1['HoraTurno'] = [d.time() for d in df_1['FechaDelTurno']]"
   ]
  },
  {
   "cell_type": "code",
   "execution_count": 33,
   "metadata": {},
   "outputs": [],
   "source": [
    "df_1['FechaDiaOtorgado'] = [d.date() for d in df_1['FechaOtorgado']]\n",
    "df_1['HoraOtorgado'] = [d.time() for d in df_1['FechaOtorgado']]"
   ]
  },
  {
   "cell_type": "code",
   "execution_count": 34,
   "metadata": {},
   "outputs": [],
   "source": [
    "df_1['DifDias'] = df_1.FechaDiaDelTurno - df_1.FechaDiaOtorgado"
   ]
  },
  {
   "cell_type": "code",
   "execution_count": 35,
   "metadata": {},
   "outputs": [],
   "source": [
    "x=pd.Timedelta(0,'d')"
   ]
  },
  {
   "cell_type": "code",
   "execution_count": 36,
   "metadata": {},
   "outputs": [],
   "source": [
    "df_1['AnticipacionDeReserva'] = 1"
   ]
  },
  {
   "cell_type": "code",
   "execution_count": 37,
   "metadata": {},
   "outputs": [],
   "source": [
    "df_1.loc[(df_1.DifDias < x ), 'AnticipacionDeReserva'] = 0"
   ]
  },
  {
   "cell_type": "code",
   "execution_count": 38,
   "metadata": {},
   "outputs": [],
   "source": [
    "df_1['DiaTurno'] = df_1['FechaDelTurno'].apply(lambda time: time.dayofweek)\n",
    "df_1['MesTurno'] = df_1['FechaDelTurno'].apply(lambda time: time.month)\n",
    "df_1['DiaTurnoNombre'] = df_1['DiaTurno'].apply(lambda x: 'Lunes' if x == 0 else 'Martes' if x == 1\n",
    "                                 else 'Miercoles' if x == 2 else 'Jueves' if x == 3\n",
    "                                 else 'Viernes' if x== 4 else 'Sabado' if x == 5\n",
    "                                 else 'Domingo' )"
   ]
  },
  {
   "cell_type": "code",
   "execution_count": 39,
   "metadata": {},
   "outputs": [],
   "source": [
    "df_1 = df_1.drop(df_1[df_1['DiaTurnoNombre'] == 'Domingo'].index)"
   ]
  },
  {
   "cell_type": "code",
   "execution_count": 40,
   "metadata": {},
   "outputs": [
    {
     "data": {
      "text/plain": [
       "array(['Martes', 'Miercoles', 'Jueves', 'Viernes', 'Lunes', 'Sabado'],\n",
       "      dtype=object)"
      ]
     },
     "execution_count": 40,
     "metadata": {},
     "output_type": "execute_result"
    }
   ],
   "source": [
    "df_1.DiaTurnoNombre.unique()"
   ]
  },
  {
   "cell_type": "code",
   "execution_count": 41,
   "metadata": {},
   "outputs": [
    {
     "data": {
      "text/plain": [
       "array(['CARDIOLOGÍA', 'ANESTESIA', 'HEMATOLOGIA PRACTICAS',\n",
       "       'GINECO Y OBSTETRICIA', 'ORTOPEDIA Y TRAUMATO', 'NUTRICIÓN',\n",
       "       'UROLOGÍA', 'ENDOCRINOLOGÍA', 'GUARDIA DE TRAUMATO DIA',\n",
       "       'NEUROCIRUGÍA', 'DERMATOLOGÍA', 'AUDIOLOGÍA',\n",
       "       'OTORRINOLARINGOLOGÍA', 'NEUROLOGÍA', 'REUMATOLOGÍA',\n",
       "       'CLÍNICA MÉDICA', 'ONCOLOGÍA', 'HEMATOLOGÍA', 'GASTROENTEROLOGÍA',\n",
       "       'INFECTOLOGÍA', 'KINESIOL Y FISIOTERAPIA', 'GOTEO DE HIERRO',\n",
       "       'CIRUGÍA DE TÓRAX', 'GINECOLOGIA PRACTICAS CP',\n",
       "       'DEMANDA DE PEDIATRÍA', 'DIABETOLOGIA Y NUTRIC', 'GINECOLOGÍA',\n",
       "       'DEMANDA DE ORL', 'CIRUGÍA GENERAL', 'ALERGIA E INMUNOLOGÍA ',\n",
       "       'HOSPITAL DE DÍA', 'UNIDAD DEL DOLOR', 'DEMANDA DE ORL INF',\n",
       "       'OTORRINOLARINGOLOGIA INF', 'CIRUGÍA PLÁSTICA', 'PEDIATRÍA',\n",
       "       'CIRUGÍA VASCULAR PERIF', 'REUMATOLOGÍA INF',\n",
       "       'ORTOPEDIA Y TRAUMATO INF', 'DEMANDA DE DERMATOLOGIA',\n",
       "       'HIPERTENSIÓN ARTERIAL', 'DEMANDA DE GASTROENT',\n",
       "       'DEMANDA DE NEUROLOGÍA', 'NEONATOLOGÍA', 'CABEZA Y CUELLO',\n",
       "       'PSICOLOGÍA', 'ENDOCRINOLOGÍA INF', 'ALERGIA E INMUNOLOGÍA INF',\n",
       "       'NEFROLOGÍA', 'NEUMONOLOGÍA', 'DIABETOLOGIA Y NUTRIC INF',\n",
       "       'FERTILIDAD', 'DERMATOLOGÍA INF', 'GENETICA', 'NEUMONOLOGÍA INF',\n",
       "       'DEMANDA DE ENDOCRINOLOGIA', 'HEMATOLOGÍA INF', 'NEFROLOGÍA INF',\n",
       "       'NEUROLOGÍA INF', 'GASTROENTEROLOGÍA INF', 'CHEQUEO PEDIATRICO',\n",
       "       'CARDIOLOGÍA INF', 'ARRITMOLOGÍA', 'NUTRICIÓN INFANTIL',\n",
       "       'CIRUGÍA CARDIOVASCULAR', 'PSICOLOGÍA INF', 'PSIQUIATRÍA',\n",
       "       'ANDROLOGÍA', 'ADOLESCENCIA', 'UROLOGÍA INF', 'CHEQUEO UCC',\n",
       "       'DEMANDA DE GASTRO INF', 'CIRUGÍA PLÁSTICA INF',\n",
       "       'CIRUGÍA GENERAL INF', 'DERMOCOSMETICA', 'MICOLOGIA',\n",
       "       'OFTALMOLOGÍA', 'DEMANDA DE OFTALMOLOGIA', 'DEPORTOLOGÍA',\n",
       "       'FONOAUDIOLOGIA', 'FONOAUDIOLOGIA INF', 'DEMANDA DE ONCOLOGIA',\n",
       "       'ECOGRAFIA', 'MAMOGRAFIA', 'RESONANCIA', 'TOMOGRAFIA',\n",
       "       'RADIOGRAFIA', 'TERAPIA OCUPACIONAL', 'VIROLOGIA',\n",
       "       'INFECTOLOGÍA INF', 'DEMANDA DE HEMATOLOGIA', 'HEMODINAMIA',\n",
       "       'NEUROCIRUGÍA INF'], dtype=object)"
      ]
     },
     "execution_count": 41,
     "metadata": {},
     "output_type": "execute_result"
    }
   ],
   "source": [
    "df_1.Servicio.unique()"
   ]
  },
  {
   "cell_type": "code",
   "execution_count": 42,
   "metadata": {},
   "outputs": [],
   "source": [
    "for i in ['REUMATOLOGÍA INF','ENDOCRINOLOGÍA INF',\n",
    "          'DERMATOLOGÍA INF', 'DIABETOLOGIA Y NUTRIC INF',\n",
    "          'NEUMONOLOGÍA INF', 'NEFROLOGÍA INF', 'ALERGIA E INMUNOLOGÍA INF',\n",
    "          'ORTOPEDIA Y TRAUMATO INF','DIABETOLOGIA Y NUTRIC INF',\n",
    "          'OTORRINOLARINGOLOGIA INF','NEUROLOGÍA INF', \n",
    "          'HEMATOLOGÍA INF', 'NUTRICIÓN INFANTIL',\n",
    "          'CARDIOLOGÍA INF', 'GASTROENTEROLOGÍA INF'\n",
    "          'DEMANDA DE GASTRO INF', 'INFECTOLOGÍA INF'\n",
    "          'PSICOLOGÍA INF', 'CIRUGÍA PLÁSTICA INF',\n",
    "          'CIRUGÍA GENERAL INF', 'UROLOGÍA INF',\n",
    "          'FONOAUDIOLOGIA INF', 'NEUROCIRUGÍA INF',\n",
    "          'GUARDIA DE TRAUMATO DIA', \n",
    "          'OTORRINOLARINGOLOGIA INF', 'DEMANDA DE PEDIATRÍA',\n",
    "          'PEDIATRÍA', 'DEMANDA DE ORL INF',\n",
    "          'GUARDIA DE PEDIATRIA', 'CHEQUEO PEDIATRICO']:\n",
    "    df_1 = df_1.drop(df_1[df_1['Servicio'] == i].index)"
   ]
  },
  {
   "cell_type": "code",
   "execution_count": 43,
   "metadata": {},
   "outputs": [
    {
     "data": {
      "text/plain": [
       "array(['CARDIOLOGÍA', 'ANESTESIA', 'HEMATOLOGIA PRACTICAS',\n",
       "       'GINECO Y OBSTETRICIA', 'ORTOPEDIA Y TRAUMATO', 'NUTRICIÓN',\n",
       "       'UROLOGÍA', 'ENDOCRINOLOGÍA', 'NEUROCIRUGÍA', 'DERMATOLOGÍA',\n",
       "       'AUDIOLOGÍA', 'OTORRINOLARINGOLOGÍA', 'NEUROLOGÍA', 'REUMATOLOGÍA',\n",
       "       'CLÍNICA MÉDICA', 'ONCOLOGÍA', 'HEMATOLOGÍA', 'GASTROENTEROLOGÍA',\n",
       "       'INFECTOLOGÍA', 'KINESIOL Y FISIOTERAPIA', 'GOTEO DE HIERRO',\n",
       "       'CIRUGÍA DE TÓRAX', 'GINECOLOGIA PRACTICAS CP',\n",
       "       'DIABETOLOGIA Y NUTRIC', 'GINECOLOGÍA', 'DEMANDA DE ORL',\n",
       "       'CIRUGÍA GENERAL', 'ALERGIA E INMUNOLOGÍA ', 'HOSPITAL DE DÍA',\n",
       "       'UNIDAD DEL DOLOR', 'CIRUGÍA PLÁSTICA', 'CIRUGÍA VASCULAR PERIF',\n",
       "       'DEMANDA DE DERMATOLOGIA', 'HIPERTENSIÓN ARTERIAL',\n",
       "       'DEMANDA DE GASTROENT', 'DEMANDA DE NEUROLOGÍA', 'NEONATOLOGÍA',\n",
       "       'CABEZA Y CUELLO', 'PSICOLOGÍA', 'NEFROLOGÍA', 'NEUMONOLOGÍA',\n",
       "       'FERTILIDAD', 'GENETICA', 'DEMANDA DE ENDOCRINOLOGIA',\n",
       "       'GASTROENTEROLOGÍA INF', 'ARRITMOLOGÍA', 'CIRUGÍA CARDIOVASCULAR',\n",
       "       'PSICOLOGÍA INF', 'PSIQUIATRÍA', 'ANDROLOGÍA', 'ADOLESCENCIA',\n",
       "       'CHEQUEO UCC', 'DEMANDA DE GASTRO INF', 'DERMOCOSMETICA',\n",
       "       'MICOLOGIA', 'OFTALMOLOGÍA', 'DEMANDA DE OFTALMOLOGIA',\n",
       "       'DEPORTOLOGÍA', 'FONOAUDIOLOGIA', 'DEMANDA DE ONCOLOGIA',\n",
       "       'ECOGRAFIA', 'MAMOGRAFIA', 'RESONANCIA', 'TOMOGRAFIA',\n",
       "       'RADIOGRAFIA', 'TERAPIA OCUPACIONAL', 'VIROLOGIA',\n",
       "       'INFECTOLOGÍA INF', 'DEMANDA DE HEMATOLOGIA', 'HEMODINAMIA'],\n",
       "      dtype=object)"
      ]
     },
     "execution_count": 43,
     "metadata": {},
     "output_type": "execute_result"
    }
   ],
   "source": [
    "df_1.Servicio.unique()"
   ]
  },
  {
   "cell_type": "code",
   "execution_count": 44,
   "metadata": {},
   "outputs": [],
   "source": [
    "df_1 = df_1.drop(df_1[df_1['CentroDeAtencion'] == 5].index)"
   ]
  },
  {
   "cell_type": "code",
   "execution_count": 45,
   "metadata": {},
   "outputs": [],
   "source": [
    "df_1 = df_1.drop(df_1[df_1['CentroDeAtencion'] == 6].index)"
   ]
  },
  {
   "cell_type": "code",
   "execution_count": 46,
   "metadata": {},
   "outputs": [
    {
     "data": {
      "text/plain": [
       "array([1, 4, 3, 2], dtype=int64)"
      ]
     },
     "execution_count": 46,
     "metadata": {},
     "output_type": "execute_result"
    }
   ],
   "source": [
    "df_1.CentroDeAtencion.unique()"
   ]
  },
  {
   "cell_type": "code",
   "execution_count": 47,
   "metadata": {},
   "outputs": [],
   "source": [
    "df_1['ConsultaMedica'] = 0"
   ]
  },
  {
   "cell_type": "code",
   "execution_count": 48,
   "metadata": {},
   "outputs": [],
   "source": [
    "df_1.loc[(df_1.Prestacion== 'CONSULTA MEDICA' ), 'ConsultaMedica'] = 1"
   ]
  },
  {
   "cell_type": "code",
   "execution_count": 49,
   "metadata": {},
   "outputs": [
    {
     "data": {
      "text/plain": [
       "array([0, 1], dtype=int64)"
      ]
     },
     "execution_count": 49,
     "metadata": {},
     "output_type": "execute_result"
    }
   ],
   "source": [
    "df_1.ConsultaMedica.unique()"
   ]
  },
  {
   "cell_type": "code",
   "execution_count": 50,
   "metadata": {},
   "outputs": [],
   "source": [
    "df_1['ConsumidorFinal'] = 0"
   ]
  },
  {
   "cell_type": "code",
   "execution_count": 51,
   "metadata": {},
   "outputs": [],
   "source": [
    "df_1.loc[(df_1.Prestador == 'CONSUMIDOR FINAL' ), 'ConsumidorFinal'] = 1"
   ]
  },
  {
   "cell_type": "code",
   "execution_count": 52,
   "metadata": {},
   "outputs": [
    {
     "data": {
      "text/plain": [
       "array([0, 1], dtype=int64)"
      ]
     },
     "execution_count": 52,
     "metadata": {},
     "output_type": "execute_result"
    }
   ],
   "source": [
    "df_1.ConsumidorFinal.unique()"
   ]
  },
  {
   "cell_type": "markdown",
   "metadata": {},
   "source": [
    "Busco valores nulos en el df_1"
   ]
  },
  {
   "cell_type": "code",
   "execution_count": 53,
   "metadata": {},
   "outputs": [
    {
     "data": {
      "text/plain": [
       "False"
      ]
     },
     "execution_count": 53,
     "metadata": {},
     "output_type": "execute_result"
    }
   ],
   "source": [
    "df_1.isnull().values.any()"
   ]
  },
  {
   "cell_type": "code",
   "execution_count": 54,
   "metadata": {},
   "outputs": [
    {
     "data": {
      "text/plain": [
       "0"
      ]
     },
     "execution_count": 54,
     "metadata": {},
     "output_type": "execute_result"
    }
   ],
   "source": [
    "df_1.isnull().sum().sum()"
   ]
  },
  {
   "cell_type": "code",
   "execution_count": 55,
   "metadata": {},
   "outputs": [
    {
     "data": {
      "text/plain": [
       "Index([], dtype='object')"
      ]
     },
     "execution_count": 55,
     "metadata": {},
     "output_type": "execute_result"
    }
   ],
   "source": [
    "df_1.columns[df_1.isnull().any()]"
   ]
  },
  {
   "cell_type": "code",
   "execution_count": 56,
   "metadata": {},
   "outputs": [
    {
     "data": {
      "text/plain": [
       "CentroDeAtencion                   int64\n",
       "Prestador                         object\n",
       "Recurso                            int64\n",
       "Servicio                          object\n",
       "FechaDelTurno             datetime64[ns]\n",
       "EstadoDelTurno                    object\n",
       "Sexo                              object\n",
       "Edad                               int64\n",
       "HC                                 int32\n",
       "TipoDeTurno                       object\n",
       "Prestacion                        object\n",
       "FechaOtorgado             datetime64[ns]\n",
       "Localidad                         object\n",
       "Provincia                         object\n",
       "Canal                             object\n",
       "EsSobreTurno                      object\n",
       "FechaDiaDelTurno                  object\n",
       "HoraTurno                         object\n",
       "FechaDiaOtorgado                  object\n",
       "HoraOtorgado                      object\n",
       "DifDias                  timedelta64[ns]\n",
       "AnticipacionDeReserva              int64\n",
       "DiaTurno                           int64\n",
       "MesTurno                           int64\n",
       "DiaTurnoNombre                    object\n",
       "ConsultaMedica                     int64\n",
       "ConsumidorFinal                    int64\n",
       "dtype: object"
      ]
     },
     "execution_count": 56,
     "metadata": {},
     "output_type": "execute_result"
    }
   ],
   "source": [
    "df_1.dtypes"
   ]
  },
  {
   "cell_type": "code",
   "execution_count": 57,
   "metadata": {},
   "outputs": [
    {
     "data": {
      "text/plain": [
       "array([1, 2, 3, 4, 0, 5], dtype=int64)"
      ]
     },
     "execution_count": 57,
     "metadata": {},
     "output_type": "execute_result"
    }
   ],
   "source": [
    "df_1.DiaTurno.unique()"
   ]
  },
  {
   "cell_type": "markdown",
   "metadata": {},
   "source": [
    "Aclaracion 6 correspondia a Domingo que ya no esta"
   ]
  },
  {
   "cell_type": "code",
   "execution_count": 58,
   "metadata": {},
   "outputs": [
    {
     "data": {
      "text/plain": [
       "array(['Práctica', 'Ulterior / Control', 'Primera Vez', 'DNP', 'Recetas'],\n",
       "      dtype=object)"
      ]
     },
     "execution_count": 58,
     "metadata": {},
     "output_type": "execute_result"
    }
   ],
   "source": [
    "df_1.TipoDeTurno.unique()"
   ]
  },
  {
   "cell_type": "code",
   "execution_count": 59,
   "metadata": {},
   "outputs": [],
   "source": [
    "df_1['TipoDeTurnoEncode'] = df_1['TipoDeTurno'].apply(lambda x: 1 if x == 'Práctica' else 2 if x == 'Primera Vez'\n",
    "                                 else  3 if x == 'Ulterior / Control' else 4 if x == 'DNP'\n",
    "                                 else 5 )"
   ]
  },
  {
   "cell_type": "code",
   "execution_count": 60,
   "metadata": {},
   "outputs": [
    {
     "data": {
      "text/plain": [
       "array([1, 3, 2, 4, 5], dtype=int64)"
      ]
     },
     "execution_count": 60,
     "metadata": {},
     "output_type": "execute_result"
    }
   ],
   "source": [
    "df_1.TipoDeTurnoEncode.unique()"
   ]
  },
  {
   "cell_type": "code",
   "execution_count": 61,
   "metadata": {},
   "outputs": [
    {
     "data": {
      "text/plain": [
       "array([1, 4, 3, 2], dtype=int64)"
      ]
     },
     "execution_count": 61,
     "metadata": {},
     "output_type": "execute_result"
    }
   ],
   "source": [
    "df_1.CentroDeAtencion.unique()"
   ]
  },
  {
   "cell_type": "code",
   "execution_count": 62,
   "metadata": {},
   "outputs": [
    {
     "data": {
      "text/plain": [
       "array(['Atendido', 'Ausente'], dtype=object)"
      ]
     },
     "execution_count": 62,
     "metadata": {},
     "output_type": "execute_result"
    }
   ],
   "source": [
    "df_1.EstadoDelTurno.unique()"
   ]
  },
  {
   "cell_type": "code",
   "execution_count": 63,
   "metadata": {},
   "outputs": [],
   "source": [
    "df_1['EstadoDelTurnoEncode'] = 0"
   ]
  },
  {
   "cell_type": "code",
   "execution_count": 64,
   "metadata": {},
   "outputs": [],
   "source": [
    "df_1.loc[(df_1.EstadoDelTurno == 'Ausente' ), 'EstadoDelTurnoEncode'] = 1"
   ]
  },
  {
   "cell_type": "code",
   "execution_count": 65,
   "metadata": {},
   "outputs": [
    {
     "data": {
      "text/plain": [
       "array([0, 1], dtype=int64)"
      ]
     },
     "execution_count": 65,
     "metadata": {},
     "output_type": "execute_result"
    }
   ],
   "source": [
    "df_1.EstadoDelTurnoEncode.unique()"
   ]
  },
  {
   "cell_type": "code",
   "execution_count": 66,
   "metadata": {},
   "outputs": [],
   "source": [
    "df_1['SexoEncode'] = 0"
   ]
  },
  {
   "cell_type": "code",
   "execution_count": 67,
   "metadata": {},
   "outputs": [],
   "source": [
    "df_1.loc[(df_1.Sexo == 'F' ), 'SexoEncode'] = 1"
   ]
  },
  {
   "cell_type": "code",
   "execution_count": 68,
   "metadata": {},
   "outputs": [],
   "source": [
    "df_1.loc[(df_1.Sexo == 'M' ), 'SexoEncode'] = 0"
   ]
  },
  {
   "cell_type": "code",
   "execution_count": 69,
   "metadata": {},
   "outputs": [
    {
     "data": {
      "text/plain": [
       "array([0, 1], dtype=int64)"
      ]
     },
     "execution_count": 69,
     "metadata": {},
     "output_type": "execute_result"
    }
   ],
   "source": [
    "df_1.SexoEncode.unique()"
   ]
  },
  {
   "cell_type": "code",
   "execution_count": 70,
   "metadata": {},
   "outputs": [
    {
     "data": {
      "text/plain": [
       "array(['NO'], dtype=object)"
      ]
     },
     "execution_count": 70,
     "metadata": {},
     "output_type": "execute_result"
    }
   ],
   "source": [
    "df_1.EsSobreTurno.unique()"
   ]
  },
  {
   "cell_type": "code",
   "execution_count": 71,
   "metadata": {},
   "outputs": [],
   "source": [
    "df_1['STEncode'] = 0"
   ]
  },
  {
   "cell_type": "code",
   "execution_count": 72,
   "metadata": {},
   "outputs": [],
   "source": [
    "df_1.loc[(df_1.EsSobreTurno == 'NO' ), 'STEncode'] = 1"
   ]
  },
  {
   "cell_type": "code",
   "execution_count": 73,
   "metadata": {},
   "outputs": [
    {
     "data": {
      "text/plain": [
       "array([1], dtype=int64)"
      ]
     },
     "execution_count": 73,
     "metadata": {},
     "output_type": "execute_result"
    }
   ],
   "source": [
    "df_1.STEncode.unique()"
   ]
  },
  {
   "cell_type": "code",
   "execution_count": 74,
   "metadata": {},
   "outputs": [
    {
     "data": {
      "text/plain": [
       "CentroDeAtencion                   int64\n",
       "Prestador                         object\n",
       "Recurso                            int64\n",
       "Servicio                          object\n",
       "FechaDelTurno             datetime64[ns]\n",
       "EstadoDelTurno                    object\n",
       "Sexo                              object\n",
       "Edad                               int64\n",
       "HC                                 int32\n",
       "TipoDeTurno                       object\n",
       "Prestacion                        object\n",
       "FechaOtorgado             datetime64[ns]\n",
       "Localidad                         object\n",
       "Provincia                         object\n",
       "Canal                             object\n",
       "EsSobreTurno                      object\n",
       "FechaDiaDelTurno                  object\n",
       "HoraTurno                         object\n",
       "FechaDiaOtorgado                  object\n",
       "HoraOtorgado                      object\n",
       "DifDias                  timedelta64[ns]\n",
       "AnticipacionDeReserva              int64\n",
       "DiaTurno                           int64\n",
       "MesTurno                           int64\n",
       "DiaTurnoNombre                    object\n",
       "ConsultaMedica                     int64\n",
       "ConsumidorFinal                    int64\n",
       "TipoDeTurnoEncode                  int64\n",
       "EstadoDelTurnoEncode               int64\n",
       "SexoEncode                         int64\n",
       "STEncode                           int64\n",
       "dtype: object"
      ]
     },
     "execution_count": 74,
     "metadata": {},
     "output_type": "execute_result"
    }
   ],
   "source": [
    "df_1.dtypes"
   ]
  },
  {
   "cell_type": "markdown",
   "metadata": {},
   "source": [
    "#### Cargamos los datasets de información climática"
   ]
  },
  {
   "cell_type": "code",
   "execution_count": 3,
   "metadata": {},
   "outputs": [],
   "source": [
    "df_clima2018 = pd.read_csv('clima_2018.csv')\n",
    "df_clima2019 = pd.read_csv('clima_2019.csv')\n",
    "\n",
    "#df_clima2018 = pd.read_csv(r'E:\\anaconda3\\envs\\mentoria_ausentismo\\aprendizajeautomatico\\clima_2018.csv')\n",
    "#df_clima2019 = pd.read_csv(r'E:\\anaconda3\\envs\\mentoria_ausentismo\\aprendizajeautomatico\\clima_2019.csv')"
   ]
  },
  {
   "cell_type": "code",
   "execution_count": 76,
   "metadata": {},
   "outputs": [],
   "source": [
    "df_clima = pd.concat([df_clima2018, df_clima2019], ignore_index=True, sort=False)"
   ]
  },
  {
   "cell_type": "code",
   "execution_count": 77,
   "metadata": {},
   "outputs": [],
   "source": [
    "to_rename = {\n",
    "    'Fecha' : 'FechaDiaDelTurno' ,\n",
    "    'Hr.Med(%)': 'HrMedPorcentaje',\n",
    "    'Prec.(mm)': 'PrecipMM',\n",
    "    'Pres.n. mar(Hp)': 'PresionHp',\n",
    "    'TdMed(C)': 'TempMedCentigrados',\n",
    "    'Dir.': 'Direccion',\n",
    "    'Rch.': 'Rch',\n",
    "    'Vel.': 'Vel',\n",
    "            }\n",
    "df_clima_r = df_clima.rename(columns=to_rename)\n"
   ]
  },
  {
   "cell_type": "code",
   "execution_count": 78,
   "metadata": {},
   "outputs": [],
   "source": [
    "df_clima_r = df_clima_r.drop(['HrMedPorcentaje', 'NubTotOct', 'NubbajOct', 'PresionHp', \n",
    "             'TempMedCentigrados', 'Tmax', 'Tmed', 'Tmin', 'Direccion', \n",
    "             'Rch', 'Vel', 'VisKm'], axis=1)"
   ]
  },
  {
   "cell_type": "code",
   "execution_count": 79,
   "metadata": {},
   "outputs": [],
   "source": [
    "df_clima_r['FechaDiaDelTurno'] = pd.to_datetime(df_clima_r.FechaDiaDelTurno)"
   ]
  },
  {
   "cell_type": "code",
   "execution_count": 80,
   "metadata": {},
   "outputs": [
    {
     "data": {
      "text/html": [
       "<div>\n",
       "<style scoped>\n",
       "    .dataframe tbody tr th:only-of-type {\n",
       "        vertical-align: middle;\n",
       "    }\n",
       "\n",
       "    .dataframe tbody tr th {\n",
       "        vertical-align: top;\n",
       "    }\n",
       "\n",
       "    .dataframe thead th {\n",
       "        text-align: right;\n",
       "    }\n",
       "</style>\n",
       "<table border=\"1\" class=\"dataframe\">\n",
       "  <thead>\n",
       "    <tr style=\"text-align: right;\">\n",
       "      <th></th>\n",
       "      <th>FechaDiaDelTurno</th>\n",
       "      <th>PrecipMM</th>\n",
       "    </tr>\n",
       "  </thead>\n",
       "  <tbody>\n",
       "    <tr>\n",
       "      <th>0</th>\n",
       "      <td>2018-01-01</td>\n",
       "      <td>----</td>\n",
       "    </tr>\n",
       "    <tr>\n",
       "      <th>1</th>\n",
       "      <td>2018-02-01</td>\n",
       "      <td>0.0</td>\n",
       "    </tr>\n",
       "    <tr>\n",
       "      <th>2</th>\n",
       "      <td>2018-03-01</td>\n",
       "      <td>0.0</td>\n",
       "    </tr>\n",
       "    <tr>\n",
       "      <th>3</th>\n",
       "      <td>2018-04-01</td>\n",
       "      <td>0.0</td>\n",
       "    </tr>\n",
       "    <tr>\n",
       "      <th>4</th>\n",
       "      <td>2018-05-01</td>\n",
       "      <td>0.0</td>\n",
       "    </tr>\n",
       "    <tr>\n",
       "      <th>...</th>\n",
       "      <td>...</td>\n",
       "      <td>...</td>\n",
       "    </tr>\n",
       "    <tr>\n",
       "      <th>725</th>\n",
       "      <td>2019-12-27</td>\n",
       "      <td>0.0</td>\n",
       "    </tr>\n",
       "    <tr>\n",
       "      <th>726</th>\n",
       "      <td>2019-12-28</td>\n",
       "      <td>0.0</td>\n",
       "    </tr>\n",
       "    <tr>\n",
       "      <th>727</th>\n",
       "      <td>2019-12-29</td>\n",
       "      <td>10.0</td>\n",
       "    </tr>\n",
       "    <tr>\n",
       "      <th>728</th>\n",
       "      <td>2019-12-30</td>\n",
       "      <td>130.0</td>\n",
       "    </tr>\n",
       "    <tr>\n",
       "      <th>729</th>\n",
       "      <td>2019-12-31</td>\n",
       "      <td>0.0</td>\n",
       "    </tr>\n",
       "  </tbody>\n",
       "</table>\n",
       "<p>730 rows × 2 columns</p>\n",
       "</div>"
      ],
      "text/plain": [
       "    FechaDiaDelTurno PrecipMM\n",
       "0         2018-01-01     ----\n",
       "1         2018-02-01      0.0\n",
       "2         2018-03-01      0.0\n",
       "3         2018-04-01      0.0\n",
       "4         2018-05-01      0.0\n",
       "..               ...      ...\n",
       "725       2019-12-27      0.0\n",
       "726       2019-12-28      0.0\n",
       "727       2019-12-29     10.0\n",
       "728       2019-12-30    130.0\n",
       "729       2019-12-31      0.0\n",
       "\n",
       "[730 rows x 2 columns]"
      ]
     },
     "execution_count": 80,
     "metadata": {},
     "output_type": "execute_result"
    }
   ],
   "source": [
    "df_clima_r"
   ]
  },
  {
   "cell_type": "code",
   "execution_count": 81,
   "metadata": {},
   "outputs": [],
   "source": [
    "df_1['FechaDiaDelTurno'] = pd.to_datetime(df_1.FechaDiaDelTurno)"
   ]
  },
  {
   "cell_type": "code",
   "execution_count": 82,
   "metadata": {},
   "outputs": [
    {
     "data": {
      "text/html": [
       "<div>\n",
       "<style scoped>\n",
       "    .dataframe tbody tr th:only-of-type {\n",
       "        vertical-align: middle;\n",
       "    }\n",
       "\n",
       "    .dataframe tbody tr th {\n",
       "        vertical-align: top;\n",
       "    }\n",
       "\n",
       "    .dataframe thead th {\n",
       "        text-align: right;\n",
       "    }\n",
       "</style>\n",
       "<table border=\"1\" class=\"dataframe\">\n",
       "  <thead>\n",
       "    <tr style=\"text-align: right;\">\n",
       "      <th></th>\n",
       "      <th>FechaDiaDelTurno</th>\n",
       "      <th>PrecipMM</th>\n",
       "      <th>CentroDeAtencion</th>\n",
       "      <th>Prestador</th>\n",
       "      <th>Recurso</th>\n",
       "      <th>Servicio</th>\n",
       "      <th>FechaDelTurno</th>\n",
       "      <th>EstadoDelTurno</th>\n",
       "      <th>Sexo</th>\n",
       "      <th>Edad</th>\n",
       "      <th>...</th>\n",
       "      <th>AnticipacionDeReserva</th>\n",
       "      <th>DiaTurno</th>\n",
       "      <th>MesTurno</th>\n",
       "      <th>DiaTurnoNombre</th>\n",
       "      <th>ConsultaMedica</th>\n",
       "      <th>ConsumidorFinal</th>\n",
       "      <th>TipoDeTurnoEncode</th>\n",
       "      <th>EstadoDelTurnoEncode</th>\n",
       "      <th>SexoEncode</th>\n",
       "      <th>STEncode</th>\n",
       "    </tr>\n",
       "  </thead>\n",
       "  <tbody>\n",
       "    <tr>\n",
       "      <th>579362</th>\n",
       "      <td>2019-12-30</td>\n",
       "      <td>130.0</td>\n",
       "      <td>1</td>\n",
       "      <td>OSDE</td>\n",
       "      <td>107</td>\n",
       "      <td>CLÍNICA MÉDICA</td>\n",
       "      <td>2019-12-30 19:40:00</td>\n",
       "      <td>Atendido</td>\n",
       "      <td>F</td>\n",
       "      <td>42</td>\n",
       "      <td>...</td>\n",
       "      <td>1</td>\n",
       "      <td>0</td>\n",
       "      <td>12</td>\n",
       "      <td>Lunes</td>\n",
       "      <td>1</td>\n",
       "      <td>0</td>\n",
       "      <td>3</td>\n",
       "      <td>0</td>\n",
       "      <td>1</td>\n",
       "      <td>1</td>\n",
       "    </tr>\n",
       "    <tr>\n",
       "      <th>579363</th>\n",
       "      <td>2019-12-30</td>\n",
       "      <td>130.0</td>\n",
       "      <td>2</td>\n",
       "      <td>OSDE</td>\n",
       "      <td>288</td>\n",
       "      <td>GINECO Y OBSTETRICIA</td>\n",
       "      <td>2019-12-30 19:45:00</td>\n",
       "      <td>Atendido</td>\n",
       "      <td>F</td>\n",
       "      <td>41</td>\n",
       "      <td>...</td>\n",
       "      <td>1</td>\n",
       "      <td>0</td>\n",
       "      <td>12</td>\n",
       "      <td>Lunes</td>\n",
       "      <td>1</td>\n",
       "      <td>0</td>\n",
       "      <td>3</td>\n",
       "      <td>0</td>\n",
       "      <td>1</td>\n",
       "      <td>1</td>\n",
       "    </tr>\n",
       "    <tr>\n",
       "      <th>579364</th>\n",
       "      <td>2019-12-30</td>\n",
       "      <td>130.0</td>\n",
       "      <td>1</td>\n",
       "      <td>SIPSSA</td>\n",
       "      <td>504</td>\n",
       "      <td>GASTROENTEROLOGÍA</td>\n",
       "      <td>2019-12-30 19:45:00</td>\n",
       "      <td>Atendido</td>\n",
       "      <td>F</td>\n",
       "      <td>29</td>\n",
       "      <td>...</td>\n",
       "      <td>1</td>\n",
       "      <td>0</td>\n",
       "      <td>12</td>\n",
       "      <td>Lunes</td>\n",
       "      <td>1</td>\n",
       "      <td>0</td>\n",
       "      <td>2</td>\n",
       "      <td>0</td>\n",
       "      <td>1</td>\n",
       "      <td>1</td>\n",
       "    </tr>\n",
       "    <tr>\n",
       "      <th>579365</th>\n",
       "      <td>2019-12-30</td>\n",
       "      <td>130.0</td>\n",
       "      <td>1</td>\n",
       "      <td>MEDIFE ASOCIACIÓN CIVIL</td>\n",
       "      <td>180</td>\n",
       "      <td>UROLOGÍA</td>\n",
       "      <td>2019-12-30 19:45:00</td>\n",
       "      <td>Atendido</td>\n",
       "      <td>M</td>\n",
       "      <td>18</td>\n",
       "      <td>...</td>\n",
       "      <td>1</td>\n",
       "      <td>0</td>\n",
       "      <td>12</td>\n",
       "      <td>Lunes</td>\n",
       "      <td>1</td>\n",
       "      <td>0</td>\n",
       "      <td>2</td>\n",
       "      <td>0</td>\n",
       "      <td>0</td>\n",
       "      <td>1</td>\n",
       "    </tr>\n",
       "    <tr>\n",
       "      <th>579366</th>\n",
       "      <td>2019-12-30</td>\n",
       "      <td>130.0</td>\n",
       "      <td>3</td>\n",
       "      <td>SWISS MEDICAL S.A.</td>\n",
       "      <td>367</td>\n",
       "      <td>CARDIOLOGÍA</td>\n",
       "      <td>2019-12-30 19:45:00</td>\n",
       "      <td>Atendido</td>\n",
       "      <td>F</td>\n",
       "      <td>41</td>\n",
       "      <td>...</td>\n",
       "      <td>1</td>\n",
       "      <td>0</td>\n",
       "      <td>12</td>\n",
       "      <td>Lunes</td>\n",
       "      <td>1</td>\n",
       "      <td>0</td>\n",
       "      <td>2</td>\n",
       "      <td>0</td>\n",
       "      <td>1</td>\n",
       "      <td>1</td>\n",
       "    </tr>\n",
       "  </tbody>\n",
       "</table>\n",
       "<p>5 rows × 32 columns</p>\n",
       "</div>"
      ],
      "text/plain": [
       "       FechaDiaDelTurno PrecipMM  CentroDeAtencion                Prestador  \\\n",
       "579362       2019-12-30    130.0                 1                    OSDE    \n",
       "579363       2019-12-30    130.0                 2                    OSDE    \n",
       "579364       2019-12-30    130.0                 1                   SIPSSA   \n",
       "579365       2019-12-30    130.0                 1  MEDIFE ASOCIACIÓN CIVIL   \n",
       "579366       2019-12-30    130.0                 3       SWISS MEDICAL S.A.   \n",
       "\n",
       "        Recurso              Servicio       FechaDelTurno EstadoDelTurno Sexo  \\\n",
       "579362      107        CLÍNICA MÉDICA 2019-12-30 19:40:00       Atendido    F   \n",
       "579363      288  GINECO Y OBSTETRICIA 2019-12-30 19:45:00       Atendido    F   \n",
       "579364      504     GASTROENTEROLOGÍA 2019-12-30 19:45:00       Atendido    F   \n",
       "579365      180              UROLOGÍA 2019-12-30 19:45:00       Atendido    M   \n",
       "579366      367           CARDIOLOGÍA 2019-12-30 19:45:00       Atendido    F   \n",
       "\n",
       "        Edad  ...  AnticipacionDeReserva DiaTurno MesTurno DiaTurnoNombre  \\\n",
       "579362    42  ...                      1        0       12          Lunes   \n",
       "579363    41  ...                      1        0       12          Lunes   \n",
       "579364    29  ...                      1        0       12          Lunes   \n",
       "579365    18  ...                      1        0       12          Lunes   \n",
       "579366    41  ...                      1        0       12          Lunes   \n",
       "\n",
       "       ConsultaMedica ConsumidorFinal TipoDeTurnoEncode EstadoDelTurnoEncode  \\\n",
       "579362              1               0                 3                    0   \n",
       "579363              1               0                 3                    0   \n",
       "579364              1               0                 2                    0   \n",
       "579365              1               0                 2                    0   \n",
       "579366              1               0                 2                    0   \n",
       "\n",
       "       SexoEncode STEncode  \n",
       "579362          1        1  \n",
       "579363          1        1  \n",
       "579364          1        1  \n",
       "579365          0        1  \n",
       "579366          1        1  \n",
       "\n",
       "[5 rows x 32 columns]"
      ]
     },
     "execution_count": 82,
     "metadata": {},
     "output_type": "execute_result"
    }
   ],
   "source": [
    "df_1_1= df_clima_r.merge(df_1, on=['FechaDiaDelTurno'])\n",
    "df_1_1.tail()"
   ]
  },
  {
   "cell_type": "code",
   "execution_count": 83,
   "metadata": {},
   "outputs": [],
   "source": [
    "dataset = df_1_1.select_dtypes(include=[np.number])"
   ]
  },
  {
   "cell_type": "code",
   "execution_count": 84,
   "metadata": {},
   "outputs": [],
   "source": [
    "dataset['DifDias']= dataset['DifDias']/ np.timedelta64(1, 'D')"
   ]
  },
  {
   "cell_type": "code",
   "execution_count": 85,
   "metadata": {},
   "outputs": [
    {
     "data": {
      "text/plain": [
       "CentroDeAtencion           int64\n",
       "Recurso                    int64\n",
       "Edad                       int64\n",
       "HC                         int32\n",
       "DifDias                  float64\n",
       "AnticipacionDeReserva      int64\n",
       "DiaTurno                   int64\n",
       "MesTurno                   int64\n",
       "ConsultaMedica             int64\n",
       "ConsumidorFinal            int64\n",
       "TipoDeTurnoEncode          int64\n",
       "EstadoDelTurnoEncode       int64\n",
       "SexoEncode                 int64\n",
       "STEncode                   int64\n",
       "dtype: object"
      ]
     },
     "execution_count": 85,
     "metadata": {},
     "output_type": "execute_result"
    }
   ],
   "source": [
    "dataset.dtypes"
   ]
  },
  {
   "cell_type": "code",
   "execution_count": 86,
   "metadata": {},
   "outputs": [],
   "source": [
    "dataset.insert(0,'EstadoDelTurno',dataset.EstadoDelTurnoEncode)"
   ]
  },
  {
   "cell_type": "code",
   "execution_count": 87,
   "metadata": {},
   "outputs": [
    {
     "data": {
      "text/plain": [
       "EstadoDelTurno             int64\n",
       "CentroDeAtencion           int64\n",
       "Recurso                    int64\n",
       "Edad                       int64\n",
       "HC                         int32\n",
       "DifDias                  float64\n",
       "AnticipacionDeReserva      int64\n",
       "DiaTurno                   int64\n",
       "MesTurno                   int64\n",
       "ConsultaMedica             int64\n",
       "ConsumidorFinal            int64\n",
       "TipoDeTurnoEncode          int64\n",
       "EstadoDelTurnoEncode       int64\n",
       "SexoEncode                 int64\n",
       "STEncode                   int64\n",
       "dtype: object"
      ]
     },
     "execution_count": 87,
     "metadata": {},
     "output_type": "execute_result"
    }
   ],
   "source": [
    "dataset.dtypes"
   ]
  },
  {
   "cell_type": "code",
   "execution_count": 88,
   "metadata": {},
   "outputs": [],
   "source": [
    "dataset = dataset.drop(columns=['EstadoDelTurnoEncode'])"
   ]
  },
  {
   "cell_type": "code",
   "execution_count": 89,
   "metadata": {},
   "outputs": [],
   "source": [
    "dataset = dataset.drop(columns=['HC'])"
   ]
  },
  {
   "cell_type": "code",
   "execution_count": 90,
   "metadata": {},
   "outputs": [],
   "source": [
    "dataset = dataset.drop(columns=['DifDias'])"
   ]
  },
  {
   "cell_type": "code",
   "execution_count": 91,
   "metadata": {},
   "outputs": [
    {
     "data": {
      "text/plain": [
       "EstadoDelTurno           int64\n",
       "CentroDeAtencion         int64\n",
       "Recurso                  int64\n",
       "Edad                     int64\n",
       "AnticipacionDeReserva    int64\n",
       "DiaTurno                 int64\n",
       "MesTurno                 int64\n",
       "ConsultaMedica           int64\n",
       "ConsumidorFinal          int64\n",
       "TipoDeTurnoEncode        int64\n",
       "SexoEncode               int64\n",
       "STEncode                 int64\n",
       "dtype: object"
      ]
     },
     "execution_count": 91,
     "metadata": {},
     "output_type": "execute_result"
    }
   ],
   "source": [
    "dataset.dtypes"
   ]
  },
  {
   "cell_type": "code",
   "execution_count": 92,
   "metadata": {},
   "outputs": [
    {
     "data": {
      "text/plain": [
       "1    579367\n",
       "Name: STEncode, dtype: int64"
      ]
     },
     "execution_count": 92,
     "metadata": {},
     "output_type": "execute_result"
    }
   ],
   "source": [
    "dataset.STEncode.value_counts()"
   ]
  },
  {
   "cell_type": "code",
   "execution_count": 93,
   "metadata": {},
   "outputs": [
    {
     "data": {
      "text/plain": [
       "(579367, 12)"
      ]
     },
     "execution_count": 93,
     "metadata": {},
     "output_type": "execute_result"
    }
   ],
   "source": [
    "dataset.shape"
   ]
  },
  {
   "cell_type": "code",
   "execution_count": 94,
   "metadata": {},
   "outputs": [],
   "source": [
    "duplicados=  dataset[dataset.duplicated(keep=False)]"
   ]
  },
  {
   "cell_type": "code",
   "execution_count": 95,
   "metadata": {},
   "outputs": [
    {
     "data": {
      "text/html": [
       "<div>\n",
       "<style scoped>\n",
       "    .dataframe tbody tr th:only-of-type {\n",
       "        vertical-align: middle;\n",
       "    }\n",
       "\n",
       "    .dataframe tbody tr th {\n",
       "        vertical-align: top;\n",
       "    }\n",
       "\n",
       "    .dataframe thead th {\n",
       "        text-align: right;\n",
       "    }\n",
       "</style>\n",
       "<table border=\"1\" class=\"dataframe\">\n",
       "  <thead>\n",
       "    <tr style=\"text-align: right;\">\n",
       "      <th></th>\n",
       "      <th>EstadoDelTurno</th>\n",
       "      <th>CentroDeAtencion</th>\n",
       "      <th>Recurso</th>\n",
       "      <th>Edad</th>\n",
       "      <th>AnticipacionDeReserva</th>\n",
       "      <th>DiaTurno</th>\n",
       "      <th>MesTurno</th>\n",
       "      <th>ConsultaMedica</th>\n",
       "      <th>ConsumidorFinal</th>\n",
       "      <th>TipoDeTurnoEncode</th>\n",
       "      <th>SexoEncode</th>\n",
       "      <th>STEncode</th>\n",
       "    </tr>\n",
       "  </thead>\n",
       "  <tbody>\n",
       "    <tr>\n",
       "      <th>262925</th>\n",
       "      <td>0</td>\n",
       "      <td>1</td>\n",
       "      <td>2</td>\n",
       "      <td>18</td>\n",
       "      <td>1</td>\n",
       "      <td>0</td>\n",
       "      <td>1</td>\n",
       "      <td>1</td>\n",
       "      <td>0</td>\n",
       "      <td>3</td>\n",
       "      <td>1</td>\n",
       "      <td>1</td>\n",
       "    </tr>\n",
       "    <tr>\n",
       "      <th>273751</th>\n",
       "      <td>0</td>\n",
       "      <td>1</td>\n",
       "      <td>2</td>\n",
       "      <td>18</td>\n",
       "      <td>1</td>\n",
       "      <td>0</td>\n",
       "      <td>1</td>\n",
       "      <td>1</td>\n",
       "      <td>0</td>\n",
       "      <td>3</td>\n",
       "      <td>1</td>\n",
       "      <td>1</td>\n",
       "    </tr>\n",
       "    <tr>\n",
       "      <th>42838</th>\n",
       "      <td>0</td>\n",
       "      <td>1</td>\n",
       "      <td>2</td>\n",
       "      <td>19</td>\n",
       "      <td>1</td>\n",
       "      <td>0</td>\n",
       "      <td>12</td>\n",
       "      <td>1</td>\n",
       "      <td>0</td>\n",
       "      <td>3</td>\n",
       "      <td>1</td>\n",
       "      <td>1</td>\n",
       "    </tr>\n",
       "    <tr>\n",
       "      <th>245748</th>\n",
       "      <td>0</td>\n",
       "      <td>1</td>\n",
       "      <td>2</td>\n",
       "      <td>19</td>\n",
       "      <td>1</td>\n",
       "      <td>0</td>\n",
       "      <td>12</td>\n",
       "      <td>1</td>\n",
       "      <td>0</td>\n",
       "      <td>3</td>\n",
       "      <td>1</td>\n",
       "      <td>1</td>\n",
       "    </tr>\n",
       "    <tr>\n",
       "      <th>93662</th>\n",
       "      <td>0</td>\n",
       "      <td>1</td>\n",
       "      <td>2</td>\n",
       "      <td>19</td>\n",
       "      <td>1</td>\n",
       "      <td>2</td>\n",
       "      <td>5</td>\n",
       "      <td>1</td>\n",
       "      <td>0</td>\n",
       "      <td>2</td>\n",
       "      <td>1</td>\n",
       "      <td>1</td>\n",
       "    </tr>\n",
       "    <tr>\n",
       "      <th>...</th>\n",
       "      <td>...</td>\n",
       "      <td>...</td>\n",
       "      <td>...</td>\n",
       "      <td>...</td>\n",
       "      <td>...</td>\n",
       "      <td>...</td>\n",
       "      <td>...</td>\n",
       "      <td>...</td>\n",
       "      <td>...</td>\n",
       "      <td>...</td>\n",
       "      <td>...</td>\n",
       "      <td>...</td>\n",
       "    </tr>\n",
       "    <tr>\n",
       "      <th>235728</th>\n",
       "      <td>1</td>\n",
       "      <td>4</td>\n",
       "      <td>506</td>\n",
       "      <td>50</td>\n",
       "      <td>1</td>\n",
       "      <td>5</td>\n",
       "      <td>5</td>\n",
       "      <td>0</td>\n",
       "      <td>0</td>\n",
       "      <td>1</td>\n",
       "      <td>0</td>\n",
       "      <td>1</td>\n",
       "    </tr>\n",
       "    <tr>\n",
       "      <th>29524</th>\n",
       "      <td>1</td>\n",
       "      <td>4</td>\n",
       "      <td>506</td>\n",
       "      <td>52</td>\n",
       "      <td>1</td>\n",
       "      <td>2</td>\n",
       "      <td>2</td>\n",
       "      <td>0</td>\n",
       "      <td>0</td>\n",
       "      <td>1</td>\n",
       "      <td>1</td>\n",
       "      <td>1</td>\n",
       "    </tr>\n",
       "    <tr>\n",
       "      <th>30055</th>\n",
       "      <td>1</td>\n",
       "      <td>4</td>\n",
       "      <td>506</td>\n",
       "      <td>52</td>\n",
       "      <td>1</td>\n",
       "      <td>2</td>\n",
       "      <td>2</td>\n",
       "      <td>0</td>\n",
       "      <td>0</td>\n",
       "      <td>1</td>\n",
       "      <td>1</td>\n",
       "      <td>1</td>\n",
       "    </tr>\n",
       "    <tr>\n",
       "      <th>89049</th>\n",
       "      <td>1</td>\n",
       "      <td>4</td>\n",
       "      <td>508</td>\n",
       "      <td>45</td>\n",
       "      <td>1</td>\n",
       "      <td>3</td>\n",
       "      <td>5</td>\n",
       "      <td>0</td>\n",
       "      <td>0</td>\n",
       "      <td>1</td>\n",
       "      <td>0</td>\n",
       "      <td>1</td>\n",
       "    </tr>\n",
       "    <tr>\n",
       "      <th>99197</th>\n",
       "      <td>1</td>\n",
       "      <td>4</td>\n",
       "      <td>508</td>\n",
       "      <td>45</td>\n",
       "      <td>1</td>\n",
       "      <td>3</td>\n",
       "      <td>5</td>\n",
       "      <td>0</td>\n",
       "      <td>0</td>\n",
       "      <td>1</td>\n",
       "      <td>0</td>\n",
       "      <td>1</td>\n",
       "    </tr>\n",
       "  </tbody>\n",
       "</table>\n",
       "<p>190805 rows × 12 columns</p>\n",
       "</div>"
      ],
      "text/plain": [
       "        EstadoDelTurno  CentroDeAtencion  Recurso  Edad  \\\n",
       "262925               0                 1        2    18   \n",
       "273751               0                 1        2    18   \n",
       "42838                0                 1        2    19   \n",
       "245748               0                 1        2    19   \n",
       "93662                0                 1        2    19   \n",
       "...                ...               ...      ...   ...   \n",
       "235728               1                 4      506    50   \n",
       "29524                1                 4      506    52   \n",
       "30055                1                 4      506    52   \n",
       "89049                1                 4      508    45   \n",
       "99197                1                 4      508    45   \n",
       "\n",
       "        AnticipacionDeReserva  DiaTurno  MesTurno  ConsultaMedica  \\\n",
       "262925                      1         0         1               1   \n",
       "273751                      1         0         1               1   \n",
       "42838                       1         0        12               1   \n",
       "245748                      1         0        12               1   \n",
       "93662                       1         2         5               1   \n",
       "...                       ...       ...       ...             ...   \n",
       "235728                      1         5         5               0   \n",
       "29524                       1         2         2               0   \n",
       "30055                       1         2         2               0   \n",
       "89049                       1         3         5               0   \n",
       "99197                       1         3         5               0   \n",
       "\n",
       "        ConsumidorFinal  TipoDeTurnoEncode  SexoEncode  STEncode  \n",
       "262925                0                  3           1         1  \n",
       "273751                0                  3           1         1  \n",
       "42838                 0                  3           1         1  \n",
       "245748                0                  3           1         1  \n",
       "93662                 0                  2           1         1  \n",
       "...                 ...                ...         ...       ...  \n",
       "235728                0                  1           0         1  \n",
       "29524                 0                  1           1         1  \n",
       "30055                 0                  1           1         1  \n",
       "89049                 0                  1           0         1  \n",
       "99197                 0                  1           0         1  \n",
       "\n",
       "[190805 rows x 12 columns]"
      ]
     },
     "execution_count": 95,
     "metadata": {},
     "output_type": "execute_result"
    }
   ],
   "source": [
    "duplicados.sort_values(by=['EstadoDelTurno', 'CentroDeAtencion', 'Recurso', 'Edad',\n",
    "       'AnticipacionDeReserva', 'DiaTurno', 'MesTurno', 'ConsultaMedica',\n",
    "       'ConsumidorFinal', 'TipoDeTurnoEncode', 'SexoEncode', 'STEncode'])"
   ]
  },
  {
   "cell_type": "code",
   "execution_count": 96,
   "metadata": {},
   "outputs": [],
   "source": [
    "dataset.drop_duplicates(inplace=True)"
   ]
  },
  {
   "cell_type": "code",
   "execution_count": 97,
   "metadata": {},
   "outputs": [
    {
     "data": {
      "text/plain": [
       "(464985, 12)"
      ]
     },
     "execution_count": 97,
     "metadata": {},
     "output_type": "execute_result"
    }
   ],
   "source": [
    "dataset.shape"
   ]
  },
  {
   "cell_type": "markdown",
   "metadata": {},
   "source": [
    "# Librerias"
   ]
  },
  {
   "cell_type": "code",
   "execution_count": 98,
   "metadata": {},
   "outputs": [],
   "source": [
    "import matplotlib.pyplot as plt\n",
    "from sklearn.model_selection import train_test_split\n",
    "from sklearn.linear_model import LogisticRegression\n",
    "from sklearn.ensemble import RandomForestClassifier\n",
    "from sklearn.metrics import roc_curve, roc_auc_score, f1_score, plot_roc_curve\n",
    "%matplotlib inline\n",
    "from sklearn.metrics import precision_recall_curve\n",
    "from sklearn.metrics import plot_precision_recall_curve\n",
    "from sklearn.metrics import confusion_matrix\n",
    "from sklearn.metrics import accuracy_score\n",
    "import seaborn as s\n",
    "from sklearn.linear_model import SGDClassifier\n",
    "import collections\n",
    "from sklearn.preprocessing import PolynomialFeatures\n",
    "from sklearn.pipeline import make_pipeline\n",
    "from sklearn.tree import DecisionTreeClassifier\n",
    "from sklearn.model_selection import GridSearchCV\n",
    "from sklearn.tree import plot_tree\n",
    "from sklearn.ensemble import RandomForestClassifier\n",
    "from sklearn.preprocessing import MinMaxScaler, StandardScaler"
   ]
  },
  {
   "cell_type": "markdown",
   "metadata": {},
   "source": [
    "# Separación en conjunto de entrenamiento y conjunto de prueba"
   ]
  },
  {
   "cell_type": "code",
   "execution_count": 99,
   "metadata": {},
   "outputs": [],
   "source": [
    "X, y = dataset.iloc[:, 1:], dataset.EstadoDelTurno"
   ]
  },
  {
   "cell_type": "code",
   "execution_count": 100,
   "metadata": {},
   "outputs": [],
   "source": [
    "X_train, X_test, y_train, y_test = train_test_split(X, y, test_size=0.3, random_state=0)"
   ]
  },
  {
   "cell_type": "markdown",
   "metadata": {},
   "source": [
    "# Modelo lineal Regresion Logistica"
   ]
  },
  {
   "cell_type": "code",
   "execution_count": 103,
   "metadata": {},
   "outputs": [
    {
     "data": {
      "text/plain": [
       "LogisticRegression(class_weight='balanced', random_state=42, solver='sag')"
      ]
     },
     "execution_count": 103,
     "metadata": {},
     "output_type": "execute_result"
    }
   ],
   "source": [
    "model = LogisticRegression(class_weight='balanced', random_state=42, solver='sag')\n",
    "model.fit(X_train, y_train)"
   ]
  },
  {
   "cell_type": "markdown",
   "metadata": {},
   "source": [
    "# Metricas Curvas ROC"
   ]
  },
  {
   "cell_type": "markdown",
   "metadata": {},
   "source": [
    "**precision = TP / (TP + FP)    \n",
    "recall = TP / (TP + FN )     \n",
    "accuracy=(TP+TN) / (TP+TN+FP+FN)      \n",
    "F1 = 2* ((precision * recall) / (precision + recall))\n",
    "F1 se calcula haciendo la media armónica entre la precisión y la exhaustividad (recall):\n",
    "F1= 2*(precision * recall)/(precision + recall)**"
   ]
  },
  {
   "cell_type": "code",
   "execution_count": 104,
   "metadata": {},
   "outputs": [
    {
     "data": {
      "image/png": "[encoded data removed]",
      "text/plain": [
       "<Figure size 432x288 with 1 Axes>"
      ]
     },
     "metadata": {
      "needs_background": "light"
     },
     "output_type": "display_data"
    }
   ],
   "source": [
    "plot_roc_curve(model, X_test, y_test);"
   ]
  },
  {
   "cell_type": "markdown",
   "metadata": {},
   "source": [
    "**Este modelo de regresion logistica no es bueno ya que tiene fpr = 1 el cual debería ser 0 si bien el tpr llega a  1**"
   ]
  },
  {
   "cell_type": "code",
   "execution_count": 105,
   "metadata": {},
   "outputs": [],
   "source": [
    "y_proba = model.predict_proba(X_test)[:,1]\n",
    "fpr, tpr, thresholds = roc_curve(y_test, y_proba)"
   ]
  },
  {
   "cell_type": "code",
   "execution_count": 106,
   "metadata": {},
   "outputs": [
    {
     "data": {
      "text/plain": [
       "0.5730278783171845"
      ]
     },
     "execution_count": 106,
     "metadata": {},
     "output_type": "execute_result"
    }
   ],
   "source": [
    "roc_auc_score(y_test, model.predict(X_test))"
   ]
  },
  {
   "cell_type": "code",
   "execution_count": 107,
   "metadata": {},
   "outputs": [
    {
     "data": {
      "text/plain": [
       "<sklearn.metrics._plot.precision_recall_curve.PrecisionRecallDisplay at 0x62e8b048>"
      ]
     },
     "execution_count": 107,
     "metadata": {},
     "output_type": "execute_result"
    },
    {
     "data": {
      "image/png": "[encoded data removed]",
      "text/plain": [
       "<Figure size 432x288 with 1 Axes>"
      ]
     },
     "metadata": {
      "needs_background": "light"
     },
     "output_type": "display_data"
    }
   ],
   "source": [
    "plot_precision_recall_curve(model, X_test, y_test)"
   ]
  },
  {
   "cell_type": "markdown",
   "metadata": {},
   "source": [
    "**En est grafico vemos que este modelo de regresión logistica esta lejos del punto ideal ya que para recall = 1 precision = 0.2**"
   ]
  },
  {
   "cell_type": "code",
   "execution_count": 108,
   "metadata": {},
   "outputs": [],
   "source": [
    "precision, recall, thresholds = roc_curve(y_test, y_proba)"
   ]
  },
  {
   "cell_type": "code",
   "execution_count": 109,
   "metadata": {},
   "outputs": [],
   "source": [
    "y_test_pred = model.predict(X_test)"
   ]
  },
  {
   "cell_type": "code",
   "execution_count": 110,
   "metadata": {},
   "outputs": [
    {
     "data": {
      "text/plain": [
       "0.5811902916013236"
      ]
     },
     "execution_count": 110,
     "metadata": {},
     "output_type": "execute_result"
    }
   ],
   "source": [
    "f1_score(y_test, y_test_pred, average='weighted')"
   ]
  },
  {
   "cell_type": "code",
   "execution_count": 111,
   "metadata": {},
   "outputs": [
    {
     "data": {
      "text/plain": [
       "<AxesSubplot:>"
      ]
     },
     "execution_count": 111,
     "metadata": {},
     "output_type": "execute_result"
    },
    {
     "data": {
      "image/png": "[encoded data removed]",
      "text/plain": [
       "<Figure size 432x288 with 2 Axes>"
      ]
     },
     "metadata": {
      "needs_background": "light"
     },
     "output_type": "display_data"
    }
   ],
   "source": [
    "cm_train=confusion_matrix(y_test, y_test_pred)\n",
    "s.heatmap(cm_train, annot=True ,cmap=\"YlGnBu\", fmt=\"d\")"
   ]
  },
  {
   "cell_type": "markdown",
   "metadata": {},
   "source": [
    "**Este modelo de regresion logistica  comete error en la identificacion de las dos clases en el conjunto de test**"
   ]
  },
  {
   "cell_type": "markdown",
   "metadata": {},
   "source": [
    "# Usamos MinMaxScaler para la Regresion Logistica"
   ]
  },
  {
   "cell_type": "code",
   "execution_count": 112,
   "metadata": {},
   "outputs": [],
   "source": [
    "scaler = MinMaxScaler()"
   ]
  },
  {
   "cell_type": "code",
   "execution_count": 113,
   "metadata": {},
   "outputs": [],
   "source": [
    "transf_ds = scaler.fit_transform(dataset.iloc[:, :12])"
   ]
  },
  {
   "cell_type": "code",
   "execution_count": 114,
   "metadata": {},
   "outputs": [],
   "source": [
    "transf_ds = pd.DataFrame(transf_ds)"
   ]
  },
  {
   "cell_type": "code",
   "execution_count": 115,
   "metadata": {},
   "outputs": [],
   "source": [
    "X, y = transf_ds.iloc[:, 1:], transf_ds.iloc[:,0]"
   ]
  },
  {
   "cell_type": "code",
   "execution_count": 116,
   "metadata": {},
   "outputs": [],
   "source": [
    "X_train, X_test, y_train, y_test = train_test_split(X, y, test_size=0.30, random_state=0)"
   ]
  },
  {
   "cell_type": "code",
   "execution_count": 117,
   "metadata": {},
   "outputs": [],
   "source": [
    "model.fit(X_train, y_train)\n",
    "y_test_pred = model.predict(X_test)\n",
    "y_train_pred = model.predict(X_train)"
   ]
  },
  {
   "cell_type": "markdown",
   "metadata": {},
   "source": [
    "# Metricas Curvas ROC"
   ]
  },
  {
   "cell_type": "code",
   "execution_count": 118,
   "metadata": {},
   "outputs": [
    {
     "data": {
      "image/png": "[encoded data removed]",
      "text/plain": [
       "<Figure size 432x288 with 1 Axes>"
      ]
     },
     "metadata": {
      "needs_background": "light"
     },
     "output_type": "display_data"
    }
   ],
   "source": [
    "plot_roc_curve(model, X_test, y_test);"
   ]
  },
  {
   "cell_type": "markdown",
   "metadata": {},
   "source": [
    "**Este modelo de regresion logistica no es bueno ya que tiene fpr = 1 el cual debería ser 0 si bien el tpr llega a  1**"
   ]
  },
  {
   "cell_type": "code",
   "execution_count": 119,
   "metadata": {},
   "outputs": [],
   "source": [
    "y_proba = model.predict_proba(X_test)[:,1]\n",
    "fpr, tpr, thresholds = roc_curve(y_test, y_proba)"
   ]
  },
  {
   "cell_type": "code",
   "execution_count": 120,
   "metadata": {},
   "outputs": [
    {
     "data": {
      "text/plain": [
       "0.5730920302289115"
      ]
     },
     "execution_count": 120,
     "metadata": {},
     "output_type": "execute_result"
    }
   ],
   "source": [
    "roc_auc_score(y_test, model.predict(X_test))"
   ]
  },
  {
   "cell_type": "code",
   "execution_count": 121,
   "metadata": {},
   "outputs": [
    {
     "data": {
      "text/plain": [
       "<sklearn.metrics._plot.precision_recall_curve.PrecisionRecallDisplay at 0x62e54ba8>"
      ]
     },
     "execution_count": 121,
     "metadata": {},
     "output_type": "execute_result"
    },
    {
     "data": {
      "image/png": "[encoded data removed]",
      "text/plain": [
       "<Figure size 432x288 with 1 Axes>"
      ]
     },
     "metadata": {
      "needs_background": "light"
     },
     "output_type": "display_data"
    }
   ],
   "source": [
    "plot_precision_recall_curve(model, X_test, y_test)"
   ]
  },
  {
   "cell_type": "markdown",
   "metadata": {},
   "source": [
    "**En est grafico vemos que este modelo de regresión logistica esta lejos del punto ideal ya que para recall = 1 precision = 0.2**"
   ]
  },
  {
   "cell_type": "code",
   "execution_count": 122,
   "metadata": {},
   "outputs": [],
   "source": [
    "precision, recall, thresholds = roc_curve(y_test, y_proba)"
   ]
  },
  {
   "cell_type": "code",
   "execution_count": 123,
   "metadata": {},
   "outputs": [],
   "source": [
    "y_test_pred = model.predict(X_test)"
   ]
  },
  {
   "cell_type": "code",
   "execution_count": 124,
   "metadata": {},
   "outputs": [
    {
     "data": {
      "text/plain": [
       "0.5812156531906443"
      ]
     },
     "execution_count": 124,
     "metadata": {},
     "output_type": "execute_result"
    }
   ],
   "source": [
    "f1_score(y_test, y_test_pred, average='weighted')"
   ]
  },
  {
   "cell_type": "code",
   "execution_count": 125,
   "metadata": {},
   "outputs": [
    {
     "data": {
      "text/plain": [
       "<AxesSubplot:>"
      ]
     },
     "execution_count": 125,
     "metadata": {},
     "output_type": "execute_result"
    },
    {
     "data": {
      "image/png": "[encoded data removed]",
      "text/plain": [
       "<Figure size 432x288 with 2 Axes>"
      ]
     },
     "metadata": {
      "needs_background": "light"
     },
     "output_type": "display_data"
    }
   ],
   "source": [
    "cm_test=confusion_matrix(y_test, y_test_pred)\n",
    "s.heatmap(cm_test, annot=True ,cmap=\"YlGnBu\", fmt=\"d\")"
   ]
  },
  {
   "cell_type": "markdown",
   "metadata": {},
   "source": [
    "**Observamos que no hay diferencia al utilizar el MinMaxScaler para la regresion logistica**"
   ]
  },
  {
   "cell_type": "markdown",
   "metadata": {},
   "source": [
    "# Usamos SGD Classifier"
   ]
  },
  {
   "cell_type": "code",
   "execution_count": 126,
   "metadata": {},
   "outputs": [],
   "source": [
    "X, y = dataset.iloc[:, 1:], dataset.EstadoDelTurno"
   ]
  },
  {
   "cell_type": "code",
   "execution_count": 127,
   "metadata": {},
   "outputs": [],
   "source": [
    "X_train, X_test, y_train, y_test = train_test_split(X, y, test_size=0.30, random_state=0)"
   ]
  },
  {
   "cell_type": "code",
   "execution_count": 128,
   "metadata": {},
   "outputs": [],
   "source": [
    "model = SGDClassifier(loss = 'log' , random_state=0)"
   ]
  },
  {
   "cell_type": "code",
   "execution_count": 129,
   "metadata": {},
   "outputs": [],
   "source": [
    "model.fit(X_train, y_train)\n",
    "y_train_pred = model.predict(X_train)\n",
    "y_test_pred = model.predict(X_test)"
   ]
  },
  {
   "cell_type": "markdown",
   "metadata": {},
   "source": [
    "# Metricas Curvas ROC"
   ]
  },
  {
   "cell_type": "code",
   "execution_count": 130,
   "metadata": {},
   "outputs": [
    {
     "data": {
      "image/png": "[encoded data removed]",
      "text/plain": [
       "<Figure size 432x288 with 1 Axes>"
      ]
     },
     "metadata": {
      "needs_background": "light"
     },
     "output_type": "display_data"
    }
   ],
   "source": [
    "plot_roc_curve(model, X_test, y_test);"
   ]
  },
  {
   "cell_type": "markdown",
   "metadata": {},
   "source": [
    "**Este modelo de SGDClassifier no es bueno ya que tiene fpr = 1 debería ser 0 si bien el tpr llega a  1**"
   ]
  },
  {
   "cell_type": "code",
   "execution_count": 131,
   "metadata": {},
   "outputs": [],
   "source": [
    "y_proba = model.predict_proba(X_test)[:,1]\n",
    "fpr, tpr, thresholds = roc_curve(y_test, y_proba)"
   ]
  },
  {
   "cell_type": "code",
   "execution_count": 132,
   "metadata": {},
   "outputs": [
    {
     "data": {
      "text/plain": [
       "0.5000301902497433"
      ]
     },
     "execution_count": 132,
     "metadata": {},
     "output_type": "execute_result"
    }
   ],
   "source": [
    "roc_auc_score(y_test, model.predict(X_test))"
   ]
  },
  {
   "cell_type": "code",
   "execution_count": 133,
   "metadata": {},
   "outputs": [
    {
     "data": {
      "text/plain": [
       "<sklearn.metrics._plot.precision_recall_curve.PrecisionRecallDisplay at 0x62e17828>"
      ]
     },
     "execution_count": 133,
     "metadata": {},
     "output_type": "execute_result"
    },
    {
     "data": {
      "image/png": "[encoded data removed]",
      "text/plain": [
       "<Figure size 432x288 with 1 Axes>"
      ]
     },
     "metadata": {
      "needs_background": "light"
     },
     "output_type": "display_data"
    }
   ],
   "source": [
    "plot_precision_recall_curve(model, X_test, y_test)"
   ]
  },
  {
   "cell_type": "markdown",
   "metadata": {},
   "source": [
    "**Este modelo SGDClassifier no seria bueno según esta relación entre recall y precision ya que para un recall = 1  precision aproximada de 0.3**"
   ]
  },
  {
   "cell_type": "code",
   "execution_count": 134,
   "metadata": {},
   "outputs": [],
   "source": [
    "precision, recall, thresholds = roc_curve(y_test, y_proba)"
   ]
  },
  {
   "cell_type": "code",
   "execution_count": 135,
   "metadata": {},
   "outputs": [],
   "source": [
    "y_test_pred = model.predict(X_test)"
   ]
  },
  {
   "cell_type": "code",
   "execution_count": 136,
   "metadata": {},
   "outputs": [
    {
     "data": {
      "text/plain": [
       "0.6789316331489562"
      ]
     },
     "execution_count": 136,
     "metadata": {},
     "output_type": "execute_result"
    }
   ],
   "source": [
    "f1_score(y_test, y_test_pred, average='weighted')"
   ]
  },
  {
   "cell_type": "code",
   "execution_count": 137,
   "metadata": {},
   "outputs": [
    {
     "data": {
      "text/plain": [
       "<AxesSubplot:>"
      ]
     },
     "execution_count": 137,
     "metadata": {},
     "output_type": "execute_result"
    },
    {
     "data": {
      "image/png": "[encoded data removed]",
      "text/plain": [
       "<Figure size 432x288 with 2 Axes>"
      ]
     },
     "metadata": {
      "needs_background": "light"
     },
     "output_type": "display_data"
    }
   ],
   "source": [
    "cm_test=confusion_matrix(y_test, y_test_pred)\n",
    "s.heatmap(cm_test, annot=True ,cmap=\"YlGnBu\", fmt=\"d\")"
   ]
  },
  {
   "cell_type": "markdown",
   "metadata": {},
   "source": [
    "**El SDGClassifier aunque comete un error considerable en la identificacion de la clase 1 en el conjunto de test pero es mejor que el modelo anterior de regresion logistica**"
   ]
  },
  {
   "cell_type": "markdown",
   "metadata": {},
   "source": [
    "# Usamos MinMaxScaler para SGD Classifier"
   ]
  },
  {
   "cell_type": "code",
   "execution_count": 150,
   "metadata": {},
   "outputs": [],
   "source": [
    "scaler = MinMaxScaler()"
   ]
  },
  {
   "cell_type": "code",
   "execution_count": 151,
   "metadata": {},
   "outputs": [],
   "source": [
    "transf_ds = scaler.fit_transform(dataset.iloc[:, :12])"
   ]
  },
  {
   "cell_type": "code",
   "execution_count": 152,
   "metadata": {},
   "outputs": [],
   "source": [
    "transf_ds = pd.DataFrame(transf_ds)"
   ]
  },
  {
   "cell_type": "code",
   "execution_count": 153,
   "metadata": {},
   "outputs": [],
   "source": [
    "X, y = transf_ds.iloc[:, 1:], transf_ds.iloc[:,0]"
   ]
  },
  {
   "cell_type": "code",
   "execution_count": 154,
   "metadata": {},
   "outputs": [],
   "source": [
    "X_train, X_test, y_train, y_test = train_test_split(X, y, test_size=0.30, random_state=0)"
   ]
  },
  {
   "cell_type": "code",
   "execution_count": 155,
   "metadata": {},
   "outputs": [],
   "source": [
    "model.fit(X_train, y_train)\n",
    "y_test_pred = model.predict(X_test)\n",
    "y_train_pred = model.predict(X_train)"
   ]
  },
  {
   "cell_type": "markdown",
   "metadata": {},
   "source": [
    "# Metricas Curvas ROC"
   ]
  },
  {
   "cell_type": "code",
   "execution_count": 156,
   "metadata": {},
   "outputs": [
    {
     "data": {
      "image/png": "[encoded data removed]",
      "text/plain": [
       "<Figure size 432x288 with 1 Axes>"
      ]
     },
     "metadata": {
      "needs_background": "light"
     },
     "output_type": "display_data"
    }
   ],
   "source": [
    "plot_roc_curve(model, X_test, y_test);"
   ]
  },
  {
   "cell_type": "markdown",
   "metadata": {},
   "source": [
    "**Este modelo de SGDClassifier con MinMaxScaler no es bueno ya que tiene fpr = 1 debería ser 0 si bien el tpr llega a  1**"
   ]
  },
  {
   "cell_type": "code",
   "execution_count": 157,
   "metadata": {},
   "outputs": [],
   "source": [
    "y_proba = model.predict_proba(X_test)[:,1]\n",
    "fpr, tpr, thresholds = roc_curve(y_test, y_proba)"
   ]
  },
  {
   "cell_type": "code",
   "execution_count": 158,
   "metadata": {},
   "outputs": [
    {
     "data": {
      "text/plain": [
       "0.5"
      ]
     },
     "execution_count": 158,
     "metadata": {},
     "output_type": "execute_result"
    }
   ],
   "source": [
    "roc_auc_score(y_test, model.predict(X_test))"
   ]
  },
  {
   "cell_type": "code",
   "execution_count": 159,
   "metadata": {},
   "outputs": [
    {
     "data": {
      "text/plain": [
       "<sklearn.metrics._plot.precision_recall_curve.PrecisionRecallDisplay at 0x62d43128>"
      ]
     },
     "execution_count": 159,
     "metadata": {},
     "output_type": "execute_result"
    },
    {
     "data": {
      "image/png": "[encoded data removed]",
      "text/plain": [
       "<Figure size 432x288 with 1 Axes>"
      ]
     },
     "metadata": {
      "needs_background": "light"
     },
     "output_type": "display_data"
    }
   ],
   "source": [
    "plot_precision_recall_curve(model, X_test, y_test)"
   ]
  },
  {
   "cell_type": "markdown",
   "metadata": {},
   "source": [
    "**Este modelo SGDClassifier con MinMaxScaler no seria bueno según esta relación entre recall y precision ya que para un recall = 1  precision aproximada de 0.3**"
   ]
  },
  {
   "cell_type": "code",
   "execution_count": 160,
   "metadata": {},
   "outputs": [],
   "source": [
    "precision, recall, thresholds = roc_curve(y_test, y_proba)"
   ]
  },
  {
   "cell_type": "code",
   "execution_count": 161,
   "metadata": {},
   "outputs": [],
   "source": [
    "precision, recall, thresholds = roc_curve(y_test, y_proba)"
   ]
  },
  {
   "cell_type": "code",
   "execution_count": 162,
   "metadata": {},
   "outputs": [],
   "source": [
    "y_test_pred = model.predict(X_test)"
   ]
  },
  {
   "cell_type": "code",
   "execution_count": 163,
   "metadata": {},
   "outputs": [
    {
     "data": {
      "text/plain": [
       "0.6788224565579404"
      ]
     },
     "execution_count": 163,
     "metadata": {},
     "output_type": "execute_result"
    }
   ],
   "source": [
    "f1_score(y_test, y_test_pred, average='weighted')"
   ]
  },
  {
   "cell_type": "code",
   "execution_count": 164,
   "metadata": {},
   "outputs": [
    {
     "data": {
      "text/plain": [
       "<AxesSubplot:>"
      ]
     },
     "execution_count": 164,
     "metadata": {},
     "output_type": "execute_result"
    },
    {
     "data": {
      "image/png": "[encoded data removed]",
      "text/plain": [
       "<Figure size 432x288 with 2 Axes>"
      ]
     },
     "metadata": {
      "needs_background": "light"
     },
     "output_type": "display_data"
    }
   ],
   "source": [
    "cm_test=confusion_matrix(y_test, y_test_pred)\n",
    "s.heatmap(cm_test, annot=True ,cmap=\"YlGnBu\", fmt=\"d\")"
   ]
  },
  {
   "cell_type": "markdown",
   "metadata": {},
   "source": [
    "**El SDGClassifier con MinMaxScaler es peor que el SGDClassfier**"
   ]
  },
  {
   "cell_type": "markdown",
   "metadata": {},
   "source": [
    "# Clasificador Polinomial"
   ]
  },
  {
   "cell_type": "code",
   "execution_count": 165,
   "metadata": {},
   "outputs": [],
   "source": [
    "X, y = dataset.iloc[:, 1:], dataset.EstadoDelTurno"
   ]
  },
  {
   "cell_type": "code",
   "execution_count": 166,
   "metadata": {},
   "outputs": [],
   "source": [
    "X_train, X_test, y_train, y_test = train_test_split(X, y, test_size=0.30, random_state=42)"
   ]
  },
  {
   "cell_type": "code",
   "execution_count": 167,
   "metadata": {},
   "outputs": [],
   "source": [
    "model = make_pipeline(\n",
    "    PolynomialFeatures(degree= 3, interaction_only=False, include_bias=True),\n",
    "    LogisticRegression()\n",
    ")\n",
    "model.fit(X_train, y_train);"
   ]
  },
  {
   "cell_type": "code",
   "execution_count": 168,
   "metadata": {},
   "outputs": [],
   "source": [
    "y_train_pred = model.predict(X_train)\n",
    "y_test_pred = model.predict(X_test)"
   ]
  },
  {
   "cell_type": "markdown",
   "metadata": {},
   "source": [
    "# Metricas Curvas ROC"
   ]
  },
  {
   "cell_type": "code",
   "execution_count": 169,
   "metadata": {},
   "outputs": [
    {
     "data": {
      "image/png": "[encoded data removed]",
      "text/plain": [
       "<Figure size 432x288 with 1 Axes>"
      ]
     },
     "metadata": {
      "needs_background": "light"
     },
     "output_type": "display_data"
    }
   ],
   "source": [
    "plot_roc_curve(model, X_test, y_test);"
   ]
  },
  {
   "cell_type": "markdown",
   "metadata": {},
   "source": [
    "**Este modelo clasificador polinomial no es bueno ya que tiene fpr = 1 el cual debería ser 0 si bien llega a un tpr = 1**"
   ]
  },
  {
   "cell_type": "code",
   "execution_count": 170,
   "metadata": {},
   "outputs": [],
   "source": [
    "y_proba = model.predict_proba(X_test)[:,1]\n",
    "fpr, tpr, thresholds = roc_curve(y_test, y_proba)"
   ]
  },
  {
   "cell_type": "code",
   "execution_count": 171,
   "metadata": {},
   "outputs": [
    {
     "data": {
      "text/plain": [
       "0.5002766380998944"
      ]
     },
     "execution_count": 171,
     "metadata": {},
     "output_type": "execute_result"
    }
   ],
   "source": [
    "roc_auc_score(y_test, model.predict(X_test))"
   ]
  },
  {
   "cell_type": "code",
   "execution_count": 172,
   "metadata": {},
   "outputs": [
    {
     "data": {
      "text/plain": [
       "<sklearn.metrics._plot.precision_recall_curve.PrecisionRecallDisplay at 0x62d34eb8>"
      ]
     },
     "execution_count": 172,
     "metadata": {},
     "output_type": "execute_result"
    },
    {
     "data": {
      "image/png": "[encoded data removed]",
      "text/plain": [
       "<Figure size 432x288 with 1 Axes>"
      ]
     },
     "metadata": {
      "needs_background": "light"
     },
     "output_type": "display_data"
    }
   ],
   "source": [
    "plot_precision_recall_curve(model, X_test, y_test)"
   ]
  },
  {
   "cell_type": "markdown",
   "metadata": {},
   "source": [
    "**El clasificador polinomial no seria bueno según esta relación entre recall y precision ya que para un recall = 1  precision aproximada de solo 0.3**"
   ]
  },
  {
   "cell_type": "code",
   "execution_count": 173,
   "metadata": {},
   "outputs": [],
   "source": [
    "precision, recall, thresholds = roc_curve(y_test, y_proba)"
   ]
  },
  {
   "cell_type": "code",
   "execution_count": 174,
   "metadata": {},
   "outputs": [],
   "source": [
    "y_test_pred = model.predict(X_test)"
   ]
  },
  {
   "cell_type": "code",
   "execution_count": 175,
   "metadata": {},
   "outputs": [
    {
     "data": {
      "text/plain": [
       "0.681622976758452"
      ]
     },
     "execution_count": 175,
     "metadata": {},
     "output_type": "execute_result"
    }
   ],
   "source": [
    "f1_score(y_test, y_test_pred, average='weighted')"
   ]
  },
  {
   "cell_type": "code",
   "execution_count": 176,
   "metadata": {},
   "outputs": [
    {
     "data": {
      "text/plain": [
       "<AxesSubplot:>"
      ]
     },
     "execution_count": 176,
     "metadata": {},
     "output_type": "execute_result"
    },
    {
     "data": {
      "image/png": "[encoded data removed]",
      "text/plain": [
       "<Figure size 432x288 with 2 Axes>"
      ]
     },
     "metadata": {
      "needs_background": "light"
     },
     "output_type": "display_data"
    }
   ],
   "source": [
    "cm_train=confusion_matrix(y_test, y_test_pred)\n",
    "s.heatmap(cm_train, annot=True ,cmap=\"YlGnBu\", fmt=\"d\")"
   ]
  },
  {
   "cell_type": "markdown",
   "metadata": {},
   "source": [
    "**El clasificador polinomial comete error en la identificacion de la clase 1 en el conjunto de test**"
   ]
  },
  {
   "cell_type": "markdown",
   "metadata": {},
   "source": [
    "# Usamos MinMaxScaler para el Classificador Polinomial"
   ]
  },
  {
   "cell_type": "code",
   "execution_count": 177,
   "metadata": {},
   "outputs": [],
   "source": [
    "scaler = MinMaxScaler()"
   ]
  },
  {
   "cell_type": "code",
   "execution_count": 178,
   "metadata": {},
   "outputs": [],
   "source": [
    "transf_ds = scaler.fit_transform(dataset.iloc[:, :12])"
   ]
  },
  {
   "cell_type": "code",
   "execution_count": 179,
   "metadata": {},
   "outputs": [],
   "source": [
    "transf_ds = pd.DataFrame(transf_ds)"
   ]
  },
  {
   "cell_type": "code",
   "execution_count": 180,
   "metadata": {},
   "outputs": [],
   "source": [
    "X, y = transf_ds.iloc[:, 1:], transf_ds.iloc[:,0]"
   ]
  },
  {
   "cell_type": "code",
   "execution_count": 181,
   "metadata": {},
   "outputs": [],
   "source": [
    "X_train, X_test, y_train, y_test = train_test_split(X, y, test_size=0.30, random_state=0)"
   ]
  },
  {
   "cell_type": "code",
   "execution_count": 182,
   "metadata": {},
   "outputs": [],
   "source": [
    "model.fit(X_train, y_train)\n",
    "y_test_pred = model.predict(X_test)\n",
    "y_train_pred = model.predict(X_train)"
   ]
  },
  {
   "cell_type": "markdown",
   "metadata": {},
   "source": [
    "# Metricas Curvas ROC"
   ]
  },
  {
   "cell_type": "code",
   "execution_count": 183,
   "metadata": {},
   "outputs": [
    {
     "data": {
      "image/png": "[encoded data removed]",
      "text/plain": [
       "<Figure size 432x288 with 1 Axes>"
      ]
     },
     "metadata": {
      "needs_background": "light"
     },
     "output_type": "display_data"
    }
   ],
   "source": [
    "plot_roc_curve(model, X_test, y_test);"
   ]
  },
  {
   "cell_type": "markdown",
   "metadata": {},
   "source": [
    "**Este modelo Regresion Lineal no es bueno ya que tiene fpr = 1 y debería ser 0 si bien llega a tpr = 1**"
   ]
  },
  {
   "cell_type": "code",
   "execution_count": 184,
   "metadata": {},
   "outputs": [],
   "source": [
    "y_proba = model.predict_proba(X_test)[:,1]\n",
    "fpr, tpr, thresholds = roc_curve(y_test, y_proba)"
   ]
  },
  {
   "cell_type": "code",
   "execution_count": 185,
   "metadata": {},
   "outputs": [
    {
     "data": {
      "text/plain": [
       "0.5"
      ]
     },
     "execution_count": 185,
     "metadata": {},
     "output_type": "execute_result"
    }
   ],
   "source": [
    "roc_auc_score(y_test, model.predict(X_test))"
   ]
  },
  {
   "cell_type": "code",
   "execution_count": 186,
   "metadata": {},
   "outputs": [
    {
     "data": {
      "text/plain": [
       "<sklearn.metrics._plot.precision_recall_curve.PrecisionRecallDisplay at 0x62cf7160>"
      ]
     },
     "execution_count": 186,
     "metadata": {},
     "output_type": "execute_result"
    },
    {
     "data": {
      "image/png": "[encoded data removed]",
      "text/plain": [
       "<Figure size 432x288 with 1 Axes>"
      ]
     },
     "metadata": {
      "needs_background": "light"
     },
     "output_type": "display_data"
    }
   ],
   "source": [
    "plot_precision_recall_curve(model, X_test, y_test)"
   ]
  },
  {
   "cell_type": "markdown",
   "metadata": {},
   "source": [
    "**Este modelo Regresion Lineal no seria bueno según esta relación entre recall y precision ya que para un recall = 1  precision aproximada de solo 0.3**"
   ]
  },
  {
   "cell_type": "code",
   "execution_count": 187,
   "metadata": {},
   "outputs": [],
   "source": [
    "precision, recall, thresholds = roc_curve(y_test, y_proba)"
   ]
  },
  {
   "cell_type": "code",
   "execution_count": 188,
   "metadata": {},
   "outputs": [
    {
     "data": {
      "text/plain": [
       "0.6788224565579404"
      ]
     },
     "execution_count": 188,
     "metadata": {},
     "output_type": "execute_result"
    }
   ],
   "source": [
    "f1_score(y_test, y_test_pred, average='weighted')"
   ]
  },
  {
   "cell_type": "code",
   "execution_count": 189,
   "metadata": {},
   "outputs": [],
   "source": [
    "y_test_pred = model.predict(X_test)"
   ]
  },
  {
   "cell_type": "code",
   "execution_count": 190,
   "metadata": {},
   "outputs": [],
   "source": [
    "cm_test=confusion_matrix(y_test, y_test_pred)"
   ]
  },
  {
   "cell_type": "code",
   "execution_count": 191,
   "metadata": {},
   "outputs": [
    {
     "data": {
      "text/plain": [
       "<AxesSubplot:>"
      ]
     },
     "execution_count": 191,
     "metadata": {},
     "output_type": "execute_result"
    },
    {
     "data": {
      "image/png": "[encoded data removed]",
      "text/plain": [
       "<Figure size 432x288 with 2 Axes>"
      ]
     },
     "metadata": {
      "needs_background": "light"
     },
     "output_type": "display_data"
    }
   ],
   "source": [
    "s.heatmap(cm_test, annot=True ,cmap=\"YlGnBu\", fmt=\"d\")"
   ]
  },
  {
   "cell_type": "markdown",
   "metadata": {},
   "source": [
    "**Este modelo de Regresion logistica con MinMaxScaler es malo porque clasifica mal la clase 1**"
   ]
  },
  {
   "cell_type": "markdown",
   "metadata": {},
   "source": [
    "# Decision Tree Classifier"
   ]
  },
  {
   "cell_type": "code",
   "execution_count": 101,
   "metadata": {},
   "outputs": [],
   "source": [
    "X, y = dataset.iloc[:, 1:], dataset.EstadoDelTurno"
   ]
  },
  {
   "cell_type": "code",
   "execution_count": 102,
   "metadata": {},
   "outputs": [],
   "source": [
    "X_train, X_test, y_train, y_test = train_test_split(X, y, test_size=0.20, random_state=0)"
   ]
  },
  {
   "cell_type": "code",
   "execution_count": 103,
   "metadata": {},
   "outputs": [
    {
     "data": {
      "text/plain": [
       "DecisionTreeClassifier(max_depth=20, random_state=0)"
      ]
     },
     "execution_count": 103,
     "metadata": {},
     "output_type": "execute_result"
    }
   ],
   "source": [
    "clf = DecisionTreeClassifier(max_depth=20, criterion='gini', random_state=0)\n",
    "clf.fit(X_train,y_train)"
   ]
  },
  {
   "cell_type": "code",
   "execution_count": 104,
   "metadata": {},
   "outputs": [],
   "source": [
    "y_train_pred = clf.predict(X_train)\n",
    "y_test_pred = clf.predict(X_test)"
   ]
  },
  {
   "cell_type": "code",
   "execution_count": 105,
   "metadata": {},
   "outputs": [
    {
     "data": {
      "text/plain": [
       "0.7402711915438133"
      ]
     },
     "execution_count": 105,
     "metadata": {},
     "output_type": "execute_result"
    }
   ],
   "source": [
    "accuracy_score(y_test,y_test_pred)"
   ]
  },
  {
   "cell_type": "code",
   "execution_count": 106,
   "metadata": {},
   "outputs": [
    {
     "data": {
      "image/png": "[encoded data removed]",
      "text/plain": [
       "<Figure size 432x288 with 1 Axes>"
      ]
     },
     "metadata": {
      "needs_background": "light"
     },
     "output_type": "display_data"
    }
   ],
   "source": [
    "plot_tree(clf, max_depth = 5, fontsize=10);"
   ]
  },
  {
   "cell_type": "markdown",
   "metadata": {},
   "source": [
    "# Metricas Curvas ROC"
   ]
  },
  {
   "cell_type": "code",
   "execution_count": 199,
   "metadata": {},
   "outputs": [
    {
     "data": {
      "image/png": "[encoded data removed]",
      "text/plain": [
       "<Figure size 432x288 with 1 Axes>"
      ]
     },
     "metadata": {
      "needs_background": "light"
     },
     "output_type": "display_data"
    }
   ],
   "source": [
    "plot_roc_curve(clf, X_test, y_test);"
   ]
  },
  {
   "cell_type": "markdown",
   "metadata": {},
   "source": [
    "**Este modelo DecisionTreeClassifier de regresion logistica no es bueno ya que tiene fpr = 1 y debería ser 0 si bien llega a tpr = 1**"
   ]
  },
  {
   "cell_type": "code",
   "execution_count": 200,
   "metadata": {},
   "outputs": [],
   "source": [
    "y_proba = clf.predict_proba(X_test)[:,1]\n",
    "fpr, tpr, thresholds = roc_curve(y_test, y_proba)"
   ]
  },
  {
   "cell_type": "code",
   "execution_count": 201,
   "metadata": {},
   "outputs": [
    {
     "data": {
      "text/plain": [
       "0.5166516157667983"
      ]
     },
     "execution_count": 201,
     "metadata": {},
     "output_type": "execute_result"
    }
   ],
   "source": [
    "roc_auc_score(y_test, clf.predict(X_test))"
   ]
  },
  {
   "cell_type": "code",
   "execution_count": 202,
   "metadata": {},
   "outputs": [
    {
     "data": {
      "text/plain": [
       "<sklearn.metrics._plot.precision_recall_curve.PrecisionRecallDisplay at 0x62cc6ac8>"
      ]
     },
     "execution_count": 202,
     "metadata": {},
     "output_type": "execute_result"
    },
    {
     "data": {
      "image/png": "[encoded data removed]",
      "text/plain": [
       "<Figure size 432x288 with 1 Axes>"
      ]
     },
     "metadata": {
      "needs_background": "light"
     },
     "output_type": "display_data"
    }
   ],
   "source": [
    "plot_precision_recall_curve(clf, X_test, y_test)"
   ]
  },
  {
   "cell_type": "markdown",
   "metadata": {},
   "source": [
    "**El DecisionTreeClassifier seria medianamente bueno de acuerdo a este grafico ya que se acerca a una precision de 1 para un recall de 0.2**"
   ]
  },
  {
   "cell_type": "code",
   "execution_count": 203,
   "metadata": {},
   "outputs": [],
   "source": [
    "precision, recall, thresholds = roc_curve(y_test, y_proba)"
   ]
  },
  {
   "cell_type": "code",
   "execution_count": 204,
   "metadata": {},
   "outputs": [
    {
     "data": {
      "text/plain": [
       "0.6921546258599932"
      ]
     },
     "execution_count": 204,
     "metadata": {},
     "output_type": "execute_result"
    }
   ],
   "source": [
    "f1_score(y_test, y_test_pred, average='weighted')"
   ]
  },
  {
   "cell_type": "code",
   "execution_count": 205,
   "metadata": {},
   "outputs": [],
   "source": [
    "y_test_pred = clf.predict(X_test)"
   ]
  },
  {
   "cell_type": "code",
   "execution_count": 206,
   "metadata": {},
   "outputs": [],
   "source": [
    "cm_test=confusion_matrix(y_test, y_test_pred)"
   ]
  },
  {
   "cell_type": "code",
   "execution_count": 207,
   "metadata": {},
   "outputs": [
    {
     "data": {
      "text/plain": [
       "<AxesSubplot:>"
      ]
     },
     "execution_count": 207,
     "metadata": {},
     "output_type": "execute_result"
    },
    {
     "data": {
      "image/png": "[encoded data removed]",
      "text/plain": [
       "<Figure size 432x288 with 2 Axes>"
      ]
     },
     "metadata": {
      "needs_background": "light"
     },
     "output_type": "display_data"
    }
   ],
   "source": [
    "s.heatmap(cm_test, annot=True ,cmap=\"YlGnBu\", fmt=\"d\")"
   ]
  },
  {
   "cell_type": "markdown",
   "metadata": {},
   "source": [
    "**Este modelo tiene un problema para reconocer la clase 1 ya que hay muchos que son de la clase 1 y los reconoce como de la clase 0**"
   ]
  },
  {
   "cell_type": "markdown",
   "metadata": {},
   "source": [
    "# Usamos MinMaxScaler para DecisionTreeClassifier"
   ]
  },
  {
   "cell_type": "code",
   "execution_count": 208,
   "metadata": {},
   "outputs": [],
   "source": [
    "scaler = MinMaxScaler()"
   ]
  },
  {
   "cell_type": "code",
   "execution_count": 209,
   "metadata": {},
   "outputs": [],
   "source": [
    "transf_ds = scaler.fit_transform(dataset.iloc[:, :12])"
   ]
  },
  {
   "cell_type": "code",
   "execution_count": 210,
   "metadata": {},
   "outputs": [],
   "source": [
    "transf_ds = pd.DataFrame(transf_ds)"
   ]
  },
  {
   "cell_type": "code",
   "execution_count": 211,
   "metadata": {},
   "outputs": [],
   "source": [
    "X, y = transf_ds.iloc[:, 1:], transf_ds.iloc[:,0]"
   ]
  },
  {
   "cell_type": "code",
   "execution_count": 212,
   "metadata": {},
   "outputs": [],
   "source": [
    "X_train, X_test, y_train, y_test = train_test_split(X, y, test_size=0.30, random_state=0)"
   ]
  },
  {
   "cell_type": "code",
   "execution_count": 213,
   "metadata": {},
   "outputs": [],
   "source": [
    "clf.fit(X_train, y_train)\n",
    "y_test_pred = clf.predict(X_test)\n",
    "y_train_pred = clf.predict(X_train)"
   ]
  },
  {
   "cell_type": "markdown",
   "metadata": {},
   "source": [
    "# Metricas Curvas ROC"
   ]
  },
  {
   "cell_type": "code",
   "execution_count": 214,
   "metadata": {},
   "outputs": [
    {
     "data": {
      "image/png": "[encoded data removed]",
      "text/plain": [
       "<Figure size 432x288 with 1 Axes>"
      ]
     },
     "metadata": {
      "needs_background": "light"
     },
     "output_type": "display_data"
    }
   ],
   "source": [
    "plot_roc_curve(model, X_test, y_test);"
   ]
  },
  {
   "cell_type": "markdown",
   "metadata": {},
   "source": [
    "**El DecisionTreeClassifier con MinMAxScaler es malo de acuerdo a este grafico ya que llega a un tpr = 1 para un fpr = 1** "
   ]
  },
  {
   "cell_type": "code",
   "execution_count": 215,
   "metadata": {},
   "outputs": [],
   "source": [
    "y_proba = model.predict_proba(X_test)[:,1]\n",
    "fpr, tpr, thresholds = roc_curve(y_test, y_proba)"
   ]
  },
  {
   "cell_type": "code",
   "execution_count": 216,
   "metadata": {},
   "outputs": [
    {
     "data": {
      "text/plain": [
       "0.5170291735319635"
      ]
     },
     "execution_count": 216,
     "metadata": {},
     "output_type": "execute_result"
    }
   ],
   "source": [
    "roc_auc_score(y_test, clf.predict(X_test))"
   ]
  },
  {
   "cell_type": "code",
   "execution_count": 217,
   "metadata": {},
   "outputs": [
    {
     "data": {
      "text/plain": [
       "<sklearn.metrics._plot.precision_recall_curve.PrecisionRecallDisplay at 0x62ca7630>"
      ]
     },
     "execution_count": 217,
     "metadata": {},
     "output_type": "execute_result"
    },
    {
     "data": {
      "image/png": "[encoded data removed]",
      "text/plain": [
       "<Figure size 432x288 with 1 Axes>"
      ]
     },
     "metadata": {
      "needs_background": "light"
     },
     "output_type": "display_data"
    }
   ],
   "source": [
    "plot_precision_recall_curve(model, X_test, y_test)"
   ]
  },
  {
   "cell_type": "markdown",
   "metadata": {},
   "source": [
    "**El DecisionTreeClassifier con MinMAxScaler no seria bueno de acuerdo a este grafico ya que se acerca a un recall de 0 para una precision de 1**"
   ]
  },
  {
   "cell_type": "code",
   "execution_count": 218,
   "metadata": {},
   "outputs": [],
   "source": [
    "precision, recall, thresholds = roc_curve(y_test, y_proba)"
   ]
  },
  {
   "cell_type": "code",
   "execution_count": 219,
   "metadata": {},
   "outputs": [
    {
     "data": {
      "text/plain": [
       "0.6933041976909277"
      ]
     },
     "execution_count": 219,
     "metadata": {},
     "output_type": "execute_result"
    }
   ],
   "source": [
    "f1_score(y_test, y_test_pred, average='weighted')"
   ]
  },
  {
   "cell_type": "code",
   "execution_count": 220,
   "metadata": {},
   "outputs": [],
   "source": [
    "y_test_pred = clf.predict(X_test)"
   ]
  },
  {
   "cell_type": "code",
   "execution_count": 221,
   "metadata": {},
   "outputs": [],
   "source": [
    "cm_test=confusion_matrix(y_test, y_test_pred)"
   ]
  },
  {
   "cell_type": "code",
   "execution_count": 222,
   "metadata": {},
   "outputs": [
    {
     "data": {
      "text/plain": [
       "<AxesSubplot:>"
      ]
     },
     "execution_count": 222,
     "metadata": {},
     "output_type": "execute_result"
    },
    {
     "data": {
      "image/png": "[encoded data removed]",
      "text/plain": [
       "<Figure size 432x288 with 2 Axes>"
      ]
     },
     "metadata": {
      "needs_background": "light"
     },
     "output_type": "display_data"
    }
   ],
   "source": [
    "s.heatmap(cm_test, annot=True ,cmap=\"YlGnBu\", fmt=\"d\")"
   ]
  },
  {
   "cell_type": "markdown",
   "metadata": {},
   "source": [
    "**Este modelo DecisionTreeClassifier con MinMAxScaler comete un error considerable en clasificar la clase 1**"
   ]
  },
  {
   "cell_type": "markdown",
   "metadata": {},
   "source": [
    "# Random Forest"
   ]
  },
  {
   "cell_type": "code",
   "execution_count": 223,
   "metadata": {},
   "outputs": [],
   "source": [
    "X, y = dataset.iloc[:, 1:], dataset.EstadoDelTurno"
   ]
  },
  {
   "cell_type": "code",
   "execution_count": 224,
   "metadata": {},
   "outputs": [],
   "source": [
    "X_train, X_test, y_train, y_test = train_test_split(X, y, test_size=0.30, random_state=0)"
   ]
  },
  {
   "cell_type": "code",
   "execution_count": 225,
   "metadata": {},
   "outputs": [],
   "source": [
    "model = RandomForestClassifier()\n",
    "model.fit(X_train, y_train)\n",
    "y_test_pred = model.predict(X_test)\n",
    "y_train_pred = model.predict(X_train)"
   ]
  },
  {
   "cell_type": "markdown",
   "metadata": {},
   "source": [
    "# Metricas Curvas ROC"
   ]
  },
  {
   "cell_type": "code",
   "execution_count": 226,
   "metadata": {},
   "outputs": [
    {
     "data": {
      "image/png": "[encoded data removed]",
      "text/plain": [
       "<Figure size 432x288 with 1 Axes>"
      ]
     },
     "metadata": {
      "needs_background": "light"
     },
     "output_type": "display_data"
    }
   ],
   "source": [
    "plot_roc_curve(model, X_test, y_test);"
   ]
  },
  {
   "cell_type": "markdown",
   "metadata": {},
   "source": [
    "**El RandomForestClassifier es malo de acuerdo a este grafico ya que llega a un tpr = 1 para un fpr = 1** "
   ]
  },
  {
   "cell_type": "code",
   "execution_count": 227,
   "metadata": {},
   "outputs": [],
   "source": [
    "y_proba = model.predict_proba(X_test)[:,1]\n",
    "fpr, tpr, thresholds = roc_curve(y_test, y_proba)"
   ]
  },
  {
   "cell_type": "code",
   "execution_count": 228,
   "metadata": {},
   "outputs": [
    {
     "data": {
      "text/plain": [
       "0.4924348088178272"
      ]
     },
     "execution_count": 228,
     "metadata": {},
     "output_type": "execute_result"
    }
   ],
   "source": [
    "roc_auc_score(y_test, model.predict(X_test))"
   ]
  },
  {
   "cell_type": "code",
   "execution_count": 229,
   "metadata": {},
   "outputs": [
    {
     "data": {
      "text/plain": [
       "<sklearn.metrics._plot.precision_recall_curve.PrecisionRecallDisplay at 0x62c73da0>"
      ]
     },
     "execution_count": 229,
     "metadata": {},
     "output_type": "execute_result"
    },
    {
     "data": {
      "image/png": "[encoded data removed]",
      "text/plain": [
       "<Figure size 432x288 with 1 Axes>"
      ]
     },
     "metadata": {
      "needs_background": "light"
     },
     "output_type": "display_data"
    }
   ],
   "source": [
    "plot_precision_recall_curve(model, X_test, y_test)"
   ]
  },
  {
   "cell_type": "markdown",
   "metadata": {},
   "source": [
    "**El RandomForestClassifier no seria bueno de acuerdo a este grafico ya que se acerca a un recall de 0 para una precision de 1**"
   ]
  },
  {
   "cell_type": "code",
   "execution_count": 230,
   "metadata": {},
   "outputs": [],
   "source": [
    "precision, recall, thresholds = roc_curve(y_test, y_proba)"
   ]
  },
  {
   "cell_type": "code",
   "execution_count": 231,
   "metadata": {},
   "outputs": [
    {
     "data": {
      "text/plain": [
       "0.6704856854384555"
      ]
     },
     "execution_count": 231,
     "metadata": {},
     "output_type": "execute_result"
    }
   ],
   "source": [
    "f1_score(y_test, y_test_pred, average='weighted')"
   ]
  },
  {
   "cell_type": "code",
   "execution_count": 232,
   "metadata": {},
   "outputs": [],
   "source": [
    "y_test_pred = model.predict(X_test)"
   ]
  },
  {
   "cell_type": "code",
   "execution_count": 233,
   "metadata": {},
   "outputs": [],
   "source": [
    "cm_test=confusion_matrix(y_test, y_test_pred)"
   ]
  },
  {
   "cell_type": "code",
   "execution_count": 234,
   "metadata": {},
   "outputs": [
    {
     "data": {
      "text/plain": [
       "<AxesSubplot:>"
      ]
     },
     "execution_count": 234,
     "metadata": {},
     "output_type": "execute_result"
    },
    {
     "data": {
      "image/png": "[encoded data removed]",
      "text/plain": [
       "<Figure size 432x288 with 2 Axes>"
      ]
     },
     "metadata": {
      "needs_background": "light"
     },
     "output_type": "display_data"
    }
   ],
   "source": [
    "s.heatmap(cm_test, annot=True ,cmap=\"YlGnBu\", fmt=\"d\")"
   ]
  },
  {
   "cell_type": "markdown",
   "metadata": {},
   "source": [
    "**Este modelo RandomForestClassifier comete un error considerable en clasificar la clase 1**"
   ]
  },
  {
   "cell_type": "markdown",
   "metadata": {},
   "source": [
    "# Usamos MinMaxScaler para RandomForest"
   ]
  },
  {
   "cell_type": "code",
   "execution_count": 235,
   "metadata": {},
   "outputs": [],
   "source": [
    "scaler = MinMaxScaler()"
   ]
  },
  {
   "cell_type": "code",
   "execution_count": 236,
   "metadata": {},
   "outputs": [],
   "source": [
    "transf_ds = scaler.fit_transform(dataset.iloc[:, :12])"
   ]
  },
  {
   "cell_type": "code",
   "execution_count": 237,
   "metadata": {},
   "outputs": [],
   "source": [
    "transf_ds = pd.DataFrame(transf_ds)"
   ]
  },
  {
   "cell_type": "code",
   "execution_count": 238,
   "metadata": {},
   "outputs": [
    {
     "data": {
      "text/html": [
       "<div>\n",
       "<style scoped>\n",
       "    .dataframe tbody tr th:only-of-type {\n",
       "        vertical-align: middle;\n",
       "    }\n",
       "\n",
       "    .dataframe tbody tr th {\n",
       "        vertical-align: top;\n",
       "    }\n",
       "\n",
       "    .dataframe thead th {\n",
       "        text-align: right;\n",
       "    }\n",
       "</style>\n",
       "<table border=\"1\" class=\"dataframe\">\n",
       "  <thead>\n",
       "    <tr style=\"text-align: right;\">\n",
       "      <th></th>\n",
       "      <th>0</th>\n",
       "      <th>1</th>\n",
       "      <th>2</th>\n",
       "      <th>3</th>\n",
       "      <th>4</th>\n",
       "      <th>5</th>\n",
       "      <th>6</th>\n",
       "      <th>7</th>\n",
       "      <th>8</th>\n",
       "      <th>9</th>\n",
       "      <th>10</th>\n",
       "      <th>11</th>\n",
       "    </tr>\n",
       "  </thead>\n",
       "  <tbody>\n",
       "    <tr>\n",
       "      <th>0</th>\n",
       "      <td>0.0</td>\n",
       "      <td>0.0</td>\n",
       "      <td>0.548204</td>\n",
       "      <td>0.207317</td>\n",
       "      <td>0.0</td>\n",
       "      <td>0.6</td>\n",
       "      <td>0.090909</td>\n",
       "      <td>0.0</td>\n",
       "      <td>0.0</td>\n",
       "      <td>0.0</td>\n",
       "      <td>1.0</td>\n",
       "      <td>0.0</td>\n",
       "    </tr>\n",
       "    <tr>\n",
       "      <th>1</th>\n",
       "      <td>0.0</td>\n",
       "      <td>0.0</td>\n",
       "      <td>0.888469</td>\n",
       "      <td>0.182927</td>\n",
       "      <td>0.0</td>\n",
       "      <td>0.6</td>\n",
       "      <td>0.090909</td>\n",
       "      <td>0.0</td>\n",
       "      <td>0.0</td>\n",
       "      <td>0.0</td>\n",
       "      <td>1.0</td>\n",
       "      <td>0.0</td>\n",
       "    </tr>\n",
       "    <tr>\n",
       "      <th>2</th>\n",
       "      <td>0.0</td>\n",
       "      <td>0.0</td>\n",
       "      <td>0.954631</td>\n",
       "      <td>0.170732</td>\n",
       "      <td>0.0</td>\n",
       "      <td>0.6</td>\n",
       "      <td>0.090909</td>\n",
       "      <td>1.0</td>\n",
       "      <td>0.0</td>\n",
       "      <td>0.5</td>\n",
       "      <td>0.0</td>\n",
       "      <td>0.0</td>\n",
       "    </tr>\n",
       "    <tr>\n",
       "      <th>3</th>\n",
       "      <td>1.0</td>\n",
       "      <td>0.0</td>\n",
       "      <td>0.274102</td>\n",
       "      <td>0.073171</td>\n",
       "      <td>0.0</td>\n",
       "      <td>0.6</td>\n",
       "      <td>0.090909</td>\n",
       "      <td>0.0</td>\n",
       "      <td>0.0</td>\n",
       "      <td>0.0</td>\n",
       "      <td>1.0</td>\n",
       "      <td>0.0</td>\n",
       "    </tr>\n",
       "    <tr>\n",
       "      <th>4</th>\n",
       "      <td>0.0</td>\n",
       "      <td>0.0</td>\n",
       "      <td>0.517958</td>\n",
       "      <td>0.451220</td>\n",
       "      <td>0.0</td>\n",
       "      <td>0.6</td>\n",
       "      <td>0.090909</td>\n",
       "      <td>0.0</td>\n",
       "      <td>0.0</td>\n",
       "      <td>0.0</td>\n",
       "      <td>0.0</td>\n",
       "      <td>0.0</td>\n",
       "    </tr>\n",
       "  </tbody>\n",
       "</table>\n",
       "</div>"
      ],
      "text/plain": [
       "    0    1         2         3    4    5         6    7    8    9    10   11\n",
       "0  0.0  0.0  0.548204  0.207317  0.0  0.6  0.090909  0.0  0.0  0.0  1.0  0.0\n",
       "1  0.0  0.0  0.888469  0.182927  0.0  0.6  0.090909  0.0  0.0  0.0  1.0  0.0\n",
       "2  0.0  0.0  0.954631  0.170732  0.0  0.6  0.090909  1.0  0.0  0.5  0.0  0.0\n",
       "3  1.0  0.0  0.274102  0.073171  0.0  0.6  0.090909  0.0  0.0  0.0  1.0  0.0\n",
       "4  0.0  0.0  0.517958  0.451220  0.0  0.6  0.090909  0.0  0.0  0.0  0.0  0.0"
      ]
     },
     "execution_count": 238,
     "metadata": {},
     "output_type": "execute_result"
    }
   ],
   "source": [
    "transf_ds.head()"
   ]
  },
  {
   "cell_type": "code",
   "execution_count": 239,
   "metadata": {},
   "outputs": [],
   "source": [
    "X, y = transf_ds.iloc[:, 1:], transf_ds.iloc[:,0]"
   ]
  },
  {
   "cell_type": "code",
   "execution_count": 240,
   "metadata": {},
   "outputs": [
    {
     "data": {
      "text/html": [
       "<div>\n",
       "<style scoped>\n",
       "    .dataframe tbody tr th:only-of-type {\n",
       "        vertical-align: middle;\n",
       "    }\n",
       "\n",
       "    .dataframe tbody tr th {\n",
       "        vertical-align: top;\n",
       "    }\n",
       "\n",
       "    .dataframe thead th {\n",
       "        text-align: right;\n",
       "    }\n",
       "</style>\n",
       "<table border=\"1\" class=\"dataframe\">\n",
       "  <thead>\n",
       "    <tr style=\"text-align: right;\">\n",
       "      <th></th>\n",
       "      <th>1</th>\n",
       "      <th>2</th>\n",
       "      <th>3</th>\n",
       "      <th>4</th>\n",
       "      <th>5</th>\n",
       "      <th>6</th>\n",
       "      <th>7</th>\n",
       "      <th>8</th>\n",
       "      <th>9</th>\n",
       "      <th>10</th>\n",
       "      <th>11</th>\n",
       "    </tr>\n",
       "  </thead>\n",
       "  <tbody>\n",
       "    <tr>\n",
       "      <th>0</th>\n",
       "      <td>0.000000</td>\n",
       "      <td>0.548204</td>\n",
       "      <td>0.207317</td>\n",
       "      <td>0.0</td>\n",
       "      <td>0.6</td>\n",
       "      <td>0.090909</td>\n",
       "      <td>0.0</td>\n",
       "      <td>0.0</td>\n",
       "      <td>0.00</td>\n",
       "      <td>1.0</td>\n",
       "      <td>0.0</td>\n",
       "    </tr>\n",
       "    <tr>\n",
       "      <th>1</th>\n",
       "      <td>0.000000</td>\n",
       "      <td>0.888469</td>\n",
       "      <td>0.182927</td>\n",
       "      <td>0.0</td>\n",
       "      <td>0.6</td>\n",
       "      <td>0.090909</td>\n",
       "      <td>0.0</td>\n",
       "      <td>0.0</td>\n",
       "      <td>0.00</td>\n",
       "      <td>1.0</td>\n",
       "      <td>0.0</td>\n",
       "    </tr>\n",
       "    <tr>\n",
       "      <th>2</th>\n",
       "      <td>0.000000</td>\n",
       "      <td>0.954631</td>\n",
       "      <td>0.170732</td>\n",
       "      <td>0.0</td>\n",
       "      <td>0.6</td>\n",
       "      <td>0.090909</td>\n",
       "      <td>1.0</td>\n",
       "      <td>0.0</td>\n",
       "      <td>0.50</td>\n",
       "      <td>0.0</td>\n",
       "      <td>0.0</td>\n",
       "    </tr>\n",
       "    <tr>\n",
       "      <th>3</th>\n",
       "      <td>0.000000</td>\n",
       "      <td>0.274102</td>\n",
       "      <td>0.073171</td>\n",
       "      <td>0.0</td>\n",
       "      <td>0.6</td>\n",
       "      <td>0.090909</td>\n",
       "      <td>0.0</td>\n",
       "      <td>0.0</td>\n",
       "      <td>0.00</td>\n",
       "      <td>1.0</td>\n",
       "      <td>0.0</td>\n",
       "    </tr>\n",
       "    <tr>\n",
       "      <th>4</th>\n",
       "      <td>0.000000</td>\n",
       "      <td>0.517958</td>\n",
       "      <td>0.451220</td>\n",
       "      <td>0.0</td>\n",
       "      <td>0.6</td>\n",
       "      <td>0.090909</td>\n",
       "      <td>0.0</td>\n",
       "      <td>0.0</td>\n",
       "      <td>0.00</td>\n",
       "      <td>0.0</td>\n",
       "      <td>0.0</td>\n",
       "    </tr>\n",
       "    <tr>\n",
       "      <th>...</th>\n",
       "      <td>...</td>\n",
       "      <td>...</td>\n",
       "      <td>...</td>\n",
       "      <td>...</td>\n",
       "      <td>...</td>\n",
       "      <td>...</td>\n",
       "      <td>...</td>\n",
       "      <td>...</td>\n",
       "      <td>...</td>\n",
       "      <td>...</td>\n",
       "      <td>...</td>\n",
       "    </tr>\n",
       "    <tr>\n",
       "      <th>464980</th>\n",
       "      <td>0.000000</td>\n",
       "      <td>0.202268</td>\n",
       "      <td>0.292683</td>\n",
       "      <td>0.0</td>\n",
       "      <td>0.0</td>\n",
       "      <td>1.000000</td>\n",
       "      <td>1.0</td>\n",
       "      <td>0.0</td>\n",
       "      <td>0.50</td>\n",
       "      <td>1.0</td>\n",
       "      <td>0.0</td>\n",
       "    </tr>\n",
       "    <tr>\n",
       "      <th>464981</th>\n",
       "      <td>0.333333</td>\n",
       "      <td>0.544423</td>\n",
       "      <td>0.280488</td>\n",
       "      <td>0.0</td>\n",
       "      <td>0.0</td>\n",
       "      <td>1.000000</td>\n",
       "      <td>1.0</td>\n",
       "      <td>0.0</td>\n",
       "      <td>0.50</td>\n",
       "      <td>1.0</td>\n",
       "      <td>0.0</td>\n",
       "    </tr>\n",
       "    <tr>\n",
       "      <th>464982</th>\n",
       "      <td>0.000000</td>\n",
       "      <td>0.952741</td>\n",
       "      <td>0.134146</td>\n",
       "      <td>0.0</td>\n",
       "      <td>0.0</td>\n",
       "      <td>1.000000</td>\n",
       "      <td>1.0</td>\n",
       "      <td>0.0</td>\n",
       "      <td>0.25</td>\n",
       "      <td>1.0</td>\n",
       "      <td>0.0</td>\n",
       "    </tr>\n",
       "    <tr>\n",
       "      <th>464983</th>\n",
       "      <td>0.000000</td>\n",
       "      <td>0.340265</td>\n",
       "      <td>0.000000</td>\n",
       "      <td>0.0</td>\n",
       "      <td>0.0</td>\n",
       "      <td>1.000000</td>\n",
       "      <td>1.0</td>\n",
       "      <td>0.0</td>\n",
       "      <td>0.25</td>\n",
       "      <td>0.0</td>\n",
       "      <td>0.0</td>\n",
       "    </tr>\n",
       "    <tr>\n",
       "      <th>464984</th>\n",
       "      <td>0.666667</td>\n",
       "      <td>0.693762</td>\n",
       "      <td>0.280488</td>\n",
       "      <td>0.0</td>\n",
       "      <td>0.0</td>\n",
       "      <td>1.000000</td>\n",
       "      <td>1.0</td>\n",
       "      <td>0.0</td>\n",
       "      <td>0.25</td>\n",
       "      <td>1.0</td>\n",
       "      <td>0.0</td>\n",
       "    </tr>\n",
       "  </tbody>\n",
       "</table>\n",
       "<p>464985 rows × 11 columns</p>\n",
       "</div>"
      ],
      "text/plain": [
       "              1         2         3    4    5         6    7    8     9    10  \\\n",
       "0       0.000000  0.548204  0.207317  0.0  0.6  0.090909  0.0  0.0  0.00  1.0   \n",
       "1       0.000000  0.888469  0.182927  0.0  0.6  0.090909  0.0  0.0  0.00  1.0   \n",
       "2       0.000000  0.954631  0.170732  0.0  0.6  0.090909  1.0  0.0  0.50  0.0   \n",
       "3       0.000000  0.274102  0.073171  0.0  0.6  0.090909  0.0  0.0  0.00  1.0   \n",
       "4       0.000000  0.517958  0.451220  0.0  0.6  0.090909  0.0  0.0  0.00  0.0   \n",
       "...          ...       ...       ...  ...  ...       ...  ...  ...   ...  ...   \n",
       "464980  0.000000  0.202268  0.292683  0.0  0.0  1.000000  1.0  0.0  0.50  1.0   \n",
       "464981  0.333333  0.544423  0.280488  0.0  0.0  1.000000  1.0  0.0  0.50  1.0   \n",
       "464982  0.000000  0.952741  0.134146  0.0  0.0  1.000000  1.0  0.0  0.25  1.0   \n",
       "464983  0.000000  0.340265  0.000000  0.0  0.0  1.000000  1.0  0.0  0.25  0.0   \n",
       "464984  0.666667  0.693762  0.280488  0.0  0.0  1.000000  1.0  0.0  0.25  1.0   \n",
       "\n",
       "         11  \n",
       "0       0.0  \n",
       "1       0.0  \n",
       "2       0.0  \n",
       "3       0.0  \n",
       "4       0.0  \n",
       "...     ...  \n",
       "464980  0.0  \n",
       "464981  0.0  \n",
       "464982  0.0  \n",
       "464983  0.0  \n",
       "464984  0.0  \n",
       "\n",
       "[464985 rows x 11 columns]"
      ]
     },
     "execution_count": 240,
     "metadata": {},
     "output_type": "execute_result"
    }
   ],
   "source": [
    "X"
   ]
  },
  {
   "cell_type": "code",
   "execution_count": 241,
   "metadata": {},
   "outputs": [],
   "source": [
    "X_train, X_test, y_train, y_test = train_test_split(X, y, test_size=0.30, random_state=0)"
   ]
  },
  {
   "cell_type": "code",
   "execution_count": 242,
   "metadata": {},
   "outputs": [],
   "source": [
    "model = RandomForestClassifier()\n",
    "model.fit(X_train, y_train)\n",
    "y_test_pred = model.predict(X_test)\n",
    "y_train_pred = model.predict(X_train)"
   ]
  },
  {
   "cell_type": "markdown",
   "metadata": {},
   "source": [
    "# Metricas Curvas ROC"
   ]
  },
  {
   "cell_type": "code",
   "execution_count": 243,
   "metadata": {},
   "outputs": [
    {
     "data": {
      "image/png": "[encoded data removed]",
      "text/plain": [
       "<Figure size 432x288 with 1 Axes>"
      ]
     },
     "metadata": {
      "needs_background": "light"
     },
     "output_type": "display_data"
    }
   ],
   "source": [
    "plot_roc_curve(model, X_test, y_test);"
   ]
  },
  {
   "cell_type": "markdown",
   "metadata": {},
   "source": [
    "**El MinMaxScaler para Random Forest no seria bueno de acuerdo a este grafico ya que llega a un fpr = 1 para una tpr = 1**"
   ]
  },
  {
   "cell_type": "code",
   "execution_count": 244,
   "metadata": {},
   "outputs": [],
   "source": [
    "y_proba = model.predict_proba(X_test)[:,1]\n",
    "fpr, tpr, thresholds = roc_curve(y_test, y_proba)"
   ]
  },
  {
   "cell_type": "code",
   "execution_count": 245,
   "metadata": {},
   "outputs": [
    {
     "data": {
      "text/plain": [
       "0.4923647936866938"
      ]
     },
     "execution_count": 245,
     "metadata": {},
     "output_type": "execute_result"
    }
   ],
   "source": [
    "roc_auc_score(y_test, model.predict(X_test))"
   ]
  },
  {
   "cell_type": "code",
   "execution_count": 246,
   "metadata": {},
   "outputs": [
    {
     "data": {
      "text/plain": [
       "<sklearn.metrics._plot.precision_recall_curve.PrecisionRecallDisplay at 0x62c3b748>"
      ]
     },
     "execution_count": 246,
     "metadata": {},
     "output_type": "execute_result"
    },
    {
     "data": {
      "image/png": "[encoded data removed]",
      "text/plain": [
       "<Figure size 432x288 with 1 Axes>"
      ]
     },
     "metadata": {
      "needs_background": "light"
     },
     "output_type": "display_data"
    }
   ],
   "source": [
    "plot_precision_recall_curve(model, X_test, y_test)"
   ]
  },
  {
   "cell_type": "markdown",
   "metadata": {},
   "source": [
    "**El MinMaxScaler para Random Forest no seria bueno de acuerdo a este grafico ya que cuando se acerca a un recall de 1 desciende la precision a 0**"
   ]
  },
  {
   "cell_type": "code",
   "execution_count": 247,
   "metadata": {},
   "outputs": [],
   "source": [
    "precision, recall, thresholds = roc_curve(y_test, y_proba)"
   ]
  },
  {
   "cell_type": "code",
   "execution_count": 248,
   "metadata": {},
   "outputs": [
    {
     "data": {
      "text/plain": [
       "0.6704720125342196"
      ]
     },
     "execution_count": 248,
     "metadata": {},
     "output_type": "execute_result"
    }
   ],
   "source": [
    "f1_score(y_test, y_test_pred, average='weighted')"
   ]
  },
  {
   "cell_type": "code",
   "execution_count": 249,
   "metadata": {},
   "outputs": [],
   "source": [
    "y_test_pred = model.predict(X_test)"
   ]
  },
  {
   "cell_type": "code",
   "execution_count": 250,
   "metadata": {},
   "outputs": [],
   "source": [
    "cm_test=confusion_matrix(y_test, y_test_pred)"
   ]
  },
  {
   "cell_type": "code",
   "execution_count": 251,
   "metadata": {},
   "outputs": [
    {
     "data": {
      "text/plain": [
       "<AxesSubplot:>"
      ]
     },
     "execution_count": 251,
     "metadata": {},
     "output_type": "execute_result"
    },
    {
     "data": {
      "image/png": "[encoded data removed]",
      "text/plain": [
       "<Figure size 432x288 with 2 Axes>"
      ]
     },
     "metadata": {
      "needs_background": "light"
     },
     "output_type": "display_data"
    }
   ],
   "source": [
    "s.heatmap(cm_test, annot=True ,cmap=\"YlGnBu\", fmt=\"d\")"
   ]
  },
  {
   "cell_type": "markdown",
   "metadata": {},
   "source": [
    "**Este modelo MinMaxScaler para Random Forest a pesar que de tiene problemas para reconocer la clase 1 ya que hay muchos que son de la clase 1 y los reconoce como de la clase 0 tiene   una mejor performance que los otros modelos antes considerados**"
   ]
  },
  {
   "cell_type": "markdown",
   "metadata": {},
   "source": [
    "**Observaciones generales de los modelos y metricas utilizadas**"
   ]
  },
  {
   "cell_type": "markdown",
   "metadata": {},
   "source": [
    "El parametro que hemos observado que influye mas es el porcentaje en que se divide \n",
    "los datos de entrenamiento y los de prueba"
   ]
  },
  {
   "cell_type": "markdown",
   "metadata": {},
   "source": [
    "Observamos que el mejor modelo es usando MixMaxScaler ya que este hace una normalizacion de las features entre 0 y 1 y eso mejora los resultados"
   ]
  },
  {
   "cell_type": "markdown",
   "metadata": {},
   "source": [
    "**Metricas:**  \n",
    "Accuracy = (TP + TN) / (TP + TN + FP + FN )   \n",
    "Mide el porcentaje de casos en el que el modelo ha acertado, pero no funciona bien cuando las clases estan desbalanceadas.\n",
    "Precision = TP / (TP + FP) mide la calidad de la predicción del modelo  \n",
    "Recall = TP / (TP + FN) mide la exhaustividad del modelo cuantas veces identifica correctamente  \n",
    "F1 = 2 * ( (precision * recall) / (precision + recall) ) es una media armonica entre  \n",
    "precision y recall e indica que nos importa de igual forma la precisión y la exhaustividad  \n",
    "matriz de confusion nos indica que tipo de errores se cometen"
   ]
  },
  {
   "cell_type": "markdown",
   "metadata": {},
   "source": [
    "El gráfico de Precision Recall nos fue muy util a la hora de determinar la bondad del modelo \n",
    "ya que el punto ideal es cuando tanto precision como recall valen 1."
   ]
  },
  {
   "cell_type": "markdown",
   "metadata": {},
   "source": [
    "Agregamos la matriz de confusión ya que nos brinda información respecto a cuan bueno es el modelo para lograr la clasificacion"
   ]
  },
  {
   "cell_type": "code",
   "execution_count": null,
   "metadata": {},
   "outputs": [],
   "source": []
  }
 ],
 "metadata": {
  "kernelspec": {
   "display_name": "Python 3",
   "language": "python",
   "name": "python3"
  },
  "language_info": {
   "codemirror_mode": {
    "name": "ipython",
    "version": 3
   },
   "file_extension": ".py",
   "mimetype": "text/x-python",
   "name": "python",
   "nbconvert_exporter": "python",
   "pygments_lexer": "ipython3",
   "version": "3.7.3"
  }
 },
 "nbformat": 4,
 "nbformat_minor": 4
}
